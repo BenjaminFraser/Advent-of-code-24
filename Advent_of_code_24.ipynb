{
 "cells": [
  {
   "cell_type": "markdown",
   "id": "01bbc852-e541-4c03-b43e-a01364a3941e",
   "metadata": {},
   "source": [
    "# Advent of code 2024"
   ]
  },
  {
   "cell_type": "markdown",
   "id": "33bf643f-1a68-444e-8a18-1d15d733f72e",
   "metadata": {},
   "source": [
    "Exercises for advent of code 2024 challenges written in Python.\n",
    "\n",
    "**Still to-do / revisit:**\n",
    "\n",
    "- Day 12 Part 2:\n",
    "    - *The corner detection algorithm needs work before this solution is correct.*\n",
    "- Day 16 Part 2:\n",
    "    - *Reindeer maze best path solution - works for the example, but for some reason isn't correct for the input. To revisit and debug what is going wrong...*\n",
    "- Day 17 Part 2:\n",
    "    - *Solving for A is intractable right now using brute force, even with the memoisation aspects developed into my function(s). To be re-reviewed and a more informative strategy used to solve for minimum A to produce the required conditions.*\n",
    "- Day 21 Part 2:\n",
    "    - *Solution employed for the keypads works, but is intractable in its current form. Need to re-develop code into a recursive and more efficient form that uses memoisation due to the huge sequence of characters involved.*\n",
    "- Day 22 Part 2:\n",
    "    - *Does not appear too challenging per se - simply have not had the time to analyse and develop a solution yet. To be worked on when time allows, since it seems like an interesting challenge to solve..*\n",
    "- Day 24 Part 2:\n",
    "    - *System of adding two binary numbers to be reverse engineered / solved, so that precise gates can be identified that are at fault. This seems intractable to do through a brute force solution, and so a more strategic / informed solution is needed.*"
   ]
  },
  {
   "cell_type": "markdown",
   "id": "0b867414-217f-4b85-9080-528e5af8a82a",
   "metadata": {
    "jp-MarkdownHeadingCollapsed": true
   },
   "source": [
    "## Imports"
   ]
  },
  {
   "cell_type": "code",
   "execution_count": 1,
   "id": "6adc3e63-5f81-4fc4-be6f-2eb18317339c",
   "metadata": {},
   "outputs": [],
   "source": [
    "import heapq\n",
    "import matplotlib.pyplot as plt\n",
    "import numpy as np\n",
    "import os\n",
    "import re\n",
    "import seaborn as sns\n",
    "\n",
    "from collections import Counter, defaultdict, deque\n",
    "from functools import cache\n",
    "from itertools import product, combinations, permutations\n",
    "from matplotlib.colors import ListedColormap\n",
    "from scipy.optimize import linprog\n",
    "from typing import List, Sequence"
   ]
  },
  {
   "cell_type": "markdown",
   "id": "ab64a880-ad2e-4882-8d27-58b4c0a5fa70",
   "metadata": {
    "jp-MarkdownHeadingCollapsed": true
   },
   "source": [
    "## Day 1 Historian Hysteria"
   ]
  },
  {
   "cell_type": "markdown",
   "id": "e659eaf8-8e30-406e-bb8f-6e5a6cf9eb98",
   "metadata": {},
   "source": [
    "### Day 1, Part 1"
   ]
  },
  {
   "cell_type": "code",
   "execution_count": 2,
   "id": "3d269027-fac8-42dd-8280-071968555ff7",
   "metadata": {},
   "outputs": [],
   "source": [
    "def load_input_txt(file_path):\n",
    "    data = np.loadtxt(file_path, dtype=int)\n",
    "    return data\n",
    "    \n",
    "def compute_summed_diffs(data_array):\n",
    "    diffs = np.abs(np.sort(data_array[:, 0]) - \n",
    "                   np.sort(data_array[:, 1]))\n",
    "    diffs_sum = np.sum(diffs)\n",
    "    return diffs, diffs_sum"
   ]
  },
  {
   "cell_type": "code",
   "execution_count": 3,
   "id": "c582b776-08b2-4939-829a-04f4582c1fbd",
   "metadata": {},
   "outputs": [
    {
     "name": "stdout",
     "output_type": "stream",
     "text": [
      "Final summed differences for example_input_day_1.txt: 11\n"
     ]
    }
   ],
   "source": [
    "# test on example inputs\n",
    "data_dir = 'Day_1'\n",
    "filename = 'example_input_day_1.txt'\n",
    "ex_data = load_input_txt(os.path.join(data_dir, filename))\n",
    "ex_diffs, summed_result = compute_summed_diffs(ex_data)\n",
    "\n",
    "print(f\"Final summed differences for {filename}: {summed_result}\")"
   ]
  },
  {
   "cell_type": "code",
   "execution_count": 4,
   "id": "651989e7-2bdc-41e1-93eb-e70fc02642bd",
   "metadata": {},
   "outputs": [
    {
     "name": "stdout",
     "output_type": "stream",
     "text": [
      "Final summed differences for day_1_input.txt: 1834060\n",
      "CPU times: user 1.58 ms, sys: 4.42 ms, total: 6.01 ms\n",
      "Wall time: 3.68 ms\n"
     ]
    }
   ],
   "source": [
    "%%time \n",
    "# now gather real input results\n",
    "filename = 'day_1_input.txt'\n",
    "data = load_input_txt(os.path.join(data_dir, filename))\n",
    "_, summed_result = compute_summed_diffs(data)\n",
    "\n",
    "print(f\"Final summed differences for {filename}: {summed_result}\")"
   ]
  },
  {
   "cell_type": "markdown",
   "id": "be827d3e-8c90-433a-8d37-e170af015c08",
   "metadata": {},
   "source": [
    "### Day 1, Part 2"
   ]
  },
  {
   "cell_type": "code",
   "execution_count": 5,
   "id": "f7d25f0c-ab73-4cdb-85c6-fe0cc1f0c84a",
   "metadata": {},
   "outputs": [],
   "source": [
    "def get_id_counts(right_array):\n",
    "    return Counter(right_array)\n",
    "\n",
    "def compute_similarity(data_array):\n",
    "    # get counts from second column\n",
    "    id_counts = get_id_counts(data_array[:, 1])\n",
    "\n",
    "    # map left column to counts\n",
    "    vectorized_map = np.vectorize(lambda x: id_counts.get(x, 0))\n",
    "    mapped_array = vectorized_map(data_array[:, 0])\n",
    "\n",
    "    # determine similarity scores\n",
    "    sim_scores = data_array[:, 0] * mapped_array\n",
    "\n",
    "    # return summed result\n",
    "    return np.sum(sim_scores)"
   ]
  },
  {
   "cell_type": "markdown",
   "id": "f9693131-1daa-4c1c-88f1-41aaf63ccfcf",
   "metadata": {},
   "source": [
    "Let's first test these functions on the example data for validation:"
   ]
  },
  {
   "cell_type": "code",
   "execution_count": 6,
   "id": "22b23aaa-7ea1-4f8e-a3a5-3997228094fb",
   "metadata": {},
   "outputs": [
    {
     "name": "stdout",
     "output_type": "stream",
     "text": [
      "Final similarty score: 31\n"
     ]
    }
   ],
   "source": [
    "sim_score = compute_similarity(ex_data)\n",
    "\n",
    "print(f\"Final similarty score: {sim_score}\")"
   ]
  },
  {
   "cell_type": "markdown",
   "id": "f6571535-60bf-49c9-8f96-f79f7e0d9740",
   "metadata": {},
   "source": [
    "All correct - lets now process the actual data:"
   ]
  },
  {
   "cell_type": "code",
   "execution_count": 7,
   "id": "49ed6366-348a-4442-9a69-e23d1d4ca258",
   "metadata": {},
   "outputs": [
    {
     "name": "stdout",
     "output_type": "stream",
     "text": [
      "Final similarity score for day_1_input.txt: 21607792\n",
      "CPU times: user 1.95 ms, sys: 1.34 ms, total: 3.28 ms\n",
      "Wall time: 2.18 ms\n"
     ]
    }
   ],
   "source": [
    "%%time\n",
    "\n",
    "filename = 'day_1_input.txt'\n",
    "data = load_input_txt(os.path.join(data_dir, filename))\n",
    "sim_score = compute_similarity(data)\n",
    "\n",
    "print(f\"Final similarity score for {filename}: {sim_score}\")"
   ]
  },
  {
   "cell_type": "markdown",
   "id": "26fa1760-ba5a-4fa2-95e3-f77c41270638",
   "metadata": {
    "jp-MarkdownHeadingCollapsed": true
   },
   "source": [
    "## Day 2 Red-Nosed Reports"
   ]
  },
  {
   "cell_type": "markdown",
   "id": "5758d398-26bd-446d-8e47-feb418e44320",
   "metadata": {},
   "source": [
    "### Day 2, Part 1:"
   ]
  },
  {
   "cell_type": "markdown",
   "id": "82f04242-7dd6-49f6-a859-fb2cd5a54f8e",
   "metadata": {},
   "source": [
    "Both of the following must be true for the system to be determined as safe:\n",
    "\n",
    "1. The levels are either all increasing or all decreasing.\n",
    "2. Any two adjacent levels differ by at least one and at most three.\n"
   ]
  },
  {
   "cell_type": "code",
   "execution_count": 21,
   "id": "8c8d7a19-547a-4009-b5d7-500dc0b13d9d",
   "metadata": {},
   "outputs": [],
   "source": [
    "def load_variable_columns_txt_as_int(file_path: str) -> List[List[int]]:\n",
    "    \"\"\"\n",
    "    Loads a text file with a variable number of columns per row and converts all data to integers.\n",
    "\n",
    "    Args:\n",
    "        file_path (str): Path to the text file.\n",
    "\n",
    "    Returns:\n",
    "        List[List[int]]: A list containing rows, where each row is a list of integers.\n",
    "    \"\"\"\n",
    "    data = []\n",
    "    try:\n",
    "        with open(file_path, 'r') as file:\n",
    "            for line in file:\n",
    "                # Strip any extra whitespace, split by whitespace or delimiter, and convert to integers\n",
    "                row = [int(value) for value in line.strip().split()]\n",
    "                data.append(row)\n",
    "    except FileNotFoundError:\n",
    "        print(f\"Error: File '{file_path}' not found.\")\n",
    "    except ValueError as e:\n",
    "        print(f\"Error: Could not convert data to integers. {e}\")\n",
    "    except Exception as e:\n",
    "        print(f\"An error occurred: {e}\")\n",
    "    return data\n",
    "\n",
    "\n",
    "def get_diffs(row: Sequence[int]) -> np.ndarray:\n",
    "    \"\"\" \n",
    "    Get differences between consecutive values in the given row.\n",
    "\n",
    "    Args:\n",
    "        row (Sequence[int]): A sequence of int values.\n",
    "\n",
    "    Returns:\n",
    "        np.ndarray: An array of differences between consecutive values.\n",
    "    \"\"\"\n",
    "    return np.diff(np.array(row))\n",
    "\n",
    "\n",
    "def validate_row(diffs: np.ndarray) -> bool:\n",
    "    \"\"\" \n",
    "    Validate a row of integer differences. Checks that all differences are either \n",
    "    non-negative or non-positive (monotonicity) and that all differences \n",
    "    are within a safe range.\n",
    "\n",
    "    Args:\n",
    "        diffs (np.ndarray): A NumPy array of integer differences.\n",
    "\n",
    "    Returns:\n",
    "        bool: True if the row passes validation, False otherwise.\n",
    "    \"\"\"\n",
    "    if diffs.dtype != np.int_:\n",
    "        raise ValueError(\"Input array must be of integer type.\")\n",
    "\n",
    "    is_negative = diffs <= 0\n",
    "    is_positive = diffs >= 0\n",
    "    unsafe_diff = np.abs(diffs) > 3\n",
    "    \n",
    "    # Assert that all values are either non-negative or non-positive\n",
    "    all_inc_dec = is_negative.sum() == 0 or is_positive.sum() == 0\n",
    "    # Assert that all differences are within a safe range\n",
    "    all_safe = unsafe_diff.sum() == 0\n",
    "    \n",
    "    return all_inc_dec and all_safe"
   ]
  },
  {
   "cell_type": "markdown",
   "id": "8d6652e6-8c5d-4fa9-85f1-81bd40831185",
   "metadata": {},
   "source": [
    "**Example data:**"
   ]
  },
  {
   "cell_type": "code",
   "execution_count": 22,
   "id": "95bf2104-a16e-4e52-8a76-842390dc27ca",
   "metadata": {},
   "outputs": [],
   "source": [
    "data_dir = 'Day_2'\n",
    "filename = 'example_input_day_2.txt'\n",
    "ex_input = load_variable_columns_txt_as_int(os.path.join(data_dir, filename))"
   ]
  },
  {
   "cell_type": "code",
   "execution_count": 23,
   "id": "68104c89-10f2-4742-8ada-0bb666bde19c",
   "metadata": {},
   "outputs": [
    {
     "name": "stdout",
     "output_type": "stream",
     "text": [
      "Validating row [7, 6, 4, 2, 1]: True\n",
      "Validating row [1, 2, 7, 8, 9]: False\n",
      "Validating row [9, 7, 6, 2, 1]: False\n",
      "Validating row [1, 3, 2, 4, 5]: False\n",
      "Validating row [8, 6, 4, 4, 1]: False\n",
      "Validating row [1, 3, 6, 7, 9]: True\n",
      "\n",
      "Total number of safe rows: 2\n"
     ]
    }
   ],
   "source": [
    "for row in ex_input:\n",
    "    print(f\"Validating row {row}: {validate_row(get_diffs(row))}\")\n",
    "\n",
    "total_safe = sum([validate_row(get_diffs(row)) for row in ex_input])\n",
    "print(f\"\\nTotal number of safe rows: {total_safe}\")"
   ]
  },
  {
   "cell_type": "markdown",
   "id": "181359e6-3aca-4bbf-bc01-c9f63deac281",
   "metadata": {},
   "source": [
    "Actual input data:"
   ]
  },
  {
   "cell_type": "code",
   "execution_count": 25,
   "id": "659de92f-788b-481e-9c81-43888a4fd394",
   "metadata": {},
   "outputs": [
    {
     "name": "stdout",
     "output_type": "stream",
     "text": [
      "Total number of safe rows: 670\n",
      "CPU times: user 14.1 ms, sys: 4.46 ms, total: 18.6 ms\n",
      "Wall time: 15.7 ms\n"
     ]
    }
   ],
   "source": [
    "%%time\n",
    "data_dir = 'Day_2'\n",
    "filename = 'day_2_input.txt'\n",
    "input_data = load_variable_columns_txt_as_int(os.path.join(data_dir, filename))\n",
    "\n",
    "total_safe = sum([validate_row(get_diffs(row)) for row in input_data])\n",
    "print(f\"Total number of safe rows: {total_safe}\")"
   ]
  },
  {
   "cell_type": "markdown",
   "id": "55026035-4504-4db7-b026-cea0473c7ca3",
   "metadata": {},
   "source": [
    "### Day 2, Part 2:"
   ]
  },
  {
   "cell_type": "markdown",
   "id": "dd32c37a-9464-40a3-a0ce-c5d6d1452a77",
   "metadata": {},
   "source": [
    "Need to determine where entries fail by just one level, and for these, whether removing these failed levels would cause them to become safe."
   ]
  },
  {
   "cell_type": "code",
   "execution_count": 26,
   "id": "8200c953-e046-4956-afb1-bd48cd9eb3fa",
   "metadata": {},
   "outputs": [],
   "source": [
    "def validate_row_with_tolerate(row: Sequence[int], \n",
    "                               is_recursive_call: bool = False,\n",
    "                               verbose=False) -> bool:\n",
    "    \"\"\" \n",
    "    Validate a row of integer differences. Checks that all differences are either \n",
    "    non-negative or non-positive (monotonicity) and that all differences \n",
    "    are within a safe range.\n",
    "\n",
    "    Args:\n",
    "        row (Sequence[int]): A sequence of int values.\n",
    "        is_recursive_call (bool): Whether this is a recursive call. Defaults to False.\n",
    "                                  Should only be True for internal calls during corrections.\n",
    "        verbose (bool): If true, print helpful debug / status messages to terminal.\n",
    "\n",
    "    Returns:\n",
    "        bool: True if the row passes validation, False otherwise.\n",
    "    \"\"\"\n",
    "    row_array = np.array(row)\n",
    "    diffs = np.diff(row_array)\n",
    "\n",
    "    is_negative = diffs <= 0\n",
    "    is_positive = diffs >= 0\n",
    "    unsafe_diff = np.abs(diffs) > 3\n",
    "\n",
    "    pos_count = is_positive.sum()\n",
    "    neg_count = is_negative.sum()\n",
    "    \n",
    "    # Assert that all values are either non-negative or non-positive\n",
    "    all_inc_dec = neg_count == 0 or pos_count == 0\n",
    "    # Assert that all differences are within a safe range\n",
    "    all_safe = unsafe_diff.sum() == 0\n",
    "\n",
    "    if all_inc_dec and all_safe:\n",
    "        if verbose:\n",
    "            print(f\"Values for {row_array} are all safe!\")\n",
    "        return True\n",
    "\n",
    "    # if correct has not already been applied, attempt\n",
    "    elif not is_recursive_call:\n",
    "\n",
    "        # one value is non-negative - remove and try again\n",
    "        if neg_count == 1 or pos_count == 1 or unsafe_diff.sum() == 1:\n",
    "\n",
    "            if verbose:\n",
    "                print(f\"No correction call with only minor row issues...attempting corrections.\")\n",
    "\n",
    "            # iterate through all row values and evaluate whether safe correction\n",
    "            for i in range(len(row)):\n",
    "                editted_row = np.delete(row_array, i)\n",
    "                if verbose:\n",
    "                    print(f\"Original row: {row_array}\")\n",
    "                    print(f\"Updated row: {editted_row}\")\n",
    "                \n",
    "                if validate_row_with_tolerate(editted_row, \n",
    "                                              is_recursive_call=True):\n",
    "                    return True\n",
    "            return False\n",
    "            \n",
    "        else:\n",
    "            if verbose:\n",
    "                print(f\"No corrections for {row_array} can be made... returning False.\")\n",
    "            return False\n",
    "    else:\n",
    "        if verbose:\n",
    "            print(f\"Data in {row_array} is unsafe after correcting... returning False.\")\n",
    "        return False"
   ]
  },
  {
   "cell_type": "code",
   "execution_count": 27,
   "id": "ed25f758-c3a5-4f4f-9589-b1197ca39e20",
   "metadata": {},
   "outputs": [],
   "source": [
    "data_dir = 'Day_2'\n",
    "filename = 'example_input_day_2.txt'\n",
    "input_data = load_variable_columns_txt_as_int(os.path.join(data_dir, filename))"
   ]
  },
  {
   "cell_type": "code",
   "execution_count": 28,
   "id": "d1a4de51-0f84-4bee-95fa-99ff566713fb",
   "metadata": {},
   "outputs": [
    {
     "data": {
      "text/plain": [
       "4"
      ]
     },
     "execution_count": 28,
     "metadata": {},
     "output_type": "execute_result"
    }
   ],
   "source": [
    "sum([validate_row_with_tolerate(row) for row in input_data])"
   ]
  },
  {
   "cell_type": "markdown",
   "id": "46cbb444-368c-4dbb-9231-e7314022bffc",
   "metadata": {},
   "source": [
    "**Actual data:**"
   ]
  },
  {
   "cell_type": "code",
   "execution_count": 32,
   "id": "970da105-66f6-43f8-84a6-a5f2a9d51ec4",
   "metadata": {},
   "outputs": [
    {
     "name": "stdout",
     "output_type": "stream",
     "text": [
      "Total number of safe rows (including 1 x corrections): 700\n",
      "CPU times: user 34.1 ms, sys: 13.8 ms, total: 47.9 ms\n",
      "Wall time: 36 ms\n"
     ]
    }
   ],
   "source": [
    "%%time \n",
    "filename = 'day_2_input.txt'\n",
    "input_data = load_variable_columns_txt_as_int(os.path.join(data_dir, filename))\n",
    "\n",
    "total_safe = sum([validate_row_with_tolerate(row) for row in input_data])\n",
    "print(f\"Total number of safe rows (including 1 x corrections): {total_safe}\")"
   ]
  },
  {
   "cell_type": "markdown",
   "id": "e3f3087d-4cdc-46ac-bf74-e7a5df91c356",
   "metadata": {
    "jp-MarkdownHeadingCollapsed": true
   },
   "source": [
    "## Day 3 Mull It Over:"
   ]
  },
  {
   "cell_type": "markdown",
   "id": "7ef58661-6e04-4835-935b-1a52b93b5245",
   "metadata": {},
   "source": [
    "### Day 3, Part 1:"
   ]
  },
  {
   "cell_type": "markdown",
   "id": "10aebcad-0e79-4610-b656-a836c000e793",
   "metadata": {},
   "source": [
    "For part 1 we can solve this relatively easily using regular expressions, given the very specific patterns we're looking for in the input text."
   ]
  },
  {
   "cell_type": "code",
   "execution_count": 41,
   "id": "19cccd0d-0c27-4e4e-8c0f-9b4cc0bf6147",
   "metadata": {},
   "outputs": [
    {
     "name": "stdout",
     "output_type": "stream",
     "text": [
      "[('2', '4'), ('5', '5'), ('11', '8'), ('8', '5')]\n",
      "\n",
      "mul(2,4) = 8\n",
      "\n",
      "\n",
      "mul(5,5) = 25\n",
      "\n",
      "\n",
      "mul(11,8) = 88\n",
      "\n",
      "\n",
      "mul(8,5) = 40\n",
      "\n",
      "Product sum after parsing text is: 161\n"
     ]
    }
   ],
   "source": [
    "# example string for testing\n",
    "example_str = 'xmul(2,4)%&mul[3,7]!@^do_not_mul(5,5)+mul(32,64]then(mul(11,8)mul(8,5))'\n",
    "\n",
    "# re pattern to match as required for our problem\n",
    "pattern = r\"mul\\((\\d+),(\\d+)\\)\"\n",
    "\n",
    "# find all matches and calculate products\n",
    "matches = re.findall(pattern, example_str)\n",
    "print(matches)\n",
    "\n",
    "results = [(f\"mul({x},{y})\", int(x) * int(y)) for x, y in matches]\n",
    "\n",
    "# display results for validation\n",
    "for expression, product in results:\n",
    "    print(f\"\\n{expression} = {product}\\n\")\n",
    "\n",
    "products = [int(x) * int(y) for x, y in matches]\n",
    "product_sum = sum(products)\n",
    "print(f\"Product sum after parsing text is: {product_sum}\")"
   ]
  },
  {
   "cell_type": "markdown",
   "id": "e91e2f95-70ed-4b58-850b-ba24ec0f9c37",
   "metadata": {},
   "source": [
    "This works without any problems... lets formulate more generally into some simple functions:"
   ]
  },
  {
   "cell_type": "code",
   "execution_count": 49,
   "id": "a131f1a8-a0af-41f6-8f48-54abf46ad50c",
   "metadata": {},
   "outputs": [
    {
     "name": "stdout",
     "output_type": "stream",
     "text": [
      "Product sum after parsing text is: 161\n"
     ]
    }
   ],
   "source": [
    "def extract_terms(string_data):\n",
    "    # Pattern to match the custom format in the challenge\n",
    "    pattern = r\"mul\\((\\d+),(\\d+)\\)\"\n",
    "    \n",
    "    # Find all matches and calculate products\n",
    "    return re.findall(pattern, string_data)\n",
    "    \n",
    "\n",
    "def get_products(match_data):\n",
    "    return [int(x) * int(y) for x, y in match_data]\n",
    "\n",
    "# test our functions above on the example data\n",
    "extracted_terms = extract_terms(example_str)\n",
    "product_terms = get_products(extracted_terms)\n",
    "product_sum = sum(product_terms)\n",
    "\n",
    "print(f\"Product sum after parsing text is: {product_sum}\")"
   ]
  },
  {
   "cell_type": "markdown",
   "id": "c20f2e4c-c5d7-4185-af1f-9cd4186417b2",
   "metadata": {},
   "source": [
    "**Input data:**"
   ]
  },
  {
   "cell_type": "code",
   "execution_count": 50,
   "id": "adc0feca-a9a2-4cb7-b5c7-ae187cba116b",
   "metadata": {},
   "outputs": [
    {
     "name": "stdout",
     "output_type": "stream",
     "text": [
      "File successfully read.\n"
     ]
    }
   ],
   "source": [
    "# open file with input string data\n",
    "data_dir = 'Day_3'\n",
    "file_name = 'day_3_input.txt'\n",
    "try:\n",
    "    with open(os.path.join(data_dir, file_name), \"r\", encoding=\"utf-8\") as file:\n",
    "        string_data = file.read()  # Read the entire content as a single string\n",
    "    print(\"File successfully read.\")\n",
    "except FileNotFoundError:\n",
    "    print(\"The specified file was not found.\")\n",
    "except Exception as e:\n",
    "    print(f\"An error occurred: {e}\")"
   ]
  },
  {
   "cell_type": "code",
   "execution_count": 51,
   "id": "42386543-b9f9-4c8b-a066-f7fd545f715d",
   "metadata": {},
   "outputs": [
    {
     "name": "stdout",
     "output_type": "stream",
     "text": [
      "Product sum after parsing text is: 171183089\n",
      "CPU times: user 981 μs, sys: 233 μs, total: 1.21 ms\n",
      "Wall time: 1.11 ms\n"
     ]
    }
   ],
   "source": [
    "%%time \n",
    "extracted_terms = extract_terms(string_data)\n",
    "product_terms = get_products(extracted_terms)\n",
    "product_sum = sum(product_terms)\n",
    "\n",
    "print(f\"Product sum after parsing text is: {product_sum}\")"
   ]
  },
  {
   "cell_type": "markdown",
   "id": "67f686cf-6cc5-4805-aa0c-d3e0726932c9",
   "metadata": {},
   "source": [
    "All correct!"
   ]
  },
  {
   "cell_type": "markdown",
   "id": "830c948e-40d7-4dd3-b0d6-8f7b5f251919",
   "metadata": {},
   "source": [
    "### Day 3, Part 2:"
   ]
  },
  {
   "cell_type": "markdown",
   "id": "ebe2b6ae-a488-43ac-81e2-cfe084a18255",
   "metadata": {},
   "source": [
    "At first, I tried solving the whole of part 2 using only regular expressions. However, due to subtle issues that I decided were not worth investing too much time in, I refactored my solution to instead split on do(), and ignore all other text occuring after the first don't(). Using this strategy in combination with the existing extraction functions above, this was more than sufficient to provide the solution efficiently."
   ]
  },
  {
   "cell_type": "code",
   "execution_count": 54,
   "id": "f72b0b7e-ca8f-4ffa-a7ff-0c28a8ed660e",
   "metadata": {},
   "outputs": [],
   "source": [
    "def extract_text_snippets(string_data, \n",
    "                          start_command=\"do()\", \n",
    "                          end_command=\"don't()\",\n",
    "                          add_start_command=True,\n",
    "                          add_end_command=True):\n",
    "    \"\"\" Extract snippets of text between start and end commands and return\n",
    "        as array of strings.\n",
    "    \"\"\"\n",
    "    string_seq = string_data[:]\n",
    "    if not string_seq.startswith(start_command) and add_start_command:\n",
    "        string_seq = start_command + string_seq\n",
    "\n",
    "    if not string_seq.endswith(end_command) and add_end_command:\n",
    "        string_seq = string_seq + end_command\n",
    "\n",
    "    # Regular expression to capture all valid START to END pairs\n",
    "    pattern = rf\"{re.escape(start_command)}(.*?){re.escape(end_command)}\"\n",
    "    \n",
    "    # Initialize an empty list to hold results\n",
    "    results = []\n",
    "    \n",
    "    # Use re.finditer to find all matches iteratively\n",
    "    matches = re.finditer(pattern, string_seq)\n",
    "    \n",
    "    # Extract all matched text\n",
    "    for match in matches:\n",
    "        results.append(match.group(1))\n",
    "    \n",
    "    return results\n",
    "\n",
    "\n",
    "def extract_product_sum(text_data):\n",
    "    \"\"\" Extract terms from text and determine final product sum. \"\"\"\n",
    "    final_product_sum = 0\n",
    "\n",
    "    str_list = extract_text_snippets(text_data)\n",
    "    for text_snippet in str_list:\n",
    "        extracted_terms = extract_terms(text_snippet)\n",
    "        product_terms = get_products(extracted_terms)\n",
    "        final_product_sum += sum(product_terms)\n",
    "\n",
    "    return final_product_sum"
   ]
  },
  {
   "cell_type": "code",
   "execution_count": 55,
   "id": "8ee251a9-7021-4e9c-9c88-154a23768da7",
   "metadata": {},
   "outputs": [
    {
     "data": {
      "text/plain": [
       "['xmul(2,4)&mul[3,7]!^', '?mul(8,5))']"
      ]
     },
     "execution_count": 55,
     "metadata": {},
     "output_type": "execute_result"
    }
   ],
   "source": [
    "example_str = \"xmul(2,4)&mul[3,7]!^don't()_mul(5,5)+mul(32,64](mul(11,8)undo()?mul(8,5))\"\n",
    "extract_text_snippets(example_str)"
   ]
  },
  {
   "cell_type": "code",
   "execution_count": 56,
   "id": "65a2290a-e468-4b1e-b90e-246116b33ba7",
   "metadata": {},
   "outputs": [
    {
     "name": "stdout",
     "output_type": "stream",
     "text": [
      "Final product sum: 48\n"
     ]
    }
   ],
   "source": [
    "print(f\"Final product sum: {extract_product_sum(example_str)}\")"
   ]
  },
  {
   "cell_type": "markdown",
   "id": "32cb9051-4516-40db-b7dc-19a77b0f9ec9",
   "metadata": {},
   "source": [
    "Second iteration (required to overcome failures in the real input test case using the above functions):\n",
    "\n",
    "- Split on do(), and simply ignore all other text that occurs after the first don't()."
   ]
  },
  {
   "cell_type": "code",
   "execution_count": 57,
   "id": "a57b9950-1c91-4a78-889f-05d2e34e89e2",
   "metadata": {},
   "outputs": [],
   "source": [
    "def extract_do_text_snippets(string_data, \n",
    "                             start_command=\"do()\", \n",
    "                             end_command=\"don't()\"):\n",
    "    \"\"\" Extract snippets of text between start and end commands and return\n",
    "        as array of strings.\n",
    "    \"\"\"\n",
    "\n",
    "    do_splits = string_data.split(\"do()\")\n",
    "\n",
    "    keep_data = []\n",
    "\n",
    "    # split each further on \"don't\" and only keep first item\n",
    "    for do_split in do_splits:\n",
    "        dont_splits = do_split.split(\"don't()\")\n",
    "\n",
    "        keep_data.append(dont_splits[0])\n",
    "    \n",
    "    return keep_data\n",
    "\n",
    "\n",
    "def extract_product_sum_v2(text_data):\n",
    "    \"\"\" Extract terms from text and determine final product sum. \"\"\"\n",
    "    final_product_sum = 0\n",
    "\n",
    "    str_list = extract_do_text_snippets(text_data)\n",
    "    for text_snippet in str_list:\n",
    "        extracted_terms = extract_terms(text_snippet)\n",
    "        product_terms = get_products(extracted_terms)\n",
    "        final_product_sum += sum(product_terms)\n",
    "\n",
    "    return final_product_sum"
   ]
  },
  {
   "cell_type": "code",
   "execution_count": 58,
   "id": "2c2f5ed9-836e-4a54-aa93-e70f0239b7bf",
   "metadata": {},
   "outputs": [
    {
     "data": {
      "text/plain": [
       "48"
      ]
     },
     "execution_count": 58,
     "metadata": {},
     "output_type": "execute_result"
    }
   ],
   "source": [
    "extract_product_sum_v2(example_str)"
   ]
  },
  {
   "cell_type": "markdown",
   "id": "fecd21e2-4604-4420-baee-8b6a3378bd88",
   "metadata": {},
   "source": [
    "**Input data:**"
   ]
  },
  {
   "cell_type": "code",
   "execution_count": 64,
   "id": "c578c3d3-eb21-4088-9011-6015cf94d30a",
   "metadata": {},
   "outputs": [
    {
     "name": "stdout",
     "output_type": "stream",
     "text": [
      "File successfully read.\n"
     ]
    }
   ],
   "source": [
    "# open file with input string data\n",
    "data_dir = 'Day_3'\n",
    "file_name = 'day_3_input.txt'\n",
    "try:\n",
    "    with open(os.path.join(data_dir, file_name), \"r\", encoding=\"utf-8\") as file:\n",
    "        string_data = file.read()  # Read the entire content as a single string\n",
    "    print(\"File successfully read.\")\n",
    "except FileNotFoundError:\n",
    "    print(\"The specified file was not found.\")\n",
    "except Exception as e:\n",
    "    print(f\"An error occurred: {e}\")"
   ]
  },
  {
   "cell_type": "code",
   "execution_count": 63,
   "id": "d3b99aa2-a404-4e6e-81e8-2f98dd7e0519",
   "metadata": {},
   "outputs": [
    {
     "name": "stdout",
     "output_type": "stream",
     "text": [
      "Final product sum: 63866497\n",
      "CPU times: user 403 μs, sys: 23 μs, total: 426 μs\n",
      "Wall time: 439 μs\n"
     ]
    }
   ],
   "source": [
    "%%time\n",
    "print(f\"Final product sum: {extract_product_sum_v2(string_data)}\")"
   ]
  },
  {
   "cell_type": "markdown",
   "id": "c39670c2-2e30-4a15-8dba-02072f5038a2",
   "metadata": {},
   "source": [
    "**Reflection:** This solution (v2 above) passes without any problems! Clearly, the first iteration of the solution to Part 2 above complicated the flow too much by trying to capture text between do() and don't() using regular expressions, whereby something (likely very trivial) was going wrong. \n",
    "\n",
    "Instead, the more simpler approach of splitting on do() and don't() was clearly a better strategy, with no obscurities to debug. As they say, keep it simple stupid..."
   ]
  },
  {
   "cell_type": "markdown",
   "id": "b11dee2c-086c-4265-938e-3c15b558ac86",
   "metadata": {
    "jp-MarkdownHeadingCollapsed": true
   },
   "source": [
    "## Day 4 Ceres Search"
   ]
  },
  {
   "cell_type": "markdown",
   "id": "f588e71b-86b5-49df-b6df-86f5b45b7cd8",
   "metadata": {},
   "source": [
    "### Day 4, Part 1:"
   ]
  },
  {
   "cell_type": "code",
   "execution_count": 23,
   "id": "af0a2bf2-4f98-4d7d-9ad6-1e67d2e8de22",
   "metadata": {},
   "outputs": [],
   "source": [
    "def read_raw_text(filename):\n",
    "    \"\"\" Read entire file as a single string. \"\"\"\n",
    "    try:\n",
    "        with open(filename, \"r\", encoding=\"utf-8\") as file:\n",
    "            file_data = file.read()  \n",
    "        print(\"File successfully read.\")\n",
    "    except FileNotFoundError:\n",
    "        print(\"The specified file was not found.\")\n",
    "    except Exception as e:\n",
    "        print(f\"An error occurred: {e}\")\n",
    "    return file_data"
   ]
  },
  {
   "cell_type": "code",
   "execution_count": 24,
   "id": "a4f85e89-1564-43da-8b5b-53c4cdfc16e6",
   "metadata": {},
   "outputs": [
    {
     "name": "stdout",
     "output_type": "stream",
     "text": [
      "File successfully read.\n"
     ]
    },
    {
     "data": {
      "text/plain": [
       "array([['M', 'M', 'M', 'S', 'X', 'X', 'M', 'A', 'S', 'M'],\n",
       "       ['M', 'S', 'A', 'M', 'X', 'M', 'S', 'M', 'S', 'A'],\n",
       "       ['A', 'M', 'X', 'S', 'X', 'M', 'A', 'A', 'M', 'M'],\n",
       "       ['M', 'S', 'A', 'M', 'A', 'S', 'M', 'S', 'M', 'X'],\n",
       "       ['X', 'M', 'A', 'S', 'A', 'M', 'X', 'A', 'M', 'M'],\n",
       "       ['X', 'X', 'A', 'M', 'M', 'X', 'X', 'A', 'M', 'A'],\n",
       "       ['S', 'M', 'S', 'M', 'S', 'A', 'S', 'X', 'S', 'S'],\n",
       "       ['S', 'A', 'X', 'A', 'M', 'A', 'S', 'A', 'A', 'A'],\n",
       "       ['M', 'A', 'M', 'M', 'M', 'X', 'M', 'M', 'M', 'M'],\n",
       "       ['M', 'X', 'M', 'X', 'A', 'X', 'M', 'A', 'S', 'X']], dtype='<U1')"
      ]
     },
     "execution_count": 24,
     "metadata": {},
     "output_type": "execute_result"
    }
   ],
   "source": [
    "data_dir = 'Day_4'\n",
    "filename = 'example_input_day_4.txt'\n",
    "ex_crossword = read_raw_text(os.path.join(data_dir, filename))\n",
    "ex_crossword_array = np.array([list(x) for x in ex_crossword.split('\\n')])\n",
    "ex_crossword_array"
   ]
  },
  {
   "cell_type": "code",
   "execution_count": 25,
   "id": "960032d5-529e-43b0-b1f6-ab2e992531b7",
   "metadata": {},
   "outputs": [],
   "source": [
    "def left_word(row_no, col_no, arr, length=4):\n",
    "    \"\"\" Reads chars (up to length) in left direction from chosen 2d grid location.\"\"\"\n",
    "    # Ensure column index is within bounds to prevent errors\n",
    "    start_col = max(0, col_no - length + 1)  # Ensure we don't go out of bounds\n",
    "    return ''.join(arr[row_no][start_col:col_no + 1][::-1])\n",
    "\n",
    "def right_word(row_no, col_no, arr, length=4):\n",
    "    \"\"\" Reads chars (up to length) rightwards from chosen 2d grid location.\"\"\"\n",
    "    return \"\".join(arr[row_no, col_no:col_no+length])\n",
    "\n",
    "def down_word(row_no, col_no, arr, length=4):\n",
    "    \"\"\" Get down word. \"\"\"\n",
    "    return \"\".join(arr[row_no:row_no+length, col_no])\n",
    "\n",
    "def up_word(row_no, col_no, arr, length=4):\n",
    "    \"\"\" Reads chars (up to length) upwards from chosen 2d grid location.\"\"\"\n",
    "    # Ensure row index is within bounds to prevent errors\n",
    "    start_row = max(0, row_no - length + 1)  # Ensure we don't go out of bounds\n",
    "    # Collect characters from the specified column across the rows\n",
    "    return ''.join(arr[r][col_no] for r in range(row_no, start_row - 1, -1))\n",
    "\n",
    "def up_left_word(row_no, col_no, arr, length=4):\n",
    "    \"\"\" Reads chars (up to length) up-left (diagonal) from 2d grid location.\"\"\"\n",
    "    result = []\n",
    "    for i in range(length):\n",
    "        r, c = row_no - i, col_no - i  # Move diagonally up-left\n",
    "        if r < 0 or c < 0:  # Stop if we go out of bounds\n",
    "            break\n",
    "        result.append(arr[r][c])  # Add the character to the result\n",
    "    return ''.join(result)\n",
    "\n",
    "def up_right_word(row_no, col_no, arr, length=4):\n",
    "    \"\"\" Reads chars (up to length) up-right (diagonal) from 2d grid location.\"\"\"\n",
    "    result = []\n",
    "    max_col = arr.shape[1]\n",
    "    for i in range(length):\n",
    "        r, c = row_no - i, col_no + i  # Move diagonally up-right\n",
    "        if r < 0 or c >= max_col:  # Stop if we go out of bounds\n",
    "            break\n",
    "        result.append(arr[r][c])  # Add the character to the result\n",
    "    return ''.join(result)\n",
    "\n",
    "def down_right_word(row_no, col_no, arr, length=4):\n",
    "    \"\"\" Reads chars (up to length) up-right (diagonal) from 2d grid location.\"\"\"\n",
    "    max_row = arr.shape[0]\n",
    "    max_col = arr.shape[1]\n",
    "    result = []\n",
    "    for i in range(length):\n",
    "        r, c = row_no + i, col_no + i  # Move diagonally up-right\n",
    "        if r >= max_row or c >= max_col:  # Stop if we go out of bounds\n",
    "            break\n",
    "        result.append(arr[r][c])  # Add the character to the result\n",
    "    return ''.join(result)\n",
    "\n",
    "def down_left_word(row_no, col_no, arr, length=4):\n",
    "    \"\"\" Reads chars (up to length) up-right (diagonal) from 2d grid location.\"\"\"\n",
    "    max_row = arr.shape[0]\n",
    "    result = []\n",
    "    for i in range(length):\n",
    "        r, c = row_no + i, col_no - i  # Move diagonally down-right\n",
    "        if r >= max_row or c < 0:  # Stop if we go out of bounds\n",
    "            break\n",
    "        result.append(arr[r][c])  # Add the character to the result\n",
    "    return ''.join(result)\n",
    "\n",
    "def extract_sequences(row_no, col_no, arr):\n",
    "    \"\"\" Extract all possible word sequences from start \n",
    "        location (2d co-ords).\n",
    "    \"\"\"\n",
    "    words = []\n",
    "    words.append(left_word(row_no, col_no, arr))\n",
    "    words.append(right_word(row_no, col_no, arr))\n",
    "    words.append(up_word(row_no, col_no, arr))\n",
    "    words.append(down_word(row_no, col_no, arr))\n",
    "    words.append(up_left_word(row_no, col_no, arr))\n",
    "    words.append(up_right_word(row_no, col_no, arr))\n",
    "    words.append(down_left_word(row_no, col_no, arr))\n",
    "    words.append(down_right_word(row_no, col_no, arr))\n",
    "    return words\n",
    "\n",
    "def get_crossword_char_sequences(crossword_array, start_char='X'):\n",
    "    char_sequences = []\n",
    "\n",
    "    # find all x-locations, and iteratively search through all of these to find all the xmas words in the grid\n",
    "    for row_i, row in enumerate(crossword_array):\n",
    "        for col_i, char in enumerate(row):\n",
    "            if char == 'X':\n",
    "                location_sequences = extract_sequences(row_i, col_i, crossword_array)\n",
    "                char_sequences.extend(location_sequences)\n",
    "    return char_sequences"
   ]
  },
  {
   "cell_type": "code",
   "execution_count": 26,
   "id": "ac5a1031-c8ef-4997-a351-46748a470ab7",
   "metadata": {},
   "outputs": [
    {
     "name": "stdout",
     "output_type": "stream",
     "text": [
      "Counted XMAS 18 times!\n"
     ]
    }
   ],
   "source": [
    "ex_char_sequences = get_crossword_char_sequences(ex_crossword_array)\n",
    "\n",
    "xmas_count = len([x for x in ex_char_sequences if x == 'XMAS'])\n",
    "print(f\"Counted XMAS {xmas_count} times!\")"
   ]
  },
  {
   "cell_type": "markdown",
   "id": "0e20508e-6cf3-435e-b1c4-f0daedf8e634",
   "metadata": {},
   "source": [
    "**Input data:**"
   ]
  },
  {
   "cell_type": "code",
   "execution_count": 27,
   "id": "79450f53-5a85-41db-beee-cc6ec91cd31d",
   "metadata": {},
   "outputs": [
    {
     "name": "stdout",
     "output_type": "stream",
     "text": [
      "File successfully read.\n",
      "Crossword dimensions: (140, 140)\n"
     ]
    }
   ],
   "source": [
    "data_dir = 'Day_4'\n",
    "filename = 'day_4_input.txt'\n",
    "crossword = read_raw_text(os.path.join(data_dir, filename))\n",
    "crossword_array = np.array([list(x) for x in crossword.split('\\n')])\n",
    "\n",
    "print(f\"Crossword dimensions: {crossword_array.shape}\")"
   ]
  },
  {
   "cell_type": "code",
   "execution_count": 28,
   "id": "007119a0-f58c-4de3-b146-16e0394cd985",
   "metadata": {},
   "outputs": [
    {
     "name": "stdout",
     "output_type": "stream",
     "text": [
      "Counted XMAS 2571 times!\n",
      "CPU times: user 52.8 ms, sys: 2.64 ms, total: 55.4 ms\n",
      "Wall time: 53.5 ms\n"
     ]
    }
   ],
   "source": [
    "%%time\n",
    "char_sequences = get_crossword_char_sequences(crossword_array)\n",
    "\n",
    "xmas_count = len([x for x in char_sequences if x == 'XMAS'])\n",
    "print(f\"Counted XMAS {xmas_count} times!\")"
   ]
  },
  {
   "cell_type": "markdown",
   "id": "f0ea4f46-2e56-4de2-abde-3388abe9109b",
   "metadata": {},
   "source": [
    "### Day 4, Part 2:"
   ]
  },
  {
   "cell_type": "markdown",
   "id": "d9e6c823-fb60-4038-afa4-cebf8781c7d9",
   "metadata": {},
   "source": [
    "Diagonal X-MAS enhancement on the above:"
   ]
  },
  {
   "cell_type": "code",
   "execution_count": 29,
   "id": "21c2ec9f-cf36-4555-9131-fd22a7389da2",
   "metadata": {},
   "outputs": [],
   "source": [
    "# search every location with an 'A' character for diagonal MAS sequences (both directions)\n",
    "\n",
    "def get_x_mas_diagonals(crossword_array):\n",
    "    xmas_counts = 0\n",
    "\n",
    "    # find all x-locations, and iteratively search through all of these to find all the xmas words in the grid\n",
    "    for row_i, row in enumerate(crossword_array):\n",
    "        for col_i, char in enumerate(row):\n",
    "            if char == 'A':\n",
    "                if contains_cross_mas(row_i, col_i, crossword_array):\n",
    "                    xmas_counts += 1\n",
    "    return xmas_counts\n",
    "\n",
    "def contains_cross_mas(row_no, col_no, arr):\n",
    "    \"\"\" Check if we have a X-MAS situation. \"\"\"\n",
    "    max_row = arr.shape[0]\n",
    "    max_col = arr.shape[1]\n",
    "\n",
    "    # validate position and bounds - false if out of bounds\n",
    "    if (row_no + 1 >= max_row or row_no - 1 < 0 or \n",
    "        col_no + 1 >= max_col or col_no - 1 < 0):\n",
    "        return False\n",
    "\n",
    "    else:\n",
    "\n",
    "        # gather nearby diagonal chars\n",
    "        up_left = arr[row_no - 1][col_no - 1]\n",
    "        up_right = arr[row_no - 1][col_no + 1]\n",
    "        down_left = arr[row_no + 1][col_no - 1]\n",
    "        down_right = arr[row_no + 1][col_no + 1]\n",
    "\n",
    "        diag_1 = up_left + 'A' + down_right\n",
    "        diag_2 = up_right + 'A' + down_left\n",
    "\n",
    "        matches = ['MAS', 'SAM']\n",
    "    \n",
    "        # check if both directions are equal to MAS or SAM\n",
    "        if (diag_1 in matches) and (diag_2 in matches):\n",
    "            return True\n",
    "        else:\n",
    "            return False"
   ]
  },
  {
   "cell_type": "code",
   "execution_count": 30,
   "id": "2194ef45-dcb0-47b9-ae15-b8004456c2d9",
   "metadata": {},
   "outputs": [
    {
     "name": "stdout",
     "output_type": "stream",
     "text": [
      "CPU times: user 14.9 ms, sys: 969 μs, total: 15.9 ms\n",
      "Wall time: 15.3 ms\n"
     ]
    },
    {
     "data": {
      "text/plain": [
       "1992"
      ]
     },
     "execution_count": 30,
     "metadata": {},
     "output_type": "execute_result"
    }
   ],
   "source": [
    "%%time\n",
    "get_x_mas_diagonals(crossword_array)"
   ]
  },
  {
   "cell_type": "markdown",
   "id": "b47ed8f0-4760-46d3-8d06-59fb9b3f1de8",
   "metadata": {},
   "source": [
    "Success with submission using the above!"
   ]
  },
  {
   "cell_type": "markdown",
   "id": "1b1bb36a-efae-412b-8400-060163771b08",
   "metadata": {
    "jp-MarkdownHeadingCollapsed": true
   },
   "source": [
    "## Day 5 Print Queue"
   ]
  },
  {
   "cell_type": "markdown",
   "id": "e0746fd0-58cd-486a-aa7d-ea77b7665aaa",
   "metadata": {},
   "source": [
    "### Day 5, Part 1"
   ]
  },
  {
   "cell_type": "markdown",
   "id": "8e01d176-965e-4fbd-a459-745e0d641588",
   "metadata": {},
   "source": [
    "The first section specifies the page ordering rules, one per line. The first rule, 47|53, means that if an update includes both page number 47 and page number 53, then page number 47 must be printed at some point before page number 53. (47 doesn't necessarily need to be immediately before 53; other pages are allowed to be between them.)\n",
    "\n",
    "The second section specifies the page numbers of each update. Because most safety manuals are different, the pages needed in the updates are different too. The first update, 75,47,61,53,29, means that the update consists of page numbers 75, 47, 61, 53, and 29.\n",
    "\n",
    "To get the printers going as soon as possible, start by identifying which updates are already in the right order.\n",
    "\n",
    "For some reason, the Elves also need to know the middle page number of each update being printed. Because you are currently only printing the correctly-ordered updates, you will need to find the middle page number of each correctly-ordered update.\n",
    "\n",
    "Determine which updates are already in the correct order. What do you get if you add up the middle page number from those correctly-ordered updates?"
   ]
  },
  {
   "cell_type": "code",
   "execution_count": 33,
   "id": "ee095c32-101d-4224-9d0e-6bcc45436f28",
   "metadata": {},
   "outputs": [],
   "source": [
    "def read_raw_text(filename):\n",
    "    \"\"\" Read entire file as a single string. \"\"\"\n",
    "    try:\n",
    "        with open(filename, \"r\", encoding=\"utf-8\") as file:\n",
    "            file_data = file.read()  \n",
    "        print(\"File successfully read.\")\n",
    "    except FileNotFoundError:\n",
    "        print(\"The specified file was not found.\")\n",
    "    except Exception as e:\n",
    "        print(f\"An error occurred: {e}\")\n",
    "    return file_data"
   ]
  },
  {
   "cell_type": "code",
   "execution_count": 34,
   "id": "346b8d6a-f88c-4d23-affc-a678677b9887",
   "metadata": {},
   "outputs": [
    {
     "name": "stdout",
     "output_type": "stream",
     "text": [
      "File successfully read.\n"
     ]
    }
   ],
   "source": [
    "data_dir = 'Day_5'\n",
    "ex_file = read_raw_text(os.path.join(data_dir, 'example_input_day_5.txt'))\n",
    "\n",
    "ex_rules = ex_file.split('\\n\\n')[0].split('\\n')\n",
    "ex_rules = np.array([list(map(int, row.split('|'))) for row in ex_rules])\n",
    "\n",
    "ex_rules_1st, ex_rules_2nd = list(ex_rules[:, 0]), list(ex_rules[:, 1])\n",
    "\n",
    "ex_updates = ex_file.split('\\n\\n')[1].split('\\n')\n",
    "ex_updates = [x.split(',') for x in ex_updates]\n",
    "ex_updates = [list(map(int, row)) for row in ex_updates]"
   ]
  },
  {
   "cell_type": "code",
   "execution_count": 35,
   "id": "a47c9e75-21d5-4cf3-88b0-5fe1a41df267",
   "metadata": {},
   "outputs": [],
   "source": [
    "def check_dependencies(row, rules):\n",
    "    \"\"\" Iterate through each row and check dependencies. \"\"\"\n",
    "    checked = []\n",
    "    for i, num in enumerate(row):\n",
    "        # get numbers that must go before current num\n",
    "        dependencies = get_first_dependencies(num, rules)\n",
    "\n",
    "        if len(dependencies) > 0:\n",
    "            for dependent in dependencies:\n",
    "                # if occurs after current number, return false\n",
    "                if dependent in row[i:]:\n",
    "                    return False\n",
    "        checked.append(num)\n",
    "    # nothing found - must be correct\n",
    "    return True\n",
    "\n",
    "def get_first_dependencies(number, rules):\n",
    "    \"\"\" For a given number, return numbers that must be before it. \"\"\"\n",
    "    dependencies = list(rules[rules[:, 1] == number][:, 0])\n",
    "    return dependencies\n",
    "\n",
    "def validate_update_list(update_lines, rules):\n",
    "    \"\"\" Validate line, and return the sum of center numbers for all correct\n",
    "        lines. \"\"\"\n",
    "    correct_centers = []\n",
    "    for update_line in update_lines:\n",
    "        correct = check_dependencies(update_line, rules)\n",
    "        if correct:\n",
    "            center_element = update_line[int(np.floor(len(update_line) / 2))]\n",
    "            correct_centers.append(center_element)\n",
    "    return sum(correct_centers)"
   ]
  },
  {
   "cell_type": "code",
   "execution_count": 36,
   "id": "5a362be5-f89c-49d6-98ee-13e5f81d56b1",
   "metadata": {},
   "outputs": [
    {
     "data": {
      "text/plain": [
       "143"
      ]
     },
     "execution_count": 36,
     "metadata": {},
     "output_type": "execute_result"
    }
   ],
   "source": [
    "validate_update_list(ex_updates, ex_rules)"
   ]
  },
  {
   "cell_type": "markdown",
   "id": "30f56591-f849-4afa-9d87-b8b2e05d0f24",
   "metadata": {},
   "source": [
    "**Actual input data:**"
   ]
  },
  {
   "cell_type": "code",
   "execution_count": 37,
   "id": "62e9e4d8-55e2-474a-aa25-2c1e49b2f506",
   "metadata": {},
   "outputs": [
    {
     "name": "stdout",
     "output_type": "stream",
     "text": [
      "File successfully read.\n"
     ]
    }
   ],
   "source": [
    "data_dir = 'Day_5'\n",
    "input_data = read_raw_text(os.path.join(data_dir, 'day_5_input.txt'))\n",
    "\n",
    "rules = input_data.split('\\n\\n')[0].split('\\n')\n",
    "rules = np.array([list(map(int, row.split('|'))) for row in rules])\n",
    "\n",
    "updates = input_data.split('\\n\\n')[1].split('\\n')\n",
    "updates = [x.split(',') for x in updates]\n",
    "updates = [list(map(int, row)) for row in updates]"
   ]
  },
  {
   "cell_type": "code",
   "execution_count": 38,
   "id": "ab21f6b6-e894-4bb7-a781-def2707b274d",
   "metadata": {},
   "outputs": [
    {
     "name": "stdout",
     "output_type": "stream",
     "text": [
      "CPU times: user 28.5 ms, sys: 2.45 ms, total: 30.9 ms\n",
      "Wall time: 29.2 ms\n"
     ]
    },
    {
     "data": {
      "text/plain": [
       "5452"
      ]
     },
     "execution_count": 38,
     "metadata": {},
     "output_type": "execute_result"
    }
   ],
   "source": [
    "%%time \n",
    "validate_update_list(updates, rules)"
   ]
  },
  {
   "cell_type": "markdown",
   "id": "619a9bb4-cb48-497f-86cc-354e317e090c",
   "metadata": {},
   "source": [
    "All correct, success!"
   ]
  },
  {
   "cell_type": "markdown",
   "id": "a761536b-7453-4199-a73c-0cc9a01bc118",
   "metadata": {},
   "source": [
    "### Day 5, Part 2:"
   ]
  },
  {
   "cell_type": "markdown",
   "id": "df00e08e-4c3d-48f1-8f63-4ead5ff2b65d",
   "metadata": {},
   "source": [
    "While the Elves get to work printing the correctly-ordered updates, you have a little time to fix the rest of them.\n",
    "\n",
    "For each of the incorrectly-ordered updates, use the page ordering rules to put the page numbers in the right order. For the above example, here are the three incorrectly-ordered updates and their correct orderings:\n",
    "\n",
    "- 75,97,47,61,53 becomes 97,75,47,61,53.\n",
    "- 61,13,29 becomes 61,29,13.\n",
    "- 97,13,75,29,47 becomes 97,75,47,29,13.\n",
    "\n",
    "After taking only the incorrectly-ordered updates and ordering them correctly, their middle page numbers are 47, 29, and 47. Adding these together produces 123.\n",
    "\n",
    "Find the updates which are not in the correct order. What do you get if you add up the middle page numbers after correctly ordering just those updates?"
   ]
  },
  {
   "cell_type": "markdown",
   "id": "773be604-323d-4404-98c1-661a81fc207a",
   "metadata": {},
   "source": [
    "General approach for this will be as follows:\n",
    "- Go through each line same as above, when a line is found incorrect - initiate new process, as below:\n",
    "    - Develop a process / algorithm to iteratively review rules and re-order numbers to satisfy the constraints.\n",
    "    - Before processing each row, ensure we are only doing this based on numbers in the current sequence to save computational time."
   ]
  },
  {
   "cell_type": "code",
   "execution_count": 39,
   "id": "cd2f31d7-d03d-42fd-a37c-fffeb4e06bb8",
   "metadata": {},
   "outputs": [],
   "source": [
    "def rearrange_sequence(numbers, rules):\n",
    "    new_sequence = []\n",
    "    for i, num in enumerate(numbers):\n",
    "        # get numbers that must go before current num\n",
    "        dependencies = get_first_dependencies(num, rules)\n",
    "\n",
    "        if len(dependencies) > 0:\n",
    "\n",
    "            for future_value in numbers[i:]:\n",
    "                if future_value in dependencies:\n",
    "                    \n",
    "                    # place this dependent to left of current number\n",
    "                    new_sequence.append(future_value)\n",
    "\n",
    "                    # append current number\n",
    "                    new_sequence.append(num)\n",
    "\n",
    "                    # add other remaining values, minus swapped number\n",
    "                    remaining_vals = numbers[i+1:].copy()\n",
    "                    remaining_vals.remove(future_value)\n",
    "                    \n",
    "                    if remaining_vals:\n",
    "                        new_sequence.extend(remaining_vals)\n",
    "                    return new_sequence\n",
    "                    \n",
    "        new_sequence.append(num)\n",
    "        \n",
    "    # nothing found - return sequence\n",
    "    return new_sequence"
   ]
  },
  {
   "cell_type": "code",
   "execution_count": 41,
   "id": "e3036c07-ea01-46db-bdcd-83095d65e22d",
   "metadata": {},
   "outputs": [
    {
     "name": "stdout",
     "output_type": "stream",
     "text": [
      "File successfully read.\n"
     ]
    }
   ],
   "source": [
    "data_dir = 'Day_5'\n",
    "ex_file = read_raw_text(os.path.join(data_dir, 'example_input_day_5.txt'))\n",
    "\n",
    "ex_rules = ex_file.split('\\n\\n')[0].split('\\n')\n",
    "ex_rules = np.array([list(map(int, row.split('|'))) for row in ex_rules])\n",
    "\n",
    "ex_updates = ex_file.split('\\n\\n')[1].split('\\n')\n",
    "ex_updates = [x.split(',') for x in ex_updates]\n",
    "ex_updates = [list(map(int, row)) for row in ex_updates]"
   ]
  },
  {
   "cell_type": "code",
   "execution_count": 42,
   "id": "b36924a4-c863-42c7-8567-75905b84d6d0",
   "metadata": {},
   "outputs": [
    {
     "name": "stdout",
     "output_type": "stream",
     "text": [
      "Original sequence: [75, 97, 47, 61, 53]\n",
      "Updated sequence after change 1: [97, 75, 47, 61, 53]\n",
      "Successfully corrected sequence in 1 attempts.\n"
     ]
    }
   ],
   "source": [
    "ex_index = 3\n",
    "\n",
    "new_seq = ex_updates[ex_index].copy()\n",
    "print(f\"Original sequence: {new_seq}\")\n",
    "\n",
    "change_attempts = 0\n",
    "while not check_dependencies(new_seq, ex_rules) and change_attempts < 100:\n",
    "    new_seq = rearrange_sequence(new_seq, ex_rules)\n",
    "    print(f\"Updated sequence after change {change_attempts + 1}: {new_seq}\")\n",
    "    change_attempts += 1\n",
    "    \n",
    "print(f\"Successfully corrected sequence in {change_attempts} attempts.\")"
   ]
  },
  {
   "cell_type": "code",
   "execution_count": 43,
   "id": "04937e71-1ce5-48f5-90f5-57136fe9ea36",
   "metadata": {},
   "outputs": [],
   "source": [
    "def correct_update_list(update_lines, rules, max_attempts=1000):\n",
    "    \"\"\" Validate line, and return the sum of center numbers for all correct\n",
    "        lines.\n",
    "    \"\"\"\n",
    "    correct_centers = []\n",
    "    for update_line in update_lines:\n",
    "        correct = check_dependencies(update_line, rules)\n",
    "\n",
    "        # if not correct - update until correct\n",
    "        if not correct:\n",
    "            new_seq = update_line.copy()\n",
    "            change_attempts = 0\n",
    "            while not check_dependencies(new_seq, rules) and change_attempts < max_attempts:\n",
    "                new_seq = rearrange_sequence(new_seq, rules)\n",
    "                #print(f\"Updated sequence after change {change_attempts + 1}: {new_seq}\")\n",
    "                change_attempts += 1\n",
    "\n",
    "                if change_attempts % 100 == 0:\n",
    "                    print(f\"Reached {change_attempts} on sequence: {update_line}\")\n",
    "\n",
    "            center_element = new_seq[int(np.floor(len(new_seq) / 2))]\n",
    "            correct_centers.append(center_element)\n",
    "            \n",
    "    return sum(correct_centers)"
   ]
  },
  {
   "cell_type": "code",
   "execution_count": 44,
   "id": "ec069c2a-9400-4351-a2ae-c3a2309cc7dd",
   "metadata": {},
   "outputs": [
    {
     "data": {
      "text/plain": [
       "123"
      ]
     },
     "execution_count": 44,
     "metadata": {},
     "output_type": "execute_result"
    }
   ],
   "source": [
    "correct_update_list(ex_updates, ex_rules)"
   ]
  },
  {
   "cell_type": "markdown",
   "id": "bc1c39fb-2452-4a9f-a37e-9e916863afe5",
   "metadata": {},
   "source": [
    "**Actual input data:**"
   ]
  },
  {
   "cell_type": "code",
   "execution_count": 46,
   "id": "749d6e66-49f0-4cf4-886d-b48ae8d65f93",
   "metadata": {},
   "outputs": [
    {
     "name": "stdout",
     "output_type": "stream",
     "text": [
      "File successfully read.\n"
     ]
    }
   ],
   "source": [
    "data_dir = 'Day_5'\n",
    "input_data = read_raw_text(os.path.join(data_dir, 'day_5_input.txt'))\n",
    "\n",
    "rules = input_data.split('\\n\\n')[0].split('\\n')\n",
    "rules = np.array([list(map(int, row.split('|'))) for row in rules])\n",
    "\n",
    "updates = input_data.split('\\n\\n')[1].split('\\n')\n",
    "updates = [x.split(',') for x in updates]\n",
    "updates = [list(map(int, row)) for row in updates]"
   ]
  },
  {
   "cell_type": "code",
   "execution_count": 48,
   "id": "072f611a-2ff5-40bb-a08b-ca3dd5525b36",
   "metadata": {},
   "outputs": [
    {
     "name": "stdout",
     "output_type": "stream",
     "text": [
      "CPU times: user 184 ms, sys: 2.14 ms, total: 186 ms\n",
      "Wall time: 185 ms\n"
     ]
    },
    {
     "data": {
      "text/plain": [
       "4598"
      ]
     },
     "execution_count": 48,
     "metadata": {},
     "output_type": "execute_result"
    }
   ],
   "source": [
    "%%time\n",
    "correct_update_list(updates, rules)"
   ]
  },
  {
   "cell_type": "markdown",
   "id": "daeda95c-5f8b-4a58-b862-a977b09de5e0",
   "metadata": {},
   "source": [
    "Success with above!"
   ]
  },
  {
   "cell_type": "markdown",
   "id": "e4551727-c086-420f-b938-5f72bd89e9e7",
   "metadata": {
    "jp-MarkdownHeadingCollapsed": true
   },
   "source": [
    "## Day 6 Guard Gallivant"
   ]
  },
  {
   "cell_type": "markdown",
   "id": "4d9e71fb-4bf4-4e79-8b36-168fd3fe5cfc",
   "metadata": {},
   "source": [
    "### Day 6, Part 1"
   ]
  },
  {
   "cell_type": "code",
   "execution_count": 52,
   "id": "4ea86ff5-d9ac-47c0-aaad-a7de6b6761de",
   "metadata": {},
   "outputs": [],
   "source": [
    "def read_raw_text(filename):\n",
    "    \"\"\" Read entire file as a single string. \"\"\"\n",
    "    try:\n",
    "        with open(filename, \"r\", encoding=\"utf-8\") as file:\n",
    "            file_data = file.read()  \n",
    "        print(\"File successfully read.\")\n",
    "    except FileNotFoundError:\n",
    "        print(\"The specified file was not found.\")\n",
    "    except Exception as e:\n",
    "        print(f\"An error occurred: {e}\")\n",
    "    return file_data"
   ]
  },
  {
   "cell_type": "code",
   "execution_count": 53,
   "id": "eb1ef39a-e4f6-4f0f-9d8f-27407fc08431",
   "metadata": {},
   "outputs": [],
   "source": [
    "class GridMap:\n",
    "    def __init__(self, grid):\n",
    "        \"\"\"Initialize the grid.\"\"\"\n",
    "        self.grid = grid.copy()\n",
    "        self.grid_history = self.grid.copy()\n",
    "        \n",
    "        self.n_rows = grid.shape[0]\n",
    "        self.n_cols = grid.shape[1]\n",
    "        self.directions = {'>': (0, 1), '<': (0, -1), '^': (-1, 0), 'v': (1, 0)}\n",
    "\n",
    "        # define next direction if we need to change (i.e. an obstacle)\n",
    "        self.direction_changes = {'>': 'v', '<': '^', '^': '>', 'v': '<'}\n",
    "        \n",
    "        self.current_position = self._find_guard_position()\n",
    "\n",
    "        # record of movements, incl directions\n",
    "        self.visited = set()\n",
    "        if self.current_position:\n",
    "            self.visited.add(self.current_position)\n",
    "            self._update_history()\n",
    "\n",
    "        # signify end of guard patrol\n",
    "        self.left_area = False\n",
    "        self.n_movements = 0\n",
    "\n",
    "    def _find_guard_position(self):\n",
    "            \"\"\"Find the guard's current location and direction. \"\"\"\n",
    "            for r in range(self.n_rows):\n",
    "                for c in range(self.n_cols):\n",
    "                    if self.grid[r][c] in self.directions:\n",
    "                        return (r, c, self.grid[r][c])  # Return row, column, and direction\n",
    "            return None\n",
    "\n",
    "    def _check_obstacle(self, row, col):\n",
    "         if self.grid[row][col] == '#':\n",
    "             return True\n",
    "\n",
    "    def _check_grid_end(self, row, col):\n",
    "        \"\"\" Check if next move will move off of the grid (end). \"\"\"\n",
    "        if (row>=self.n_rows or row<0) or (col>=self.n_cols or col<0):\n",
    "            return True\n",
    "        else:\n",
    "            return False\n",
    "\n",
    "    def _update_history(self):\n",
    "        x, y, _ = self.current_position\n",
    "        self.grid_history[x][y] = 'X'\n",
    "\n",
    "    def _update_current_position(self, position):\n",
    "        \"\"\" Perform series of actions to update current position. \"\"\"\n",
    "        \n",
    "        old_x, old_y, direction = self.current_position\n",
    "        new_x, new_y, new_direction = position\n",
    "\n",
    "        self.current_position = position\n",
    "\n",
    "        self._update_history()\n",
    "\n",
    "        # remove old position from current grid\n",
    "        self.grid[old_x][old_y] = '.'\n",
    "\n",
    "        # update new position with indicator on our grid\n",
    "        self.grid[new_x, new_y] = new_direction\n",
    "        \n",
    "    def _get_next_position(self):\n",
    "        \"\"\"\" Get next intended position, based on current position \"\"\"\n",
    "        x, y, direction = self.current_position\n",
    "        delta_x, delta_y = self.directions[direction]\n",
    "        next_x = x + delta_x\n",
    "        next_y = y + delta_y\n",
    "\n",
    "        # validate if guard is about to walk off of grid (end)\n",
    "        if self._check_grid_end(next_x, next_y):\n",
    "            self.left_area = True\n",
    "            return self.current_position\n",
    "\n",
    "        # if obstacles, rotate accordingly\n",
    "        elif self._check_obstacle(next_x, next_y):\n",
    "            new_direction = self.direction_changes[direction]\n",
    "            return (x, y, new_direction)\n",
    "\n",
    "        # otherwise, return new position\n",
    "        else:\n",
    "            return (next_x, next_y, direction)\n",
    "        \n",
    "    def move(self):\n",
    "        \"\"\" If there is something directly in front, turn right 90 degrees, \n",
    "            otherwise, take a step forward.\n",
    "        \"\"\"\n",
    "\n",
    "        if self.left_area:\n",
    "            print('Guard has already left the area. No more places to move!')\n",
    "            return\n",
    "\n",
    "        else:\n",
    "            # determine next position to move based on current position and direction\n",
    "            next_position = self._get_next_position()\n",
    "\n",
    "            # formally update our position (x, y, direction) and grid history\n",
    "            self._update_current_position(next_position)\n",
    "\n",
    "            # add to our record of total movements\n",
    "            self.n_movements += 1\n",
    "\n",
    "    def count_positions(self):\n",
    "        \"\"\" Return the number of positions the guard has visited in total. \"\"\"\n",
    "        return np.count_nonzero(self.grid_history == 'X')\n",
    "\n",
    "    def solve_movements(self, attempt_limit=10000):\n",
    "        while not self.left_area and self.n_movements < attempt_limit:\n",
    "            _ = self.move()\n",
    "        if self.n_movements >= attempt_limit:\n",
    "            print(f\"Cancelling this attempt after {self.n_movements} attempts!\")\n",
    "        return"
   ]
  },
  {
   "cell_type": "code",
   "execution_count": 59,
   "id": "191a7361-8900-4536-8739-6d9897178b26",
   "metadata": {},
   "outputs": [
    {
     "name": "stdout",
     "output_type": "stream",
     "text": [
      "File successfully read.\n",
      "[['.' '.' '.' '.' '#' '.' '.' '.' '.' '.']\n",
      " ['.' '.' '.' '.' '.' '.' '.' '.' '.' '#']\n",
      " ['.' '.' '.' '.' '.' '.' '.' '.' '.' '.']\n",
      " ['.' '.' '#' '.' '.' '.' '.' '.' '.' '.']\n",
      " ['.' '.' '.' '.' '.' '.' '.' '#' '.' '.']\n",
      " ['.' '.' '.' '.' '.' '.' '.' '.' '.' '.']\n",
      " ['.' '#' '.' '.' '.' '.' '.' '.' '.' '.']\n",
      " ['.' '.' '.' '.' '.' '.' '.' '.' '#' '.']\n",
      " ['#' '.' '.' '.' '.' '.' '.' '.' '.' '.']\n",
      " ['.' '.' '.' '.' '.' '.' '#' 'v' '.' '.']]\n",
      "\n",
      "Solved grid, which has 41 guard occupied positions.\n"
     ]
    }
   ],
   "source": [
    "data_dir = 'Day_6'\n",
    "ex_data = read_raw_text(os.path.join(data_dir, 'example_input_day_6.txt'))\n",
    "ex_grid_data = np.array([list(x) for x in ex_data.split('\\n')])\n",
    "\n",
    "ex_grid = GridMap(ex_grid_data)\n",
    "ex_grid.solve_movements()\n",
    "print(ex_grid.grid)\n",
    "print(f\"\\nSolved grid, which has {ex_grid.count_positions()} guard occupied positions.\")"
   ]
  },
  {
   "cell_type": "code",
   "execution_count": 61,
   "id": "9ae8b8e8-6eef-445c-9595-2139a6291012",
   "metadata": {},
   "outputs": [
    {
     "data": {
      "text/plain": [
       "array([['.', '.', '.', '.', '#', '.', '.', '.', '.', '.'],\n",
       "       ['.', '.', '.', '.', 'X', 'X', 'X', 'X', 'X', '#'],\n",
       "       ['.', '.', '.', '.', 'X', '.', '.', '.', 'X', '.'],\n",
       "       ['.', '.', '#', '.', 'X', '.', '.', '.', 'X', '.'],\n",
       "       ['.', '.', 'X', 'X', 'X', 'X', 'X', '#', 'X', '.'],\n",
       "       ['.', '.', 'X', '.', 'X', '.', 'X', '.', 'X', '.'],\n",
       "       ['.', '#', 'X', 'X', 'X', 'X', 'X', 'X', 'X', '.'],\n",
       "       ['.', 'X', 'X', 'X', 'X', 'X', 'X', 'X', '#', '.'],\n",
       "       ['#', 'X', 'X', 'X', 'X', 'X', 'X', 'X', '.', '.'],\n",
       "       ['.', '.', '.', '.', '.', '.', '#', 'X', '.', '.']], dtype='<U1')"
      ]
     },
     "execution_count": 61,
     "metadata": {},
     "output_type": "execute_result"
    }
   ],
   "source": [
    "ex_grid.grid_history"
   ]
  },
  {
   "cell_type": "markdown",
   "id": "04f8e1da-f0b2-4b52-821f-d326ad5056f8",
   "metadata": {},
   "source": [
    "**Input data for test:**"
   ]
  },
  {
   "cell_type": "code",
   "execution_count": 68,
   "id": "5a0b2360-628d-4545-a0a3-64221c7d07cf",
   "metadata": {},
   "outputs": [
    {
     "name": "stdout",
     "output_type": "stream",
     "text": [
      "File successfully read.\n",
      "\n",
      "Solved grid, which has 5453 guard occupied positions.\n",
      "CPU times: user 17.2 ms, sys: 2.66 ms, total: 19.9 ms\n",
      "Wall time: 17.6 ms\n"
     ]
    }
   ],
   "source": [
    "%%time\n",
    "data_dir = 'Day_6'\n",
    "data = read_raw_text(os.path.join(data_dir, 'day_6_input.txt'))\n",
    "grid_data = np.array([list(x) for x in data.split('\\n')])\n",
    "\n",
    "grid = GridMap(grid_data)\n",
    "grid.solve_movements()\n",
    "grid.grid\n",
    "\n",
    "print(f\"\\nSolved grid, which has {grid.count_positions()} guard occupied positions.\")"
   ]
  },
  {
   "cell_type": "markdown",
   "id": "e16162fb-cd13-444a-a7fd-4981e6047512",
   "metadata": {},
   "source": [
    "Success with the above!"
   ]
  },
  {
   "cell_type": "markdown",
   "id": "2bf6d021-21a8-4ac5-bcba-c37252aa457a",
   "metadata": {},
   "source": [
    "### Day 6, Part 2:"
   ]
  },
  {
   "cell_type": "markdown",
   "id": "a40962a8-eb44-400b-98df-9e82ad42edb4",
   "metadata": {},
   "source": [
    "As soon as the guard gets back to a position they've already been to, i.e. facing in exactly the same direction, then we have a situation of an infinite loop."
   ]
  },
  {
   "cell_type": "code",
   "execution_count": 69,
   "id": "2d2e2b78-c25f-404a-931f-25626a21d5dd",
   "metadata": {},
   "outputs": [],
   "source": [
    "class GridMap:\n",
    "    def __init__(self, grid):\n",
    "        \"\"\"Initialize the grid.\"\"\"\n",
    "        self.grid = grid.copy()\n",
    "        self.grid_history = self.grid.copy()\n",
    "        \n",
    "        self.n_rows = grid.shape[0]\n",
    "        self.n_cols = grid.shape[1]\n",
    "        self.directions = {'>': (0, 1), '<': (0, -1), '^': (-1, 0), 'v': (1, 0)}\n",
    "\n",
    "        # define next direction if we need to change (i.e. an obstacle)\n",
    "        self.direction_changes = {'>': 'v', '<': '^', '^': '>', 'v': '<'}\n",
    "        \n",
    "        self.current_position = self._find_guard_position()\n",
    "\n",
    "        # record of movements, incl directions\n",
    "        self.visited = set()\n",
    "        if self.current_position:\n",
    "            self.visited.add(self.current_position)\n",
    "            self._update_history()\n",
    "\n",
    "        # signify end of guard patrol\n",
    "        self.left_area = False\n",
    "        self.loop_situation = False\n",
    "        self.n_movements = 0\n",
    "\n",
    "    def _find_guard_position(self):\n",
    "            \"\"\"Find the guard's current location and direction. \"\"\"\n",
    "            for r in range(self.n_rows):\n",
    "                for c in range(self.n_cols):\n",
    "                    if self.grid[r][c] in self.directions:\n",
    "                        return (r, c, self.grid[r][c])  # Return row, column, and direction\n",
    "            return None\n",
    "\n",
    "    def _check_obstacle(self, row, col):\n",
    "         if self.grid[row][col] == '#':\n",
    "             return True\n",
    "\n",
    "    def _check_grid_end(self, row, col):\n",
    "        \"\"\" Check if next move will move off of the grid (end). \"\"\"\n",
    "        if (row>=self.n_rows or row<0) or (col>=self.n_cols or col<0):\n",
    "            return True\n",
    "        else:\n",
    "            return False\n",
    "\n",
    "    def _update_history(self):\n",
    "        x, y, _ = self.current_position\n",
    "        self.grid_history[x][y] = 'X'\n",
    "\n",
    "    def _update_current_position(self, position):\n",
    "        \"\"\" Perform series of actions to update current position. \"\"\"\n",
    "        \n",
    "        old_x, old_y, direction = self.current_position\n",
    "        new_x, new_y, new_direction = position\n",
    "\n",
    "        # update current position and our history\n",
    "        self.current_position = position\n",
    "        self.visited.add(self.current_position)\n",
    "        self._update_history()\n",
    "\n",
    "        # remove old position from current grid\n",
    "        self.grid[old_x][old_y] = '.'\n",
    "\n",
    "        # update new position with indicator on our grid\n",
    "        self.grid[new_x, new_y] = new_direction\n",
    "        \n",
    "    def _get_next_position(self):\n",
    "        \"\"\"\" Get next intended position, based on current position \"\"\"\n",
    "        x, y, direction = self.current_position\n",
    "        delta_x, delta_y = self.directions[direction]\n",
    "        next_x = x + delta_x\n",
    "        next_y = y + delta_y\n",
    "\n",
    "        # validate if guard is about to walk off of grid (end)\n",
    "        if self._check_grid_end(next_x, next_y):\n",
    "            self.left_area = True\n",
    "            return self.current_position\n",
    "\n",
    "        # if obstacles, rotate accordingly\n",
    "        elif self._check_obstacle(next_x, next_y):\n",
    "            new_direction = self.direction_changes[direction]\n",
    "            return (x, y, new_direction)\n",
    "\n",
    "        # otherwise, return new position\n",
    "        else:\n",
    "            return (next_x, next_y, direction)\n",
    "\n",
    "    def add_obstacle(self, row, col):\n",
    "        \"\"\" Add obstacle to selected location. \"\"\"\n",
    "        self.grid[row][col] = '#'\n",
    "        self.grid_history[row][col] = '#'\n",
    "\n",
    "    def remove_obstacle(self, row, col):\n",
    "        \"\"\" Remove obstacle from selected location. \"\"\"\n",
    "        self.grid[row][col] = '.'\n",
    "        self.grid_history[row][col] = '.'\n",
    "\n",
    "    def move(self):\n",
    "        \"\"\" If there is something directly in front, turn right 90 degrees, \n",
    "            otherwise, take a step forward.\n",
    "        \"\"\"\n",
    "        if self.left_area:\n",
    "            print('Guard has already left the area. No more places to move!')\n",
    "            return\n",
    "\n",
    "        else:\n",
    "            # determine next position to move based on current position and direction\n",
    "            next_position = self._get_next_position()\n",
    "\n",
    "            # check if we've visited this position and direction before\n",
    "            # if so - we're in an infinite loop and should stop\n",
    "            if next_position in self.visited and not self.left_area:\n",
    "                #print(\"We're in an infinite loop!\")\n",
    "                self.loop_situation = True\n",
    "\n",
    "            # formally update our position (x, y, direction) and grid history\n",
    "            self._update_current_position(next_position)\n",
    "\n",
    "            # add to our record of total movements\n",
    "            self.n_movements += 1\n",
    "\n",
    "    def count_positions(self):\n",
    "        \"\"\" Return the number of positions the guard has visited in total. \"\"\"\n",
    "        return np.count_nonzero(self.grid_history == 'X')\n",
    "\n",
    "    def solve_movements(self, attempt_limit=10000):\n",
    "        while not (self.left_area or self.loop_situation) and self.n_movements < attempt_limit:\n",
    "            _ = self.move()\n",
    "        if self.n_movements >= attempt_limit:\n",
    "            print(f\"Cancelling this attempt after {self.n_movements} attempts!\")\n",
    "        return"
   ]
  },
  {
   "cell_type": "code",
   "execution_count": 70,
   "id": "a8d10dd1-596d-41cb-9343-1dd4f8b1108f",
   "metadata": {},
   "outputs": [
    {
     "name": "stdout",
     "output_type": "stream",
     "text": [
      "File successfully read.\n"
     ]
    }
   ],
   "source": [
    "ex_data = read_raw_text(os.path.join(data_dir, 'example_input_day_6.txt'))\n",
    "ex_grid_data = np.array([list(x) for x in ex_data.split('\\n')])\n",
    "#ex_grid_data[6][3] = '#'"
   ]
  },
  {
   "cell_type": "code",
   "execution_count": 71,
   "id": "edf0213e-9140-4e33-8c45-52ee52d0579e",
   "metadata": {},
   "outputs": [
    {
     "data": {
      "text/plain": [
       "array([['.', '.', '.', '.', '#', '.', '.', '.', '.', '.'],\n",
       "       ['.', '.', '.', '.', '.', '.', '.', '.', '.', '#'],\n",
       "       ['.', '.', '.', '.', '.', '.', '.', '.', '.', '.'],\n",
       "       ['.', '.', '#', '.', '.', '.', '.', '.', '.', '.'],\n",
       "       ['.', '.', '.', '.', '.', '.', '.', '#', '.', '.'],\n",
       "       ['.', '.', '.', '.', '.', '.', '.', '.', '.', '.'],\n",
       "       ['.', '#', '.', '.', '.', '.', '.', '.', '.', '.'],\n",
       "       ['.', '.', '.', '.', '.', '.', '.', '.', '#', '.'],\n",
       "       ['#', '.', '.', '.', '.', '.', '.', '.', '.', '.'],\n",
       "       ['.', '.', '.', '.', '.', '.', '#', 'v', '.', '.']], dtype='<U1')"
      ]
     },
     "execution_count": 71,
     "metadata": {},
     "output_type": "execute_result"
    }
   ],
   "source": [
    "ex_grid = GridMap(ex_grid_data)\n",
    "ex_grid.solve_movements()\n",
    "ex_grid.grid"
   ]
  },
  {
   "cell_type": "code",
   "execution_count": 72,
   "id": "d3031a9c-b769-422c-b305-a72c2ad2f477",
   "metadata": {},
   "outputs": [],
   "source": [
    "def search_loop_locations(grid_data):\n",
    "    \"\"\" Detect situations where the guard ends up back at a previous location. \"\"\"\n",
    "    directions = {'>': (0, 1), '<': (0, -1), \n",
    "                  '^': (-1, 0), 'v': (1, 0)}\n",
    "    \n",
    "    # set to store infinite loop locations\n",
    "    loop_locations = set()\n",
    "\n",
    "    n_rows, n_cols = grid_data.shape\n",
    "\n",
    "    # find start location for the guard, incl direction\n",
    "    x, y, direction = find_start_location(grid_data, \n",
    "                                          n_rows, \n",
    "                                          n_cols,\n",
    "                                          directions)\n",
    "\n",
    "    # avoid position in front of start loc\n",
    "    avoid_x = x + directions[direction][0]\n",
    "    avoid_y = y + directions[direction][1]\n",
    "    print(f\"Avoid co-ordinates are: {avoid_x}, {avoid_y}\")\n",
    "\n",
    "    # iterate through each row and col position, and search for infinite loops\n",
    "    for r in range(n_rows):\n",
    "        for c in range(n_cols):\n",
    "            if grid_data[r][c] == '.' and (r, c) != (avoid_x, avoid_y):\n",
    "                # initialise grid\n",
    "                grid = GridMap(grid_data)\n",
    "\n",
    "                # add obstacle to this location\n",
    "                grid.add_obstacle(r, c)\n",
    "\n",
    "                # solve and see if infinite loop appears\n",
    "                grid.solve_movements()\n",
    "\n",
    "                if grid.loop_situation:\n",
    "                    loop_locations.add((r,c))\n",
    "                    \n",
    "    return loop_locations\n",
    "\n",
    "\n",
    "def find_start_location(grid_data, n_rows, n_cols, directions):\n",
    "    \"\"\"Find the guard's current location and direction. \"\"\"\n",
    "    for r in range(n_rows):\n",
    "        for c in range(n_cols):\n",
    "            if grid_data[r][c] in directions:\n",
    "                return (r, c, grid_data[r][c])\n",
    "    return None"
   ]
  },
  {
   "cell_type": "code",
   "execution_count": 74,
   "id": "a6f4a813-a6c2-4747-92cf-45f030e57d00",
   "metadata": {},
   "outputs": [
    {
     "name": "stdout",
     "output_type": "stream",
     "text": [
      "Avoid co-ordinates are: 5, 4\n",
      "Number of loops found: 6\n",
      "CPU times: user 11.1 ms, sys: 848 μs, total: 12 ms\n",
      "Wall time: 11.2 ms\n"
     ]
    }
   ],
   "source": [
    "%%time\n",
    "infinite_loop_locs = search_loop_locations(ex_grid_data)\n",
    "\n",
    "print(f\"Number of loops found: {len(infinite_loop_locs)}\")"
   ]
  },
  {
   "cell_type": "markdown",
   "id": "1bd06c54-14cb-4ad2-8acf-63c9fde85525",
   "metadata": {},
   "source": [
    "Attempt on input data:"
   ]
  },
  {
   "cell_type": "code",
   "execution_count": 76,
   "id": "34ce72c5-8d51-4303-9ade-f0959f359014",
   "metadata": {},
   "outputs": [
    {
     "name": "stdout",
     "output_type": "stream",
     "text": [
      "File successfully read.\n"
     ]
    }
   ],
   "source": [
    "data_dir = 'Day_6'\n",
    "data = read_raw_text(os.path.join(data_dir, 'day_6_input.txt'))\n",
    "grid_data = np.array([list(x) for x in data.split('\\n')])"
   ]
  },
  {
   "cell_type": "code",
   "execution_count": 77,
   "id": "239d9f13-4f0c-4e58-8d37-177414201535",
   "metadata": {},
   "outputs": [
    {
     "name": "stdout",
     "output_type": "stream",
     "text": [
      "Avoid co-ordinates are: 88, 51\n",
      "CPU times: user 1min 45s, sys: 209 ms, total: 1min 45s\n",
      "Wall time: 1min 45s\n"
     ]
    }
   ],
   "source": [
    "%time infinite_loop_locs = search_loop_locations(grid_data)"
   ]
  },
  {
   "cell_type": "code",
   "execution_count": 79,
   "id": "f3b24a2e-2506-49aa-aaaa-9f0cf86a66a1",
   "metadata": {},
   "outputs": [
    {
     "name": "stdout",
     "output_type": "stream",
     "text": [
      "Number of loops found: 2188\n"
     ]
    }
   ],
   "source": [
    "print(f\"Number of loops found: {len(infinite_loop_locs)}\")"
   ]
  },
  {
   "cell_type": "markdown",
   "id": "50ebca7f-b963-4ce8-a88e-72f246357bfc",
   "metadata": {},
   "source": [
    "This took a while to process, but the end result was correct."
   ]
  },
  {
   "cell_type": "markdown",
   "id": "bb93acf2-0601-4589-a6a5-74d009967917",
   "metadata": {
    "jp-MarkdownHeadingCollapsed": true
   },
   "source": [
    "## Day 7 Bridge Repair"
   ]
  },
  {
   "cell_type": "markdown",
   "id": "fcbed056-eb41-46bd-8fe4-9d956d2e5a33",
   "metadata": {},
   "source": [
    "Each line represents a single equation. The test value appears before the colon on each line; it is your job to determine whether the remaining numbers can be combined with operators to produce the test value.\n",
    "\n",
    "Operators are always evaluated left-to-right, not according to precedence rules. Furthermore, numbers in the equations cannot be rearranged. Glancing into the jungle, you can see elephants holding two different types of operators: add (+) and multiply (*)."
   ]
  },
  {
   "cell_type": "markdown",
   "id": "3d9c211f-5ca0-4467-b7d0-4addebd22544",
   "metadata": {},
   "source": [
    "### Day 7, Part 1"
   ]
  },
  {
   "cell_type": "code",
   "execution_count": 84,
   "id": "68a1346e-8fda-4b15-aece-827ecff98d3f",
   "metadata": {},
   "outputs": [],
   "source": [
    "def read_raw_text(filename):\n",
    "    \"\"\" Read entire file as a single string. \"\"\"\n",
    "    try:\n",
    "        with open(filename, \"r\", encoding=\"utf-8\") as file:\n",
    "            file_data = file.read()  \n",
    "        print(\"File successfully read.\")\n",
    "    except FileNotFoundError:\n",
    "        print(\"The specified file was not found.\")\n",
    "    except Exception as e:\n",
    "        print(f\"An error occurred: {e}\")\n",
    "    return file_data\n",
    "\n",
    "def prepare_data(filename):\n",
    "    \"\"\" Parse lines of data split out into results and terms. \"\"\"\n",
    "    data = read_raw_text(filename)\n",
    "    data = data.split('\\n')\n",
    "    \n",
    "    parsed_results = []\n",
    "    parsed_terms = []\n",
    "    \n",
    "    for entry in data:\n",
    "        parsed_row = entry.split(':')\n",
    "        parsed_results.append(int(parsed_row[0]))\n",
    "        parsed_terms.append([int(x) for x in parsed_row[1].strip().split(' ')])\n",
    "\n",
    "    return parsed_results, parsed_terms"
   ]
  },
  {
   "cell_type": "code",
   "execution_count": 85,
   "id": "5dd92f03-ed47-4103-9e93-ec9bcc2b6cb0",
   "metadata": {},
   "outputs": [
    {
     "name": "stdout",
     "output_type": "stream",
     "text": [
      "File successfully read.\n"
     ]
    }
   ],
   "source": [
    "data_dir = 'Day_7'\n",
    "parsed_results, parsed_terms = prepare_data(os.path.join(data_dir, 'example_input_day_7.txt'))"
   ]
  },
  {
   "cell_type": "code",
   "execution_count": 86,
   "id": "69fdb278-6431-46f7-b812-5f5c6fd19c86",
   "metadata": {},
   "outputs": [],
   "source": [
    "def compute_sequence(row, operations):\n",
    "    total = row[0]\n",
    "    for i, operand in enumerate(operations):\n",
    "        total = compute_calculation(total, row[i+1], operand)\n",
    "    return total\n",
    "    \n",
    "def compute_calculation(x1, x2, operand):\n",
    "    if operand == '+':\n",
    "        return x1 + x2\n",
    "    elif operand == '*':\n",
    "        return x1 * x2\n",
    "    else:\n",
    "        return int(str(x1) + str(x2))\n",
    "\n",
    "def get_operator_combinations(row, symbols=['+', '*']):\n",
    "    combinations = [comb for comb in product(symbols, repeat=len(row) - 1)]\n",
    "    return combinations\n",
    "\n",
    "def evaluate_row(result, row, operation_types=['+', '*']):\n",
    "    operation_combos = get_operator_combinations(row)\n",
    "    for combo in operation_combos:\n",
    "        combo_result = compute_sequence(row, combo)\n",
    "        if combo_result == result:\n",
    "            return True\n",
    "    return False\n",
    "\n",
    "def evaluate_row(result, row, operation_types=['+', '*']):\n",
    "    operation_combos = get_operator_combinations(row, \n",
    "                            symbols=operation_types)\n",
    "    for combo in operation_combos:\n",
    "        combo_result = compute_sequence(row, combo)\n",
    "        if combo_result == result:\n",
    "            return True\n",
    "    return False\n",
    "\n",
    "def get_results(totals, terms, operation_types=['+', '*']):\n",
    "    true_results = []\n",
    "    for i, row in enumerate(terms):\n",
    "        if evaluate_row(totals[i], terms[i], operation_types):\n",
    "            true_results.append(totals[i])\n",
    "    return sum(true_results)"
   ]
  },
  {
   "cell_type": "code",
   "execution_count": 87,
   "id": "2c336c7d-2f9a-4067-9e47-e404e3aae294",
   "metadata": {},
   "outputs": [
    {
     "name": "stdout",
     "output_type": "stream",
     "text": [
      "Final results sum: 3749\n",
      "CPU times: user 187 μs, sys: 27 μs, total: 214 μs\n",
      "Wall time: 228 μs\n"
     ]
    }
   ],
   "source": [
    "%%time \n",
    "example_total = get_results(parsed_results, parsed_terms)\n",
    "print(f\"Final results sum: {example_total}\")"
   ]
  },
  {
   "cell_type": "markdown",
   "id": "6c98f5d5-49a2-4210-943a-e7a7c4b7b74a",
   "metadata": {},
   "source": [
    "**Actual input:**"
   ]
  },
  {
   "cell_type": "code",
   "execution_count": 93,
   "id": "a9b593f3-f6da-4c7c-b432-e4f39db8c480",
   "metadata": {},
   "outputs": [
    {
     "name": "stdout",
     "output_type": "stream",
     "text": [
      "File successfully read.\n",
      "Final results sum: 1399219271639\n",
      "CPU times: user 163 ms, sys: 2.63 ms, total: 166 ms\n",
      "Wall time: 164 ms\n"
     ]
    }
   ],
   "source": [
    "%%time\n",
    "parsed_results, parsed_terms = prepare_data(os.path.join(data_dir, 'day_7_input.txt'))\n",
    "total = get_results(parsed_results, parsed_terms)\n",
    "print(f\"Final results sum: {total}\")"
   ]
  },
  {
   "cell_type": "markdown",
   "id": "aa925d95-9546-4331-b95f-0021fa7a0009",
   "metadata": {},
   "source": [
    "### Day 7, Part 2:"
   ]
  },
  {
   "cell_type": "code",
   "execution_count": 96,
   "id": "c6115844-ba45-4ee2-849d-a45e5b3f4170",
   "metadata": {},
   "outputs": [
    {
     "name": "stdout",
     "output_type": "stream",
     "text": [
      "File successfully read.\n",
      "Final results sum: 11387\n",
      "CPU times: user 955 μs, sys: 1.68 ms, total: 2.63 ms\n",
      "Wall time: 1.39 ms\n"
     ]
    }
   ],
   "source": [
    "%%time\n",
    "parsed_results, parsed_terms = prepare_data(os.path.join(data_dir, 'example_input_day_7.txt'))\n",
    "example_total = get_results(parsed_results, parsed_terms, operation_types=['+', '*', '||'])\n",
    "print(f\"Final results sum: {example_total}\")"
   ]
  },
  {
   "cell_type": "markdown",
   "id": "acee7902-2b21-49b6-93a6-53fae636ced9",
   "metadata": {},
   "source": [
    "Good, this works well on the example data - let's test on the full input data now:"
   ]
  },
  {
   "cell_type": "code",
   "execution_count": 98,
   "id": "cb10ee98-2e45-4a18-913d-caee05e9707d",
   "metadata": {},
   "outputs": [
    {
     "name": "stdout",
     "output_type": "stream",
     "text": [
      "File successfully read.\n",
      "Final results sum: 275791737999003\n",
      "CPU times: user 14.2 s, sys: 118 ms, total: 14.3 s\n",
      "Wall time: 14.3 s\n"
     ]
    }
   ],
   "source": [
    "%%time\n",
    "parsed_results, parsed_terms = prepare_data(os.path.join(data_dir, 'day_7_input.txt'))\n",
    "total = get_results(parsed_results, parsed_terms, operation_types=['+', '*', '||'])\n",
    "print(f\"Final results sum: {total}\")"
   ]
  },
  {
   "cell_type": "markdown",
   "id": "7b42d919-cfd4-43f2-960e-63cba84018dd",
   "metadata": {
    "jp-MarkdownHeadingCollapsed": true
   },
   "source": [
    "## Day 8 Antenna Resonant Collinearity"
   ]
  },
  {
   "cell_type": "markdown",
   "id": "944d2405-da59-43b7-9b7f-1f9cf24b10f6",
   "metadata": {},
   "source": [
    "### Day 8, Part 1:"
   ]
  },
  {
   "cell_type": "code",
   "execution_count": 100,
   "id": "7a138e1c-c1b9-4661-b3e8-d8263034a717",
   "metadata": {},
   "outputs": [],
   "source": [
    "def read_raw_text(filename):\n",
    "    \"\"\" Read entire file as a single string. \"\"\"\n",
    "    try:\n",
    "        with open(filename, \"r\", encoding=\"utf-8\") as file:\n",
    "            file_data = file.read()  \n",
    "        print(\"File successfully read.\")\n",
    "    except FileNotFoundError:\n",
    "        print(\"The specified file was not found.\")\n",
    "    except Exception as e:\n",
    "        print(f\"An error occurred: {e}\")\n",
    "    return file_data\n",
    "\n",
    "def load_grid(filename):\n",
    "    data = read_raw_text(filename)\n",
    "    grid = np.array([list(x) for x in data.split('\\n')])\n",
    "    return grid"
   ]
  },
  {
   "cell_type": "code",
   "execution_count": 101,
   "id": "ca1852ae-7271-4f6e-a78a-b5864b13a092",
   "metadata": {},
   "outputs": [],
   "source": [
    "def return_all_ant_coords(grid, antenna_type):\n",
    "    return list(zip(*np.where(grid == antenna_type)))\n",
    "\n",
    "def process_grid_antennae(grid):\n",
    "    uniques, counts = np.unique(grid, return_counts=True)\n",
    "    antenna_types = [x for x in list(uniques) if x not in ['.', '#']]\n",
    "    \n",
    "    antenna_dict = dict()\n",
    "    \n",
    "    for antenna_type in antenna_types:\n",
    "        coords = return_all_ant_coords(grid, antenna_type)\n",
    "        antenna_coords = dict()\n",
    "        for i, result in enumerate(coords):\n",
    "            antenna_coords[f\"{antenna_type}_{i}\"] = result\n",
    "        antenna_dict[antenna_type] = antenna_coords\n",
    "\n",
    "    return antenna_dict\n",
    "\n",
    "def compute_antinodes(coords1, coords2):\n",
    "    \"\"\" Compute the resultant antinodes between two antenna of the\n",
    "        same type.\n",
    "    \"\"\"\n",
    "    # compute row & col distances from two points\n",
    "    # subtract this same distance seperately from each\n",
    "    # point, which should give the associated locations of antinodes\n",
    "    delta_row = coords2[0] - coords1[0]\n",
    "    delta_col = coords2[1] - coords1[1]\n",
    "\n",
    "    antinode1  = (coords1[0] - delta_row, coords1[1] - delta_col)\n",
    "    antinode2 = (coords2[0] + delta_row, coords2[1] + delta_col)\n",
    "\n",
    "    return antinode1, antinode2\n",
    "\n",
    "def get_antenna_antinodes(name, ant_dict):\n",
    "    results = []\n",
    "    combos = [x for x in combinations(ant_dict[name].keys(), r=2)]\n",
    "    print(f\"Combos as follows: {combos}\")\n",
    "    for combo in combos:\n",
    "        coord_results = compute_antinodes(ant_dict[name][combo[0]], \n",
    "                                          ant_dict[name][combo[1]])\n",
    "        results.extend(coord_results)\n",
    "    return results\n",
    "\n",
    "def gather_grid_antinodes(grid, ant_dict):\n",
    "    \"\"\" Gather all antinodes for associated antennae on grid. \"\"\"\n",
    "    antenna_types = list(ant_dict.keys())\n",
    "    antinodes_results = []\n",
    "    for ant_type in antenna_types:\n",
    "        ant_antinodes = get_antenna_antinodes(ant_type, ant_dict)\n",
    "        antinodes_results.extend(ant_antinodes)\n",
    "    return antinodes_results\n",
    "\n",
    "def validate_antinodes(grid, ant_dict, antinodes):\n",
    "    \"\"\" Remove all antinodes that appear outside of the grid \"\"\"\n",
    "    antinode_arr = np.array(antinodes)\n",
    "    boolean_2d_mask = (antinode_arr < 0) | (antinode_arr > grid.shape[0] - 1)\n",
    "    or_1d_results = boolean_2d_mask[:, 0] | boolean_2d_mask[:, 1]\n",
    "    legit_antinodes = antinode_arr[~or_1d_results]\n",
    "    \n",
    "    # return a set to ensure no duplicates\n",
    "    return set([(x,y) for x,y in legit_antinodes])"
   ]
  },
  {
   "cell_type": "code",
   "execution_count": 102,
   "id": "4470aace-4a78-4ce6-aa2c-96bd96a9707c",
   "metadata": {},
   "outputs": [
    {
     "name": "stdout",
     "output_type": "stream",
     "text": [
      "File successfully read.\n"
     ]
    },
    {
     "data": {
      "text/plain": [
       "array([['.', '.', '.', '.', '.', '.', '.', '.', '.', '.', '.', '.'],\n",
       "       ['.', '.', '.', '.', '.', '.', '.', '.', '0', '.', '.', '.'],\n",
       "       ['.', '.', '.', '.', '.', '0', '.', '.', '.', '.', '.', '.'],\n",
       "       ['.', '.', '.', '.', '.', '.', '.', '0', '.', '.', '.', '.'],\n",
       "       ['.', '.', '.', '.', '0', '.', '.', '.', '.', '.', '.', '.'],\n",
       "       ['.', '.', '.', '.', '.', '.', 'A', '.', '.', '.', '.', '.'],\n",
       "       ['.', '.', '.', '.', '.', '.', '.', '.', '.', '.', '.', '.'],\n",
       "       ['.', '.', '.', '.', '.', '.', '.', '.', '.', '.', '.', '.'],\n",
       "       ['.', '.', '.', '.', '.', '.', '.', '.', 'A', '.', '.', '.'],\n",
       "       ['.', '.', '.', '.', '.', '.', '.', '.', '.', 'A', '.', '.'],\n",
       "       ['.', '.', '.', '.', '.', '.', '.', '.', '.', '.', '.', '.'],\n",
       "       ['.', '.', '.', '.', '.', '.', '.', '.', '.', '.', '.', '.']],\n",
       "      dtype='<U1')"
      ]
     },
     "execution_count": 102,
     "metadata": {},
     "output_type": "execute_result"
    }
   ],
   "source": [
    "data_dir = 'Day_8'\n",
    "example_grid = load_grid(os.path.join(data_dir, 'example_input_day_8.txt'))\n",
    "example_grid"
   ]
  },
  {
   "cell_type": "code",
   "execution_count": 103,
   "id": "a58bc040-e050-4e4a-a062-5407491a61b7",
   "metadata": {},
   "outputs": [
    {
     "name": "stdout",
     "output_type": "stream",
     "text": [
      "Combos as follows: [('0_0', '0_1'), ('0_0', '0_2'), ('0_0', '0_3'), ('0_1', '0_2'), ('0_1', '0_3'), ('0_2', '0_3')]\n",
      "Combos as follows: [('A_0', 'A_1'), ('A_0', 'A_2'), ('A_1', 'A_2')]\n",
      "CPU times: user 1.32 ms, sys: 3.72 ms, total: 5.05 ms\n",
      "Wall time: 2.81 ms\n"
     ]
    }
   ],
   "source": [
    "%%time\n",
    "antenna_dict = process_grid_antennae(example_grid)\n",
    "unvalidated_antinodes = gather_grid_antinodes(example_grid, antenna_dict)\n",
    "antinodes = validate_antinodes(example_grid, antenna_dict, unvalidated_antinodes)"
   ]
  },
  {
   "cell_type": "code",
   "execution_count": 107,
   "id": "481e0b70-ccb5-413a-888e-269534a737c3",
   "metadata": {},
   "outputs": [
    {
     "data": {
      "text/plain": [
       "{(0, 6),\n",
       " (0, 11),\n",
       " (1, 3),\n",
       " (2, 4),\n",
       " (2, 10),\n",
       " (3, 2),\n",
       " (4, 9),\n",
       " (5, 1),\n",
       " (5, 6),\n",
       " (6, 3),\n",
       " (7, 0),\n",
       " (7, 7),\n",
       " (10, 10),\n",
       " (11, 10)}"
      ]
     },
     "execution_count": 107,
     "metadata": {},
     "output_type": "execute_result"
    }
   ],
   "source": [
    "antinodes"
   ]
  },
  {
   "cell_type": "code",
   "execution_count": 108,
   "id": "47f8d7d4-fa67-4745-b5ab-b3281d6ece38",
   "metadata": {},
   "outputs": [
    {
     "data": {
      "text/plain": [
       "14"
      ]
     },
     "execution_count": 108,
     "metadata": {},
     "output_type": "execute_result"
    }
   ],
   "source": [
    "len(antinodes)"
   ]
  },
  {
   "cell_type": "code",
   "execution_count": 109,
   "id": "7dc20b17-baff-4d3d-a3c3-12ca67bf1e74",
   "metadata": {},
   "outputs": [],
   "source": [
    "for result in validate_antinodes(example_grid, antenna_dict, unvalidated_antinodes):\n",
    "    example_grid[result[0]][result[1]] = '#'"
   ]
  },
  {
   "cell_type": "code",
   "execution_count": 110,
   "id": "5bd0c570-8c41-4c08-97d8-aa7ecd6dc9b8",
   "metadata": {},
   "outputs": [
    {
     "data": {
      "text/plain": [
       "array([['.', '.', '.', '.', '.', '.', '#', '.', '.', '.', '.', '#'],\n",
       "       ['.', '.', '.', '#', '.', '.', '.', '.', '0', '.', '.', '.'],\n",
       "       ['.', '.', '.', '.', '#', '0', '.', '.', '.', '.', '#', '.'],\n",
       "       ['.', '.', '#', '.', '.', '.', '.', '0', '.', '.', '.', '.'],\n",
       "       ['.', '.', '.', '.', '0', '.', '.', '.', '.', '#', '.', '.'],\n",
       "       ['.', '#', '.', '.', '.', '.', '#', '.', '.', '.', '.', '.'],\n",
       "       ['.', '.', '.', '#', '.', '.', '.', '.', '.', '.', '.', '.'],\n",
       "       ['#', '.', '.', '.', '.', '.', '.', '#', '.', '.', '.', '.'],\n",
       "       ['.', '.', '.', '.', '.', '.', '.', '.', 'A', '.', '.', '.'],\n",
       "       ['.', '.', '.', '.', '.', '.', '.', '.', '.', 'A', '.', '.'],\n",
       "       ['.', '.', '.', '.', '.', '.', '.', '.', '.', '.', '#', '.'],\n",
       "       ['.', '.', '.', '.', '.', '.', '.', '.', '.', '.', '#', '.']],\n",
       "      dtype='<U1')"
      ]
     },
     "execution_count": 110,
     "metadata": {},
     "output_type": "execute_result"
    }
   ],
   "source": [
    "example_grid"
   ]
  },
  {
   "cell_type": "code",
   "execution_count": 114,
   "id": "ef56a880-a5d0-41f6-8289-bfb41b85ca36",
   "metadata": {},
   "outputs": [
    {
     "name": "stdout",
     "output_type": "stream",
     "text": [
      "File successfully read.\n"
     ]
    },
    {
     "data": {
      "text/plain": [
       "array([['.', '.', '.', '.', '.', '.', '#', '.', '.', '.', '.', '#'],\n",
       "       ['.', '.', '.', '#', '.', '.', '.', '.', '0', '.', '.', '.'],\n",
       "       ['.', '.', '.', '.', '#', '0', '.', '.', '.', '.', '#', '.'],\n",
       "       ['.', '.', '#', '.', '.', '.', '.', '0', '.', '.', '.', '.'],\n",
       "       ['.', '.', '.', '.', '0', '.', '.', '.', '.', '#', '.', '.'],\n",
       "       ['.', '#', '.', '.', '.', '.', 'A', '.', '.', '.', '.', '.'],\n",
       "       ['.', '.', '.', '#', '.', '.', '.', '.', '.', '.', '.', '.'],\n",
       "       ['#', '.', '.', '.', '.', '.', '.', '#', '.', '.', '.', '.'],\n",
       "       ['.', '.', '.', '.', '.', '.', '.', '.', 'A', '.', '.', '.'],\n",
       "       ['.', '.', '.', '.', '.', '.', '.', '.', '.', 'A', '.', '.'],\n",
       "       ['.', '.', '.', '.', '.', '.', '.', '.', '.', '.', '#', '.'],\n",
       "       ['.', '.', '.', '.', '.', '.', '.', '.', '.', '.', '#', '.']],\n",
       "      dtype='<U1')"
      ]
     },
     "execution_count": 114,
     "metadata": {},
     "output_type": "execute_result"
    }
   ],
   "source": [
    "example_solution = load_grid(os.path.join(data_dir, 'example_solution_day_8.txt'))\n",
    "example_solution"
   ]
  },
  {
   "cell_type": "markdown",
   "id": "fa2b9cb2-4726-4944-804e-8124225f0447",
   "metadata": {},
   "source": [
    "Both look good. Let's now try on the real input:"
   ]
  },
  {
   "cell_type": "code",
   "execution_count": 115,
   "id": "4b3bd2d9-a69f-4697-b45b-e96a8a6f7889",
   "metadata": {},
   "outputs": [
    {
     "name": "stdout",
     "output_type": "stream",
     "text": [
      "File successfully read.\n"
     ]
    },
    {
     "data": {
      "text/plain": [
       "(50, 50)"
      ]
     },
     "execution_count": 115,
     "metadata": {},
     "output_type": "execute_result"
    }
   ],
   "source": [
    "data_dir = 'Day_8'\n",
    "input_grid = load_grid(os.path.join(data_dir, 'day_8_input.txt'))\n",
    "input_grid.shape"
   ]
  },
  {
   "cell_type": "code",
   "execution_count": 116,
   "id": "27490799-2c30-4842-af3b-6c4820dada7e",
   "metadata": {},
   "outputs": [
    {
     "name": "stdout",
     "output_type": "stream",
     "text": [
      "Combos as follows: [('0_0', '0_1'), ('0_0', '0_2'), ('0_0', '0_3'), ('0_1', '0_2'), ('0_1', '0_3'), ('0_2', '0_3')]\n",
      "Combos as follows: [('1_0', '1_1'), ('1_0', '1_2'), ('1_0', '1_3'), ('1_1', '1_2'), ('1_1', '1_3'), ('1_2', '1_3')]\n",
      "Combos as follows: [('2_0', '2_1'), ('2_0', '2_2'), ('2_0', '2_3'), ('2_1', '2_2'), ('2_1', '2_3'), ('2_2', '2_3')]\n",
      "Combos as follows: [('3_0', '3_1'), ('3_0', '3_2'), ('3_0', '3_3'), ('3_1', '3_2'), ('3_1', '3_3'), ('3_2', '3_3')]\n",
      "Combos as follows: [('4_0', '4_1'), ('4_0', '4_2'), ('4_0', '4_3'), ('4_1', '4_2'), ('4_1', '4_3'), ('4_2', '4_3')]\n",
      "Combos as follows: [('5_0', '5_1'), ('5_0', '5_2'), ('5_0', '5_3'), ('5_1', '5_2'), ('5_1', '5_3'), ('5_2', '5_3')]\n",
      "Combos as follows: [('6_0', '6_1'), ('6_0', '6_2'), ('6_0', '6_3'), ('6_1', '6_2'), ('6_1', '6_3'), ('6_2', '6_3')]\n",
      "Combos as follows: [('7_0', '7_1'), ('7_0', '7_2'), ('7_0', '7_3'), ('7_1', '7_2'), ('7_1', '7_3'), ('7_2', '7_3')]\n",
      "Combos as follows: [('8_0', '8_1'), ('8_0', '8_2'), ('8_0', '8_3'), ('8_1', '8_2'), ('8_1', '8_3'), ('8_2', '8_3')]\n",
      "Combos as follows: [('9_0', '9_1'), ('9_0', '9_2'), ('9_0', '9_3'), ('9_1', '9_2'), ('9_1', '9_3'), ('9_2', '9_3')]\n",
      "Combos as follows: [('A_0', 'A_1'), ('A_0', 'A_2'), ('A_1', 'A_2')]\n",
      "Combos as follows: [('B_0', 'B_1'), ('B_0', 'B_2'), ('B_0', 'B_3'), ('B_1', 'B_2'), ('B_1', 'B_3'), ('B_2', 'B_3')]\n",
      "Combos as follows: [('C_0', 'C_1'), ('C_0', 'C_2'), ('C_1', 'C_2')]\n",
      "Combos as follows: [('D_0', 'D_1'), ('D_0', 'D_2'), ('D_0', 'D_3'), ('D_1', 'D_2'), ('D_1', 'D_3'), ('D_2', 'D_3')]\n",
      "Combos as follows: [('F_0', 'F_1'), ('F_0', 'F_2'), ('F_0', 'F_3'), ('F_1', 'F_2'), ('F_1', 'F_3'), ('F_2', 'F_3')]\n",
      "Combos as follows: [('G_0', 'G_1'), ('G_0', 'G_2'), ('G_0', 'G_3'), ('G_1', 'G_2'), ('G_1', 'G_3'), ('G_2', 'G_3')]\n",
      "Combos as follows: [('I_0', 'I_1'), ('I_0', 'I_2'), ('I_0', 'I_3'), ('I_1', 'I_2'), ('I_1', 'I_3'), ('I_2', 'I_3')]\n",
      "Combos as follows: [('K_0', 'K_1'), ('K_0', 'K_2'), ('K_0', 'K_3'), ('K_1', 'K_2'), ('K_1', 'K_3'), ('K_2', 'K_3')]\n",
      "Combos as follows: [('L_0', 'L_1'), ('L_0', 'L_2'), ('L_0', 'L_3'), ('L_1', 'L_2'), ('L_1', 'L_3'), ('L_2', 'L_3')]\n",
      "Combos as follows: [('O_0', 'O_1'), ('O_0', 'O_2'), ('O_0', 'O_3'), ('O_1', 'O_2'), ('O_1', 'O_3'), ('O_2', 'O_3')]\n",
      "Combos as follows: [('S_0', 'S_1'), ('S_0', 'S_2'), ('S_0', 'S_3'), ('S_1', 'S_2'), ('S_1', 'S_3'), ('S_2', 'S_3')]\n",
      "Combos as follows: [('U_0', 'U_1'), ('U_0', 'U_2'), ('U_0', 'U_3'), ('U_1', 'U_2'), ('U_1', 'U_3'), ('U_2', 'U_3')]\n",
      "Combos as follows: [('V_0', 'V_1'), ('V_0', 'V_2'), ('V_0', 'V_3'), ('V_1', 'V_2'), ('V_1', 'V_3'), ('V_2', 'V_3')]\n",
      "Combos as follows: [('W_0', 'W_1'), ('W_0', 'W_2'), ('W_1', 'W_2')]\n",
      "Combos as follows: [('X_0', 'X_1'), ('X_0', 'X_2'), ('X_0', 'X_3'), ('X_1', 'X_2'), ('X_1', 'X_3'), ('X_2', 'X_3')]\n",
      "Combos as follows: [('Y_0', 'Y_1'), ('Y_0', 'Y_2'), ('Y_0', 'Y_3'), ('Y_1', 'Y_2'), ('Y_1', 'Y_3'), ('Y_2', 'Y_3')]\n",
      "Combos as follows: [('Z_0', 'Z_1'), ('Z_0', 'Z_2'), ('Z_0', 'Z_3'), ('Z_1', 'Z_2'), ('Z_1', 'Z_3'), ('Z_2', 'Z_3')]\n",
      "Combos as follows: [('a_0', 'a_1'), ('a_0', 'a_2'), ('a_0', 'a_3'), ('a_1', 'a_2'), ('a_1', 'a_3'), ('a_2', 'a_3')]\n",
      "Combos as follows: [('b_0', 'b_1'), ('b_0', 'b_2'), ('b_1', 'b_2')]\n",
      "Combos as follows: [('c_0', 'c_1'), ('c_0', 'c_2'), ('c_0', 'c_3'), ('c_1', 'c_2'), ('c_1', 'c_3'), ('c_2', 'c_3')]\n",
      "Combos as follows: [('d_0', 'd_1'), ('d_0', 'd_2'), ('d_0', 'd_3'), ('d_1', 'd_2'), ('d_1', 'd_3'), ('d_2', 'd_3')]\n",
      "Combos as follows: [('f_0', 'f_1'), ('f_0', 'f_2'), ('f_0', 'f_3'), ('f_1', 'f_2'), ('f_1', 'f_3'), ('f_2', 'f_3')]\n",
      "Combos as follows: [('g_0', 'g_1'), ('g_0', 'g_2'), ('g_0', 'g_3'), ('g_1', 'g_2'), ('g_1', 'g_3'), ('g_2', 'g_3')]\n",
      "Combos as follows: [('i_0', 'i_1'), ('i_0', 'i_2'), ('i_0', 'i_3'), ('i_1', 'i_2'), ('i_1', 'i_3'), ('i_2', 'i_3')]\n",
      "Combos as follows: [('k_0', 'k_1'), ('k_0', 'k_2'), ('k_0', 'k_3'), ('k_1', 'k_2'), ('k_1', 'k_3'), ('k_2', 'k_3')]\n",
      "Combos as follows: [('l_0', 'l_1'), ('l_0', 'l_2'), ('l_0', 'l_3'), ('l_1', 'l_2'), ('l_1', 'l_3'), ('l_2', 'l_3')]\n",
      "Combos as follows: [('o_0', 'o_1'), ('o_0', 'o_2'), ('o_0', 'o_3'), ('o_1', 'o_2'), ('o_1', 'o_3'), ('o_2', 'o_3')]\n",
      "Combos as follows: [('s_0', 's_1'), ('s_0', 's_2'), ('s_0', 's_3'), ('s_1', 's_2'), ('s_1', 's_3'), ('s_2', 's_3')]\n",
      "Combos as follows: [('u_0', 'u_1'), ('u_0', 'u_2'), ('u_1', 'u_2')]\n",
      "Combos as follows: [('v_0', 'v_1'), ('v_0', 'v_2'), ('v_0', 'v_3'), ('v_1', 'v_2'), ('v_1', 'v_3'), ('v_2', 'v_3')]\n",
      "Combos as follows: [('w_0', 'w_1'), ('w_0', 'w_2'), ('w_1', 'w_2')]\n",
      "Combos as follows: [('x_0', 'x_1'), ('x_0', 'x_2'), ('x_0', 'x_3'), ('x_1', 'x_2'), ('x_1', 'x_3'), ('x_2', 'x_3')]\n",
      "Combos as follows: [('y_0', 'y_1'), ('y_0', 'y_2'), ('y_0', 'y_3'), ('y_1', 'y_2'), ('y_1', 'y_3'), ('y_2', 'y_3')]\n",
      "Combos as follows: [('z_0', 'z_1'), ('z_0', 'z_2'), ('z_0', 'z_3'), ('z_1', 'z_2'), ('z_1', 'z_3'), ('z_2', 'z_3')]\n",
      "CPU times: user 1.68 ms, sys: 862 μs, total: 2.54 ms\n",
      "Wall time: 1.75 ms\n"
     ]
    }
   ],
   "source": [
    "%%time \n",
    "antenna_dict = process_grid_antennae(input_grid)\n",
    "unvalidated_antinodes = gather_grid_antinodes(input_grid, antenna_dict)\n",
    "antinodes = validate_antinodes(input_grid, antenna_dict, unvalidated_antinodes)"
   ]
  },
  {
   "cell_type": "code",
   "execution_count": 118,
   "id": "b9a77e52-1a7e-46f3-a43d-9cfbd0d70385",
   "metadata": {},
   "outputs": [
    {
     "name": "stdout",
     "output_type": "stream",
     "text": [
      "Final number of antinodes for input data: 299\n"
     ]
    }
   ],
   "source": [
    "print(f\"Final number of antinodes for input data: {len(antinodes)}\")"
   ]
  },
  {
   "cell_type": "markdown",
   "id": "0fa4f410-0a98-4b53-802a-cce1300c4304",
   "metadata": {},
   "source": [
    "Correct!"
   ]
  },
  {
   "cell_type": "markdown",
   "id": "98548536-8df9-4958-8b3f-33e5eed041af",
   "metadata": {},
   "source": [
    "### Day 8, Part 2"
   ]
  },
  {
   "cell_type": "code",
   "execution_count": 119,
   "id": "ea990043-7531-438b-82e7-978a943a6e08",
   "metadata": {},
   "outputs": [],
   "source": [
    "def return_all_ant_coords(grid, antenna_type):\n",
    "    return list(zip(*np.where(grid == antenna_type)))\n",
    "\n",
    "def process_grid_antennae(grid):\n",
    "    uniques, counts = np.unique(grid, return_counts=True)\n",
    "    antenna_types = [x for x in list(uniques) if x not in ['.', '#']]\n",
    "    \n",
    "    antenna_dict = dict()\n",
    "    \n",
    "    for antenna_type in antenna_types:\n",
    "        coords = return_all_ant_coords(grid, antenna_type)\n",
    "        antenna_coords = dict()\n",
    "        for i, result in enumerate(coords):\n",
    "            antenna_coords[f\"{antenna_type}_{i}\"] = result\n",
    "        antenna_dict[antenna_type] = antenna_coords\n",
    "\n",
    "    return antenna_dict\n",
    "\n",
    "def compute_antinodes_v2(coords1, coords2):\n",
    "    \"\"\" Compute the resultant antinodes between two antenna of the\n",
    "        same type.\n",
    "    \"\"\"\n",
    "    # compute row & col distances from two points\n",
    "    # subtract this same distance seperately from each\n",
    "    # point, which should give the associated locations of antinodes\n",
    "    delta_row = coords2[0] - coords1[0]\n",
    "    delta_col = coords2[1] - coords1[1]\n",
    "\n",
    "    antinodes1 = [(coords1[0] - (x*delta_row), coords1[1] - (x*delta_col))\n",
    "                  for x in range(50)]\n",
    "\n",
    "    antinodes2 = [(coords2[0] + (x*delta_row), coords2[1] + (x*delta_col))\n",
    "                  for x in range(50)]\n",
    "\n",
    "    return antinodes1 + antinodes2\n",
    "\n",
    "def get_antenna_antinodes_v2(name, ant_dict):\n",
    "    results = []\n",
    "    combos = [x for x in combinations(ant_dict[name].keys(), r=2)]\n",
    "    print(f\"Combos as follows: {combos}\")\n",
    "    for combo in combos:\n",
    "        coord_results = compute_antinodes_v2(ant_dict[name][combo[0]], \n",
    "                                             ant_dict[name][combo[1]])\n",
    "        results.extend(coord_results)\n",
    "    return results\n",
    "\n",
    "def gather_grid_antinodes_v2(grid, ant_dict):\n",
    "    \"\"\" Gather all antinodes for associated antennae on grid. \"\"\"\n",
    "    antenna_types = list(ant_dict.keys())\n",
    "    antinodes_results = []\n",
    "    for ant_type in antenna_types:\n",
    "        ant_antinodes = get_antenna_antinodes_v2(ant_type, ant_dict)\n",
    "        antinodes_results.extend(ant_antinodes)\n",
    "    return antinodes_results\n",
    "\n",
    "def validate_antinodes(grid, ant_dict, antinodes):\n",
    "    \"\"\" Remove all antinodes that appear outside of the grid \"\"\"\n",
    "    antinode_arr = np.array(antinodes)\n",
    "    boolean_2d_mask = (antinode_arr < 0) | (antinode_arr > grid.shape[0] - 1)\n",
    "    or_1d_results = boolean_2d_mask[:, 0] | boolean_2d_mask[:, 1]\n",
    "    legit_antinodes = antinode_arr[~or_1d_results]\n",
    "    \n",
    "    # return a set to ensure no duplicates\n",
    "    return set([(x,y) for x,y in legit_antinodes])"
   ]
  },
  {
   "cell_type": "code",
   "execution_count": 120,
   "id": "be6f1f7f-c170-4e82-a1cf-3211b14bd6f9",
   "metadata": {},
   "outputs": [
    {
     "name": "stdout",
     "output_type": "stream",
     "text": [
      "File successfully read.\n"
     ]
    },
    {
     "data": {
      "text/plain": [
       "array([['.', '.', '.', '.', '.', '.', '.', '.', '.', '.', '.', '.'],\n",
       "       ['.', '.', '.', '.', '.', '.', '.', '.', '0', '.', '.', '.'],\n",
       "       ['.', '.', '.', '.', '.', '0', '.', '.', '.', '.', '.', '.'],\n",
       "       ['.', '.', '.', '.', '.', '.', '.', '0', '.', '.', '.', '.'],\n",
       "       ['.', '.', '.', '.', '0', '.', '.', '.', '.', '.', '.', '.'],\n",
       "       ['.', '.', '.', '.', '.', '.', 'A', '.', '.', '.', '.', '.'],\n",
       "       ['.', '.', '.', '.', '.', '.', '.', '.', '.', '.', '.', '.'],\n",
       "       ['.', '.', '.', '.', '.', '.', '.', '.', '.', '.', '.', '.'],\n",
       "       ['.', '.', '.', '.', '.', '.', '.', '.', 'A', '.', '.', '.'],\n",
       "       ['.', '.', '.', '.', '.', '.', '.', '.', '.', 'A', '.', '.'],\n",
       "       ['.', '.', '.', '.', '.', '.', '.', '.', '.', '.', '.', '.'],\n",
       "       ['.', '.', '.', '.', '.', '.', '.', '.', '.', '.', '.', '.']],\n",
       "      dtype='<U1')"
      ]
     },
     "execution_count": 120,
     "metadata": {},
     "output_type": "execute_result"
    }
   ],
   "source": [
    "example_grid = load_grid(os.path.join(data_dir, 'example_input_day_8.txt'))\n",
    "example_grid"
   ]
  },
  {
   "cell_type": "code",
   "execution_count": 121,
   "id": "424cedb1-9f3e-4cfb-b38f-2403829c88cf",
   "metadata": {},
   "outputs": [
    {
     "name": "stdout",
     "output_type": "stream",
     "text": [
      "Combos as follows: [('0_0', '0_1'), ('0_0', '0_2'), ('0_0', '0_3'), ('0_1', '0_2'), ('0_1', '0_3'), ('0_2', '0_3')]\n",
      "Combos as follows: [('A_0', 'A_1'), ('A_0', 'A_2'), ('A_1', 'A_2')]\n"
     ]
    }
   ],
   "source": [
    "antenna_dict = process_grid_antennae(example_grid)\n",
    "unvalidated_antinodes = gather_grid_antinodes_v2(example_grid, antenna_dict)\n",
    "antinodes = validate_antinodes(example_grid, antenna_dict, unvalidated_antinodes)"
   ]
  },
  {
   "cell_type": "code",
   "execution_count": 122,
   "id": "5d502908-c8e6-4a8e-8343-8f18e7fcfefe",
   "metadata": {},
   "outputs": [
    {
     "data": {
      "text/plain": [
       "34"
      ]
     },
     "execution_count": 122,
     "metadata": {},
     "output_type": "execute_result"
    }
   ],
   "source": [
    "len(antinodes)"
   ]
  },
  {
   "cell_type": "markdown",
   "id": "2bf19880-609e-47d2-a1d7-dc7cc4476d79",
   "metadata": {},
   "source": [
    "That's correct! Now lets try on the actual data:"
   ]
  },
  {
   "cell_type": "code",
   "execution_count": 123,
   "id": "cc7fcc8e-e7c8-46e7-8c6f-ae6fe081fdd7",
   "metadata": {},
   "outputs": [
    {
     "name": "stdout",
     "output_type": "stream",
     "text": [
      "File successfully read.\n"
     ]
    },
    {
     "data": {
      "text/plain": [
       "(50, 50)"
      ]
     },
     "execution_count": 123,
     "metadata": {},
     "output_type": "execute_result"
    }
   ],
   "source": [
    "data_dir = 'Day_8'\n",
    "input_grid = load_grid(os.path.join(data_dir, 'day_8_input.txt'))\n",
    "input_grid.shape"
   ]
  },
  {
   "cell_type": "code",
   "execution_count": 124,
   "id": "bbf13cd2-6b97-47cd-9fc0-4f615a509cf2",
   "metadata": {},
   "outputs": [
    {
     "name": "stdout",
     "output_type": "stream",
     "text": [
      "Combos as follows: [('0_0', '0_1'), ('0_0', '0_2'), ('0_0', '0_3'), ('0_1', '0_2'), ('0_1', '0_3'), ('0_2', '0_3')]\n",
      "Combos as follows: [('1_0', '1_1'), ('1_0', '1_2'), ('1_0', '1_3'), ('1_1', '1_2'), ('1_1', '1_3'), ('1_2', '1_3')]\n",
      "Combos as follows: [('2_0', '2_1'), ('2_0', '2_2'), ('2_0', '2_3'), ('2_1', '2_2'), ('2_1', '2_3'), ('2_2', '2_3')]\n",
      "Combos as follows: [('3_0', '3_1'), ('3_0', '3_2'), ('3_0', '3_3'), ('3_1', '3_2'), ('3_1', '3_3'), ('3_2', '3_3')]\n",
      "Combos as follows: [('4_0', '4_1'), ('4_0', '4_2'), ('4_0', '4_3'), ('4_1', '4_2'), ('4_1', '4_3'), ('4_2', '4_3')]\n",
      "Combos as follows: [('5_0', '5_1'), ('5_0', '5_2'), ('5_0', '5_3'), ('5_1', '5_2'), ('5_1', '5_3'), ('5_2', '5_3')]\n",
      "Combos as follows: [('6_0', '6_1'), ('6_0', '6_2'), ('6_0', '6_3'), ('6_1', '6_2'), ('6_1', '6_3'), ('6_2', '6_3')]\n",
      "Combos as follows: [('7_0', '7_1'), ('7_0', '7_2'), ('7_0', '7_3'), ('7_1', '7_2'), ('7_1', '7_3'), ('7_2', '7_3')]\n",
      "Combos as follows: [('8_0', '8_1'), ('8_0', '8_2'), ('8_0', '8_3'), ('8_1', '8_2'), ('8_1', '8_3'), ('8_2', '8_3')]\n",
      "Combos as follows: [('9_0', '9_1'), ('9_0', '9_2'), ('9_0', '9_3'), ('9_1', '9_2'), ('9_1', '9_3'), ('9_2', '9_3')]\n",
      "Combos as follows: [('A_0', 'A_1'), ('A_0', 'A_2'), ('A_1', 'A_2')]\n",
      "Combos as follows: [('B_0', 'B_1'), ('B_0', 'B_2'), ('B_0', 'B_3'), ('B_1', 'B_2'), ('B_1', 'B_3'), ('B_2', 'B_3')]\n",
      "Combos as follows: [('C_0', 'C_1'), ('C_0', 'C_2'), ('C_1', 'C_2')]\n",
      "Combos as follows: [('D_0', 'D_1'), ('D_0', 'D_2'), ('D_0', 'D_3'), ('D_1', 'D_2'), ('D_1', 'D_3'), ('D_2', 'D_3')]\n",
      "Combos as follows: [('F_0', 'F_1'), ('F_0', 'F_2'), ('F_0', 'F_3'), ('F_1', 'F_2'), ('F_1', 'F_3'), ('F_2', 'F_3')]\n",
      "Combos as follows: [('G_0', 'G_1'), ('G_0', 'G_2'), ('G_0', 'G_3'), ('G_1', 'G_2'), ('G_1', 'G_3'), ('G_2', 'G_3')]\n",
      "Combos as follows: [('I_0', 'I_1'), ('I_0', 'I_2'), ('I_0', 'I_3'), ('I_1', 'I_2'), ('I_1', 'I_3'), ('I_2', 'I_3')]\n",
      "Combos as follows: [('K_0', 'K_1'), ('K_0', 'K_2'), ('K_0', 'K_3'), ('K_1', 'K_2'), ('K_1', 'K_3'), ('K_2', 'K_3')]\n",
      "Combos as follows: [('L_0', 'L_1'), ('L_0', 'L_2'), ('L_0', 'L_3'), ('L_1', 'L_2'), ('L_1', 'L_3'), ('L_2', 'L_3')]\n",
      "Combos as follows: [('O_0', 'O_1'), ('O_0', 'O_2'), ('O_0', 'O_3'), ('O_1', 'O_2'), ('O_1', 'O_3'), ('O_2', 'O_3')]\n",
      "Combos as follows: [('S_0', 'S_1'), ('S_0', 'S_2'), ('S_0', 'S_3'), ('S_1', 'S_2'), ('S_1', 'S_3'), ('S_2', 'S_3')]\n",
      "Combos as follows: [('U_0', 'U_1'), ('U_0', 'U_2'), ('U_0', 'U_3'), ('U_1', 'U_2'), ('U_1', 'U_3'), ('U_2', 'U_3')]\n",
      "Combos as follows: [('V_0', 'V_1'), ('V_0', 'V_2'), ('V_0', 'V_3'), ('V_1', 'V_2'), ('V_1', 'V_3'), ('V_2', 'V_3')]\n",
      "Combos as follows: [('W_0', 'W_1'), ('W_0', 'W_2'), ('W_1', 'W_2')]\n",
      "Combos as follows: [('X_0', 'X_1'), ('X_0', 'X_2'), ('X_0', 'X_3'), ('X_1', 'X_2'), ('X_1', 'X_3'), ('X_2', 'X_3')]\n",
      "Combos as follows: [('Y_0', 'Y_1'), ('Y_0', 'Y_2'), ('Y_0', 'Y_3'), ('Y_1', 'Y_2'), ('Y_1', 'Y_3'), ('Y_2', 'Y_3')]\n",
      "Combos as follows: [('Z_0', 'Z_1'), ('Z_0', 'Z_2'), ('Z_0', 'Z_3'), ('Z_1', 'Z_2'), ('Z_1', 'Z_3'), ('Z_2', 'Z_3')]\n",
      "Combos as follows: [('a_0', 'a_1'), ('a_0', 'a_2'), ('a_0', 'a_3'), ('a_1', 'a_2'), ('a_1', 'a_3'), ('a_2', 'a_3')]\n",
      "Combos as follows: [('b_0', 'b_1'), ('b_0', 'b_2'), ('b_1', 'b_2')]\n",
      "Combos as follows: [('c_0', 'c_1'), ('c_0', 'c_2'), ('c_0', 'c_3'), ('c_1', 'c_2'), ('c_1', 'c_3'), ('c_2', 'c_3')]\n",
      "Combos as follows: [('d_0', 'd_1'), ('d_0', 'd_2'), ('d_0', 'd_3'), ('d_1', 'd_2'), ('d_1', 'd_3'), ('d_2', 'd_3')]\n",
      "Combos as follows: [('f_0', 'f_1'), ('f_0', 'f_2'), ('f_0', 'f_3'), ('f_1', 'f_2'), ('f_1', 'f_3'), ('f_2', 'f_3')]\n",
      "Combos as follows: [('g_0', 'g_1'), ('g_0', 'g_2'), ('g_0', 'g_3'), ('g_1', 'g_2'), ('g_1', 'g_3'), ('g_2', 'g_3')]\n",
      "Combos as follows: [('i_0', 'i_1'), ('i_0', 'i_2'), ('i_0', 'i_3'), ('i_1', 'i_2'), ('i_1', 'i_3'), ('i_2', 'i_3')]\n",
      "Combos as follows: [('k_0', 'k_1'), ('k_0', 'k_2'), ('k_0', 'k_3'), ('k_1', 'k_2'), ('k_1', 'k_3'), ('k_2', 'k_3')]\n",
      "Combos as follows: [('l_0', 'l_1'), ('l_0', 'l_2'), ('l_0', 'l_3'), ('l_1', 'l_2'), ('l_1', 'l_3'), ('l_2', 'l_3')]\n",
      "Combos as follows: [('o_0', 'o_1'), ('o_0', 'o_2'), ('o_0', 'o_3'), ('o_1', 'o_2'), ('o_1', 'o_3'), ('o_2', 'o_3')]\n",
      "Combos as follows: [('s_0', 's_1'), ('s_0', 's_2'), ('s_0', 's_3'), ('s_1', 's_2'), ('s_1', 's_3'), ('s_2', 's_3')]\n",
      "Combos as follows: [('u_0', 'u_1'), ('u_0', 'u_2'), ('u_1', 'u_2')]\n",
      "Combos as follows: [('v_0', 'v_1'), ('v_0', 'v_2'), ('v_0', 'v_3'), ('v_1', 'v_2'), ('v_1', 'v_3'), ('v_2', 'v_3')]\n",
      "Combos as follows: [('w_0', 'w_1'), ('w_0', 'w_2'), ('w_1', 'w_2')]\n",
      "Combos as follows: [('x_0', 'x_1'), ('x_0', 'x_2'), ('x_0', 'x_3'), ('x_1', 'x_2'), ('x_1', 'x_3'), ('x_2', 'x_3')]\n",
      "Combos as follows: [('y_0', 'y_1'), ('y_0', 'y_2'), ('y_0', 'y_3'), ('y_1', 'y_2'), ('y_1', 'y_3'), ('y_2', 'y_3')]\n",
      "Combos as follows: [('z_0', 'z_1'), ('z_0', 'z_2'), ('z_0', 'z_3'), ('z_1', 'z_2'), ('z_1', 'z_3'), ('z_2', 'z_3')]\n"
     ]
    }
   ],
   "source": [
    "antenna_dict = process_grid_antennae(input_grid)\n",
    "unvalidated_antinodes = gather_grid_antinodes_v2(input_grid, antenna_dict)\n",
    "antinodes = validate_antinodes(input_grid, antenna_dict, unvalidated_antinodes)"
   ]
  },
  {
   "cell_type": "code",
   "execution_count": 127,
   "id": "1867b7a7-3b0a-4716-a0dd-95f026077d1b",
   "metadata": {},
   "outputs": [
    {
     "name": "stdout",
     "output_type": "stream",
     "text": [
      "Final number of antinodes: 1032\n"
     ]
    }
   ],
   "source": [
    "print(f\"Final number of antinodes: {len(antinodes)}\")"
   ]
  },
  {
   "cell_type": "markdown",
   "id": "44d3af2c-8db9-43a5-b445-de24ab5f3553",
   "metadata": {
    "jp-MarkdownHeadingCollapsed": true
   },
   "source": [
    "## Day 9 Disk Fragmenter"
   ]
  },
  {
   "cell_type": "markdown",
   "id": "16f89772-4840-4710-adb2-1ded5c0ddecd",
   "metadata": {},
   "source": [
    "### Day 9, Part 1:"
   ]
  },
  {
   "cell_type": "code",
   "execution_count": 131,
   "id": "c0b843ee-be25-4f8a-b269-fbbc18ed4ebd",
   "metadata": {},
   "outputs": [],
   "source": [
    "def dense_to_block_format(dense_string):\n",
    "    \"\"\" Convert dense string format to block string. \"\"\"\n",
    "    int_list = [int(x) for x in dense_string]\n",
    "    i = 0\n",
    "    diskblocks = {'id' : [], 'blocks' : [], 'space' : []}\n",
    "    \n",
    "    for i, num in enumerate(int_list):\n",
    "        if i % 2 == 0:\n",
    "            diskblocks['id'].append(str(int((i/2))))\n",
    "            diskblocks['blocks'].append(num)\n",
    "        else:\n",
    "            diskblocks['space'].append(num)\n",
    "\n",
    "    space_gap = len(diskblocks['id']) - len(diskblocks['space'])\n",
    "\n",
    "    if space_gap > 0:\n",
    "        diskblocks['space'].extend([0 for x in range(len(diskblocks['id']) - \n",
    "                                                     len(diskblocks['space']))])\n",
    "\n",
    "    block_str = \"\"\n",
    "    for i, block, space in zip(diskblocks['id'], diskblocks['blocks'], diskblocks['space']):\n",
    "        block_str += (i * block)\n",
    "        block_str += '.'*space\n",
    "    return block_str\n",
    "\n",
    "def dense_to_block_format_list(dense_string):\n",
    "    \"\"\" Convert dense string format to block string. \"\"\"\n",
    "    int_list = [int(x) for x in dense_string]\n",
    "    i = 0\n",
    "    diskblocks = {'id' : [], 'blocks' : [], 'space' : []}\n",
    "    \n",
    "    for i, num in enumerate(int_list):\n",
    "        if i % 2 == 0:\n",
    "            diskblocks['id'].append(str(int((i/2))))\n",
    "            diskblocks['blocks'].append(num)\n",
    "        else:\n",
    "            diskblocks['space'].append(num)\n",
    "\n",
    "    space_gap = len(diskblocks['id']) - len(diskblocks['space'])\n",
    "\n",
    "    if space_gap > 0:\n",
    "        diskblocks['space'].extend([0 for x in range(len(diskblocks['id']) - \n",
    "                                                     len(diskblocks['space']))])\n",
    "\n",
    "    block_list = []\n",
    "    for i, block, space in zip(diskblocks['id'], diskblocks['blocks'], diskblocks['space']):\n",
    "        block_list.extend([i for x in range(block)])\n",
    "        block_list.extend(['.' for x in range(space)])\n",
    "    return np.array(block_list)\n",
    "\n",
    "def shift_blocks_str(block_str):\n",
    "    \"\"\" Legacy (v0.1) of this function, that tried using strings\n",
    "        rather than lists. Since IDs are double digit, this method\n",
    "        does not work properly. Must be list instead (see below). \"\"\"\n",
    "    block_list = np.array([x for x in block_str])\n",
    "    n_dots = len([x for x in block_list if x == '.'])\n",
    "    block_list[block_list == '.'] = [x for x in block_list[::-1] \n",
    "                                     if x != '.'][:n_dots]\n",
    "    block_list[-n_dots:] = '.'\n",
    "    return \"\".join(list(block_list))\n",
    "\n",
    "\n",
    "def shift_blocks(block_list):\n",
    "    n_dots = len([x for x in block_list if x == '.'])\n",
    "    block_list[block_list == '.'] = [x for x in block_list[::-1] \n",
    "                                     if x != '.'][:n_dots]\n",
    "    block_list[-n_dots:] = '.'\n",
    "    return block_list\n",
    "\n",
    "def compute_checksum(block_str):\n",
    "    total = 0\n",
    "    for i, num in enumerate(block_str):\n",
    "        if num != '.':\n",
    "            total += int(num) * i\n",
    "    return total\n",
    "\n",
    "def compute_array_checksum(block_array):\n",
    "    \"\"\" Return the product sum of IDs and position. \"\"\"\n",
    "    idx_positions = np.arange(block_array.shape[0])\n",
    "    # mask for non-ints (e.g. '.' chars)\n",
    "    int_items = block_array != '.'\n",
    "\n",
    "    # get the product of position and index\n",
    "    product_terms = idx_positions[int_items] * block_array[int_items].astype(int)\n",
    "\n",
    "    # return summed result\n",
    "    return np.sum(product_terms)"
   ]
  },
  {
   "cell_type": "code",
   "execution_count": 132,
   "id": "3c06d829-74b6-4eb2-873a-d3b83b1f7941",
   "metadata": {},
   "outputs": [
    {
     "data": {
      "text/plain": [
       "1928"
      ]
     },
     "execution_count": 132,
     "metadata": {},
     "output_type": "execute_result"
    }
   ],
   "source": [
    "example_input = '2333133121414131402'\n",
    "\n",
    "compute_array_checksum(shift_blocks(dense_to_block_format_list(example_input)))"
   ]
  },
  {
   "cell_type": "markdown",
   "id": "8865cee7-ec5f-4d83-b6bf-3799a370ecae",
   "metadata": {},
   "source": [
    "Good... this matches the example. Let's try on the actual input now:"
   ]
  },
  {
   "cell_type": "markdown",
   "id": "42084057-205c-40c9-8638-bb244923be2b",
   "metadata": {},
   "source": [
    "Input data:"
   ]
  },
  {
   "cell_type": "code",
   "execution_count": 137,
   "id": "4537ba39-8f2d-4ea1-8ce4-05f7f9d4c3c6",
   "metadata": {},
   "outputs": [],
   "source": [
    "def read_raw_text(filename):\n",
    "    \"\"\" Read entire file as a single string. \"\"\"\n",
    "    try:\n",
    "        with open(filename, \"r\", encoding=\"utf-8\") as file:\n",
    "            file_data = file.read()  \n",
    "        print(\"File successfully read.\")\n",
    "    except FileNotFoundError:\n",
    "        print(\"The specified file was not found.\")\n",
    "    except Exception as e:\n",
    "        print(f\"An error occurred: {e}\")\n",
    "    return file_data"
   ]
  },
  {
   "cell_type": "code",
   "execution_count": 138,
   "id": "dcc75387-86c1-4a7f-bd25-e2fd93000c67",
   "metadata": {},
   "outputs": [
    {
     "name": "stdout",
     "output_type": "stream",
     "text": [
      "File successfully read.\n"
     ]
    },
    {
     "data": {
      "text/plain": [
       "19999"
      ]
     },
     "execution_count": 138,
     "metadata": {},
     "output_type": "execute_result"
    }
   ],
   "source": [
    "data_dir = 'Day_9'\n",
    "input_string = read_raw_text(os.path.join(data_dir, \"day_9_input.txt\")).strip()\n",
    "len(input_string)"
   ]
  },
  {
   "cell_type": "code",
   "execution_count": 140,
   "id": "5b53a526-2c81-4ee8-ac36-16871287ea10",
   "metadata": {},
   "outputs": [
    {
     "data": {
      "text/plain": [
       "6360094256423"
      ]
     },
     "execution_count": 140,
     "metadata": {},
     "output_type": "execute_result"
    }
   ],
   "source": [
    "compute_array_checksum(shift_blocks(dense_to_block_format_list(input_string)))"
   ]
  },
  {
   "cell_type": "markdown",
   "id": "926cc6dc-b8a9-4d25-ba2d-5c59fa73b69c",
   "metadata": {},
   "source": [
    "Correct! After fixing the multi-digit ID problem, the result is right..."
   ]
  },
  {
   "cell_type": "markdown",
   "id": "777e9c8e-f5b8-4a04-baa0-bcd6c5547b6e",
   "metadata": {},
   "source": [
    "### Day 9, Part 2:"
   ]
  },
  {
   "cell_type": "markdown",
   "id": "51544a9e-006f-47cd-8d6b-4b91ec85457a",
   "metadata": {},
   "source": [
    "This time, attempt to move whole files to the leftmost span of free space blocks that could fit the file. Attempt to move each file exactly once in order of decreasing file ID number starting with the file with the highest file ID number. If there is no span of free space to the left of a file that is large enough to fit the file, the file does not move.\n",
    "\n",
    "The first example from above now proceeds differently:\n",
    "\n",
    "```\n",
    "00...111...2...333.44.5555.6666.777.888899\n",
    "0099.111...2...333.44.5555.6666.777.8888..\n",
    "0099.1117772...333.44.5555.6666.....8888..\n",
    "0099.111777244.333....5555.6666.....8888..\n",
    "00992111777.44.333....5555.6666.....8888..\n",
    "```\n",
    "\n",
    "The process of updating the filesystem checksum is the same; now, this example's checksum would be 2858.\n"
   ]
  },
  {
   "cell_type": "code",
   "execution_count": 142,
   "id": "78c652e5-50e9-4a2c-b96a-eae1b50a016b",
   "metadata": {},
   "outputs": [
    {
     "data": {
      "text/plain": [
       "array(['0', '0', '.', '.', '.', '1', '1', '1', '.', '.', '.', '2', '.',\n",
       "       '.', '.', '3', '3', '3', '.', '4', '4', '.', '5', '5', '5', '5',\n",
       "       '.', '6', '6', '6', '6', '.', '7', '7', '7', '.', '8', '8', '8',\n",
       "       '8', '9', '9'], dtype='<U1')"
      ]
     },
     "execution_count": 142,
     "metadata": {},
     "output_type": "execute_result"
    }
   ],
   "source": [
    "dense_to_block_format_list(example_input)"
   ]
  },
  {
   "cell_type": "code",
   "execution_count": 144,
   "id": "59051b14-ca46-4bd5-92a3-775adfbf1468",
   "metadata": {},
   "outputs": [],
   "source": [
    "def find_runs(x):\n",
    "    \"\"\"Find runs of consecutive items in an array.\"\"\"\n",
    "\n",
    "    # ensure array\n",
    "    x = np.asanyarray(x)\n",
    "    if x.ndim != 1:\n",
    "        raise ValueError('only 1D array supported')\n",
    "    n = x.shape[0]\n",
    "\n",
    "    # handle empty array\n",
    "    if n == 0:\n",
    "        return np.array([]), np.array([]), np.array([])\n",
    "\n",
    "    else:\n",
    "        # find run starts\n",
    "        loc_run_start = np.empty(n, dtype=bool)\n",
    "        loc_run_start[0] = True\n",
    "        np.not_equal(x[:-1], x[1:], out=loc_run_start[1:])\n",
    "        run_starts = np.nonzero(loc_run_start)[0]\n",
    "\n",
    "        # find run values\n",
    "        run_values = x[loc_run_start]\n",
    "\n",
    "        # find run lengths\n",
    "        run_lengths = np.diff(np.append(run_starts, n))\n",
    "\n",
    "        return {'vals': run_values, 'start': run_starts, 'length': run_lengths}"
   ]
  },
  {
   "cell_type": "code",
   "execution_count": 145,
   "id": "d3c77ed9-2bbf-4b58-a1a6-567819a73116",
   "metadata": {},
   "outputs": [],
   "source": [
    "def shift_file_block(block_array, checked_ids):\n",
    "    \"\"\" Shift entire files rather than individual blocks. \"\"\"\n",
    "    run_dict = find_runs(block_array)\n",
    "    # cycle through values backwards and iteratively attempt to shift values\n",
    "    for i in range(len(run_dict['vals']))[::-1]:\n",
    "        val = run_dict['vals'][i]\n",
    "        if val != '.' and val not in checked_ids:\n",
    "            new_position = get_new_position(run_dict['length'][i], \n",
    "                                            run_dict['start'][i],\n",
    "                                            run_dict)\n",
    "            checked_ids.add(val)\n",
    "            if new_position:\n",
    "                #print(f\"Succeeded with {val} in position {new_position}.\")\n",
    "                return shift_vals(block_array, run_dict['start'][i], \n",
    "                                  new_position, run_dict['length'][i]), checked_ids\n",
    "    return np.array([]), checked_ids\n",
    "\n",
    "def get_new_position(length, original_idx, run_dict):\n",
    "    \"\"\" Check if array has space for given length. If so, return index val,\n",
    "        otherwise, return False.\n",
    "    \"\"\"\n",
    "    for i, num in enumerate(run_dict['vals']):\n",
    "        if num == '.' and (run_dict['length'][i] >= length) and (run_dict['start'][i] < original_idx):\n",
    "            return run_dict['start'][i]\n",
    "    return False\n",
    "\n",
    "def shift_vals(block_array, swap_1_idx, swap_2_idx, length):\n",
    "    new_array = block_array.copy()\n",
    "    vals_1 = block_array[swap_1_idx:swap_1_idx+length].copy()\n",
    "    vals_2 = block_array[swap_2_idx:swap_2_idx+length].copy()\n",
    "    new_array[swap_2_idx:swap_2_idx+length] = vals_1\n",
    "    new_array[swap_1_idx:swap_1_idx+length] = vals_2\n",
    "    return new_array\n",
    "\n",
    "\n",
    "def process_array(block_array):\n",
    "    results_array = block_array.copy()\n",
    "    ended = False\n",
    "    checked_ids = set()\n",
    "    iterations = 0\n",
    "    while not ended:\n",
    "        shifted_array, checked_ids = shift_file_block(results_array, checked_ids)\n",
    "        if shifted_array.shape[0] > 0:\n",
    "            results_array = shifted_array\n",
    "            iterations += 1\n",
    "        else:\n",
    "            print(f\"Ended - returning final results after {iterations} iterations...\")\n",
    "            return results_array"
   ]
  },
  {
   "cell_type": "code",
   "execution_count": 146,
   "id": "e297a78b-311e-4836-8e2f-e26b01eb4804",
   "metadata": {},
   "outputs": [],
   "source": [
    "ex_block_list = dense_to_block_format_list(example_input)\n",
    "run_dict = find_runs(ex_block_list)"
   ]
  },
  {
   "cell_type": "code",
   "execution_count": 147,
   "id": "b6061c2c-0bef-4344-8a22-e1d81b2c6d10",
   "metadata": {},
   "outputs": [
    {
     "name": "stdout",
     "output_type": "stream",
     "text": [
      "Ended - returning final results after 4 iterations...\n"
     ]
    },
    {
     "data": {
      "text/plain": [
       "array(['0', '0', '9', '9', '2', '1', '1', '1', '7', '7', '7', '.', '4',\n",
       "       '4', '.', '3', '3', '3', '.', '.', '.', '.', '5', '5', '5', '5',\n",
       "       '.', '6', '6', '6', '6', '.', '.', '.', '.', '.', '8', '8', '8',\n",
       "       '8', '.', '.'], dtype='<U1')"
      ]
     },
     "execution_count": 147,
     "metadata": {},
     "output_type": "execute_result"
    }
   ],
   "source": [
    "process_array(ex_block_list)"
   ]
  },
  {
   "cell_type": "code",
   "execution_count": 148,
   "id": "3943445c-ef0e-40b2-8ea1-9b6180e8cd2b",
   "metadata": {},
   "outputs": [
    {
     "name": "stdout",
     "output_type": "stream",
     "text": [
      "Ended - returning final results after 4 iterations...\n"
     ]
    },
    {
     "data": {
      "text/plain": [
       "'00992111777.44.333....5555.6666.....8888..'"
      ]
     },
     "execution_count": 148,
     "metadata": {},
     "output_type": "execute_result"
    }
   ],
   "source": [
    "\"\".join(process_array(ex_block_list))"
   ]
  },
  {
   "cell_type": "code",
   "execution_count": 149,
   "id": "63e563d7-2818-4455-9783-ecc263690aac",
   "metadata": {},
   "outputs": [
    {
     "name": "stdout",
     "output_type": "stream",
     "text": [
      "Ended - returning final results after 4 iterations...\n"
     ]
    },
    {
     "data": {
      "text/plain": [
       "2858"
      ]
     },
     "execution_count": 149,
     "metadata": {},
     "output_type": "execute_result"
    }
   ],
   "source": [
    "compute_array_checksum(process_array(ex_block_list))"
   ]
  },
  {
   "cell_type": "markdown",
   "id": "84442e71-a66d-490e-8cb1-dec505c785c7",
   "metadata": {},
   "source": [
    "This works for the example, lets now try for the full input text:"
   ]
  },
  {
   "cell_type": "code",
   "execution_count": 156,
   "id": "0b249be4-a209-44e5-a193-1dc33bb7b293",
   "metadata": {},
   "outputs": [
    {
     "name": "stdout",
     "output_type": "stream",
     "text": [
      "File successfully read.\n",
      "Length of input: 19999\n"
     ]
    }
   ],
   "source": [
    "data_dir = 'Day_9'\n",
    "input_string = read_raw_text(os.path.join(data_dir, \"day_9_input.txt\")).strip()\n",
    "\n",
    "print(f\"Length of input: {len(input_string)}\")"
   ]
  },
  {
   "cell_type": "code",
   "execution_count": 157,
   "id": "f94d208e-8e47-4736-9d4c-8e1f57860f30",
   "metadata": {},
   "outputs": [
    {
     "name": "stdout",
     "output_type": "stream",
     "text": [
      "Ended - returning final results after 4851 iterations...\n",
      "CPU times: user 11.3 s, sys: 60.2 ms, total: 11.4 s\n",
      "Wall time: 11.4 s\n"
     ]
    },
    {
     "data": {
      "text/plain": [
       "6379677752410"
      ]
     },
     "execution_count": 157,
     "metadata": {},
     "output_type": "execute_result"
    }
   ],
   "source": [
    "%%time\n",
    "input_block_list = dense_to_block_format_list(input_string)\n",
    "compute_array_checksum(process_array(input_block_list))"
   ]
  },
  {
   "cell_type": "markdown",
   "id": "2727332d-5fc4-4a1d-b86a-ab3ea6af17e1",
   "metadata": {
    "jp-MarkdownHeadingCollapsed": true
   },
   "source": [
    "## Day 10 Hoof It"
   ]
  },
  {
   "cell_type": "markdown",
   "id": "9db37152-9c17-44cf-ad88-b2117b5cff91",
   "metadata": {},
   "source": [
    "### Day 10, Part 1:"
   ]
  },
  {
   "cell_type": "markdown",
   "id": "4bc3b561-c698-4892-920d-2a61513d891e",
   "metadata": {},
   "source": [
    "The topographic map indicates the height at each position using a scale from 0 (lowest) to 9 (highest). For example:\n",
    "\n",
    "```\n",
    "0123\n",
    "1234\n",
    "8765\n",
    "9876\n",
    "```\n",
    "\n",
    "Based on un-scorched scraps of the book, you determine that a good hiking trail is as long as possible and has an even, gradual, uphill slope. For all practical purposes, this means that a hiking trail is any path that starts at height 0, ends at height 9, and always increases by a height of exactly 1 at each step. Hiking trails never include diagonal steps - only up, down, left, or right (from the perspective of the map).\n",
    "\n",
    "You look up from the map and notice that the reindeer has helpfully begun to construct a small pile of pencils, markers, rulers, compasses, stickers, and other equipment you might need to update the map with hiking trails.\n",
    "\n",
    "A trailhead is any position that starts one or more hiking trails - here, these positions will always have height 0. Assembling more fragments of pages, you establish that a trailhead's score is the number of 9-height positions reachable from that trailhead via a hiking trail. In the above example, the single trailhead in the top left corner has a score of 1 because it can reach a single 9 (the one in the bottom left).\n",
    "\n",
    "This trailhead has a score of 2:\n",
    "\n",
    "```\n",
    "...0...\n",
    "...1...\n",
    "...2...\n",
    "6543456\n",
    "7.....7\n",
    "8.....8\n",
    "9.....9\n",
    "```\n",
    "\n",
    "(The positions marked . are impassable tiles to simplify these examples; they do not appear on your actual topographic map.)\n",
    "\n",
    "This trailhead has a score of 4 because every 9 is reachable via a hiking trail except the one immediately to the left of the trailhead:\n",
    "\n",
    "```\n",
    "..90..9\n",
    "...1.98\n",
    "...2..7\n",
    "6543456\n",
    "765.987\n",
    "876....\n",
    "987....\n",
    "```\n",
    "\n",
    "This topographic map contains two trailheads; the trailhead at the top has a score of 1, while the trailhead at the bottom has a score of 2:\n",
    "\n",
    "```\n",
    "10..9..\n",
    "2...8..\n",
    "3...7..\n",
    "4567654\n",
    "...8..3\n",
    "...9..2\n",
    ".....01\n",
    "```\n",
    "\n",
    "Here's a larger example:\n",
    "\n",
    "```\n",
    "89010123\n",
    "78121874\n",
    "87430965\n",
    "96549874\n",
    "45678903\n",
    "32019012\n",
    "01329801\n",
    "10456732\n",
    "```\n",
    "\n",
    "This larger example has 9 trailheads. Considering the trailheads in reading order, they have scores of 5, 6, 5, 3, 1, 3, 5, 3, and 5. Adding these scores together, the sum of the scores of all trailheads is 36."
   ]
  },
  {
   "cell_type": "code",
   "execution_count": 165,
   "id": "8eb2c1d8-ff29-4001-8067-fe81ca90d6c6",
   "metadata": {},
   "outputs": [],
   "source": [
    "def read_raw_text(filename):\n",
    "    \"\"\" Read entire file as a single string. \"\"\"\n",
    "    try:\n",
    "        with open(filename, \"r\", encoding=\"utf-8\") as file:\n",
    "            file_data = file.read()  \n",
    "        print(\"File successfully read.\")\n",
    "    except FileNotFoundError:\n",
    "        print(\"The specified file was not found.\")\n",
    "    except Exception as e:\n",
    "        print(f\"An error occurred: {e}\")\n",
    "    return file_data"
   ]
  },
  {
   "cell_type": "code",
   "execution_count": 166,
   "id": "abcbe084-5db6-42a4-8b91-4abfb96dfbb6",
   "metadata": {},
   "outputs": [
    {
     "name": "stdout",
     "output_type": "stream",
     "text": [
      "File successfully read.\n",
      "[[8 9 0 1 0 1 2 3]\n",
      " [7 8 1 2 1 8 7 4]\n",
      " [8 7 4 3 0 9 6 5]\n",
      " [9 6 5 4 9 8 7 4]\n",
      " [4 5 6 7 8 9 0 3]\n",
      " [3 2 0 1 9 0 1 2]\n",
      " [0 1 3 2 9 8 0 1]\n",
      " [1 0 4 5 6 7 3 2]]\n"
     ]
    }
   ],
   "source": [
    "data_dir = 'Day_10'\n",
    "example_input = read_raw_text(os.path.join(data_dir, 'example_input_day_10.txt'))\n",
    "example_grid = np.array([list(x) for x in example_input.split('\\n')]).astype(int)\n",
    "print(example_grid)"
   ]
  },
  {
   "cell_type": "code",
   "execution_count": 167,
   "id": "597913f1-f1f2-440b-962e-0b096293569c",
   "metadata": {},
   "outputs": [],
   "source": [
    "def search_for_paths(grid, current_path=[(0,0)], solutions=[]):\n",
    "    n = grid.shape[0]\n",
    "    dirs = [(-1,0), (1,0), (0,1), (0,-1)]\n",
    "    \n",
    "    last_cell = current_path[-1]\n",
    "    \n",
    "    for x,y in dirs:\n",
    "        new_i = last_cell[0] + x\n",
    "        new_j = last_cell[1] + y\n",
    "        \n",
    "        # Check if new cell is in grid\n",
    "        if new_i < 0 or new_i >= n or new_j < 0 or new_j >= n:\n",
    "            continue\n",
    "            \n",
    "        # Check if new cell does not have difference of 1\n",
    "        if grid[new_i][new_j] - grid[last_cell[0]][last_cell[1]] != 1:\n",
    "            continue\n",
    "        \n",
    "        # Check if new cell is already in path\n",
    "        if (new_i, new_j) in current_path:\n",
    "            continue\n",
    "\n",
    "        # Add cell to current path\n",
    "        current_path_copy = current_path.copy()\n",
    "        current_path_copy.append((new_i, new_j))\n",
    "\n",
    "        if grid[new_i][new_j] == 9:\n",
    "            solutions.append(current_path_copy)\n",
    "        \n",
    "        # Create new current_path array for every direction\n",
    "        search_for_paths(grid, current_path_copy, solutions)\n",
    "        \n",
    "    return solutions\n",
    "\n",
    "def get_cell_trailheads(grid, row, col):\n",
    "    end_points = set()\n",
    "    for solution in search_for_paths(grid, \n",
    "                                     current_path=[(row,col)], \n",
    "                                     solutions=[]):\n",
    "        end_points.add(solution[-1])\n",
    "    return end_points\n",
    "\n",
    "def search_grid(grid, start_val=0):\n",
    "    trailhead_count = 0\n",
    "    val_mask = grid == start_val\n",
    "    rows, cols = np.where(grid == start_val)\n",
    "    for i in range(rows.shape[0]):\n",
    "        end_points = set()\n",
    "        for results in search_for_paths(grid, \n",
    "                                        current_path=[(rows[i], cols[i])], \n",
    "                                        solutions=[]):\n",
    "            # add only final point to our results for counting\n",
    "            end_points.add(results[-1])\n",
    "\n",
    "        # get trailhead number for this cell and add to total\n",
    "        trailhead_count += len(end_points)\n",
    "    return trailhead_count"
   ]
  },
  {
   "cell_type": "code",
   "execution_count": 168,
   "id": "977d1295-da08-468e-8640-cbb89707d15a",
   "metadata": {},
   "outputs": [
    {
     "data": {
      "text/plain": [
       "36"
      ]
     },
     "execution_count": 168,
     "metadata": {},
     "output_type": "execute_result"
    }
   ],
   "source": [
    "search_grid(example_grid)"
   ]
  },
  {
   "cell_type": "markdown",
   "id": "866791c3-dbc6-4a6d-acd7-4b4ebea79107",
   "metadata": {},
   "source": [
    "This answer matches the example, and so lets now test on the real input data:"
   ]
  },
  {
   "cell_type": "code",
   "execution_count": 169,
   "id": "a70ad2d8-2b55-4be6-8bec-2bbdf1d9375d",
   "metadata": {},
   "outputs": [],
   "source": [
    "rows, cols = np.where(example_grid == 0)"
   ]
  },
  {
   "cell_type": "code",
   "execution_count": 170,
   "id": "30bae8a3-4713-4777-8a95-bbff516d2349",
   "metadata": {},
   "outputs": [
    {
     "name": "stdout",
     "output_type": "stream",
     "text": [
      "File successfully read.\n"
     ]
    },
    {
     "data": {
      "text/plain": [
       "(49, 49)"
      ]
     },
     "execution_count": 170,
     "metadata": {},
     "output_type": "execute_result"
    }
   ],
   "source": [
    "data_dir = 'Day_10'\n",
    "input_data = read_raw_text(os.path.join(data_dir, 'day_10_input.txt'))\n",
    "grid = np.array([list(x) for x in input_data.split('\\n')]).astype(int)\n",
    "grid.shape"
   ]
  },
  {
   "cell_type": "code",
   "execution_count": 172,
   "id": "e0084e1b-0955-4a32-bbeb-b0a92b50f0d1",
   "metadata": {},
   "outputs": [
    {
     "name": "stdout",
     "output_type": "stream",
     "text": [
      "CPU times: user 27.8 ms, sys: 2.39 ms, total: 30.2 ms\n",
      "Wall time: 28.2 ms\n"
     ]
    },
    {
     "data": {
      "text/plain": [
       "674"
      ]
     },
     "execution_count": 172,
     "metadata": {},
     "output_type": "execute_result"
    }
   ],
   "source": [
    "%%time\n",
    "search_grid(grid)"
   ]
  },
  {
   "cell_type": "markdown",
   "id": "60785b59-86cc-4fc3-bd42-ecc17382275c",
   "metadata": {},
   "source": [
    "### Day 10, Part 2:"
   ]
  },
  {
   "cell_type": "markdown",
   "id": "032a82ef-7ea4-40bf-9120-2853e31b1f1e",
   "metadata": {},
   "source": [
    "A trailhead's rating is the number of distinct hiking trails which begin at that trailhead. For example:\n",
    "\n",
    "```\n",
    ".....0.\n",
    "..4321.\n",
    "..5..2.\n",
    "..6543.\n",
    "..7..4.\n",
    "..8765.\n",
    "..9....\n",
    "```\n",
    "\n",
    "The above map has a single trailhead; its rating is 3 because there are exactly three distinct hiking trails which begin at that position:\n",
    "\n",
    "```\n",
    ".....0.   .....0.   .....0.\n",
    "..4321.   .....1.   .....1.\n",
    "..5....   .....2.   .....2.\n",
    "..6....   ..6543.   .....3.\n",
    "..7....   ..7....   .....4.\n",
    "..8....   ..8....   ..8765.\n",
    "..9....   ..9....   ..9....\n",
    "```\n",
    "\n",
    "Here is a map containing a single trailhead with rating 13:\n",
    "\n",
    "```\n",
    "..90..9\n",
    "...1.98\n",
    "...2..7\n",
    "6543456\n",
    "765.987\n",
    "876....\n",
    "987....\n",
    "```\n",
    "\n",
    "This map contains a single trailhead with rating 227 (because there are 121 distinct hiking trails that lead to the 9 on the right edge and 106 that lead to the 9 on the bottom edge):\n",
    "\n",
    "```\n",
    "012345\n",
    "123456\n",
    "234567\n",
    "345678\n",
    "4.6789\n",
    "56789.\n",
    "```\n",
    "\n",
    "Here's the larger example from before:\n",
    "\n",
    "```\n",
    "89010123\n",
    "78121874\n",
    "87430965\n",
    "96549874\n",
    "45678903\n",
    "32019012\n",
    "01329801\n",
    "10456732\n",
    "```\n",
    "\n",
    "Considering its trailheads in reading order, they have ratings of 20, 24, 10, 4, 1, 4, 5, 8, and 5. The sum of all trailhead ratings in this larger example topographic map is 81."
   ]
  },
  {
   "cell_type": "markdown",
   "id": "1f71f17d-6a84-47d3-abe7-e9ab0b9a4e1f",
   "metadata": {},
   "source": [
    "**Approach:** Since we already calculated all distinct paths above, we should be able to solve this extended problem relatively simply:"
   ]
  },
  {
   "cell_type": "code",
   "execution_count": 185,
   "id": "be0b8523-b318-4057-ba4b-0976d8a51606",
   "metadata": {},
   "outputs": [
    {
     "data": {
      "text/plain": [
       "36"
      ]
     },
     "execution_count": 185,
     "metadata": {},
     "output_type": "execute_result"
    }
   ],
   "source": [
    "search_grid(example_grid)"
   ]
  },
  {
   "cell_type": "code",
   "execution_count": 186,
   "id": "ef192326-887c-44a7-9ce8-545f56d68bf3",
   "metadata": {},
   "outputs": [
    {
     "data": {
      "text/plain": [
       "20"
      ]
     },
     "execution_count": 186,
     "metadata": {},
     "output_type": "execute_result"
    }
   ],
   "source": [
    "len(search_for_paths(example_grid, current_path=[(0,2)], solutions=[]))"
   ]
  },
  {
   "cell_type": "code",
   "execution_count": 187,
   "id": "22114ebd-23d7-4c51-9501-9869881bed58",
   "metadata": {},
   "outputs": [],
   "source": [
    "def get_cell_trailhead_rating(grid, row, col):\n",
    "    return len(search_for_paths(grid, \n",
    "                                current_path=[(row,col)], \n",
    "                                solutions=[]))"
   ]
  },
  {
   "cell_type": "code",
   "execution_count": 188,
   "id": "31cc6896-5809-4e81-8c4c-324bea797d82",
   "metadata": {},
   "outputs": [
    {
     "data": {
      "text/plain": [
       "20"
      ]
     },
     "execution_count": 188,
     "metadata": {},
     "output_type": "execute_result"
    }
   ],
   "source": [
    "get_cell_trailhead_rating(example_grid, 0, 2)"
   ]
  },
  {
   "cell_type": "code",
   "execution_count": 189,
   "id": "9410a988-44a5-45f4-8320-139a649649f8",
   "metadata": {},
   "outputs": [],
   "source": [
    "def search_grid_v2(grid, start_val=0):\n",
    "    \"\"\" Improvement to find trailhead rating (Part 2 of Day 10) \"\"\"\n",
    "    trailhead_rating_count = 0\n",
    "    val_mask = grid == start_val\n",
    "    rows, cols = np.where(grid == start_val)\n",
    "    for i in range(rows.shape[0]):\n",
    "\n",
    "        trailhead_rating_count += get_cell_trailhead_rating(\n",
    "                                    grid, rows[i], cols[i])\n",
    "    return trailhead_rating_count"
   ]
  },
  {
   "cell_type": "code",
   "execution_count": 190,
   "id": "1b07e0ef-c9fa-47e1-9169-e5d02a81624b",
   "metadata": {},
   "outputs": [
    {
     "data": {
      "text/plain": [
       "81"
      ]
     },
     "execution_count": 190,
     "metadata": {},
     "output_type": "execute_result"
    }
   ],
   "source": [
    "search_grid_v2(example_grid)"
   ]
  },
  {
   "cell_type": "markdown",
   "id": "0aff4f96-7c22-4311-ba60-dfd10ffcf975",
   "metadata": {},
   "source": [
    "That correctly matches the example. Let's now try on the final inputs:"
   ]
  },
  {
   "cell_type": "code",
   "execution_count": 191,
   "id": "1b2a2ff7-0e4b-43b5-983f-bb0e1a91fd36",
   "metadata": {},
   "outputs": [
    {
     "name": "stdout",
     "output_type": "stream",
     "text": [
      "CPU times: user 27.6 ms, sys: 2.74 ms, total: 30.4 ms\n",
      "Wall time: 28 ms\n"
     ]
    },
    {
     "data": {
      "text/plain": [
       "1372"
      ]
     },
     "execution_count": 191,
     "metadata": {},
     "output_type": "execute_result"
    }
   ],
   "source": [
    "%%time\n",
    "search_grid_v2(grid)"
   ]
  },
  {
   "cell_type": "markdown",
   "id": "fe752201-b1d6-4bd8-918b-7f752c4888a3",
   "metadata": {},
   "source": [
    "All correct!"
   ]
  },
  {
   "cell_type": "markdown",
   "id": "280418cb-d596-4a8a-9f18-c6d9a3d418cf",
   "metadata": {
    "jp-MarkdownHeadingCollapsed": true
   },
   "source": [
    "## Day 11 Plutonian Pebbles"
   ]
  },
  {
   "cell_type": "markdown",
   "id": "36b6a524-9cf0-48f7-b07c-d108f1234f85",
   "metadata": {},
   "source": [
    "### Day 11, Part 1"
   ]
  },
  {
   "cell_type": "markdown",
   "id": "3536a92b-93ce-4cdc-ad0f-821704d92a58",
   "metadata": {},
   "source": [
    "As you observe them for a while, you find that the stones have a consistent behavior. Every time you blink, the stones each simultaneously change according to the first applicable rule in this list:\n",
    "\n",
    "- If the stone is engraved with the number 0, it is replaced by a stone engraved with the number 1.\n",
    "- If the stone is engraved with a number that has an even number of digits, it is replaced by two stones. The left half of the digits are engraved on the new left stone, and the right half of the digits are engraved on the new right stone. (The new numbers don't keep extra leading zeroes: 1000 would become stones 10 and 0.)\n",
    "- If none of the other rules apply, the stone is replaced by a new stone; the old stone's number multiplied by 2024 is engraved on the new stone.\n",
    "\n",
    "No matter how the stones change, their order is preserved, and they stay on their perfectly straight line."
   ]
  },
  {
   "cell_type": "code",
   "execution_count": 194,
   "id": "f4e882e4-0299-4c60-8396-362cfc161c3a",
   "metadata": {},
   "outputs": [
    {
     "data": {
      "text/plain": [
       "['0', '1', '10', '99', '999']"
      ]
     },
     "execution_count": 194,
     "metadata": {},
     "output_type": "execute_result"
    }
   ],
   "source": [
    "example_strip = '0 1 10 99 999'.split()\n",
    "example_strip"
   ]
  },
  {
   "cell_type": "code",
   "execution_count": 195,
   "id": "39f7964e-dd19-4718-8d47-f6e9d8ba8351",
   "metadata": {},
   "outputs": [],
   "source": [
    "def process_stone(stone_str):\n",
    "    \"\"\" Process stone string value according to the rules \"\"\"\n",
    "    length = len(stone_str)\n",
    "    if stone_str == '0':\n",
    "        return ['1']\n",
    "    elif length % 2 == 0:\n",
    "        # use int to convert leading zeros into one zero\n",
    "        return [stone_str[:int(length/2)], \n",
    "                str(int(stone_str[int(length/2):]))]\n",
    "    else: \n",
    "        return [str(int(stone_str)*2024)]\n",
    "\n",
    "def process_stone_grid(stone_array):\n",
    "    new_stone_grid = []\n",
    "    for example in stone_array:\n",
    "        new_stone_grid.extend(process_stone(example))\n",
    "    return new_stone_grid\n",
    "\n",
    "def blink_stones(initial_stones, n=25):\n",
    "    \"\"\" Blink given stone array 'n' times \"\"\"\n",
    "    blinked_stones = initial_stones.copy()\n",
    "    for i in range(n):\n",
    "        blinked_stones = process_stone_grid(blinked_stones)\n",
    "    return blinked_stones"
   ]
  },
  {
   "cell_type": "code",
   "execution_count": 196,
   "id": "779f2d33-25e5-48b8-9e98-8408a1ff3966",
   "metadata": {},
   "outputs": [
    {
     "data": {
      "text/plain": [
       "['1']"
      ]
     },
     "execution_count": 196,
     "metadata": {},
     "output_type": "execute_result"
    }
   ],
   "source": [
    "process_stone('0')"
   ]
  },
  {
   "cell_type": "code",
   "execution_count": 197,
   "id": "b53fce76-88d2-4edc-912b-664377e94093",
   "metadata": {},
   "outputs": [
    {
     "data": {
      "text/plain": [
       "['808', '0']"
      ]
     },
     "execution_count": 197,
     "metadata": {},
     "output_type": "execute_result"
    }
   ],
   "source": [
    "process_stone('808000')"
   ]
  },
  {
   "cell_type": "code",
   "execution_count": 198,
   "id": "2bf4c2a5-c89a-42ef-abfb-1351d34313ce",
   "metadata": {},
   "outputs": [
    {
     "data": {
      "text/plain": [
       "['2024']"
      ]
     },
     "execution_count": 198,
     "metadata": {},
     "output_type": "execute_result"
    }
   ],
   "source": [
    "process_stone('1')"
   ]
  },
  {
   "cell_type": "code",
   "execution_count": 199,
   "id": "95eef17a-f863-49c6-b685-5c0b499b6f5d",
   "metadata": {},
   "outputs": [
    {
     "data": {
      "text/plain": [
       "['1', '2024', '1', '0', '9', '9', '2021976']"
      ]
     },
     "execution_count": 199,
     "metadata": {},
     "output_type": "execute_result"
    }
   ],
   "source": [
    "process_stone_grid(example_strip)"
   ]
  },
  {
   "cell_type": "markdown",
   "id": "7ade2f81-e2e2-4980-9136-0404ff9fa226",
   "metadata": {},
   "source": [
    "These all match the given example correctly! Let's now try the real inputs:"
   ]
  },
  {
   "cell_type": "code",
   "execution_count": 200,
   "id": "b284f3c3-77a7-4e0d-96fe-00139ffb5fe3",
   "metadata": {},
   "outputs": [
    {
     "name": "stdout",
     "output_type": "stream",
     "text": [
      "CPU times: user 112 ms, sys: 4.03 ms, total: 116 ms\n",
      "Wall time: 114 ms\n"
     ]
    },
    {
     "data": {
      "text/plain": [
       "183484"
      ]
     },
     "execution_count": 200,
     "metadata": {},
     "output_type": "execute_result"
    }
   ],
   "source": [
    "%%time\n",
    "input_stones = '8069 87014 98 809367 525 0 9494914 5'.split()\n",
    "len(blink_stones(input_stones, n=25))"
   ]
  },
  {
   "cell_type": "markdown",
   "id": "0bd386f2-9970-456b-9fa3-105f14f23093",
   "metadata": {},
   "source": [
    "### Day 11, Part 2:"
   ]
  },
  {
   "cell_type": "markdown",
   "id": "2738685c-81d5-4721-9222-672d0f54840c",
   "metadata": {},
   "source": [
    "Part 2 - blinking 75 times:"
   ]
  },
  {
   "cell_type": "code",
   "execution_count": 201,
   "id": "ab0b1f1d-3bae-4b42-81c1-8e1fda655bbf",
   "metadata": {},
   "outputs": [],
   "source": [
    "input_stones = '8069 87014 98 809367 525 0 9494914 5'.split()\n",
    "input_stones = tuple([int(x) for x in input_stones])"
   ]
  },
  {
   "cell_type": "code",
   "execution_count": 30,
   "id": "885afc7c-ee6c-405c-892f-4d8859b62a95",
   "metadata": {},
   "outputs": [],
   "source": [
    "# This method will error with memory issues\n",
    "#%time len(blink_stones(input_stones, n=75))"
   ]
  },
  {
   "cell_type": "markdown",
   "id": "258b1080-fa33-49b9-bb7d-76d72202367d",
   "metadata": {},
   "source": [
    "The original approach developed above will not work for this, since it will error out due to memory issues.\n",
    "\n",
    "An effective approach to overcome this is to refactor the approach to use more memory and speed efficient approaches. This includes using the `@cache` decorator to remember and exploit all previous function calls made with different combinations of different decorators. This means rather than computing the same result again, it is simply retreived using an efficient lookup. "
   ]
  },
  {
   "cell_type": "code",
   "execution_count": 210,
   "id": "65174d5d-f2a6-4a99-8dba-fbaad31b03a2",
   "metadata": {},
   "outputs": [],
   "source": [
    "@cache\n",
    "def count_stone_blinking(stones: tuple[int, ...], blinks_left: int) -> int:\n",
    "    \"\"\" Recursive function returning the lengths of stones for the given inputs. Rather \n",
    "        than returning the original stones, simply return the lengths to make the \n",
    "        problem tractable without memory issues.\n",
    "    \"\"\"\n",
    "    # when no blinks left, return total length\n",
    "    if blinks_left == 0:\n",
    "        return len(stones)\n",
    "    return sum(count_stone_blinking(tuple(transform_stone(stone)), \n",
    "                                    blinks_left - 1) for stone in stones)\n",
    "\n",
    "def transform_stone(stone: int) -> list[int]:\n",
    "    \"\"\" Return stone results based on stone number rules. \"\"\"\n",
    "    if stone == 0:\n",
    "        return [1]\n",
    "\n",
    "    stone_str = str(stone)\n",
    "    num_digits = len(stone_str)\n",
    "    if num_digits % 2 == 0:\n",
    "        mid = num_digits // 2\n",
    "        lhs, rhs = int(s[:mid]), int(s[mid:])\n",
    "        return [lhs, rhs]\n",
    "\n",
    "    return [stone * 2024]"
   ]
  },
  {
   "cell_type": "code",
   "execution_count": 211,
   "id": "d4237023-ecca-4f5f-87a6-a2b7bb25fd1e",
   "metadata": {},
   "outputs": [
    {
     "name": "stdout",
     "output_type": "stream",
     "text": [
      "CPU times: user 8 μs, sys: 1 μs, total: 9 μs\n",
      "Wall time: 13.1 μs\n"
     ]
    },
    {
     "data": {
      "text/plain": [
       "218817038947400"
      ]
     },
     "execution_count": 211,
     "metadata": {},
     "output_type": "execute_result"
    }
   ],
   "source": [
    "%time rec(input_stones, blinks_left=75)"
   ]
  },
  {
   "cell_type": "markdown",
   "id": "bb4cb862-730b-47c5-b91d-34b07b31d6af",
   "metadata": {},
   "source": [
    "Rust equivalent:\n",
    "\n",
    "Answer: 218817038947400\n",
    "Execution time: 144.76ms\n",
    "\n",
    "Surprisingly, the rust equivalent takes longer than the python example above using `@cache` and recursion, despite the extra complexity, compiled, and verbose-nature of rust. This reinforces the high-potential performance of Python when it is applied in an optimised format, when compared to a traditional, non-optimised approach (such as what we used in Part 1 above)."
   ]
  },
  {
   "cell_type": "markdown",
   "id": "4f478e86-7c4a-4e1b-8aab-19693938686f",
   "metadata": {
    "jp-MarkdownHeadingCollapsed": true
   },
   "source": [
    "## Day 12 Garden Groups"
   ]
  },
  {
   "cell_type": "markdown",
   "id": "4f4440d0-e463-4b3a-ba77-38caacff16a2",
   "metadata": {},
   "source": [
    "### Day 12, Part 1:"
   ]
  },
  {
   "cell_type": "code",
   "execution_count": 249,
   "id": "01a15d92-5106-4bf1-a73f-772d75dc2976",
   "metadata": {},
   "outputs": [],
   "source": [
    "def read_raw_text(filename):\n",
    "    \"\"\" Read entire file as a single string. \"\"\"\n",
    "    try:\n",
    "        with open(filename, \"r\", encoding=\"utf-8\") as file:\n",
    "            file_data = file.read()  \n",
    "        print(\"File successfully read.\")\n",
    "    except FileNotFoundError:\n",
    "        print(\"The specified file was not found.\")\n",
    "    except Exception as e:\n",
    "        print(f\"An error occurred: {e}\")\n",
    "    return file_data"
   ]
  },
  {
   "cell_type": "code",
   "execution_count": 250,
   "id": "d51646f3-9519-4c6f-9a6f-8be55ae85e9d",
   "metadata": {},
   "outputs": [
    {
     "name": "stdout",
     "output_type": "stream",
     "text": [
      "File successfully read.\n",
      "[['R' 'R' 'R' 'R' 'I' 'I' 'C' 'C' 'F' 'F']\n",
      " ['R' 'R' 'R' 'R' 'I' 'I' 'C' 'C' 'C' 'F']\n",
      " ['V' 'V' 'R' 'R' 'R' 'C' 'C' 'F' 'F' 'F']\n",
      " ['V' 'V' 'R' 'C' 'C' 'C' 'J' 'F' 'F' 'F']\n",
      " ['V' 'V' 'V' 'V' 'C' 'J' 'J' 'C' 'F' 'E']\n",
      " ['V' 'V' 'I' 'V' 'C' 'C' 'J' 'J' 'E' 'E']\n",
      " ['V' 'V' 'I' 'I' 'I' 'C' 'J' 'J' 'E' 'E']\n",
      " ['M' 'I' 'I' 'I' 'I' 'I' 'J' 'J' 'E' 'E']\n",
      " ['M' 'I' 'I' 'I' 'S' 'I' 'J' 'E' 'E' 'E']\n",
      " ['M' 'M' 'M' 'I' 'S' 'S' 'J' 'E' 'E' 'E']]\n"
     ]
    }
   ],
   "source": [
    "data_dir = 'Day_12'\n",
    "filename = 'example_input_day_12.txt'\n",
    "example_grid = read_raw_text(os.path.join(data_dir, filename))\n",
    "example_grid = np.array([list(x) for x in example_grid.split('\\n')])\n",
    "print(example_grid)"
   ]
  },
  {
   "cell_type": "code",
   "execution_count": 251,
   "id": "d8bb1f58-f2c2-4ec2-8a04-2c94a0713e2f",
   "metadata": {},
   "outputs": [],
   "source": [
    "def plot_2d_grid(grid):\n",
    "    \"\"\"\n",
    "    Plots a 2D grid with unique colors for each grid value using seaborn.\n",
    "\n",
    "    Parameters:\n",
    "    grid (list of lists): A 2D list containing grid values.\n",
    "    \"\"\"\n",
    "    # Convert the grid to a NumPy array for easier manipulation\n",
    "    grid_array = np.array(grid)\n",
    "\n",
    "    # Get the unique values in the grid and assign them unique numeric indices\n",
    "    unique_values = np.unique(grid_array)\n",
    "    value_to_index = {val: idx for idx, val in enumerate(unique_values)}\n",
    "\n",
    "    # Create a numeric grid based on the mapping\n",
    "    numeric_grid = np.vectorize(value_to_index.get)(grid_array)\n",
    "\n",
    "    # Plot the grid using seaborn heatmap\n",
    "    plt.figure(figsize=(10, 8))\n",
    "    sns.heatmap(\n",
    "        numeric_grid,\n",
    "        annot=grid_array,  # Display original values on the heatmap\n",
    "        fmt=\"\",\n",
    "        cmap=\"tab20\",\n",
    "        cbar_kws={\"ticks\": range(len(unique_values)), \"label\": \"Grid Values\"}\n",
    "    )\n",
    "\n",
    "    # Customize the colorbar labels\n",
    "    colorbar = plt.gca().collections[0].colorbar\n",
    "    colorbar.set_ticks([i + 0.5 for i in range(len(unique_values))])\n",
    "    colorbar.set_ticklabels(unique_values)\n",
    "\n",
    "    # Set axis labels and title\n",
    "    plt.xlabel(\"Columns\")\n",
    "    plt.ylabel(\"Rows\")\n",
    "    plt.title(\"2D Grid Plot\", weight=\"bold\")\n",
    "    plt.show()"
   ]
  },
  {
   "cell_type": "code",
   "execution_count": 252,
   "id": "8b3931c9-8345-424a-9b88-b4c5c3b0164a",
   "metadata": {},
   "outputs": [
    {
     "data": {
      "image/png": "[encoded data removed]",
      "text/plain": [
       "<Figure size 1000x800 with 2 Axes>"
      ]
     },
     "metadata": {},
     "output_type": "display_data"
    }
   ],
   "source": [
    "plot_2d_grid(example_grid)"
   ]
  },
  {
   "cell_type": "code",
   "execution_count": 253,
   "id": "f9f7c7f2-e485-4271-8b4d-eee759b11818",
   "metadata": {},
   "outputs": [],
   "source": [
    "def get_regions(grid):\n",
    "    \"\"\" Get all distinct regions within the grid using \n",
    "        adapted flood-fill algorithm. \n",
    "    \"\"\"\n",
    "    seen = set()\n",
    "    regions = []\n",
    "    for i in range(len(grid)):\n",
    "        for j in range(len(grid[i])):\n",
    "            if (i,j) not in seen:\n",
    "                # start flood-fill from that position\n",
    "                same = [(i,j)]\n",
    "                pos = 0\n",
    "                while pos < len(same):\n",
    "                    x, y = same[pos]\n",
    "                    for x2, y2 in ((x+1,y), (x-1,y), (x,y+1), (x,y-1)):\n",
    "    \n",
    "                        # if within bounds of grid, and same as last cell value, add to our set\n",
    "                        if 0 <= x2 < len(grid) and  0 <= y2 < len(grid[x2]) and \\\n",
    "                                (x2,y2) not in seen and grid[x2][y2] == grid[i][j]:\n",
    "                            \n",
    "                            same.append((x2,y2))\n",
    "                            seen.add((x2,y2))\n",
    "                    pos += 1\n",
    "\n",
    "                region = set(same)\n",
    "\n",
    "                # get number of non-touching edges in our value region\n",
    "                non_touching_edges = count_non_touching_edges(region)\n",
    "                flat_edges = count_flat_edges(region)\n",
    "                \n",
    "                # get size of region, and add to our set\n",
    "                regions.append({'grid_value' : grid[i][j], 'size' : len(region), \n",
    "                                'non_touching_edges' : non_touching_edges,\n",
    "                                'flat_edges' : flat_edges,\n",
    "                                'region' : region})\n",
    "    return regions\n",
    "\n",
    "\n",
    "def count_non_touching_edges(cell_positions):\n",
    "    \"\"\"\n",
    "    Counts how many edges of the given cells in a grid are not touching another cell in the same set.\n",
    "\n",
    "    Parameters:\n",
    "    cell_positions (list of tuples): A list of (row, column) tuples representing cell positions.\n",
    "\n",
    "    Returns:\n",
    "    int: The total number of edges not touching another cell in the set.\n",
    "    \"\"\"\n",
    "    # use set for more efficient lookup\n",
    "    cell_set = set(cell_positions)\n",
    "    directions = [(-1, 0), (1, 0), (0, -1), (0, 1)]\n",
    "    non_touching_edges = 0\n",
    "    \n",
    "    # Iterate over each cell in the set\n",
    "    for r, c in cell_positions:\n",
    "        for dr, dc in directions:\n",
    "            neighbor = (r + dr, c + dc)\n",
    "            \n",
    "            # If the neighbor isn't in set, increment count\n",
    "            if neighbor not in cell_set:\n",
    "                non_touching_edges += 1\n",
    "    return non_touching_edges\n",
    "\n",
    "\n",
    "def count_flat_edges(cell_positions):\n",
    "    \"\"\"\n",
    "    Counts the number of flat edges in a region defined by the given cell positions.\n",
    "\n",
    "    Parameters:\n",
    "    cell_positions (set of tuples): A set of (row, column) tuples representing cell positions.\n",
    "\n",
    "    Returns:\n",
    "    int: The number of flat edges of the region.\n",
    "    \"\"\"\n",
    "    edges = set()\n",
    "\n",
    "    for r, c in cell_positions:\n",
    "        # Define edges relative to the grid position\n",
    "        top_edge = (r, c, 'H')       # Top edge\n",
    "        bottom_edge = (r + 1, c, 'H')  # Bottom edge\n",
    "        left_edge = (r, c, 'V')      # Left edge\n",
    "        right_edge = (r, c + 1, 'V')  # Right edge\n",
    "\n",
    "        # Add or remove edges depending on their presence\n",
    "        for edge in [top_edge, bottom_edge, left_edge, right_edge]:\n",
    "            if edge in edges:\n",
    "                edges.remove(edge)  # Shared edge, remove it\n",
    "            else:\n",
    "                edges.add(edge)  # New edge, add it\n",
    "\n",
    "    # Remaining edges are flat edges\n",
    "    return len(edges)"
   ]
  },
  {
   "cell_type": "code",
   "execution_count": 254,
   "id": "eafcdf54-8428-4f5a-bcf0-1e1a0f30bc94",
   "metadata": {},
   "outputs": [],
   "source": [
    "example_regions = get_regions(example_grid)"
   ]
  },
  {
   "cell_type": "code",
   "execution_count": 255,
   "id": "027627cd-fe0d-47a9-b8cb-8c348221a08e",
   "metadata": {},
   "outputs": [],
   "source": [
    "def calculate_fencing_price(grid):\n",
    "    \"\"\" Compute total cost for fencing in grid area. \"\"\"\n",
    "    regions = get_regions(grid)\n",
    "    total_cost = 0\n",
    "    for region in regions:\n",
    "        total_cost += region['size'] * region['non_touching_edges']\n",
    "    return total_cost"
   ]
  },
  {
   "cell_type": "code",
   "execution_count": 256,
   "id": "489d847c-078a-464f-99f8-31019e2c37a0",
   "metadata": {},
   "outputs": [
    {
     "data": {
      "text/plain": [
       "1930"
      ]
     },
     "execution_count": 256,
     "metadata": {},
     "output_type": "execute_result"
    }
   ],
   "source": [
    "calculate_fencing_price(example_grid)"
   ]
  },
  {
   "cell_type": "markdown",
   "id": "b992cdd4-fd65-4c9c-8859-bac1a319914f",
   "metadata": {},
   "source": [
    "Correct for the example...Lets try on the actual input now:"
   ]
  },
  {
   "cell_type": "code",
   "execution_count": 257,
   "id": "60852202-1118-4c82-bf3b-c623cf42c047",
   "metadata": {},
   "outputs": [
    {
     "name": "stdout",
     "output_type": "stream",
     "text": [
      "File successfully read.\n"
     ]
    },
    {
     "data": {
      "text/plain": [
       "(140, 140)"
      ]
     },
     "execution_count": 257,
     "metadata": {},
     "output_type": "execute_result"
    }
   ],
   "source": [
    "data_dir = 'Day_12'\n",
    "filename = 'day_12_input.txt'\n",
    "grid = read_raw_text(os.path.join(data_dir, filename))\n",
    "grid = np.array([list(x) for x in grid.split('\\n')])\n",
    "grid.shape"
   ]
  },
  {
   "cell_type": "code",
   "execution_count": 258,
   "id": "61ee0308-2c6d-4a9a-916e-cd0b1da8ffb3",
   "metadata": {},
   "outputs": [
    {
     "name": "stdout",
     "output_type": "stream",
     "text": [
      "CPU times: user 52.9 ms, sys: 1.47 ms, total: 54.4 ms\n",
      "Wall time: 53.4 ms\n"
     ]
    },
    {
     "data": {
      "text/plain": [
       "1344578"
      ]
     },
     "execution_count": 258,
     "metadata": {},
     "output_type": "execute_result"
    }
   ],
   "source": [
    "%time calculate_fencing_price(grid)"
   ]
  },
  {
   "cell_type": "markdown",
   "id": "6af71ac2-1116-48be-bb25-cc584dac18ba",
   "metadata": {},
   "source": [
    "### Day 12, Part 2: Considering the number of sides of regions"
   ]
  },
  {
   "cell_type": "markdown",
   "id": "f3651596-a400-487e-95ce-77219a09ed86",
   "metadata": {},
   "source": [
    "With the discovered regions, we need to develop a reliable way of counting the number of distinct corners of the regions, which can then provide us with an accurate number of sides."
   ]
  },
  {
   "cell_type": "code",
   "execution_count": 259,
   "id": "cf1c9e35-1b7b-4db8-a6e1-4d60c3140bea",
   "metadata": {},
   "outputs": [],
   "source": [
    "def get_regions(grid):\n",
    "    \"\"\" Get all distinct regions within the grid using \n",
    "        adapted flood-fill algorithm. \n",
    "    \"\"\"\n",
    "    seen = set()\n",
    "    regions = []\n",
    "    for i in range(len(grid)):\n",
    "        for j in range(len(grid[i])):\n",
    "            if (i,j) not in seen:\n",
    "                # start flood-fill from that position\n",
    "                same = [(i,j)]\n",
    "                pos = 0\n",
    "                while pos < len(same):\n",
    "                    x, y = same[pos]\n",
    "                    for x2, y2 in ((x+1,y), (x-1,y), (x,y+1), (x,y-1)):\n",
    "    \n",
    "                        # if within bounds of grid, and same as last cell value, add to our set\n",
    "                        if 0 <= x2 < len(grid) and  0 <= y2 < len(grid[x2]) and \\\n",
    "                                (x2,y2) not in seen and grid[x2][y2] == grid[i][j]:\n",
    "                            \n",
    "                            same.append((x2,y2))\n",
    "                            seen.add((x2,y2))\n",
    "                    pos += 1\n",
    "\n",
    "                region = set(same)\n",
    "\n",
    "                # get number of non-touching edges in our value region\n",
    "                non_touching_edges = count_non_touching_edges(region)\n",
    "                flat_edges = count_flat_edges(region)\n",
    "                \n",
    "                # get size of region, and add to our set\n",
    "                regions.append({'grid_value' : grid[i][j], 'size' : len(region), \n",
    "                                'non_touching_edges' : non_touching_edges,\n",
    "                                'flat_edges' : flat_edges,\n",
    "                                'region' : region})\n",
    "    return regions\n",
    "\n",
    "\n",
    "def count_non_touching_edges(cell_positions):\n",
    "    \"\"\"\n",
    "    Counts how many edges of the given cells in a grid are not touching another cell in the same set.\n",
    "\n",
    "    Parameters:\n",
    "    cell_positions (list of tuples): A list of (row, column) tuples representing cell positions.\n",
    "\n",
    "    Returns:\n",
    "    int: The total number of edges not touching another cell in the set.\n",
    "    \"\"\"\n",
    "    # use set for more efficient lookup\n",
    "    cell_set = set(cell_positions)\n",
    "    directions = [(-1, 0), (1, 0), (0, -1), (0, 1)]\n",
    "    non_touching_edges = 0\n",
    "    \n",
    "    # Iterate over each cell in the set\n",
    "    for r, c in cell_positions:\n",
    "        for dr, dc in directions:\n",
    "            neighbor = (r + dr, c + dc)\n",
    "            \n",
    "            # If the neighbor isn't in set, increment count\n",
    "            if neighbor not in cell_set:\n",
    "                non_touching_edges += 1\n",
    "    return non_touching_edges\n",
    "\n",
    "\n",
    "def count_flat_edges(cell_positions):\n",
    "    \"\"\"\n",
    "    Counts the number of flat edges in a region defined by the given cell positions.\n",
    "\n",
    "    Parameters:\n",
    "    cell_positions (set of tuples): A set of (row, column) tuples representing cell positions.\n",
    "\n",
    "    Returns:\n",
    "    int: The number of flat edges of the region.\n",
    "    \"\"\"\n",
    "    edges = set()\n",
    "\n",
    "    for r, c in cell_positions:\n",
    "        # Define edges relative to the grid position\n",
    "        top_edge = (r, c, 'H')       # Top edge\n",
    "        bottom_edge = (r + 1, c, 'H')  # Bottom edge\n",
    "        left_edge = (r, c, 'V')      # Left edge\n",
    "        right_edge = (r, c + 1, 'V')  # Right edge\n",
    "\n",
    "        # Add or remove edges depending on their presence\n",
    "        for edge in [top_edge, bottom_edge, left_edge, right_edge]:\n",
    "            if edge in edges:\n",
    "                edges.remove(edge)  # Shared edge, remove it\n",
    "            else:\n",
    "                edges.add(edge)  # New edge, add it\n",
    "\n",
    "    # Remaining edges are flat edges\n",
    "    return len(edges)\n",
    "\n",
    "def count_corners(cell_positions):\n",
    "    # use set for more efficient lookup\n",
    "    cell_set = set(cell_positions)\n",
    "\n",
    "    # up, down, left, right, up-left, up-right, down-left, down-right\n",
    "    directions = [(-1, 0), (1, 0), (0, -1), (0, 1), (-1,-1), (-1,1), (1,-1), (1,1)]\n",
    "\n",
    "    adjacent_cells = []\n",
    "    \n",
    "    # Iterate over each cell in the set\n",
    "    for r, c in cell_positions:\n",
    "        adjacent_cell = []\n",
    "        for dr, dc in directions:\n",
    "            neighbor = (r + dr, c + dc)\n",
    "            \n",
    "            # If the neighbor isn't in set, increment count\n",
    "            if neighbor in cell_set:\n",
    "                adjacent_cell.append(True) \n",
    "            else:\n",
    "                adjacent_cell.append(False)\n",
    "\n",
    "        adjacent_cells.append(adjacent_cell)\n",
    "    return adjacent_cells"
   ]
  },
  {
   "cell_type": "code",
   "execution_count": 260,
   "id": "72c8f2e7-9070-4d90-9a53-3097371764dd",
   "metadata": {},
   "outputs": [
    {
     "data": {
      "image/png": "[encoded data removed]",
      "text/plain": [
       "<Figure size 1000x800 with 2 Axes>"
      ]
     },
     "metadata": {},
     "output_type": "display_data"
    }
   ],
   "source": [
    "plot_2d_grid(example_grid)"
   ]
  },
  {
   "cell_type": "code",
   "execution_count": 261,
   "id": "edef3247-21c9-4f91-abd7-b76636d957a6",
   "metadata": {},
   "outputs": [
    {
     "data": {
      "text/plain": [
       "{'grid_value': 'I',\n",
       " 'size': 4,\n",
       " 'non_touching_edges': 8,\n",
       " 'flat_edges': 8,\n",
       " 'region': {(0, 4), (0, 5), (1, 4), (1, 5)}}"
      ]
     },
     "execution_count": 261,
     "metadata": {},
     "output_type": "execute_result"
    }
   ],
   "source": [
    "example_regions = get_regions(example_grid)\n",
    "example_regions[1]"
   ]
  },
  {
   "cell_type": "code",
   "execution_count": 262,
   "id": "e9bbf7aa-3b10-415b-95ce-4a92652e57f4",
   "metadata": {},
   "outputs": [
    {
     "data": {
      "text/plain": [
       "[[True, False, True, False, True, False, False, False],\n",
       " [False, True, False, True, False, False, False, True],\n",
       " [True, False, False, True, False, True, False, False],\n",
       " [False, True, True, False, False, False, True, False]]"
      ]
     },
     "execution_count": 262,
     "metadata": {},
     "output_type": "execute_result"
    }
   ],
   "source": [
    "count_corners(example_regions[1]['region'])"
   ]
  },
  {
   "cell_type": "markdown",
   "id": "662a9f7e-4c10-421b-8335-41836c757b1f",
   "metadata": {
    "jp-MarkdownHeadingCollapsed": true
   },
   "source": [
    "## Day 13 Claw Contraption"
   ]
  },
  {
   "cell_type": "markdown",
   "id": "c05ede33-d1d9-44e4-b1af-2073ce246d86",
   "metadata": {},
   "source": [
    "### Day 13, Part 1"
   ]
  },
  {
   "cell_type": "markdown",
   "id": "02419e58-54b9-48f4-9074-7c7323ac431f",
   "metadata": {},
   "source": [
    "The claw machines here are a little unusual. Instead of a joystick or directional buttons to control the claw, these machines have two buttons labeled A and B. Worse, you can't just put in a token and play; it costs 3 tokens to push the A button and 1 token to push the B button.\n",
    "\n",
    "With a little experimentation, you figure out that each machine's buttons are configured to move the claw a specific amount to the right (along the X axis) and a specific amount forward (along the Y axis) each time that button is pressed.\n",
    "\n",
    "Each machine contains one prize; to win the prize, the claw must be positioned exactly above the prize on both the X and Y axes.\n",
    "\n",
    "You wonder: what is the smallest number of tokens you would have to spend to win as many prizes as possible? You assemble a list of every machine's button behavior and prize location (your puzzle input). For example:\n",
    "\n",
    "```\n",
    "Button A: X+94, Y+34\n",
    "Button B: X+22, Y+67\n",
    "Prize: X=8400, Y=5400\n",
    "\n",
    "Button A: X+26, Y+66\n",
    "Button B: X+67, Y+21\n",
    "Prize: X=12748, Y=12176\n",
    "\n",
    "Button A: X+17, Y+86\n",
    "Button B: X+84, Y+37\n",
    "Prize: X=7870, Y=6450\n",
    "\n",
    "Button A: X+69, Y+23\n",
    "Button B: X+27, Y+71\n",
    "Prize: X=18641, Y=10279\n",
    "```\n",
    "\n",
    "This list describes the button configuration and prize location of four different claw machines."
   ]
  },
  {
   "cell_type": "markdown",
   "id": "8d893bcf-4cd6-4f9c-9696-1e12cdab4133",
   "metadata": {},
   "source": [
    "This problem represents an integer linear programming problem:"
   ]
  },
  {
   "cell_type": "code",
   "execution_count": 263,
   "id": "01411d57-382d-405b-a22f-467b2618fe6d",
   "metadata": {},
   "outputs": [],
   "source": [
    "def read_raw_text(filename):\n",
    "    \"\"\" Read entire file as a single string. \"\"\"\n",
    "    try:\n",
    "        with open(filename, \"r\", encoding=\"utf-8\") as file:\n",
    "            file_data = file.read()  \n",
    "        print(\"File successfully read.\")\n",
    "    except FileNotFoundError:\n",
    "        print(\"The specified file was not found.\")\n",
    "    except Exception as e:\n",
    "        print(f\"An error occurred: {e}\")\n",
    "    return file_data"
   ]
  },
  {
   "cell_type": "code",
   "execution_count": 264,
   "id": "23561fba-2377-46e9-93ea-4df67a972f69",
   "metadata": {},
   "outputs": [
    {
     "name": "stdout",
     "output_type": "stream",
     "text": [
      "File successfully read.\n"
     ]
    }
   ],
   "source": [
    "data_dir = 'Day_13'\n",
    "example_input = read_raw_text(os.path.join(data_dir, 'example_input_day_13.txt'))\n",
    "example_lines = [x.replace('\\n', ' ') for x in example_input.split('\\n\\n')]"
   ]
  },
  {
   "cell_type": "code",
   "execution_count": 265,
   "id": "9a4ba044-1075-43fb-962f-2b2b070138c9",
   "metadata": {},
   "outputs": [],
   "source": [
    "def parse_input(text):\n",
    "    \"\"\" Extract button info and prize coords using reg-ex \"\"\"\n",
    "    button_a_match = re.search(r\"Button A: X\\+(\\d+), Y\\+(\\d+)\", text)\n",
    "    button_b_match = re.search(r\"Button B: X\\+(\\d+), Y\\+(\\d+)\", text)\n",
    "    prize_match = re.search(r\"Prize: X=(\\d+), Y=(\\d+)\", text)\n",
    "\n",
    "    if button_a_match and button_b_match and prize_match:\n",
    "        # Extract X, Y values for Button A, Button B, and Prize\n",
    "        x_a, y_a = int(button_a_match.group(1)), int(button_a_match.group(2))\n",
    "        x_b, y_b = int(button_b_match.group(1)), int(button_b_match.group(2))\n",
    "        x_prize, y_prize = int(prize_match.group(1)), int(prize_match.group(2))\n",
    "\n",
    "        return x_a, y_a, x_b, y_b, x_prize, y_prize\n",
    "    else:\n",
    "        raise ValueError(\"Invalid input format\")"
   ]
  },
  {
   "cell_type": "code",
   "execution_count": 269,
   "id": "c1dab555-1b67-49c4-89eb-042e1dec1d2e",
   "metadata": {},
   "outputs": [],
   "source": [
    "def solve_optimization(x_a, y_a, x_b, y_b, x_prize, y_prize, costs=[3, 1], \n",
    "                       x0_bounds=101, x1_bounds=101):\n",
    "    \"\"\" Solve optimisation using lin programming. \n",
    "\n",
    "        costs (array) : Costs for coefficients A and B in form [a_cost, b_cost]\n",
    "    \n",
    "    \"\"\"\n",
    "    # Coefficients for the objective function (minimize token cost)\n",
    "    A = [[x_a, x_b],  # Coefficients for X equation\n",
    "        [y_a, y_b]]   # Coefficients for Y equation\n",
    "\n",
    "    # Right-hand side of the constraints\n",
    "    b = [x_prize, y_prize]\n",
    "\n",
    "    # Bounds for the variables (non-negative integers)\n",
    "    x0_bounds = (0, x0_bounds)\n",
    "    x1_bounds = (0, x1_bounds)\n",
    "\n",
    "    # Solving the linear programming problem\n",
    "    result = linprog(costs, A_eq=A, b_eq=b, bounds=[x0_bounds, x1_bounds], method='highs')\n",
    "\n",
    "    if result.success:\n",
    "        a_res, b_res = result.x\n",
    "        return a_res, b_res, result.fun\n",
    "    else:\n",
    "        return 0, 0, result.fun"
   ]
  },
  {
   "cell_type": "code",
   "execution_count": 273,
   "id": "7b7bef7e-caf3-40d2-8430-e04513456ae8",
   "metadata": {},
   "outputs": [
    {
     "name": "stdout",
     "output_type": "stream",
     "text": [
      "Results: Button A 80.0 times, Button B 40.0 times, giving 280.0 output.\n"
     ]
    }
   ],
   "source": [
    "x_a, y_a, x_b, y_b, x_prize, y_prize = parse_input(example_lines[0])\n",
    "a, b, out = solve_optimization(x_a, y_a, x_b, y_b, x_prize, y_prize)\n",
    "print(f\"Results: Button A {np.round(a)} times, Button B {np.round(b)} times, giving {out} output.\")"
   ]
  },
  {
   "cell_type": "code",
   "execution_count": 281,
   "id": "37e6f15d-9f0b-47ed-aa51-5f9db13a0608",
   "metadata": {},
   "outputs": [],
   "source": [
    "def get_results(lines, costs=[3, 1]):\n",
    "    results = []\n",
    "    for line in lines:\n",
    "        x_a, y_a, x_b, y_b, x_prize, y_prize = parse_input(line)\n",
    "        a, b, out = solve_optimization(x_a, y_a, x_b, y_b, x_prize, y_prize)\n",
    "\n",
    "        x_output, y_output = compute_output(a, x_a, y_a, b, x_b, y_b)\n",
    "\n",
    "        x_delta = np.abs(x_output - x_prize)\n",
    "        y_delta = np.abs(y_output - y_prize)\n",
    "\n",
    "        if x_delta < 0.01 and y_delta < 0.01:\n",
    "            satisfied = True\n",
    "        else:\n",
    "            satisfied = False\n",
    "\n",
    "\n",
    "        # only include result if successful\n",
    "        if satisfied:\n",
    "            results.append(compute_cost(a, b, costs))\n",
    "        \n",
    "    return int(sum(results))\n",
    "\n",
    "\n",
    "def compute_output(a, x_a, y_a, b, x_b, y_b):\n",
    "    x_position = (np.round(a) * x_a) + (np.round(b) * x_b)\n",
    "    y_position = (np.round(a) * y_a) + (np.round(b) * y_b)\n",
    "    return x_position, y_position\n",
    "\n",
    "\n",
    "def compute_cost(a, b, costs):\n",
    "    return (np.round(a) * costs[0]) + (np.round(b) * costs[1])"
   ]
  },
  {
   "cell_type": "code",
   "execution_count": 282,
   "id": "79da1ee2-ccba-4cb8-a579-f0809fac7ac2",
   "metadata": {},
   "outputs": [
    {
     "data": {
      "text/plain": [
       "480"
      ]
     },
     "execution_count": 282,
     "metadata": {},
     "output_type": "execute_result"
    }
   ],
   "source": [
    "get_results(example_lines)"
   ]
  },
  {
   "cell_type": "markdown",
   "id": "09cc95bb-b70f-45e5-a3f8-b8bd7a42815f",
   "metadata": {},
   "source": [
    "Lets try on the actual inputs now:"
   ]
  },
  {
   "cell_type": "code",
   "execution_count": 283,
   "id": "39b7ef94-4629-40f7-9916-bfb26fe71ac2",
   "metadata": {},
   "outputs": [
    {
     "name": "stdout",
     "output_type": "stream",
     "text": [
      "File successfully read.\n",
      "CPU times: user 89.8 ms, sys: 13.5 ms, total: 103 ms\n",
      "Wall time: 93 ms\n"
     ]
    },
    {
     "data": {
      "text/plain": [
       "36870"
      ]
     },
     "execution_count": 283,
     "metadata": {},
     "output_type": "execute_result"
    }
   ],
   "source": [
    "%%time\n",
    "data_dir = 'Day_13'\n",
    "input_lines = read_raw_text(os.path.join(data_dir, 'day_13_input.txt'))\n",
    "input_lines = [x.replace('\\n', ' ') for x in input_lines.split('\\n\\n')]\n",
    "get_results(input_lines)"
   ]
  },
  {
   "cell_type": "markdown",
   "id": "5a21b530-3d51-4898-868c-b490f9947f16",
   "metadata": {},
   "source": [
    "### Day 13, Part 2:"
   ]
  },
  {
   "cell_type": "code",
   "execution_count": 284,
   "id": "7bbf8095-ea53-4fa3-9cf0-752e81307543",
   "metadata": {},
   "outputs": [],
   "source": [
    "correct_term = 10000000000000"
   ]
  },
  {
   "cell_type": "code",
   "execution_count": 285,
   "id": "30f77779-4f94-4e4c-9550-bc14932e11f7",
   "metadata": {},
   "outputs": [],
   "source": [
    "def parse_input_corrections(text, add_correction=10000000000000):\n",
    "    \"\"\" Extract button info and prize coords using reg-ex \"\"\"\n",
    "    button_a_match = re.search(r\"Button A: X\\+(\\d+), Y\\+(\\d+)\", text)\n",
    "    button_b_match = re.search(r\"Button B: X\\+(\\d+), Y\\+(\\d+)\", text)\n",
    "    prize_match = re.search(r\"Prize: X=(\\d+), Y=(\\d+)\", text)\n",
    "\n",
    "    if button_a_match and button_b_match and prize_match:\n",
    "        # Extract X, Y values for Button A, Button B, and Prize\n",
    "        x_a, y_a = int(button_a_match.group(1)), int(button_a_match.group(2))\n",
    "        x_b, y_b = int(button_b_match.group(1)), int(button_b_match.group(2))\n",
    "        x_prize, y_prize = int(prize_match.group(1)), int(prize_match.group(2))\n",
    "\n",
    "        return x_a, y_a, x_b, y_b, x_prize + add_correction, y_prize + add_correction\n",
    "    else:\n",
    "        raise ValueError(\"Invalid input format\")\n",
    "\n",
    "\n",
    "def get_results(lines, costs=[3, 1]):\n",
    "    results = []\n",
    "    for line in lines:\n",
    "        x_a, y_a, x_b, y_b, x_prize, y_prize = parse_input_corrections(line)\n",
    "        a, b, out = solve_optimization(x_a, y_a, x_b, y_b, \n",
    "                                       x_prize, y_prize,\n",
    "                                       x0_bounds=None,\n",
    "                                       x1_bounds=None)\n",
    "\n",
    "        x_output, y_output = compute_output(a, x_a, y_a, b, x_b, y_b)\n",
    "\n",
    "        x_delta = np.abs(x_output - x_prize)\n",
    "        y_delta = np.abs(y_output - y_prize)\n",
    "\n",
    "        if x_delta < 0.01 and y_delta < 0.01:\n",
    "            satisfied = True\n",
    "        else:\n",
    "            satisfied = False\n",
    "\n",
    "\n",
    "        # only include result if successful\n",
    "        if satisfied:\n",
    "            results.append(compute_cost(a, b, costs))\n",
    "        \n",
    "    return int(sum(results))"
   ]
  },
  {
   "cell_type": "code",
   "execution_count": 286,
   "id": "ba7dd04f-5d26-48b4-8928-babe36ad9e86",
   "metadata": {},
   "outputs": [
    {
     "data": {
      "text/plain": [
       "(94, 34, 22, 67, 10000000008400, 10000000005400)"
      ]
     },
     "execution_count": 286,
     "metadata": {},
     "output_type": "execute_result"
    }
   ],
   "source": [
    "parse_input_corrections(example_lines[0])"
   ]
  },
  {
   "cell_type": "code",
   "execution_count": 287,
   "id": "8b20cf69-8bbc-4a86-88f2-5cfd776aaa1d",
   "metadata": {},
   "outputs": [
    {
     "data": {
      "text/plain": [
       "875318608908"
      ]
     },
     "execution_count": 287,
     "metadata": {},
     "output_type": "execute_result"
    }
   ],
   "source": [
    "get_results(example_lines)"
   ]
  },
  {
   "cell_type": "code",
   "execution_count": 288,
   "id": "5beb1695-789a-412a-a31d-e0d6db179c7d",
   "metadata": {},
   "outputs": [
    {
     "name": "stdout",
     "output_type": "stream",
     "text": [
      "CPU times: user 97.2 ms, sys: 13.3 ms, total: 111 ms\n",
      "Wall time: 99.7 ms\n"
     ]
    },
    {
     "data": {
      "text/plain": [
       "78101482023732"
      ]
     },
     "execution_count": 288,
     "metadata": {},
     "output_type": "execute_result"
    }
   ],
   "source": [
    "%time get_results(input_lines)"
   ]
  },
  {
   "cell_type": "markdown",
   "id": "9114cabc-61eb-4310-b53c-75a745feeb63",
   "metadata": {},
   "source": [
    "Success! Despite the complexity, that was extremely fast thanks to the optimised nature of the scipy optimise library."
   ]
  },
  {
   "cell_type": "markdown",
   "id": "6e643b69-47c5-4d31-9825-aa537372aef4",
   "metadata": {
    "jp-MarkdownHeadingCollapsed": true
   },
   "source": [
    "## Day 14 Restroom Redoubt"
   ]
  },
  {
   "cell_type": "markdown",
   "id": "738337a7-0354-4195-ac0f-7ce31a29e8ec",
   "metadata": {},
   "source": [
    "### Day 14, Part 1:"
   ]
  },
  {
   "cell_type": "code",
   "execution_count": 341,
   "id": "a3022aef-40ef-40b6-bc49-c5889ff1c1e3",
   "metadata": {},
   "outputs": [],
   "source": [
    "def read_raw_text(filename):\n",
    "    \"\"\" Read entire file as a single string. \"\"\"\n",
    "    try:\n",
    "        with open(filename, \"r\", encoding=\"utf-8\") as file:\n",
    "            file_data = file.read()  \n",
    "        print(\"File successfully read.\")\n",
    "    except FileNotFoundError:\n",
    "        print(\"The specified file was not found.\")\n",
    "    except Exception as e:\n",
    "        print(f\"An error occurred: {e}\")\n",
    "    return file_data\n",
    "\n",
    "def parse_position_velocity(data):\n",
    "    \"\"\" Helper to extract position and velocity from input data. \"\"\"\n",
    "    # Split the string at 'v=' to separate position and velocity\n",
    "    position_str, velocity_str = data.split(' v=')\n",
    "\n",
    "    # Extract the position values (after 'p=')\n",
    "    position = tuple(map(int, position_str.split('=')[1].split(',')))\n",
    "\n",
    "    # Extract the velocity values (split by the comma)\n",
    "    velocity = tuple(map(int, velocity_str.split(',')))\n",
    "\n",
    "    return position, velocity\n",
    "\n",
    "def create_grid(n_rows, n_cols, default_val='.'):\n",
    "    return np.array([['.' for x in range(n_cols)] for y in range(n_rows)])\n",
    "\n",
    "def future_position(p, v, n=1):\n",
    "    \"\"\" Compute future position 'n' seconds forward in time. \"\"\"\n",
    "    current_x, current_y = p\n",
    "    vel_x, vel_y = v\n",
    "    future_x = current_x + (vel_x * n)\n",
    "    future_y = current_y + (vel_y * n)\n",
    "    return (future_x, future_y)\n",
    "\n",
    "def get_local_position(p, grid_shape):\n",
    "    \"\"\" Determine equivalent local position of robot based on position, \n",
    "        which might be out of bounds of grid size. \n",
    "    \"\"\"\n",
    "    local_px = p[0] % grid_shape[1]\n",
    "    local_py = p[1] % grid_shape[0]\n",
    "    return (local_px, local_py)\n",
    "\n",
    "def add_future_positions(positions, grid):\n",
    "    \"\"\" Create a grid with future positions on it. \"\"\"\n",
    "    grid_results = np.zeros(grid.shape)\n",
    "    for p in positions:\n",
    "        grid_results[p[1], p[0]] += 1\n",
    "    return grid_results\n",
    "\n",
    "def get_quadrant_results(position_grid):\n",
    "    \"\"\" Sum all quadrant results (not including zero centre\n",
    "        column and centre row values). \n",
    "    \"\"\"\n",
    "    centre_row = int(np.floor(position_grid.shape[0] / 2))\n",
    "    centre_col = int(np.floor(position_grid.shape[1] / 2))\n",
    "\n",
    "    results_arr = position_grid.copy()\n",
    "    \n",
    "    # set centre column and row to zero\n",
    "    results_arr[centre_row, :] = 0.0\n",
    "    results_arr[:, centre_col] = 0.0\n",
    "    \n",
    "    q1 = results_arr[:centre_row, :centre_col].sum()\n",
    "    q2 = results_arr[:centre_row, centre_col:].sum()\n",
    "    q3 = results_arr[centre_row:, :centre_col].sum()\n",
    "    q4 = results_arr[centre_row:, centre_col:].sum()\n",
    "    \n",
    "    return int(q1 * q2 * q3 * q4)"
   ]
  },
  {
   "cell_type": "code",
   "execution_count": 342,
   "id": "d585099b-facb-479a-a8a4-294d5a3e8636",
   "metadata": {},
   "outputs": [
    {
     "name": "stdout",
     "output_type": "stream",
     "text": [
      "File successfully read.\n"
     ]
    }
   ],
   "source": [
    "data_dir = 'Day_14'\n",
    "example_input = read_raw_text(os.path.join(data_dir, \"example_input_day_14.txt\")).split('\\n')\n",
    "example_robots = [parse_position_velocity(robot) for robot in example_input]\n",
    "example_grid = create_grid(7,11)"
   ]
  },
  {
   "cell_type": "code",
   "execution_count": 343,
   "id": "e0734ee2-8a42-4efa-b291-4f5bf26be6d6",
   "metadata": {},
   "outputs": [
    {
     "data": {
      "text/plain": [
       "(7, 11)"
      ]
     },
     "execution_count": 343,
     "metadata": {},
     "output_type": "execute_result"
    }
   ],
   "source": [
    "example_grid.shape"
   ]
  },
  {
   "cell_type": "code",
   "execution_count": 344,
   "id": "6ff926c8-decc-4625-92a7-dfff102511b1",
   "metadata": {},
   "outputs": [
    {
     "data": {
      "text/plain": [
       "((0, 4), (3, -3))"
      ]
     },
     "execution_count": 344,
     "metadata": {},
     "output_type": "execute_result"
    }
   ],
   "source": [
    "example_robots[0]"
   ]
  },
  {
   "cell_type": "code",
   "execution_count": 345,
   "id": "c847ff26-ba58-4703-9a25-706cad11602d",
   "metadata": {},
   "outputs": [
    {
     "data": {
      "text/plain": [
       "12"
      ]
     },
     "execution_count": 345,
     "metadata": {},
     "output_type": "execute_result"
    }
   ],
   "source": [
    "future_positions = [get_local_position(future_position(x[0], x[1], n=100), example_grid.shape) for x in example_robots]\n",
    "position_grid = add_future_positions(future_positions, example_grid)\n",
    "get_quadrant_results(position_grid)"
   ]
  },
  {
   "cell_type": "markdown",
   "id": "bde5fe7e-5e0a-4fd1-93ea-8743f99f544b",
   "metadata": {},
   "source": [
    "This answer is correct for the example. Now lets try it on the real input:"
   ]
  },
  {
   "cell_type": "code",
   "execution_count": 346,
   "id": "078de7bb-c61d-4082-992a-b7ee2c0db448",
   "metadata": {},
   "outputs": [
    {
     "name": "stdout",
     "output_type": "stream",
     "text": [
      "File successfully read.\n"
     ]
    }
   ],
   "source": [
    "data_dir = 'Day_14'\n",
    "input_robots = read_raw_text(os.path.join(data_dir, \"day_14_input.txt\")).split('\\n')\n",
    "input_robots = [parse_position_velocity(robot) for robot in input_robots]\n",
    "input_grid = create_grid(103,101)"
   ]
  },
  {
   "cell_type": "code",
   "execution_count": 347,
   "id": "13bf840d-2f35-47e5-833f-56dbb30f8f6a",
   "metadata": {},
   "outputs": [
    {
     "data": {
      "text/plain": [
       "((103, 101), 500)"
      ]
     },
     "execution_count": 347,
     "metadata": {},
     "output_type": "execute_result"
    }
   ],
   "source": [
    "input_grid.shape, len(input_robots)"
   ]
  },
  {
   "cell_type": "code",
   "execution_count": 348,
   "id": "3cc0b43f-7dee-453c-a0b5-202944136c4b",
   "metadata": {},
   "outputs": [
    {
     "name": "stdout",
     "output_type": "stream",
     "text": [
      "CPU times: user 1.24 ms, sys: 176 μs, total: 1.42 ms\n",
      "Wall time: 1.32 ms\n"
     ]
    },
    {
     "data": {
      "text/plain": [
       "225810288"
      ]
     },
     "execution_count": 348,
     "metadata": {},
     "output_type": "execute_result"
    }
   ],
   "source": [
    "%%time\n",
    "future_positions = [get_local_position(future_position(x[0], x[1], n=100), input_grid.shape) for x in input_robots]\n",
    "position_grid = add_future_positions(future_positions, input_grid)\n",
    "get_quadrant_results(position_grid)"
   ]
  },
  {
   "cell_type": "markdown",
   "id": "7dc1d9b9-9554-4c73-a3ac-f62c97fe89c9",
   "metadata": {},
   "source": [
    "### Day 14, Part 2 - Christmas tree"
   ]
  },
  {
   "cell_type": "markdown",
   "id": "ebb6c6a6-82c3-42fc-894d-78b24501eb32",
   "metadata": {},
   "source": [
    "All things considered, no idea how the christmas tree might look for this example! The only assumption I will make is that all grid positions will be one for this unique situation (this is a guess and may not be right, as based on a comment on reddit!)."
   ]
  },
  {
   "cell_type": "code",
   "execution_count": 349,
   "id": "39b931ce-e7b2-4ad5-82ce-c98f5a0d352e",
   "metadata": {},
   "outputs": [
    {
     "data": {
      "text/plain": [
       "3"
      ]
     },
     "execution_count": 349,
     "metadata": {},
     "output_type": "execute_result"
    }
   ],
   "source": [
    "future_positions = [get_local_position(future_position(x[0], x[1], n=1), input_grid.shape) for x in input_robots]\n",
    "position_grid = add_future_positions(future_positions, input_grid)\n",
    "np.unique(position_grid, return_counts=True)[0].shape[0]"
   ]
  },
  {
   "cell_type": "code",
   "execution_count": 320,
   "id": "7ffca0cc-16a3-451e-a23b-ed7cd3f9b0bb",
   "metadata": {},
   "outputs": [
    {
     "name": "stdout",
     "output_type": "stream",
     "text": [
      "Number of attempts to get all 1's: 6752\n",
      "CPU times: user 1.61 s, sys: 4.43 ms, total: 1.61 s\n",
      "Wall time: 1.61 s\n"
     ]
    }
   ],
   "source": [
    "%%time\n",
    "\n",
    "grid_shape = input_grid.shape\n",
    "\n",
    "for i in range(0, 100000):\n",
    "    future_positions = [get_local_position(future_position(x[0], x[1], n=i), input_grid.shape) for x in input_robots]\n",
    "    position_grid = add_future_positions(future_positions, input_grid)\n",
    "    if np.unique(position_grid, return_counts=True)[0].shape[0] == 2:\n",
    "        print(f\"Number of attempts to get all 1's: {i}\")\n",
    "        break"
   ]
  },
  {
   "cell_type": "code",
   "execution_count": 321,
   "id": "b581208f-eb0d-4d07-a76f-4fedb7b4a9e3",
   "metadata": {},
   "outputs": [],
   "source": [
    "np.savetxt(os.path.join(data_dir, 'day_14_christmas_tree.txt'), position_grid.astype(int), fmt='%.0f')"
   ]
  },
  {
   "cell_type": "markdown",
   "id": "944717e1-055b-425e-ad0e-4b9723a65b8c",
   "metadata": {},
   "source": [
    "The all unique assumption turned out to be correct for this!"
   ]
  },
  {
   "cell_type": "markdown",
   "id": "0a52ce20-a3b2-452b-960b-99bb61941849",
   "metadata": {
    "jp-MarkdownHeadingCollapsed": true
   },
   "source": [
    "## Day 15 Warehouse Woes"
   ]
  },
  {
   "cell_type": "markdown",
   "id": "7c307a4e-a6e5-43a0-9173-a7a7843f46fa",
   "metadata": {
    "jp-MarkdownHeadingCollapsed": true
   },
   "source": [
    "### Day 15, Part 1:"
   ]
  },
  {
   "cell_type": "markdown",
   "id": "a80361ee-c4e3-4f09-8f9d-e1f0ed53c863",
   "metadata": {},
   "source": [
    "The lanternfish already have a map of the warehouse and a list of movements the robot will attempt to make (your puzzle input). The problem is that the movements will sometimes fail as boxes are shifted around, making the actual movements of the robot difficult to predict.\n",
    "\n",
    "For example:\n",
    "\n",
    "```\n",
    "##########\n",
    "#..O..O.O#\n",
    "#......O.#\n",
    "#.OO..O.O#\n",
    "#..O@..O.#\n",
    "#O#..O...#\n",
    "#O..O..O.#\n",
    "#.OO.O.OO#\n",
    "#....O...#\n",
    "##########\n",
    "\n",
    "<vv>^<v^>v>^vv^v>v<>v^v<v<^vv<<<^><<><>>v<vvv<>^v^>^<<<><<v<<<v^vv^v>^\n",
    "vvv<<^>^v^^><<>>><>^<<><^vv^^<>vvv<>><^^v>^>vv<>v<<<<v<^v>^<^^>>>^<v<v\n",
    "><>vv>v^v^<>><>>>><^^>vv>v<^^^>>v^v^<^^>v^^>v^<^v>v<>>v^v^<v>v^^<^^vv<\n",
    "<<v<^>>^^^^>>>v^<>vvv^><v<<<>^^^vv^<vvv>^>v<^^^^v<>^>vvvv><>>v^<<^^^^^\n",
    "^><^><>>><>^^<<^^v>>><^<v>^<vv>>v>>>^v><>^v><<<<v>>v<v<v>vvv>^<><<>^><\n",
    "^>><>^v<><^vvv<^^<><v<<<<<><^v<<<><<<^^<v<^^^><^>>^<v^><<<^>>^v<v^v<v^\n",
    ">^>>^v>vv>^<<^v<>><<><<v<<v><>v<^vv<<<>^^v^>^^>>><<^v>>v^v><^^>>^<>vv^\n",
    "<><^^>^^^<><vvvvv^v<v<<>^v<v>v<<^><<><<><<<^^<<<^<<>><<><^^^>^^<>^>v<>\n",
    "^^>vv<^v^v<vv>^<><v<^v>^^^>>>^^vvv^>vvv<>>>^<^>>>>>^<<^v>^vvv<>^<><<v>\n",
    "v^^>>><<^^<>>^v^<v^vv<>v^<<>^<^v^v><^<<<><<^<v><v<>vv>>v><v^<vv<>v^<<^\n",
    "```\n",
    "\n",
    "As the robot (@) attempts to move, if there are any boxes (O) in the way, the robot will also attempt to push those boxes. However, if this action would cause the robot or a box to move into a wall (#), nothing moves instead, including the robot. The initial positions of these are shown on the map at the top of the document the lanternfish gave you.\n",
    "\n",
    "The rest of the document describes the moves (^ for up, v for down, < for left, > for right) that the robot will attempt to make, in order. (The moves form a single giant sequence; they are broken into multiple lines just to make copy-pasting easier. Newlines within the move sequence should be ignored.)\n",
    "\n",
    "The lanternfish use their own custom Goods Positioning System (GPS for short) to track the locations of the boxes. The GPS coordinate of a box is equal to 100 times its distance from the top edge of the map plus its distance from the left edge of the map. (This process does not stop at wall tiles; measure all the way to the edges of the map.)\n",
    "\n",
    "The lanternfish would like to know the sum of all boxes' GPS coordinates after the robot finishes moving. In the larger example, the sum of all boxes' GPS coordinates is 10092. In the smaller example, the sum is 2028."
   ]
  },
  {
   "cell_type": "code",
   "execution_count": 322,
   "id": "f7145376-509f-404b-9688-91915615f782",
   "metadata": {},
   "outputs": [],
   "source": [
    "def read_raw_text(filename):\n",
    "    \"\"\" Read entire file as a single string. \"\"\"\n",
    "    try:\n",
    "        with open(filename, \"r\", encoding=\"utf-8\") as file:\n",
    "            file_data = file.read()  \n",
    "        print(\"File successfully read.\")\n",
    "    except FileNotFoundError:\n",
    "        print(\"The specified file was not found.\")\n",
    "    except Exception as e:\n",
    "        print(f\"An error occurred: {e}\")\n",
    "    return file_data\n",
    "\n",
    "def get_grid_and_commands(text_lines):\n",
    "    grid_indices = []\n",
    "    for i, line in enumerate(text_lines):\n",
    "        if '#####' in line:\n",
    "            grid_indices.append(i)\n",
    "    grid_array = get_grid_array(text_lines[:grid_indices[1] + 1])\n",
    "    return grid_array, text_lines[grid_indices[1]+2:]\n",
    "\n",
    "def get_grid_array(text_lines):\n",
    "    return np.array([list(line) for line in text_lines])"
   ]
  },
  {
   "cell_type": "code",
   "execution_count": 323,
   "id": "6e37a96d-56c5-43e6-a72e-01b5ecdedf6a",
   "metadata": {},
   "outputs": [
    {
     "name": "stdout",
     "output_type": "stream",
     "text": [
      "File successfully read.\n"
     ]
    }
   ],
   "source": [
    "data_dir = 'Day_15'\n",
    "example_input = read_raw_text(os.path.join(data_dir, \"example_input_day_15.txt\")).split('\\n')\n",
    "example_grid, example_commands = get_grid_and_commands(example_input)\n",
    "example_grid = np.array([list(line) for line in example_grid])\n",
    "example_commands = np.array([list(x) for x in example_commands]).flatten()"
   ]
  },
  {
   "cell_type": "code",
   "execution_count": 324,
   "id": "e5ba8a39-a0fd-4465-bb82-649749134d97",
   "metadata": {},
   "outputs": [
    {
     "data": {
      "text/plain": [
       "array([['#', '#', '#', '#', '#', '#', '#', '#', '#', '#'],\n",
       "       ['#', '.', '.', 'O', '.', '.', 'O', '.', 'O', '#'],\n",
       "       ['#', '.', '.', '.', '.', '.', '.', 'O', '.', '#'],\n",
       "       ['#', '.', 'O', 'O', '.', '.', 'O', '.', 'O', '#'],\n",
       "       ['#', '.', '.', 'O', '@', '.', '.', 'O', '.', '#'],\n",
       "       ['#', 'O', '#', '.', '.', 'O', '.', '.', '.', '#'],\n",
       "       ['#', 'O', '.', '.', 'O', '.', '.', 'O', '.', '#'],\n",
       "       ['#', '.', 'O', 'O', '.', 'O', '.', 'O', 'O', '#'],\n",
       "       ['#', '.', '.', '.', '.', 'O', '.', '.', '.', '#'],\n",
       "       ['#', '#', '#', '#', '#', '#', '#', '#', '#', '#']], dtype='<U1')"
      ]
     },
     "execution_count": 324,
     "metadata": {},
     "output_type": "execute_result"
    }
   ],
   "source": [
    "example_grid"
   ]
  },
  {
   "cell_type": "code",
   "execution_count": 325,
   "id": "401caf31-c4b5-4280-9d95-9c451dd307ad",
   "metadata": {},
   "outputs": [],
   "source": [
    "class GridMap:\n",
    "    def __init__(self, grid, moves):\n",
    "        \"\"\"Initialize the grid.\"\"\"\n",
    "        self.grid = grid.copy()\n",
    "        self.grid_history = self.grid.copy()\n",
    "        self.planned_moves = moves\n",
    "        \n",
    "        self.n_rows = grid.shape[0]\n",
    "        self.n_cols = grid.shape[1]\n",
    "        self.directions = {'>': (0, 1), '<': (0, -1), '^': (-1, 0), 'v': (1, 0)}\n",
    "\n",
    "        # current move index position\n",
    "        self.move_count = 0\n",
    "        \n",
    "        self.current_position = self._find_robot_position()\n",
    "\n",
    "        # record of movements, incl directions\n",
    "        self.visited = set()\n",
    "        if self.current_position:\n",
    "            self._update_history()\n",
    "\n",
    "        # signify end of guard patrol\n",
    "        self.moves_complete = False\n",
    "\n",
    "    def _find_robot_position(self):\n",
    "            \"\"\"Find and return the robots current location. \"\"\"\n",
    "            for r in range(self.n_rows):\n",
    "                for c in range(self.n_cols):\n",
    "                    if self.grid[r][c] == '@':\n",
    "                        return (r, c)\n",
    "            return None\n",
    "\n",
    "    def _update_history(self):\n",
    "        \"\"\" Keep track of history for debugging / info. \"\"\"\n",
    "        self.visited.add((\n",
    "                self.move_count,\n",
    "                self.current_position[0], \n",
    "                self.current_position[1],\n",
    "                self._next_move()))\n",
    "\n",
    "    def _next_move(self):\n",
    "        \"\"\" Return the next planned movement. \"\"\"\n",
    "        return self.planned_moves[self.move_count]\n",
    "\n",
    "    def _check_box(self, row, col):\n",
    "         if self.grid[row][col] == 'O':\n",
    "             return True\n",
    "\n",
    "    def move_box(self, row, col, direction):\n",
    "        \"\"\" Attempt to move boxes in current direction. \"\"\"\n",
    "        dr, dc = self.directions[direction]\n",
    "        target_row = row + dr\n",
    "        target_col = col + dc\n",
    "        \n",
    "        # Check how far the boxes can move\n",
    "        while (0 <= target_row < self.n_rows and 0 <= target_col < self.n_cols) and (self.grid[target_row][target_col] == 'O'):\n",
    "            target_row += dr\n",
    "            target_col += dc\n",
    "\n",
    "        # If the next cell is free, push the boxes and move the robot\n",
    "        if 0 <= target_row < self.n_rows and 0 <= target_col < self.n_cols and self.grid[target_row][target_col] == '.':\n",
    "            while (target_row, target_col) != (row, col):\n",
    "                prev_row = target_row - dr\n",
    "                prev_col = target_col - dc\n",
    "                self.grid[target_row][target_col] = 'O'\n",
    "                self.grid[prev_row][prev_col] = '.'\n",
    "                target_row, target_col = prev_row, prev_col\n",
    "    \n",
    "    def _check_grid_end(self, row, col):\n",
    "        \"\"\" Check if next move will move off of the grid (end). \"\"\"\n",
    "        if (row>=self.n_rows or row<0) or (col>=self.n_cols or col<0) or (self.grid[row][col] == '#'):\n",
    "            return True\n",
    "\n",
    "    def _update_current_position(self, position):\n",
    "        \"\"\" Perform series of actions to update current position. \"\"\"\n",
    "        \n",
    "        old_x, old_y = self.current_position\n",
    "        new_x, new_y = position\n",
    "\n",
    "        self.current_position = position\n",
    "\n",
    "        self._update_history()\n",
    "\n",
    "        # remove old position from current grid\n",
    "        self.grid[old_x][old_y] = '.'\n",
    "\n",
    "        # update new position with indicator on our grid\n",
    "        self.grid[new_x, new_y] = '@'\n",
    "        \n",
    "    def _get_next_position(self):\n",
    "        \"\"\"\" Get next intended position, based on current position \"\"\"\n",
    "        x, y = self.current_position\n",
    "        direction = self._next_move()\n",
    "        \n",
    "        delta_x, delta_y = self.directions[direction]\n",
    "        next_x = x + delta_x\n",
    "        next_y = y + delta_y\n",
    "\n",
    "        # validate end of grid - consume move and remain in current position\n",
    "        if self._check_grid_end(next_x, next_y):\n",
    "            return self.current_position\n",
    "\n",
    "        # if box, initiate box movement procedure\n",
    "        elif self._check_box(next_x, next_y):\n",
    "\n",
    "            # attempt to move boxes in designated direction\n",
    "            self.move_box(next_x, next_y, direction)\n",
    "\n",
    "            # if still box after above - we havent moved\n",
    "            if self._check_box(next_x, next_y):\n",
    "                return self.current_position\n",
    "            # otherwise - we can move to new position\n",
    "            else:\n",
    "                return next_x, next_y\n",
    "\n",
    "        # if no box or grid end, we can move\n",
    "        else:\n",
    "            return next_x, next_y\n",
    "        \n",
    "    def move(self):\n",
    "        \"\"\" If there is something directly in front, turn right 90 degrees, \n",
    "            otherwise, take a step forward.\n",
    "        \"\"\"\n",
    "        if self.moves_complete:\n",
    "            print('Robot has completed all planned moves. No more movements to carry out!')\n",
    "            return\n",
    "\n",
    "        else:\n",
    "            # determine next position to move based on current position and direction\n",
    "            next_position = self._get_next_position()\n",
    "\n",
    "            # formally update our position (x, y, direction) and grid history\n",
    "            self._update_current_position(next_position)\n",
    "\n",
    "            # add to our record of total movements\n",
    "            self.move_count += 1\n",
    "\n",
    "            # if all moves consumed, change moves complete to true\n",
    "            if self.move_count == self.planned_moves.shape[0]:\n",
    "                self.moves_complete = True\n",
    "\n",
    "    \n",
    "    def solve_movements(self, attempt_limit=25000):\n",
    "        while not self.moves_complete and self.move_count < attempt_limit:\n",
    "            _ = self.move()\n",
    "        if self.move_count >= attempt_limit:\n",
    "            print(f\"Cancelling this attempt after {self.move_count} attempts!\")\n",
    "        return"
   ]
  },
  {
   "cell_type": "code",
   "execution_count": 326,
   "id": "1b2ea92b-fa1f-489e-8780-686de168905b",
   "metadata": {},
   "outputs": [
    {
     "data": {
      "text/plain": [
       "700"
      ]
     },
     "execution_count": 326,
     "metadata": {},
     "output_type": "execute_result"
    }
   ],
   "source": [
    "example_gridmap = GridMap(example_grid, example_commands)\n",
    "example_gridmap.solve_movements()\n",
    "example_gridmap.move_count"
   ]
  },
  {
   "cell_type": "code",
   "execution_count": 327,
   "id": "94b385a6-693f-434f-b109-3ac2d68bfe70",
   "metadata": {},
   "outputs": [
    {
     "data": {
      "text/plain": [
       "array([['#', '#', '#', '#', '#', '#', '#', '#', '#', '#'],\n",
       "       ['#', '.', 'O', '.', 'O', '.', 'O', 'O', 'O', '#'],\n",
       "       ['#', '.', '.', '.', '.', '.', '.', '.', '.', '#'],\n",
       "       ['#', 'O', 'O', '.', '.', '.', '.', '.', '.', '#'],\n",
       "       ['#', 'O', 'O', '@', '.', '.', '.', '.', '.', '#'],\n",
       "       ['#', 'O', '#', '.', '.', '.', '.', '.', 'O', '#'],\n",
       "       ['#', 'O', '.', '.', '.', '.', '.', 'O', 'O', '#'],\n",
       "       ['#', 'O', '.', '.', '.', '.', '.', 'O', 'O', '#'],\n",
       "       ['#', 'O', 'O', '.', '.', '.', '.', 'O', 'O', '#'],\n",
       "       ['#', '#', '#', '#', '#', '#', '#', '#', '#', '#']], dtype='<U1')"
      ]
     },
     "execution_count": 327,
     "metadata": {},
     "output_type": "execute_result"
    }
   ],
   "source": [
    "example_gridmap.grid"
   ]
  },
  {
   "cell_type": "markdown",
   "id": "c9b2cbc6-93bb-488b-b837-ceb39d42b508",
   "metadata": {},
   "source": [
    "Good, this matches the example given. Lets now calculate the final cost and run this on the real inputs."
   ]
  },
  {
   "cell_type": "code",
   "execution_count": 335,
   "id": "f37a5030-8ef9-4711-a39f-32003a86d512",
   "metadata": {},
   "outputs": [
    {
     "name": "stdout",
     "output_type": "stream",
     "text": [
      "Final GPS score: 10092\n"
     ]
    }
   ],
   "source": [
    "def compute_gps_score(grid):\n",
    "    row_dists, col_dists = np.where(grid == 'O')\n",
    "    return np.sum((row_dists * 100) + col_dists)\n",
    "\n",
    "gps_cost = compute_gps_score(example_gridmap.grid)\n",
    "print(f\"Final GPS score: {gps_cost}\")"
   ]
  },
  {
   "cell_type": "markdown",
   "id": "89bb62cb-d8cf-4b14-ba51-afb9d40511ac",
   "metadata": {},
   "source": [
    "With the real input data:"
   ]
  },
  {
   "cell_type": "code",
   "execution_count": 336,
   "id": "3d275f55-6075-494e-a918-1a1e772fa5d1",
   "metadata": {},
   "outputs": [
    {
     "name": "stdout",
     "output_type": "stream",
     "text": [
      "File successfully read.\n"
     ]
    },
    {
     "data": {
      "text/plain": [
       "((50, 50), (20000,))"
      ]
     },
     "execution_count": 336,
     "metadata": {},
     "output_type": "execute_result"
    }
   ],
   "source": [
    "data_dir = 'Day_15'\n",
    "input_data = read_raw_text(os.path.join(data_dir, \"day_15_input.txt\")).split('\\n')\n",
    "grid, commands = get_grid_and_commands(input_data)\n",
    "grid = np.array([list(line) for line in grid])\n",
    "commands = np.array([list(x) for x in commands]).flatten()\n",
    "grid.shape, commands.shape"
   ]
  },
  {
   "cell_type": "code",
   "execution_count": 337,
   "id": "3908f200-4291-4d0e-8f32-44efc9d90f3e",
   "metadata": {},
   "outputs": [
    {
     "data": {
      "text/plain": [
       "20000"
      ]
     },
     "execution_count": 337,
     "metadata": {},
     "output_type": "execute_result"
    }
   ],
   "source": [
    "input_gridmap = GridMap(grid, commands)\n",
    "input_gridmap.solve_movements()\n",
    "input_gridmap.move_count"
   ]
  },
  {
   "cell_type": "code",
   "execution_count": 338,
   "id": "2929f196-2c44-4979-917b-32be90ad1e3a",
   "metadata": {},
   "outputs": [
    {
     "name": "stdout",
     "output_type": "stream",
     "text": [
      "Final GPS score: 1509863\n"
     ]
    }
   ],
   "source": [
    "gps_cost = compute_gps_score(input_gridmap.grid)\n",
    "print(f\"Final GPS score: {gps_cost}\")"
   ]
  },
  {
   "cell_type": "markdown",
   "id": "39d65671-ee57-46df-bfb1-2a751311b630",
   "metadata": {},
   "source": [
    "Correct!"
   ]
  },
  {
   "cell_type": "markdown",
   "id": "0bebe3dd-3bb0-492f-9338-2d0a502e804d",
   "metadata": {},
   "source": [
    "### Day 15, Part 2:"
   ]
  },
  {
   "cell_type": "markdown",
   "id": "61806f62-738a-491f-95e7-4e36987682af",
   "metadata": {},
   "source": [
    "The lanternfish use your information to find a safe moment to swim in and turn off the malfunctioning robot! Just as they start preparing a festival in your honor, reports start coming in that a second warehouse's robot is also malfunctioning.\n",
    "\n",
    "This warehouse's layout is surprisingly similar to the one you just helped. There is one key difference: everything except the robot is twice as wide! The robot's list of movements doesn't change.\n",
    "\n",
    "To get the wider warehouse's map, start with your original map and, for each tile, make the following changes:\n",
    "\n",
    "```\n",
    "If the tile is #, the new map contains ## instead.\n",
    "If the tile is O, the new map contains [] instead.\n",
    "If the tile is ., the new map contains .. instead.\n",
    "If the tile is @, the new map contains @. instead.\n",
    "```\n",
    "\n",
    "Because boxes are now twice as wide but the robot is still the same size and speed, boxes can be aligned such that they directly push two other boxes at once.\n",
    "\n",
    "This warehouse also uses GPS to locate the boxes. For these larger boxes, distances are measured from the edge of the map to the closest edge of the box in question."
   ]
  },
  {
   "cell_type": "code",
   "execution_count": 350,
   "id": "0fc2fc17-9f46-4f09-a3ee-7dd79bdfaf48",
   "metadata": {},
   "outputs": [],
   "source": [
    "def transform_grid(grid):\n",
    "    \"\"\" Transform grid into expanded-width Part 2 version \"\"\"\n",
    "    new_grid = np.zeros((grid.shape[0], grid.shape[1]*2)).astype(int)\n",
    "    new_grid = new_grid.astype(str)\n",
    "\n",
    "    # by defualt, set all cells to '.'\n",
    "    new_grid[:, :] = '.'\n",
    "\n",
    "    # transform barriers (#)\n",
    "    barrier_rows, barrier_cols = np.where(grid == '#')\n",
    "    new_grid[barrier_rows, barrier_cols * 2] = '#'\n",
    "    new_grid[barrier_rows, (barrier_cols * 2) + 1] = '#'\n",
    "\n",
    "    # transform robot position\n",
    "    robot_row, robot_col = np.where(grid == '@')\n",
    "    new_grid[robot_row, robot_col * 2] = '@' \n",
    "\n",
    "    box_rows, box_cols = np.where(grid == 'O')\n",
    "    new_grid[box_rows, box_cols * 2] = '['\n",
    "    new_grid[box_rows, (box_cols * 2) + 1] = ']'\n",
    "    \n",
    "    return new_grid"
   ]
  },
  {
   "cell_type": "code",
   "execution_count": 351,
   "id": "9e740d5f-683f-47b1-9756-4c1b88b60ef6",
   "metadata": {},
   "outputs": [],
   "source": [
    "class GridMapV2:\n",
    "    def __init__(self, grid, moves):\n",
    "        \"\"\"Initialize the grid.\"\"\"\n",
    "        self.grid = grid.copy()\n",
    "        self.grid_history = self.grid.copy()\n",
    "        self.planned_moves = moves\n",
    "        \n",
    "        self.n_rows = grid.shape[0]\n",
    "        self.n_cols = grid.shape[1]\n",
    "        self.directions = {'>': (0, 1), '<': (0, -1), '^': (-1, 0), 'v': (1, 0)}\n",
    "\n",
    "        # current move index position\n",
    "        self.move_count = 0\n",
    "        \n",
    "        self.current_position = self._find_robot_position()\n",
    "\n",
    "        # record of movements, incl directions\n",
    "        self.visited = set()\n",
    "        if self.current_position:\n",
    "            self._update_history()\n",
    "\n",
    "        # signify end of guard patrol\n",
    "        self.moves_complete = False\n",
    "\n",
    "    def _find_robot_position(self):\n",
    "            \"\"\"Find and return the robots current location. \"\"\"\n",
    "            for r in range(self.n_rows):\n",
    "                for c in range(self.n_cols):\n",
    "                    if self.grid[r][c] == '@':\n",
    "                        return (r, c)\n",
    "            return None\n",
    "\n",
    "    def _update_history(self):\n",
    "        \"\"\" Keep track of history for debugging / info. \"\"\"\n",
    "        self.visited.add((\n",
    "                self.move_count,\n",
    "                self.current_position[0], \n",
    "                self.current_position[1],\n",
    "                self._next_move()))\n",
    "\n",
    "    def _next_move(self):\n",
    "        \"\"\" Return the next planned movement. \"\"\"\n",
    "        return self.planned_moves[self.move_count]\n",
    "\n",
    "    def _check_box(self, row, col):\n",
    "         if self.grid[row][col] in ['[', ']']:\n",
    "             return True\n",
    "\n",
    "    def display_grid(self):\n",
    "        return [\"\".join(list(x)) for x in self.grid]\n",
    "\n",
    "    \n",
    "    def move_box(self, row, col, direction):\n",
    "        \"\"\" Attempt to move boxes in current direction. \"\"\"\n",
    "        # check if direction sidewards or not\n",
    "        if direction in ['<', '>']:\n",
    "            self.move_box_sidewards(row, col, direction)\n",
    "        else:\n",
    "            self.move_box_vertically(row, col, direction)\n",
    "\n",
    "    \n",
    "    def move_box_sidewards(self, row, col, direction):\n",
    "        \"\"\" Attempt to move boxes in current direction. \"\"\"\n",
    "        \n",
    "        # get transform for given motion\n",
    "        dr, dc = self.directions[direction]\n",
    "        \n",
    "        target_row = row + dr\n",
    "        target_col = col + dc\n",
    "        \n",
    "        # Check how far the boxes can move\n",
    "        while (0 <= target_row < self.n_rows and 0 <= target_col < self.n_cols) and (self.grid[target_row][target_col] in ['[', ']']):\n",
    "            target_row += dr\n",
    "            target_col += dc\n",
    "\n",
    "        # If the next cell is free, push the boxes and move the robot\n",
    "        if 0 <= target_row < self.n_rows and 0 <= target_col < self.n_cols and self.grid[target_row][target_col] == '.':\n",
    "            while (target_row, target_col) != (row, col):\n",
    "                prev_row = target_row - dr\n",
    "                prev_col = target_col - dc\n",
    "                \n",
    "                # set new one to same as old one\n",
    "                initial_value = self.grid[prev_row][prev_col]\n",
    "                self.grid[target_row][target_col] = initial_value\n",
    "\n",
    "                # set old one to free space (until next update)\n",
    "                self.grid[prev_row][prev_col] = '.'\n",
    "                target_row, target_col = prev_row, prev_col\n",
    "\n",
    "    \n",
    "    def move_box_vertically(self, row, col, direction):\n",
    "        \"\"\" Attempt to move boxes in current direction. \n",
    "\n",
    "        Args:\n",
    "            row (int) : row of the box currently.\n",
    "            col (int) : column of the box currently.\n",
    "            direction (str) : Direction to move box ('^' or 'v')\n",
    "        \"\"\"\n",
    "        box_set = set()\n",
    "        results = []\n",
    "        \n",
    "        self.get_vertical_move_boxes(row, col, direction, box_set, results)\n",
    "\n",
    "        # only move box if all positions valid, otherwise do nothing\n",
    "        if all(results):\n",
    "            self.move_boxes(box_set, direction)\n",
    "            \n",
    "\n",
    "    def _check_grid_end(self, row, col):\n",
    "        \"\"\" Check if next move will move off of the grid (end). \"\"\"\n",
    "        if (row>=self.n_rows or row<0) or (col>=self.n_cols or col<0) or (self.grid[row][col] == '#'):\n",
    "            return True\n",
    "\n",
    "    \n",
    "    def _update_current_position(self, position):\n",
    "        \"\"\" Perform series of actions to update current position. \"\"\"\n",
    "        \n",
    "        old_x, old_y = self.current_position\n",
    "        new_x, new_y = position\n",
    "\n",
    "        self.current_position = position\n",
    "\n",
    "        self._update_history()\n",
    "\n",
    "        # remove old position from current grid\n",
    "        self.grid[old_x][old_y] = '.'\n",
    "\n",
    "        # update new position with indicator on our grid\n",
    "        self.grid[new_x, new_y] = '@'\n",
    "\n",
    "        \n",
    "    def _get_next_position(self):\n",
    "        \"\"\"\" Get next intended position, based on current position \"\"\"\n",
    "        x, y = self.current_position\n",
    "        direction = self._next_move()\n",
    "        \n",
    "        delta_x, delta_y = self.directions[direction]\n",
    "        next_x = x + delta_x\n",
    "        next_y = y + delta_y\n",
    "\n",
    "        # validate end of grid - consume move and remain in current position\n",
    "        if self._check_grid_end(next_x, next_y):\n",
    "            return self.current_position\n",
    "\n",
    "        # if box, initiate box movement procedure\n",
    "        elif self._check_box(next_x, next_y):\n",
    "\n",
    "            # attempt to move boxes in designated direction\n",
    "            self.move_box(next_x, next_y, direction)\n",
    "\n",
    "            # if still box after above - we havent moved\n",
    "            if self._check_box(next_x, next_y):\n",
    "                return self.current_position\n",
    "            # otherwise - we can move to new position\n",
    "            else:\n",
    "                return next_x, next_y\n",
    "\n",
    "        # if no box or grid end, we can move\n",
    "        else:\n",
    "            return next_x, next_y\n",
    "\n",
    "        \n",
    "    def move(self):\n",
    "        \"\"\" If there is something directly in front, turn right 90 degrees, \n",
    "            otherwise, take a step forward.\n",
    "        \"\"\"\n",
    "        if self.moves_complete:\n",
    "            print('Robot has completed all planned moves. No more movements to carry out!')\n",
    "            return\n",
    "\n",
    "        else:\n",
    "            # determine next position to move based on current position and direction\n",
    "            next_position = self._get_next_position()\n",
    "\n",
    "            # formally update our position (x, y, direction) and grid history\n",
    "            self._update_current_position(next_position)\n",
    "\n",
    "            # add to our record of total movements\n",
    "            self.move_count += 1\n",
    "\n",
    "            # if all moves consumed, change moves complete to true\n",
    "            if self.move_count == self.planned_moves.shape[0]:\n",
    "                self.moves_complete = True\n",
    "\n",
    "    \n",
    "    def solve_movements(self, attempt_limit=25000):\n",
    "        while not self.moves_complete and self.move_count < attempt_limit:\n",
    "            _ = self.move()\n",
    "        if self.move_count >= attempt_limit:\n",
    "            print(f\"Cancelling this attempt after {self.move_count} attempts!\")\n",
    "        return\n",
    "\n",
    "\n",
    "    def get_vertical_move_boxes(self, row, col, direction, box_set, results):\n",
    "        \"\"\" If we find boxes, continue recursively finding boxes and validating until\n",
    "            all box positions are confirmed move friendly, or alternatively we \n",
    "            encounter an obstacle and cannot move.\n",
    "        \"\"\"\n",
    "        box_half = self.grid[row][col]\n",
    "    \n",
    "        if direction == '^':\n",
    "            dy = -1\n",
    "        else:\n",
    "            dy = 1\n",
    "        \n",
    "        # if left half, check cells up and up-right for objects / other boxes\n",
    "        if box_half == '[':\n",
    "            second_half = (row, col+1)\n",
    "            up1 = (row+dy, col)\n",
    "            up2 = (row+dy, col+1)\n",
    "        \n",
    "        # if right half, check cells up and up-left\n",
    "        else:\n",
    "            second_half = (row, col-1)\n",
    "            up1 = (row+dy, col)\n",
    "            up2 = (row+dy, col-1)\n",
    "            \n",
    "        up1_val = self.grid[up1[0]][up1[1]]\n",
    "        up2_val = self.grid[up2[0]][up2[1]]\n",
    "    \n",
    "        # if not already in our set, add current co-ords for box halves\n",
    "        box_set.add((row,col))\n",
    "    \n",
    "        if second_half not in box_set:\n",
    "            # we also need to call this same function recursively on box half 2\n",
    "            box_set.add(second_half)\n",
    "            self.get_vertical_move_boxes(second_half[0], second_half[1],\n",
    "                                    direction, box_set, results)\n",
    "    \n",
    "    \n",
    "        if up1_val == '#' or up2_val == '#':\n",
    "            #print(\"Obstacle or other issue detected... not moving.\")\n",
    "            #print(f\"{up1}: {up1_val}, {up2} : {up2_val}\")\n",
    "            results.extend([False])\n",
    "    \n",
    "        elif up1_val in ['[', ']'] or up2_val in ['[', ']']:\n",
    "            # Add to our set of box nodes and continue adding\n",
    "    \n",
    "            if up1_val in ['[', ']'] and up1 not in box_set:\n",
    "                box_set.add(up1)\n",
    "                #print(f\"Continuing search of boxes at co-ords: {up1[0]}, {up1[1]}\")\n",
    "                self.get_vertical_move_boxes(up1[0], up1[1], direction, box_set, results)\n",
    "    \n",
    "            if up2_val in ['[', ']'] and up2 not in box_set:\n",
    "                box_set.add(up2)\n",
    "                #print(f\"Continuing search of boxes at co-ords: {up2[0]}, {up2[1]}\")\n",
    "                self.get_vertical_move_boxes(up2[0], up2[1], direction, box_set, results)\n",
    "             \n",
    "        elif up1_val == '.' and up2_val == '.':\n",
    "            # we can move - perform move\n",
    "            #print(\"We can move... moving....\")\n",
    "            results.extend([True])\n",
    "            \n",
    "        else:\n",
    "            # some other problem, cannot move - return False\n",
    "            #print(\"Further problem / unknown condition - not moving...\")\n",
    "            #print(f\"{up1}: {up1_val}, {up2} : {up2_val}\")\n",
    "            results.extend([False])\n",
    "\n",
    "    def move_boxes(self, box_coord_set, direction):\n",
    "        if direction == '^':\n",
    "            dy = -1\n",
    "            # work from top to bottom order for updating values\n",
    "            sorted_boxes = sorted(box_coord_set, key= lambda x: x[0])\n",
    "        else:\n",
    "            dy = 1\n",
    "            # if downwards, work from bottom to top for updating\n",
    "            sorted_boxes = sorted(box_coord_set, reverse=True, key= lambda x: x[0])\n",
    "    \n",
    "        for coords in sorted_boxes:\n",
    "            cell_value = self.grid[coords[0]][coords[1]]\n",
    "            self.grid[coords[0] + dy][coords[1]] = cell_value\n",
    "            self.grid[coords[0]][coords[1]] = \".\""
   ]
  },
  {
   "cell_type": "code",
   "execution_count": 353,
   "id": "cf7d13af-2afd-4642-8933-3e4b027a258e",
   "metadata": {},
   "outputs": [
    {
     "name": "stdout",
     "output_type": "stream",
     "text": [
      "File successfully read.\n"
     ]
    }
   ],
   "source": [
    "data_dir = 'Day_15'\n",
    "example_input = read_raw_text(os.path.join(data_dir, \"example_input_day_15.txt\")).split('\\n')\n",
    "example_grid, example_commands = get_grid_and_commands(example_input)\n",
    "\n",
    "example_grid = np.array([list(line) for line in example_grid])\n",
    "example_commands = np.array([list(x) for x in example_commands]).flatten()\n",
    "\n",
    "tx_grid = transform_grid(example_grid)\n",
    "example_gridmap = GridMapV2(tx_grid, example_commands)"
   ]
  },
  {
   "cell_type": "code",
   "execution_count": 354,
   "id": "fe347600-ae0f-4e45-b132-d850fcb8f24d",
   "metadata": {},
   "outputs": [
    {
     "data": {
      "text/plain": [
       "['####################',\n",
       " '##[].......[].[][]##',\n",
       " '##[]...........[].##',\n",
       " '##[]........[][][]##',\n",
       " '##[]......[]....[]##',\n",
       " '##..##......[]....##',\n",
       " '##..[]............##',\n",
       " '##..@......[].[][]##',\n",
       " '##......[][]..[]..##',\n",
       " '####################']"
      ]
     },
     "execution_count": 354,
     "metadata": {},
     "output_type": "execute_result"
    }
   ],
   "source": [
    "example_gridmap.solve_movements()\n",
    "example_gridmap.display_grid()"
   ]
  },
  {
   "cell_type": "code",
   "execution_count": 356,
   "id": "a13ad591-8e04-4501-812a-7d15d026d17d",
   "metadata": {},
   "outputs": [
    {
     "name": "stdout",
     "output_type": "stream",
     "text": [
      "Final GPS score: 9021\n"
     ]
    }
   ],
   "source": [
    "def compute_gps_score_v2(grid):\n",
    "    row_dists, col_dists = np.where(grid == '[')\n",
    "    return np.sum((row_dists * 100) + col_dists)\n",
    "\n",
    "gps_cost = compute_gps_score_v2(example_gridmap.grid)\n",
    "print(f\"Final GPS score: {gps_cost}\")"
   ]
  },
  {
   "cell_type": "markdown",
   "id": "87f0d51e-34ee-4955-b8dd-a05a14799b46",
   "metadata": {},
   "source": [
    "This perfectly aligns with the example. Let's now try it on the real inputs:"
   ]
  },
  {
   "cell_type": "code",
   "execution_count": 357,
   "id": "d034a97e-823c-44e3-9f40-b0aa2a0fa96e",
   "metadata": {},
   "outputs": [
    {
     "name": "stdout",
     "output_type": "stream",
     "text": [
      "File successfully read.\n"
     ]
    }
   ],
   "source": [
    "data_dir = 'Day_15'\n",
    "input_data = read_raw_text(os.path.join(data_dir, \"day_15_input.txt\")).split('\\n')\n",
    "grid, commands = get_grid_and_commands(input_data)\n",
    "grid = np.array([list(line) for line in grid])\n",
    "commands = np.array([list(x) for x in commands]).flatten()\n",
    "\n",
    "tx_grid = transform_grid(grid)\n",
    "input_gridmap = GridMapV2(tx_grid, commands)"
   ]
  },
  {
   "cell_type": "code",
   "execution_count": 358,
   "id": "4b194d4a-9fdd-4ef3-a108-cb9bf3765ed5",
   "metadata": {},
   "outputs": [
    {
     "data": {
      "text/plain": [
       "((50, 100), (20000,))"
      ]
     },
     "execution_count": 358,
     "metadata": {},
     "output_type": "execute_result"
    }
   ],
   "source": [
    "input_gridmap.grid.shape, commands.shape"
   ]
  },
  {
   "cell_type": "code",
   "execution_count": 359,
   "id": "9e89b140-2813-446a-881b-248698005b00",
   "metadata": {},
   "outputs": [
    {
     "name": "stdout",
     "output_type": "stream",
     "text": [
      "CPU times: user 65.3 ms, sys: 2.23 ms, total: 67.6 ms\n",
      "Wall time: 66.2 ms\n"
     ]
    }
   ],
   "source": [
    "%%time\n",
    "input_gridmap.solve_movements()"
   ]
  },
  {
   "cell_type": "code",
   "execution_count": 360,
   "id": "2802f575-9fcc-4365-97c8-0b1c144dc400",
   "metadata": {},
   "outputs": [
    {
     "name": "stdout",
     "output_type": "stream",
     "text": [
      "Final GPS score: 1548815\n"
     ]
    }
   ],
   "source": [
    "gps_cost = compute_gps_score_v2(input_gridmap.grid)\n",
    "print(f\"Final GPS score: {gps_cost}\")"
   ]
  },
  {
   "cell_type": "markdown",
   "id": "1b7ae038-139c-4939-8236-558bb829e46e",
   "metadata": {
    "jp-MarkdownHeadingCollapsed": true
   },
   "source": [
    "## Day 16 - Reindeer Maze"
   ]
  },
  {
   "cell_type": "markdown",
   "id": "9b1c3e96-0122-40a7-95b6-9c34d64e57ec",
   "metadata": {},
   "source": [
    "### Day 16, Part 1:"
   ]
  },
  {
   "cell_type": "markdown",
   "id": "2ab7df98-a7f3-42bb-9caf-d68f6f1bf143",
   "metadata": {},
   "source": [
    "The Reindeer start on the Start Tile (marked S) facing East and need to reach the End Tile (marked E). They can move forward one tile at a time (increasing their score by 1 point), but never into a wall (#). They can also rotate clockwise or counterclockwise 90 degrees at a time (increasing their score by 1000 points). What is the lowest score a Reindeer could possibly get?"
   ]
  },
  {
   "cell_type": "code",
   "execution_count": 361,
   "id": "030d6cfe-004c-42c8-bc3d-6e4df400760c",
   "metadata": {},
   "outputs": [],
   "source": [
    "def read_raw_text(filename):\n",
    "    \"\"\" Read entire file as a single string. \"\"\"\n",
    "    try:\n",
    "        with open(filename, \"r\", encoding=\"utf-8\") as file:\n",
    "            file_data = file.read()  \n",
    "        print(\"File successfully read.\")\n",
    "    except FileNotFoundError:\n",
    "        print(\"The specified file was not found.\")\n",
    "    except Exception as e:\n",
    "        print(f\"An error occurred: {e}\")\n",
    "    return file_data"
   ]
  },
  {
   "cell_type": "code",
   "execution_count": 363,
   "id": "754ac922-6103-4882-8908-5bdc1a7d35e0",
   "metadata": {},
   "outputs": [
    {
     "name": "stdout",
     "output_type": "stream",
     "text": [
      "File successfully read.\n"
     ]
    }
   ],
   "source": [
    "data_dir = 'Day_16'\n",
    "example_maze = read_raw_text(os.path.join(data_dir, 'example_input_day_16.txt')).split('\\n')\n",
    "example_maze = [list(x) for x in example_maze]"
   ]
  },
  {
   "cell_type": "code",
   "execution_count": 364,
   "id": "d4c19b00-3c4d-4440-956d-e47438da9f6c",
   "metadata": {},
   "outputs": [
    {
     "data": {
      "text/plain": [
       "[['#', '#', '#', '#', '#', '#', '#', '#', '#', '#', '#', '#', '#', '#', '#'],\n",
       " ['#', '.', '.', '.', '.', '.', '.', '.', '#', '.', '.', '.', '.', 'E', '#'],\n",
       " ['#', '.', '#', '.', '#', '#', '#', '.', '#', '.', '#', '#', '#', '.', '#'],\n",
       " ['#', '.', '.', '.', '.', '.', '#', '.', '#', '.', '.', '.', '#', '.', '#'],\n",
       " ['#', '.', '#', '#', '#', '.', '#', '#', '#', '#', '#', '.', '#', '.', '#'],\n",
       " ['#', '.', '#', '.', '#', '.', '.', '.', '.', '.', '.', '.', '#', '.', '#'],\n",
       " ['#', '.', '#', '.', '#', '#', '#', '#', '#', '.', '#', '#', '#', '.', '#'],\n",
       " ['#', '.', '.', '.', '.', '.', '.', '.', '.', '.', '.', '.', '#', '.', '#'],\n",
       " ['#', '#', '#', '.', '#', '.', '#', '#', '#', '#', '#', '.', '#', '.', '#'],\n",
       " ['#', '.', '.', '.', '#', '.', '.', '.', '.', '.', '#', '.', '#', '.', '#'],\n",
       " ['#', '.', '#', '.', '#', '.', '#', '#', '#', '.', '#', '.', '#', '.', '#'],\n",
       " ['#', '.', '.', '.', '.', '.', '#', '.', '.', '.', '#', '.', '#', '.', '#'],\n",
       " ['#', '.', '#', '#', '#', '.', '#', '.', '#', '.', '#', '.', '#', '.', '#'],\n",
       " ['#', 'S', '.', '.', '#', '.', '.', '.', '.', '.', '#', '.', '.', '.', '#'],\n",
       " ['#', '#', '#', '#', '#', '#', '#', '#', '#', '#', '#', '#', '#', '#', '#']]"
      ]
     },
     "execution_count": 364,
     "metadata": {},
     "output_type": "execute_result"
    }
   ],
   "source": [
    "example_maze"
   ]
  },
  {
   "cell_type": "markdown",
   "id": "ba501ea3-13c7-457d-b3fe-4271b29f3fe6",
   "metadata": {},
   "source": [
    "To solve this maze with minimal cost overall, we need to considers both movement and turning costs, whilst simultaneously solving the maze (which has loops also!). \n",
    "\n",
    "The most effective approach would be a modified A (A-star) search algorithm* that incorporates the cost of movement and turning into its heuristic and cost calculation. The challenge is introducing a heuristic into this will modify the cost function, and thus make it incorrect relative to the expected answer. We'll ignore this for now and not use a heuristic, but ideally for future, more complex mazes, this would become more necessary.\n",
    "\n",
    "Although we could use a standard data structure (e.g. lists, tuples, or queue), we'll make use of a more efficient priority queue using the heapq library. This gives retrieval of the smallest element O(log n), and insertion loss of O(log n). We'll use the cost as the first element of each entry in our priority queue. This means that the smallest element (best cost) is always at the top of the heap. The element in our heap will be in the form (cost, x, y, direction). This ensures that the best cost route is more efficiently available."
   ]
  },
  {
   "cell_type": "code",
   "execution_count": 365,
   "id": "636580e9-a1a2-4b0a-bdbc-676ecca2505c",
   "metadata": {},
   "outputs": [],
   "source": [
    "import heapq\n",
    "\n",
    "def solve_maze(maze, start, end, add_heuristic=False):\n",
    "    directions = ['N', 'E', 'S', 'W']  # Cardinal directions\n",
    "    dx_dy = {'N': (-1, 0), 'E': (0, 1), 'S': (1, 0), 'W': (0, -1)}\n",
    "    \n",
    "    def turn_cost(current, new):\n",
    "        current_idx = directions.index(current)\n",
    "        new_idx = directions.index(new)\n",
    "        return 1000 if current_idx != new_idx else 0\n",
    "    \n",
    "    def is_valid(x, y):\n",
    "        return 0 <= x < len(maze) and 0 <= y < len(maze[0]) and maze[x][y] != '#'\n",
    "    \n",
    "    def heuristic(x, y):\n",
    "        return abs(end[0] - x) + abs(end[1] - y)\n",
    "    \n",
    "    # Priority queue for A* search\n",
    "    pq = []\n",
    "\n",
    "    # push our initial direction and location to our priority queue\n",
    "    start_direction = 'E'\n",
    "    heapq.heappush(pq, (0, start[0], start[1], start_direction))\n",
    "\n",
    "    # store the parent of all of our states (to maintain route history)\n",
    "    parent = {}\n",
    "\n",
    "    # store the lowest cost at which each state was visited\n",
    "    # if we resit a state with higher or equal cost, we skip (this avoids inf loops)\n",
    "    visited = {}\n",
    "    \n",
    "    while pq:\n",
    "        cost, x, y, direction = heapq.heappop(pq)\n",
    "        \n",
    "        if (x, y) == end:\n",
    "            # get best path - go through history until we're back at start (no parent)\n",
    "            path = []\n",
    "            current = (x, y, direction)\n",
    "            while current in parent:\n",
    "                path.append(current)\n",
    "                current = parent[current]\n",
    "\n",
    "            # finally add our start state\n",
    "            path.append((start[0], start[1], start_direction))\n",
    "\n",
    "            # return cost and path (in order)\n",
    "            return cost, path[::-1]\n",
    "\n",
    "        # if we've already visited this state with lower cost, skip\n",
    "        if (x, y, direction) in visited and visited[(x, y, direction)] <= cost:\n",
    "            continue\n",
    "\n",
    "        # add current state and cost\n",
    "        visited[(x, y, direction)] = cost\n",
    "        \n",
    "        # assess movements for current position\n",
    "        for new_direction in directions:\n",
    "            new_cost = cost + turn_cost(direction, new_direction)\n",
    "            nx, ny = x + dx_dy[new_direction][0], y + dx_dy[new_direction][1]\n",
    "            \n",
    "            if is_valid(nx, ny):\n",
    "                new_state = (nx, ny, new_direction)\n",
    "                if add_heuristic:\n",
    "                    heapq.heappush(pq, (new_cost + 1 + heuristic(nx, ny), \n",
    "                                        nx, ny, new_direction))\n",
    "                else:\n",
    "                    heapq.heappush(pq, (new_cost + 1, nx, ny, new_direction))\n",
    "\n",
    "                # if not already in parent, or new cost is better, add to parent dict\n",
    "                if new_state not in visited or visited[new_state] > new_cost + 1:\n",
    "                    parent[new_state] = (x, y, direction)\n",
    "\n",
    "    # if no path found inf cost, empty list\n",
    "    return float('inf'), []  "
   ]
  },
  {
   "cell_type": "code",
   "execution_count": 366,
   "id": "d5605a3c-6beb-41b3-b610-58f80eb0550d",
   "metadata": {},
   "outputs": [
    {
     "data": {
      "text/plain": [
       "('S', 'E')"
      ]
     },
     "execution_count": 366,
     "metadata": {},
     "output_type": "execute_result"
    }
   ],
   "source": [
    "example_maze[13][1], example_maze[1][13]"
   ]
  },
  {
   "cell_type": "code",
   "execution_count": 367,
   "id": "bc726ae7-f492-45e3-95d0-5bdde275e958",
   "metadata": {},
   "outputs": [
    {
     "name": "stdout",
     "output_type": "stream",
     "text": [
      "Final cost: 7036\n"
     ]
    }
   ],
   "source": [
    "start = (13, 1)  # Coordinates of 'S'\n",
    "end = (1, 13)    # Coordinates of 'E'\n",
    "\n",
    "example_cost, example_route = solve_maze(example_maze, start, end)\n",
    "\n",
    "print(f\"Final cost: {example_cost}\")"
   ]
  },
  {
   "cell_type": "markdown",
   "id": "a0389de0-454e-4396-9736-82b82f09db68",
   "metadata": {},
   "source": [
    "This matches the example exercise! Although the problem with this in particular is that we cannot use our heuristic; it changes the cost. As mazes become more challenging, this could become an issue as brute forcing every route becomes intractable."
   ]
  },
  {
   "cell_type": "code",
   "execution_count": 368,
   "id": "61b6785e-4fcb-4319-88ac-ca7177c77895",
   "metadata": {},
   "outputs": [
    {
     "name": "stdout",
     "output_type": "stream",
     "text": [
      "File successfully read.\n",
      "Size of maze: 141 x 141\n"
     ]
    }
   ],
   "source": [
    "data_dir = 'Day_16'\n",
    "input_maze = read_raw_text(os.path.join(data_dir, 'day_16_input.txt')).split('\\n')\n",
    "input_maze = [list(x) for x in input_maze]\n",
    "\n",
    "print(f'Size of maze: {len(input_maze)} x {len(input_maze[0])}')"
   ]
  },
  {
   "cell_type": "code",
   "execution_count": 369,
   "id": "7481f803-4bcd-45e0-96f5-0b6599a5405a",
   "metadata": {},
   "outputs": [],
   "source": [
    "def find_character(grid, character):\n",
    "    \"\"\" Helper function to find specific value(s) in grid. \"\"\"\n",
    "    array = np.array(grid).astype(str)\n",
    "    location = np.where(array == character)\n",
    "    return list(location[0]), list(location[1])"
   ]
  },
  {
   "cell_type": "code",
   "execution_count": 370,
   "id": "20684582-4d54-4441-91d0-a93aab15e23c",
   "metadata": {},
   "outputs": [],
   "source": [
    "start_x, start_y = find_character(input_maze, 'S')\n",
    "end_x, end_y = find_character(input_maze, 'E')"
   ]
  },
  {
   "cell_type": "code",
   "execution_count": 374,
   "id": "c8b01c67-3ed4-4cdc-88ba-c82f64851438",
   "metadata": {},
   "outputs": [
    {
     "data": {
      "text/plain": [
       "([139], [1])"
      ]
     },
     "execution_count": 374,
     "metadata": {},
     "output_type": "execute_result"
    }
   ],
   "source": [
    "start_x, start_y"
   ]
  },
  {
   "cell_type": "code",
   "execution_count": 375,
   "id": "7ebbe30d-c4e9-4414-806f-2cb5c73aa892",
   "metadata": {},
   "outputs": [
    {
     "name": "stdout",
     "output_type": "stream",
     "text": [
      "Final cost: 98416\n"
     ]
    }
   ],
   "source": [
    "input_cost, input_route = solve_maze(input_maze, (start_x[0], start_y[0]), \n",
    "                                     (end_x[0], end_y[0]))\n",
    "\n",
    "print(f\"Final cost: {input_cost}\")"
   ]
  },
  {
   "cell_type": "code",
   "execution_count": 376,
   "id": "30246192-cc30-43c1-8e9d-ae6f00e4a824",
   "metadata": {},
   "outputs": [
    {
     "data": {
      "text/plain": [
       "421"
      ]
     },
     "execution_count": 376,
     "metadata": {},
     "output_type": "execute_result"
    }
   ],
   "source": [
    "len(input_route)"
   ]
  },
  {
   "cell_type": "markdown",
   "id": "e9a7eeb3-4cb6-4865-b4f6-26309ed3220d",
   "metadata": {},
   "source": [
    "### Day 16, Part 2:"
   ]
  },
  {
   "cell_type": "markdown",
   "id": "684241cc-52e3-4b94-85c1-4271f9cbc701",
   "metadata": {},
   "source": [
    "Every non-wall tile (S, ., or E) is equipped with places to sit along the edges of the tile. While determining which of these tiles would be the best spot to sit depends on a whole bunch of factors (how comfortable the seats are, how far away the bathrooms are, whether there's a pillar blocking your view, etc.), the most important factor is whether the tile is on one of the best paths through the maze. If you sit somewhere else, you'd miss all the action!\n",
    "\n",
    "So, you'll need to determine which tiles are part of any best path through the maze, including the S and E tiles."
   ]
  },
  {
   "cell_type": "code",
   "execution_count": 377,
   "id": "601c32eb-8c57-4b02-8cb9-bba7200b6ec0",
   "metadata": {},
   "outputs": [],
   "source": [
    "def solve_maze_all_paths(maze, start, end, add_heuristic=False):\n",
    "    directions = ['N', 'E', 'S', 'W']  # Cardinal directions\n",
    "    dx_dy = {'N': (-1, 0), 'E': (0, 1), 'S': (1, 0), 'W': (0, -1)}\n",
    "\n",
    "    def turn_cost(current, new):\n",
    "        current_idx = directions.index(current)\n",
    "        new_idx = directions.index(new)\n",
    "        return 1000 if current_idx != new_idx else 0\n",
    "\n",
    "    def is_valid(x, y):\n",
    "        return 0 <= x < len(maze) and 0 <= y < len(maze[0]) and maze[x][y] != '#'\n",
    "\n",
    "    def heuristic(x, y):\n",
    "        return abs(end[0] - x) + abs(end[1] - y)\n",
    "\n",
    "    # Priority queue for A* search\n",
    "    pq = []\n",
    "    start_direction = 'E' \n",
    "    heapq.heappush(pq, (0, start[0], start[1], start_direction))\n",
    "    visited = {}\n",
    "    parents = defaultdict(list)  # Each state maps to a list of parent states\n",
    "\n",
    "    while pq:\n",
    "        cost, x, y, direction = heapq.heappop(pq)\n",
    "\n",
    "        # If this state has already been visited with a lower or equal cost, skip it\n",
    "        if (x, y, direction) in visited and visited[(x, y, direction)] <= cost:\n",
    "            continue\n",
    "\n",
    "        # Mark the state as visited with the current cost\n",
    "        visited[(x, y, direction)] = cost\n",
    "\n",
    "        # Explore movements\n",
    "        for new_direction in directions:\n",
    "            new_cost = cost + turn_cost(direction, new_direction)\n",
    "            nx, ny = x + dx_dy[new_direction][0], y + dx_dy[new_direction][1]\n",
    "\n",
    "            if is_valid(nx, ny):\n",
    "                new_state = (nx, ny, new_direction)\n",
    "\n",
    "                if add_heuristic:\n",
    "                    heapq.heappush(pq, (new_cost + 1 + heuristic(nx, ny), nx, ny, new_direction))\n",
    "                else:\n",
    "                    heapq.heappush(pq, (new_cost + 1, nx, ny, new_direction))\n",
    "\n",
    "                # Update parents only if the state has not been visited with a better cost\n",
    "                if new_state not in visited or visited[new_state] >= new_cost + 1:\n",
    "                    if (x, y, direction) not in parents[new_state]:\n",
    "                        parents[new_state].append((x, y, direction))\n",
    "                    #visited[new_state] = new_cost + 1\n",
    "                    #parents[new_state].append((x, y, direction))\n",
    "\n",
    "    # Recursive function to reconstruct all paths\n",
    "    def reconstruct_paths(current, seen):\n",
    "        if current == (start[0], start[1], start_direction):\n",
    "            return [[current]]\n",
    "        if current in seen:\n",
    "            return []  # Prevent cycles in path reconstruction\n",
    "        seen.add(current)\n",
    "        all_paths = []\n",
    "        for parent in parents[current]:\n",
    "            for path in reconstruct_paths(parent, seen):\n",
    "                all_paths.append(path + [current])\n",
    "        seen.remove(current)\n",
    "        return all_paths\n",
    "\n",
    "    # Collect goal states\n",
    "    goal_states = [(end[0], end[1], direction) for direction in directions if (end[0], end[1], direction) in parents]\n",
    "\n",
    "    # Determine the best cost\n",
    "    best_cost = min(visited[state] for state in goal_states) if goal_states else float('inf')\n",
    "\n",
    "    # Reconstruct all paths\n",
    "    best_paths = []\n",
    "    for goal_state in goal_states:\n",
    "        if visited[goal_state] == best_cost:\n",
    "            best_paths.extend(reconstruct_paths(goal_state, set()))\n",
    "\n",
    "    # filter out erroneous paths that get to end state and move back and forth to/from end\n",
    "    filtered_paths = []\n",
    "    for path in best_paths:\n",
    "        filtered_path = []\n",
    "        for position in path:\n",
    "            filtered_path.append(position)\n",
    "            if (position[0], position[1]) == (end[0], end[1]):\n",
    "                break\n",
    "        filtered_paths.append(filtered_path)\n",
    "\n",
    "    return best_cost, best_paths\n",
    "\n",
    "def compute_best_path_tiles(paths):\n",
    "    unique_coords = set()\n",
    "    for path in paths:\n",
    "        for state in path:\n",
    "            unique_coords.add((state[0], state[1]))\n",
    "    return unique_coords"
   ]
  },
  {
   "cell_type": "code",
   "execution_count": 378,
   "id": "00b44efb-26cd-4eea-8329-0c0a5c085414",
   "metadata": {},
   "outputs": [
    {
     "name": "stdout",
     "output_type": "stream",
     "text": [
      "File successfully read.\n",
      "Cost: 7036\n",
      "Number of Paths: 3\n",
      "Number of tiles that are at least part of one of the best paths: 45\n"
     ]
    }
   ],
   "source": [
    "data_dir = 'Day_16'\n",
    "example_maze = read_raw_text(os.path.join(data_dir, 'example_input_day_16.txt')).split('\\n')\n",
    "example_maze = [list(x) for x in example_maze]\n",
    "\n",
    "start = (13, 1)  # Coordinates of 'S'\n",
    "end = (1, 13)    # Coordinates of 'E'\n",
    "\n",
    "cost, paths = solve_maze_all_paths(example_maze, start, end)\n",
    "print(\"Cost:\", cost)\n",
    "print(\"Number of Paths:\", len(paths))\n",
    "\n",
    "example_unique_tiles = compute_best_path_tiles(paths)\n",
    "print(f'Number of tiles that are at least part of one of the best paths: {len(example_unique_tiles)}')"
   ]
  },
  {
   "cell_type": "markdown",
   "id": "2fb83fd8-625e-44d1-a8fa-555e6850441d",
   "metadata": {},
   "source": [
    "Try this on example 2:"
   ]
  },
  {
   "cell_type": "code",
   "execution_count": 380,
   "id": "839a9d55-9120-471f-92a1-b1af74d10454",
   "metadata": {},
   "outputs": [
    {
     "name": "stdout",
     "output_type": "stream",
     "text": [
      "File successfully read.\n",
      "Size of example maze 2: 17 x 17\n",
      "Cost: 11048\n",
      "Number of Paths: 2\n",
      "Number of tiles that are at least part of one of the best paths: 64\n"
     ]
    }
   ],
   "source": [
    "example_maze_2 = read_raw_text(os.path.join(data_dir,'example_input_day_16_2.txt')).split('\\n')\n",
    "example_maze_2 = [list(x) for x in example_maze_2]\n",
    "print(f\"Size of example maze 2: {len(example_maze_2)} x {len(example_maze_2[0])}\")\n",
    "\n",
    "start_coords = find_character(example_maze_2, 'S')\n",
    "end_coords = find_character(example_maze_2, 'E')\n",
    "\n",
    "start_x, start_y = start_coords[0][0], start_coords[1][0]\n",
    "end_x, end_y = end_coords[0][0], end_coords[1][0]\n",
    "\n",
    "cost, paths = solve_maze_all_paths(example_maze_2, \n",
    "                                   (start_x, start_y),\n",
    "                                   (end_x, end_y))\n",
    "print(\"Cost:\", cost)\n",
    "print(\"Number of Paths:\", len(paths))\n",
    "\n",
    "unique_tiles = compute_best_path_tiles(paths)\n",
    "print(f'Number of tiles that are at least part of one of the best paths: {len(unique_tiles)}')"
   ]
  },
  {
   "cell_type": "code",
   "execution_count": 381,
   "id": "2a53c68a-a582-45a6-9891-e044928ca6a7",
   "metadata": {},
   "outputs": [],
   "source": [
    "example_maze_2_updated = example_maze_2.copy()\n",
    "\n",
    "unique_coords = set()\n",
    "for path in paths:\n",
    "    for state in path:\n",
    "        unique_coords.add((state[0], state[1]))\n",
    "        example_maze_2_updated[state[0]][state[1]] = 'O'\n",
    "\n",
    "example_maze_2_updated[end_x][end_y] = 'E'"
   ]
  },
  {
   "cell_type": "code",
   "execution_count": 382,
   "id": "0fa901ca-8bc0-4339-bff5-acd28871ae64",
   "metadata": {},
   "outputs": [
    {
     "data": {
      "text/plain": [
       "['#################',\n",
       " '#...#...#...#..E#',\n",
       " '#.#.#.#.#.#.#.#O#',\n",
       " '#.#.#.#...#...#O#',\n",
       " '#.#.#.#.###.#.#O#',\n",
       " '#OOO#.#.#.....#O#',\n",
       " '#O#O#.#.#.#####O#',\n",
       " '#O#O..#.#.#OOOOO#',\n",
       " '#O#O#####.#O###O#',\n",
       " '#O#O#..OOOOO#OOO#',\n",
       " '#O#O###O#####O###',\n",
       " '#O#O#OOO#..OOO#.#',\n",
       " '#O#O#O#####O###.#',\n",
       " '#O#O#OOOOOOO..#.#',\n",
       " '#O#O#O#########.#',\n",
       " '#O#OOO..........#',\n",
       " '#################']"
      ]
     },
     "execution_count": 382,
     "metadata": {},
     "output_type": "execute_result"
    }
   ],
   "source": [
    "[\"\".join(x) for x in example_maze_2_updated]"
   ]
  },
  {
   "cell_type": "markdown",
   "id": "3abf07d9-0082-41f3-b170-ccb0c2916abc",
   "metadata": {},
   "source": [
    "This correctly matches the examples given in the guidance! Lets now try with the actual inputs:"
   ]
  },
  {
   "cell_type": "code",
   "execution_count": 384,
   "id": "c8844fc3-0788-489e-8ebe-af922aba4c21",
   "metadata": {},
   "outputs": [
    {
     "name": "stdout",
     "output_type": "stream",
     "text": [
      "File successfully read.\n",
      "Size of maze: 141 x 141\n"
     ]
    }
   ],
   "source": [
    "data_dir = 'Day_16'\n",
    "input_maze = read_raw_text(os.path.join(data_dir, 'day_16_input.txt')).split('\\n')\n",
    "input_maze = [list(x) for x in input_maze]\n",
    "\n",
    "print(f'Size of maze: {len(input_maze)} x {len(input_maze[0])}')"
   ]
  },
  {
   "cell_type": "code",
   "execution_count": 386,
   "id": "3b4bcb2f-dda9-4f65-a160-5dd9fb9908fc",
   "metadata": {},
   "outputs": [
    {
     "name": "stdout",
     "output_type": "stream",
     "text": [
      "Cost: 98416\n",
      "Number of Paths: 1920\n",
      "Number of tiles that are at least part of one of the best paths: 478\n"
     ]
    }
   ],
   "source": [
    "start_x, start_y = find_character(input_maze, 'S')\n",
    "end_x, end_y = find_character(input_maze, 'E')\n",
    "\n",
    "# solve all best paths\n",
    "cost, paths = solve_maze_all_paths(input_maze, \n",
    "                                   (start_x[0], start_y[0]),\n",
    "                                   (end_x[0], end_y[0]))\n",
    "print(\"Cost:\", cost)\n",
    "print(\"Number of Paths:\", len(paths))\n",
    "\n",
    "unique_tiles = compute_best_path_tiles(paths)\n",
    "print(f'Number of tiles that are at least part of one of the best paths: {len(unique_tiles)}')"
   ]
  },
  {
   "cell_type": "code",
   "execution_count": 389,
   "id": "2300ddd0-1b77-410e-ab54-db7d6c048b3c",
   "metadata": {},
   "outputs": [],
   "source": [
    "input_maze_updated = input_maze.copy()\n",
    "\n",
    "unique_coords = set()\n",
    "for path in paths:\n",
    "    for state in path:\n",
    "        unique_coords.add((state[0], state[1]))\n",
    "        input_maze_updated[state[0]][state[1]] = 'O'\n",
    "\n",
    "input_maze_updated[end_x[0]][end_y[0]] = 'E'\n",
    "input_maze_updated[start_x[0]][start_y[0]] = 'S'"
   ]
  },
  {
   "cell_type": "code",
   "execution_count": 390,
   "id": "3a3986a3-00ec-4c9a-9a58-36f5c7034b19",
   "metadata": {},
   "outputs": [
    {
     "data": {
      "text/plain": [
       "478"
      ]
     },
     "execution_count": 390,
     "metadata": {},
     "output_type": "execute_result"
    }
   ],
   "source": [
    "len(unique_coords)"
   ]
  },
  {
   "cell_type": "markdown",
   "id": "bbc2ae67-1a6a-44dc-983b-03832aec0fa8",
   "metadata": {},
   "source": [
    "## Day 17 Chronospatial Computer"
   ]
  },
  {
   "cell_type": "markdown",
   "id": "802d272b-1840-4e71-a7fe-67bc7d17d67a",
   "metadata": {},
   "source": [
    "### Day 17, Part 1"
   ]
  },
  {
   "cell_type": "code",
   "execution_count": 37,
   "id": "9eb90a33-1ce1-4a0f-a8c2-2d7f2f52844b",
   "metadata": {},
   "outputs": [],
   "source": [
    "def read_raw_text(filename):\n",
    "    \"\"\" Read entire file as a single string. \"\"\"\n",
    "    try:\n",
    "        with open(filename, \"r\", encoding=\"utf-8\") as file:\n",
    "            file_data = file.read()  \n",
    "        print(\"File successfully read.\")\n",
    "    except FileNotFoundError:\n",
    "        print(\"The specified file was not found.\")\n",
    "    except Exception as e:\n",
    "        print(f\"An error occurred: {e}\")\n",
    "    return file_data\n",
    "\n",
    "class Chronospatial:\n",
    "    def __init__(self, registers, instructions):\n",
    "        \"\"\"Initialize the grid.\"\"\"\n",
    "        self.registers = registers.copy()\n",
    "        self.instructions = instructions.copy()\n",
    "        self.inst_pointer = 0\n",
    "\n",
    "        # flag to indicate whether a jump has just happened\n",
    "        self.jumped = False\n",
    "        self.outputs = []\n",
    "        self.attempts = 0\n",
    "        self.complete = False\n",
    "\n",
    "    def get_combo_op(self):\n",
    "        \"\"\" Get combo operand. \"\"\"\n",
    "        operand = int(self.instructions[self.inst_pointer + 1])\n",
    "        if 0 <= operand <= 3:\n",
    "            return operand\n",
    "        elif operand == 4:\n",
    "            return self.registers['A']\n",
    "        elif operand == 5:\n",
    "            return self.registers['B']\n",
    "        elif operand == 6:\n",
    "            return self.registers['C']\n",
    "        else:\n",
    "            raise ValueError(f\"Invalid combo operand: {operand} not recognised.\")\n",
    "\n",
    "    def get_literal_op(self):\n",
    "        \"\"\" Get literal operand. \"\"\"\n",
    "        return int(self.instructions[self.inst_pointer + 1])\n",
    "\n",
    "    def get_opcode(self):\n",
    "        \"\"\" Get current opcode. \"\"\"\n",
    "        return self.instructions[self.inst_pointer]\n",
    "\n",
    "    def adv(self):\n",
    "        \"\"\" Division result and update register A. \"\"\"\n",
    "        numerator = self.registers['A']\n",
    "        denominator = 2**self.get_combo_op()\n",
    "        trunc_result = int(numerator / denominator)\n",
    "        self.registers['A'] = trunc_result\n",
    "\n",
    "    def bxl(self):\n",
    "        \"\"\" Calculate bitwise XOR between register B and literal operand, and update\n",
    "            register B. \"\"\"  \n",
    "        bitwise_xor = self.registers['B'] ^ self.get_literal_op()\n",
    "        self.registers['B'] = bitwise_xor\n",
    "\n",
    "    def bst(self):\n",
    "        \"\"\" Compute combo operand modulo 8 and update register B. \"\"\"\n",
    "        mod_8_result = self.get_combo_op() % 8\n",
    "        self.registers['B'] = mod_8_result\n",
    "\n",
    "    def jnz(self):\n",
    "        # do nothing if A is zero\n",
    "        if int(self.registers['A']) == 0:\n",
    "            return\n",
    "        else:\n",
    "            self.inst_pointer = self.get_literal_op()\n",
    "            self.jumped = True\n",
    "\n",
    "    def bxc(self):\n",
    "        \"\"\" Bitwise XOR of register B and register C, stored in register B \"\"\"\n",
    "        self.registers['B'] = self.registers['B'] ^ self.registers['C']\n",
    "\n",
    "    def out(self):\n",
    "        self.outputs.append(self.get_combo_op() % 8)\n",
    "\n",
    "    def bdv(self):\n",
    "        \"\"\" Division result and update register A. \"\"\"\n",
    "        numerator = self.registers['A']\n",
    "        denominator = 2**self.get_combo_op()\n",
    "        trunc_result = int(numerator / denominator)\n",
    "        self.registers['B'] = trunc_result\n",
    "\n",
    "    def cdv(self):\n",
    "        \"\"\" Division result and update register A. \"\"\"\n",
    "        numerator = self.registers['A']\n",
    "        denominator = 2**self.get_combo_op()\n",
    "        trunc_result = int(numerator / denominator)\n",
    "        self.registers['C'] = trunc_result\n",
    "\n",
    "    def run_opcode(self):\n",
    "        \"\"\" Run current opcode subject to current command. \"\"\"\n",
    "        opcode = self.get_opcode()\n",
    "        if opcode == '0':\n",
    "            # run adv instruction\n",
    "            self.adv()\n",
    "        elif opcode == '1':\n",
    "            # run bxl instruction\n",
    "            self.bxl()\n",
    "        elif opcode == '2':\n",
    "            # run bst instruction\n",
    "            self.bst()\n",
    "        elif opcode == '3':\n",
    "            # run jnz instruction\n",
    "            self.jnz()\n",
    "        elif opcode == '4':\n",
    "            # run bxc instruction\n",
    "            self.bxc()\n",
    "        elif opcode == '5':\n",
    "            # run out instruction\n",
    "            self.out()\n",
    "        elif opcode == '6':\n",
    "            # run bdv instruction\n",
    "            self.bdv()\n",
    "        elif opcode == '7':\n",
    "            # run cdv instruction\n",
    "            self.cdv()\n",
    "        else:\n",
    "            raise ValueError(f\"Opcode not recognised: {opcode}. Check input.\")\n",
    "\n",
    "    def run_instructions(self):\n",
    "        \"\"\" Run all commands until complete, and return output. \"\"\"\n",
    "        while not self.complete and self.attempts < 1000:\n",
    "            self.run_opcode()\n",
    "\n",
    "            self.attempts += 1\n",
    "            \n",
    "            # if we've jumped, dont update pointer, otherwise increment by 2\n",
    "            if self.jumped:\n",
    "                self.jumped = False\n",
    "                continue\n",
    "            else:\n",
    "                self.inst_pointer += 2\n",
    "\n",
    "            # if we're at the end of the instructions, flag completed\n",
    "            if self.inst_pointer > len(self.instructions) - 2:\n",
    "                self.complete = True\n",
    "                print(f\"Ending instruction run after {self.attempts + 1} operations.\")\n",
    "            \n",
    "            self.attempts += 1\n",
    "        return self.outputs"
   ]
  },
  {
   "cell_type": "code",
   "execution_count": 38,
   "id": "b59cbb67-04b9-4d61-8394-e0863047a608",
   "metadata": {},
   "outputs": [
    {
     "name": "stdout",
     "output_type": "stream",
     "text": [
      "File successfully read.\n"
     ]
    }
   ],
   "source": [
    "data_dir = 'Day_17'\n",
    "example_17 = read_raw_text(os.path.join(data_dir, 'example_input_day_17.txt')).split('\\n\\n')\n",
    "example_registers = example_17[0].split('\\n')\n",
    "example_instructions = example_17[1]\n",
    "example_instructions = example_instructions.replace(' ', '').split(\":\")[1].split(',')\n",
    "\n",
    "registers = {}\n",
    "for register in example_registers:\n",
    "    registers[register.split(':')[0][-1]] = int(register.split(':')[1].strip())"
   ]
  },
  {
   "cell_type": "code",
   "execution_count": 4,
   "id": "b9d26d16-c614-4683-b3b0-f066f189d96c",
   "metadata": {},
   "outputs": [
    {
     "name": "stdout",
     "output_type": "stream",
     "text": [
      "Ending instruction run after 51 operations.\n"
     ]
    },
    {
     "data": {
      "text/plain": [
       "'4,6,3,5,6,3,5,2,1,0'"
      ]
     },
     "execution_count": 4,
     "metadata": {},
     "output_type": "execute_result"
    }
   ],
   "source": [
    "chronos = Chronospatial(registers, example_instructions)\n",
    "\n",
    "example_outputs = chronos.run_instructions()\n",
    "example_outputs = [str(x) for x in example_outputs]\n",
    "\",\".join(example_outputs)"
   ]
  },
  {
   "cell_type": "markdown",
   "id": "d6066646-5dcc-4745-be9a-cf22347f354f",
   "metadata": {},
   "source": [
    "Lets now try on the real inputs:"
   ]
  },
  {
   "cell_type": "code",
   "execution_count": 5,
   "id": "bbfcb4ad-93cc-4912-95cf-95b8345fcbce",
   "metadata": {},
   "outputs": [
    {
     "name": "stdout",
     "output_type": "stream",
     "text": [
      "File successfully read.\n"
     ]
    }
   ],
   "source": [
    "data_dir = 'Day_17'\n",
    "input_17 = read_raw_text(os.path.join(data_dir, 'day_17_input.txt')).split('\\n\\n')\n",
    "input_registers = input_17[0].split('\\n')\n",
    "input_instructions = input_17[1]\n",
    "input_instructions = input_instructions.replace(' ', '').split(\":\")[1].split(',')\n",
    "\n",
    "registers = {}\n",
    "for register in input_registers:\n",
    "    registers[register.split(':')[0][-1]] = int(register.split(':')[1].strip())"
   ]
  },
  {
   "cell_type": "code",
   "execution_count": 6,
   "id": "95a32f2b-37bb-4ada-b998-e9a5c08051d7",
   "metadata": {},
   "outputs": [],
   "source": [
    "chronos = Chronospatial(registers, input_instructions)"
   ]
  },
  {
   "cell_type": "code",
   "execution_count": 7,
   "id": "110ca6ef-69d9-4399-9503-245781b59f64",
   "metadata": {},
   "outputs": [
    {
     "name": "stdout",
     "output_type": "stream",
     "text": [
      "Ending instruction run after 136 operations.\n"
     ]
    },
    {
     "data": {
      "text/plain": [
       "'4,1,7,6,4,1,0,2,7'"
      ]
     },
     "execution_count": 7,
     "metadata": {},
     "output_type": "execute_result"
    }
   ],
   "source": [
    "outputs = chronos.run_instructions()\n",
    "outputs = [str(x) for x in outputs]\n",
    "\",\".join(outputs)"
   ]
  },
  {
   "cell_type": "markdown",
   "id": "fe5cfca5-1114-468f-8660-8c665ca9f31b",
   "metadata": {},
   "source": [
    "### Day 17, Part 2"
   ]
  },
  {
   "cell_type": "code",
   "execution_count": 8,
   "id": "b09d67b5-c5c2-4a85-8d4d-118d77089636",
   "metadata": {},
   "outputs": [],
   "source": [
    "def run_program_with_memo(initial_a, program, memo):\n",
    "    \"\"\" Simplified function equivalent of class developed above. \"\"\"\n",
    "    A, B, C = initial_a, 0, 0\n",
    "    IP = 0\n",
    "    output = []\n",
    "    \n",
    "    def resolve_combo_operand(operand):\n",
    "        \"\"\" Return combo operand output based on input value. \"\"\"\n",
    "        if operand <= 3:\n",
    "            return operand\n",
    "        elif operand == 4:\n",
    "            return A\n",
    "        elif operand == 5:\n",
    "            return B\n",
    "        elif operand == 6:\n",
    "            return C\n",
    "        else:\n",
    "            raise ValueError(\"Invalid combo operand\")\n",
    "\n",
    "    state_key = (A, B, C, IP)\n",
    "    if state_key in memo:\n",
    "        return memo[state_key]\n",
    "\n",
    "    while IP < len(program):\n",
    "        opcode = program[IP]\n",
    "        operand = program[IP + 1] if IP + 1 < len(program) else 0\n",
    "\n",
    "        if opcode == 0:  # adv\n",
    "            denominator = 2 ** resolve_combo_operand(operand)\n",
    "            if denominator == 0:\n",
    "                return False\n",
    "            A //= denominator\n",
    "        elif opcode == 1:  # bxl\n",
    "            B ^= operand\n",
    "        elif opcode == 2:  # bst\n",
    "            B = resolve_combo_operand(operand) % 8\n",
    "        elif opcode == 3:  # jnz\n",
    "            if A != 0:\n",
    "                IP = operand\n",
    "                continue\n",
    "        elif opcode == 4:  # bxc\n",
    "            B ^= C\n",
    "        elif opcode == 5:  # out\n",
    "            output_value = resolve_combo_operand(operand) % 8\n",
    "            if len(output) >= len(program) or output_value != program[len(output)]:\n",
    "                memo[state_key] = False\n",
    "                return False\n",
    "            output.append(output_value)\n",
    "        elif opcode == 6:  # bdv\n",
    "            denominator = 2 ** resolve_combo_operand(operand)\n",
    "            if denominator == 0:\n",
    "                return False\n",
    "            B = A // denominator\n",
    "        elif opcode == 7:  # cdv\n",
    "            denominator = 2 ** resolve_combo_operand(operand)\n",
    "            if denominator == 0:\n",
    "                return False\n",
    "            C = A // denominator\n",
    "        else:\n",
    "            raise ValueError(f\"Invalid opcode {opcode}\")\n",
    "\n",
    "        IP += 2\n",
    "        \n",
    "    result = output == program\n",
    "    memo[state_key] = result\n",
    "    return result\n",
    "\n",
    "\n",
    "def find_lowest_a_with_optimizations(program):\n",
    "    \"\"\" Return lowest A that satisfies the input program. \"\"\"\n",
    "    memo = {}\n",
    "    initial_a = 1\n",
    "\n",
    "    while True:\n",
    "        if run_program_with_memo(initial_a, program, memo):\n",
    "            return initial_a\n",
    "        initial_a += 1"
   ]
  },
  {
   "cell_type": "code",
   "execution_count": 28,
   "id": "b9bc3816-233c-4020-93b8-bff4327b68d6",
   "metadata": {},
   "outputs": [
    {
     "name": "stdout",
     "output_type": "stream",
     "text": [
      "The lowest positive initial value for register A is: 117440\n",
      "CPU times: user 88.9 ms, sys: 7.21 ms, total: 96.1 ms\n",
      "Wall time: 99.8 ms\n"
     ]
    }
   ],
   "source": [
    "%%time\n",
    "program = [0,3,5,4,3,0]\n",
    "lowest_a = find_lowest_a_with_optimizations(program)\n",
    "print(f\"The lowest positive initial value for register A is: {lowest_a}\")"
   ]
  },
  {
   "cell_type": "markdown",
   "id": "5aa5236d-df2c-4899-8421-59508fa6c9c8",
   "metadata": {},
   "source": [
    "This works fine for the example input. However, this brute force approach is totally unworkable due to being intractable for the real input scenario. Unfortunately, this requires a different approach that more specifically solves the problem using a heuristic, rather than blindly trying all possible solutions for A, unless we want to run for days with multiprocessing support..."
   ]
  },
  {
   "cell_type": "code",
   "execution_count": 73,
   "id": "3ef42241-780a-44dd-a4e8-4721af035cc7",
   "metadata": {},
   "outputs": [],
   "source": [
    "#%%time\n",
    "#program = [2, 4, 1, 1, 7, 5, 1, 5, 4, 0, 5, 5, 0, 3, 3, 0]\n",
    "#lowest_a = find_lowest_a_with_optimizations(program)\n",
    "#print(f\"The lowest positive initial value for register A is: {lowest_a}\")"
   ]
  },
  {
   "cell_type": "code",
   "execution_count": 129,
   "id": "b6b831ea-3d64-4400-afa4-d26e60ef9ad7",
   "metadata": {},
   "outputs": [
    {
     "name": "stdout",
     "output_type": "stream",
     "text": [
      "File successfully read.\n"
     ]
    }
   ],
   "source": [
    "data_dir = 'Day_17'\n",
    "input_17 = read_raw_text(os.path.join(data_dir, 'day_17_input.txt')).split('\\n\\n')\n",
    "registers = input_17[0].split('\\n')\n",
    "registers = [int(x.split(':')[1].strip()) for x in registers]\n",
    "\n",
    "instructions = input_17[1]\n",
    "instructions = instructions.replace(' ', '').split(\":\")[1].split(',')\n",
    "instructions = [int(x) for x in instructions]\n",
    "\n",
    "output = []\n",
    "combo = lambda p: p if p < 4 else registers[p-4]"
   ]
  },
  {
   "cell_type": "code",
   "execution_count": 130,
   "id": "5a8a4f20-aafb-411e-9223-475becaef48d",
   "metadata": {},
   "outputs": [],
   "source": [
    "def adv(p):\n",
    "    registers[0] >>= combo(p)\n",
    "    \n",
    "def bxl(p):\n",
    "    registers[1] ^= p\n",
    "    \n",
    "def bst(p):\n",
    "    registers[1] = combo(p)\n",
    "    \n",
    "def jnz(p):\n",
    "    global prog_count\n",
    "    if registers[0] != 0:\n",
    "        prog_count = p - 2\n",
    "        \n",
    "def bxc(p):\n",
    "    registers[1] ^= registers[2]\n",
    "    \n",
    "def out(p):\n",
    "    output.append(combo(p)%8)\n",
    "    \n",
    "def bdv(p):\n",
    "    registers[1] = registers[0] >> combo(p)\n",
    "    \n",
    "def cdv(p):\n",
    "    registers[2] = registers[0] >> combo(p)\n",
    "\n",
    "def firstOutput(A):\n",
    "    global prog_count\n",
    "    instructions[0] = A\n",
    "    output.clear()\n",
    "    prog_count = 0\n",
    "    while not output:\n",
    "        op[instructions[prog_count]](instructions[prog_count+1])\n",
    "        prog_count + 2\n",
    "    return output[0]\n",
    "\n",
    "def reverseOutput(A, exp_out):\n",
    "    if not exp_out:\n",
    "        return A\n",
    "    next_out = exp_out[-1]\n",
    "    # Python defines 0**0 as 1\n",
    "    for n in range(0**A, 8):\n",
    "        next_A = (A << 3) | n\n",
    "        if next_out == firstOutput(next_A):\n",
    "            final_val = reverseOutput(next_A, exp_out[:-1])\n",
    "            if final_val:\n",
    "                return final_val\n",
    "\n",
    "op = (adv, bxl, bst, jnz, bxc, out, bdv, cdv)"
   ]
  },
  {
   "cell_type": "markdown",
   "id": "0cf6e984-a0dc-4615-afeb-af19c8e8c087",
   "metadata": {},
   "source": [
    "Credit to the above solution provided as part of discussions on the Advent of Code Reddit channel: https://www.reddit.com/r/adventofcode/comments/1hg38ah/2024_day_17_solutions/\n",
    "\n",
    "It should be noted that the below execution still takes an extremely long timescale; There are likely much more performant ways of solving this particular challenge."
   ]
  },
  {
   "cell_type": "code",
   "execution_count": 132,
   "id": "7a9e1d36-5524-4ac9-b630-97dc5a915027",
   "metadata": {},
   "outputs": [
    {
     "ename": "KeyboardInterrupt",
     "evalue": "",
     "output_type": "error",
     "traceback": [
      "\u001b[0;31m---------------------------------------------------------------------------\u001b[0m",
      "\u001b[0;31mKeyboardInterrupt\u001b[0m                         Traceback (most recent call last)",
      "File \u001b[0;32m<timed exec>:1\u001b[0m\n",
      "Cell \u001b[0;32mIn[130], line 44\u001b[0m, in \u001b[0;36mreverseOutput\u001b[0;34m(A, exp_out)\u001b[0m\n\u001b[1;32m     42\u001b[0m \u001b[38;5;28;01mfor\u001b[39;00m n \u001b[38;5;129;01min\u001b[39;00m \u001b[38;5;28mrange\u001b[39m(\u001b[38;5;241m0\u001b[39m\u001b[38;5;241m*\u001b[39m\u001b[38;5;241m*\u001b[39mA, \u001b[38;5;241m8\u001b[39m):\n\u001b[1;32m     43\u001b[0m     next_A \u001b[38;5;241m=\u001b[39m (A \u001b[38;5;241m<<\u001b[39m \u001b[38;5;241m3\u001b[39m) \u001b[38;5;241m|\u001b[39m n\n\u001b[0;32m---> 44\u001b[0m     \u001b[38;5;28;01mif\u001b[39;00m next_out \u001b[38;5;241m==\u001b[39m \u001b[43mfirstOutput\u001b[49m\u001b[43m(\u001b[49m\u001b[43mnext_A\u001b[49m\u001b[43m)\u001b[49m:\n\u001b[1;32m     45\u001b[0m         final_val \u001b[38;5;241m=\u001b[39m reverseOutput(next_A, exp_out[:\u001b[38;5;241m-\u001b[39m\u001b[38;5;241m1\u001b[39m])\n\u001b[1;32m     46\u001b[0m         \u001b[38;5;28;01mif\u001b[39;00m final_val:\n",
      "Cell \u001b[0;32mIn[130], line 33\u001b[0m, in \u001b[0;36mfirstOutput\u001b[0;34m(A)\u001b[0m\n\u001b[1;32m     31\u001b[0m prog_count \u001b[38;5;241m=\u001b[39m \u001b[38;5;241m0\u001b[39m\n\u001b[1;32m     32\u001b[0m \u001b[38;5;28;01mwhile\u001b[39;00m \u001b[38;5;129;01mnot\u001b[39;00m output:\n\u001b[0;32m---> 33\u001b[0m     \u001b[43mop\u001b[49m\u001b[43m[\u001b[49m\u001b[43minstructions\u001b[49m\u001b[43m[\u001b[49m\u001b[43mprog_count\u001b[49m\u001b[43m]\u001b[49m\u001b[43m]\u001b[49m\u001b[43m(\u001b[49m\u001b[43minstructions\u001b[49m\u001b[43m[\u001b[49m\u001b[43mprog_count\u001b[49m\u001b[38;5;241;43m+\u001b[39;49m\u001b[38;5;241;43m1\u001b[39;49m\u001b[43m]\u001b[49m\u001b[43m)\u001b[49m\n\u001b[1;32m     34\u001b[0m     prog_count \u001b[38;5;241m+\u001b[39m \u001b[38;5;241m2\u001b[39m\n\u001b[1;32m     35\u001b[0m \u001b[38;5;28;01mreturn\u001b[39;00m output[\u001b[38;5;241m0\u001b[39m]\n",
      "Cell \u001b[0;32mIn[130], line 4\u001b[0m, in \u001b[0;36mbxl\u001b[0;34m(p)\u001b[0m\n\u001b[1;32m      1\u001b[0m \u001b[38;5;28;01mdef\u001b[39;00m \u001b[38;5;21madv\u001b[39m(p):\n\u001b[1;32m      2\u001b[0m     registers[\u001b[38;5;241m0\u001b[39m] \u001b[38;5;241m>>\u001b[39m\u001b[38;5;241m=\u001b[39m combo(p)\n\u001b[0;32m----> 4\u001b[0m \u001b[38;5;28;01mdef\u001b[39;00m \u001b[38;5;21mbxl\u001b[39m(p):\n\u001b[1;32m      5\u001b[0m     registers[\u001b[38;5;241m1\u001b[39m] \u001b[38;5;241m^\u001b[39m\u001b[38;5;241m=\u001b[39m p\n\u001b[1;32m      7\u001b[0m \u001b[38;5;28;01mdef\u001b[39;00m \u001b[38;5;21mbst\u001b[39m(p):\n",
      "\u001b[0;31mKeyboardInterrupt\u001b[0m: "
     ]
    }
   ],
   "source": [
    "%%time\n",
    "A = reverseOutput(0, instructions)\n",
    "print(A)"
   ]
  },
  {
   "cell_type": "code",
   "execution_count": null,
   "id": "1dcc345c-4031-4b3d-9068-bb76687a32a6",
   "metadata": {},
   "outputs": [],
   "source": []
  },
  {
   "cell_type": "markdown",
   "id": "33c85534-944e-4175-8b2a-0ed5d104fecf",
   "metadata": {
    "jp-MarkdownHeadingCollapsed": true
   },
   "source": [
    "## Day 18 RAM Run"
   ]
  },
  {
   "cell_type": "markdown",
   "id": "311a9528-3d56-4792-9a97-9a3514b312c3",
   "metadata": {},
   "source": [
    "### Day 18, Part 1:"
   ]
  },
  {
   "cell_type": "markdown",
   "id": "fa24459b-7692-45ce-85f2-f72f3ddaa5b5",
   "metadata": {},
   "source": [
    "The algorithm is fast - it's going to cause a byte to fall into your memory space once every nanosecond! Fortunately, you're faster, and by quickly scanning the algorithm, you create a list of which bytes will fall (your puzzle input) in the order they'll land in your memory space.\n",
    "\n",
    "Your memory space is a two-dimensional grid with coordinates that range from 0 to 70 both horizontally and vertically.\n",
    "\n",
    "Each byte position is given as an X,Y coordinate, where X is the distance from the left edge of your memory space and Y is the distance from the top edge of your memory space.\n",
    "\n",
    "You and The Historians are currently in the top left corner of the memory space (at 0,0) and need to reach the exit in the bottom right corner (at 70,70 in your memory space, but at 6,6 in this example). You'll need to simulate the falling bytes to plan out where it will be safe to run; for now, simulate just the first few bytes falling into your memory space.\n",
    "\n",
    "As bytes fall into your memory space, they make that coordinate corrupted. Corrupted memory coordinates cannot be entered by you or The Historians, so you'll need to plan your route carefully. You also cannot leave the boundaries of the memory space; your only hope is to reach the exit."
   ]
  },
  {
   "cell_type": "code",
   "execution_count": 1,
   "id": "9bc6562f-f9b0-4ed7-a42f-67fc8c68dde8",
   "metadata": {},
   "outputs": [],
   "source": [
    "def read_raw_text(filename):\n",
    "    \"\"\" Read entire file as a single string. \"\"\"\n",
    "    try:\n",
    "        with open(filename, \"r\", encoding=\"utf-8\") as file:\n",
    "            file_data = file.read()  \n",
    "        print(\"File successfully read.\")\n",
    "    except FileNotFoundError:\n",
    "        print(\"The specified file was not found.\")\n",
    "    except Exception as e:\n",
    "        print(f\"An error occurred: {e}\")\n",
    "    return file_data"
   ]
  },
  {
   "cell_type": "code",
   "execution_count": 664,
   "id": "b860d7a6-1cde-4d27-9568-0c79683f912b",
   "metadata": {},
   "outputs": [
    {
     "name": "stdout",
     "output_type": "stream",
     "text": [
      "File successfully read.\n"
     ]
    }
   ],
   "source": [
    "example_18 = read_raw_text('example_input_day_18.txt').split('\\n')\n",
    "example_18 = [tuple(x.split(',')) for x in example_18]\n",
    "\n",
    "byte_grid = np.zeros((7,7)).astype(str)\n",
    "byte_grid[:, :] = '.'\n",
    "\n",
    "for coords in example_18[:12]:\n",
    "    col, row = coords\n",
    "    byte_grid[int(row)][int(col)] = '#'"
   ]
  },
  {
   "cell_type": "code",
   "execution_count": 667,
   "id": "72f137f4-08c0-48e5-a7e6-5a5c2917a0ab",
   "metadata": {},
   "outputs": [
    {
     "data": {
      "text/plain": [
       "array([['.', '.', '.', '#', '.', '.', '.'],\n",
       "       ['.', '.', '#', '.', '.', '#', '.'],\n",
       "       ['.', '.', '.', '.', '#', '.', '.'],\n",
       "       ['.', '.', '.', '#', '.', '.', '#'],\n",
       "       ['.', '.', '#', '.', '.', '#', '.'],\n",
       "       ['.', '#', '.', '.', '#', '.', '.'],\n",
       "       ['#', '.', '#', '.', '.', '.', '.']], dtype='<U32')"
      ]
     },
     "execution_count": 667,
     "metadata": {},
     "output_type": "execute_result"
    }
   ],
   "source": [
    "byte_grid"
   ]
  },
  {
   "cell_type": "code",
   "execution_count": 685,
   "id": "3abf87f0-4807-4858-8097-a733e6e7ad71",
   "metadata": {},
   "outputs": [],
   "source": [
    "def solve_route(grid, start, end, add_heuristic=False):\n",
    "    directions = ['N', 'E', 'S', 'W']  # Cardinal directions\n",
    "    dx_dy = {'N': (-1, 0), 'E': (0, 1), 'S': (1, 0), 'W': (0, -1)}\n",
    "    \n",
    "    def is_valid(x, y):\n",
    "        return 0 <= x < len(grid) and 0 <= y < len(grid[0]) and grid[x][y] != '#'\n",
    "    \n",
    "    def heuristic(x, y):\n",
    "        return abs(end[0] - x) + abs(end[1] - y)\n",
    "    \n",
    "    # Priority queue for A* search\n",
    "    pq = []\n",
    "\n",
    "    # push our initial direction and location to our priority queue\n",
    "    start_direction = 'E'\n",
    "    heapq.heappush(pq, (0, start[0], start[1]))\n",
    "\n",
    "    # store the parent of all of our states (to maintain route history)\n",
    "    parent = {}\n",
    "\n",
    "    # store the lowest cost at which each state was visited\n",
    "    # if we resit a state with higher or equal cost, we skip (this avoids inf loops)\n",
    "    visited = {}\n",
    "    \n",
    "    while pq:\n",
    "        cost, x, y = heapq.heappop(pq)\n",
    "        \n",
    "        if (x, y) == end:\n",
    "            # get best path - go through history until we're back at start (no parent)\n",
    "            path = []\n",
    "            current = (x, y)\n",
    "            while current in parent:\n",
    "                path.append(current)\n",
    "                current = parent[current]\n",
    "\n",
    "            # finally add our start state\n",
    "            path.append((start[0], start[1]))\n",
    "\n",
    "            # return cost and path (in order)\n",
    "            return cost, path[::-1]\n",
    "\n",
    "        # if we've already visited this state with lower cost, skip\n",
    "        if (x, y) in visited and visited[(x, y)] <= cost:\n",
    "            continue\n",
    "\n",
    "        # add current state and cost\n",
    "        visited[(x, y)] = cost\n",
    "        \n",
    "        # assess movements for current position\n",
    "        for new_direction in directions:\n",
    "            nx, ny = x + dx_dy[new_direction][0], y + dx_dy[new_direction][1]\n",
    "            \n",
    "            if is_valid(nx, ny):\n",
    "                new_state = (nx, ny)\n",
    "                if add_heuristic:\n",
    "                    heapq.heappush(pq, (cost + 1 + heuristic(nx, ny), \n",
    "                                        nx, ny))\n",
    "                else:\n",
    "                    heapq.heappush(pq, (cost + 1, nx, ny))\n",
    "\n",
    "                # if not already in parent, or new cost is better, add to parent dict\n",
    "                if new_state not in visited or visited[new_state] > cost + 1:\n",
    "                    parent[new_state] = (x, y)\n",
    "\n",
    "    # if no path found inf cost, empty list\n",
    "    return float('inf'), [] "
   ]
  },
  {
   "cell_type": "code",
   "execution_count": 686,
   "id": "7fbc1aa3-4f5e-41c9-962e-9edeae8af1d6",
   "metadata": {},
   "outputs": [
    {
     "name": "stdout",
     "output_type": "stream",
     "text": [
      "Shortest path: 22\n"
     ]
    }
   ],
   "source": [
    "path_results = solve_route(byte_grid, start=(0,0), end=(6,6))\n",
    "print(f\"Shortest path: {path_results[0]}\")"
   ]
  },
  {
   "cell_type": "markdown",
   "id": "acf5ecf2-9442-4b28-9bef-83db27b8d40a",
   "metadata": {},
   "source": [
    "Let's now try on the actual inputs:"
   ]
  },
  {
   "cell_type": "code",
   "execution_count": 687,
   "id": "fa6b6f46-9199-4945-a19e-a1dfb3aabdb9",
   "metadata": {},
   "outputs": [],
   "source": [
    "def populate_bytes(coordinates, grid_size, n):\n",
    "    byte_grid = np.zeros(grid_size).astype(str)\n",
    "    byte_grid[:, :] = '.'\n",
    "    \n",
    "    for coords in coordinates[:n]:\n",
    "        col, row = coords\n",
    "        byte_grid[int(row)][int(col)] = '#'\n",
    "    return byte_grid"
   ]
  },
  {
   "cell_type": "code",
   "execution_count": 689,
   "id": "5dcfa33b-b1f7-4506-a750-bb19fdbc6171",
   "metadata": {},
   "outputs": [
    {
     "name": "stdout",
     "output_type": "stream",
     "text": [
      "Min path results for example with 12 bytes: 22\n"
     ]
    }
   ],
   "source": [
    "n = 12\n",
    "example_byte_grid = populate_bytes(example_18, grid_size=(7,7), n=12)\n",
    "path_results = solve_route(example_byte_grid, start=(0,0), end=(6,6))\n",
    "print(f\"Min path results for example with {n} bytes: {path_results[0]}\")"
   ]
  },
  {
   "cell_type": "code",
   "execution_count": 675,
   "id": "2d155e2f-61f4-499a-b28d-d6d5a133ace6",
   "metadata": {},
   "outputs": [
    {
     "name": "stdout",
     "output_type": "stream",
     "text": [
      "File successfully read.\n"
     ]
    }
   ],
   "source": [
    "input_18 = read_raw_text('day_18_input.txt').split('\\n')\n",
    "input_18 = [tuple(x.split(',')) for x in input_18]\n",
    "\n",
    "byte_grid = np.zeros((71,71)).astype(str)\n",
    "byte_grid[:, :] = '.'\n",
    "\n",
    "for coords in input_18[:1024]:\n",
    "    col, row = coords\n",
    "    byte_grid[int(row)][int(col)] = '#'"
   ]
  },
  {
   "cell_type": "code",
   "execution_count": 676,
   "id": "1b4ff6c1-bc9c-4d76-b908-69e7886af05b",
   "metadata": {},
   "outputs": [],
   "source": [
    "path_results = solve_route(byte_grid, start=(0,0), end=(70,70))"
   ]
  },
  {
   "cell_type": "code",
   "execution_count": 678,
   "id": "53188823-a225-4e04-83a5-b928e10bd3e8",
   "metadata": {},
   "outputs": [
    {
     "data": {
      "text/plain": [
       "248"
      ]
     },
     "execution_count": 678,
     "metadata": {},
     "output_type": "execute_result"
    }
   ],
   "source": [
    "path_results[0]"
   ]
  },
  {
   "cell_type": "markdown",
   "id": "1526dbc4-25ce-45db-945c-f98addf289a0",
   "metadata": {},
   "source": [
    "### Day 18, Part 2:"
   ]
  },
  {
   "cell_type": "markdown",
   "id": "fb706398-dadb-4afd-8d06-48e7456bbe43",
   "metadata": {},
   "source": [
    "When the path cost becomes infinite, this indicates that the path is blocked. We simply need to adjust n (number of bytes) until the path cost becomes infinity, and precisely hone in on the number of bytes that causes this to arise."
   ]
  },
  {
   "cell_type": "code",
   "execution_count": 719,
   "id": "e9af8d05-32fa-4a14-aa44-db797bb9486f",
   "metadata": {},
   "outputs": [
    {
     "name": "stdout",
     "output_type": "stream",
     "text": [
      "Path becomes infinite after 21 bytes: inf\n",
      "This corresponds to the following byte causing the blockage: ('6', '1')\n"
     ]
    }
   ],
   "source": [
    "n = 21\n",
    "example_byte_grid = populate_bytes(example_18, grid_size=(7,7), n=n)\n",
    "path_results = solve_route(example_byte_grid, start=(0,0), end=(6,6))\n",
    "print(f\"Path becomes infinite after {n} bytes: {path_results[0]}\")\n",
    "print(f\"This corresponds to the following byte causing the blockage: {example_18[n - 1]}\")"
   ]
  },
  {
   "cell_type": "markdown",
   "id": "ec4f88fd-216c-4851-aadf-195792aa330e",
   "metadata": {},
   "source": [
    "Actual input:"
   ]
  },
  {
   "cell_type": "code",
   "execution_count": 739,
   "id": "1a6082db-d7b1-44a8-9692-37b46ad3caa7",
   "metadata": {},
   "outputs": [
    {
     "name": "stdout",
     "output_type": "stream",
     "text": [
      "Path becomes infinite after 2883 bytes: inf\n",
      "This corresponds to the following byte causing the blockage: ('32', '55')\n"
     ]
    }
   ],
   "source": [
    "n = 2883\n",
    "byte_grid = populate_bytes(input_18, grid_size=(71,71), n=n)\n",
    "path_results = solve_route(byte_grid, start=(0,0), end=(70,70))\n",
    "print(f\"Path becomes infinite after {n} bytes: {path_results[0]}\")\n",
    "print(f\"This corresponds to the following byte causing the blockage: {input_18[n - 1]}\")"
   ]
  },
  {
   "cell_type": "markdown",
   "id": "c14e9a92-f047-421d-b1af-8e59116f19e0",
   "metadata": {},
   "source": [
    "This could be done easily using an automated search (e.g. binary search) to hone in on the precise value resulting in infinity cost, but in this case it was really easy to find manually, as above."
   ]
  },
  {
   "cell_type": "markdown",
   "id": "f9a369ac-512d-420b-980a-22a9a4e2d0b4",
   "metadata": {
    "jp-MarkdownHeadingCollapsed": true
   },
   "source": [
    "## Day 19 Linen Layout"
   ]
  },
  {
   "cell_type": "markdown",
   "id": "b4e0b419-231b-4d24-9485-03cc8fb8bb90",
   "metadata": {},
   "source": [
    "Every towel at this onsen is marked with a pattern of colored stripes. There are only a few patterns, but for any particular pattern, the staff can get you as many towels with that pattern as you need. Each stripe can be white (w), blue (u), black (b), red (r), or green (g). So, a towel with the pattern ggr would have a green stripe, a green stripe, and then a red stripe, in that order. (You can't reverse a pattern by flipping a towel upside-down, as that would cause the onsen logo to face the wrong way.)\n",
    "\n",
    "The Official Onsen Branding Expert has produced a list of designs - each a long sequence of stripe colors - that they would like to be able to display. You can use any towels you want, but all of the towels' stripes must exactly match the desired design. So, to display the design rgrgr, you could use two rg towels and then an r towel, an rgr towel and then a gr towel, or even a single massive rgrgr towel (assuming such towel patterns were actually available).\n",
    "\n",
    "To start, collect together all of the available towel patterns and the list of desired designs (your puzzle input). For example:\n",
    "\n",
    "```\n",
    "r, wr, b, g, bwu, rb, gb, br\n",
    "\n",
    "brwrr\n",
    "bggr\n",
    "gbbr\n",
    "rrbgbr\n",
    "ubwu\n",
    "bwurrg\n",
    "brgr\n",
    "bbrgwb\n",
    "```\n",
    "\n",
    "The first line indicates the available towel patterns; in this example, the onsen has unlimited towels with a single red stripe (r), unlimited towels with a white stripe and then a red stripe (wr), and so on.\n",
    "\n",
    "After the blank line, the remaining lines each describe a design the onsen would like to be able to display. In this example, the first design (brwrr) indicates that the onsen would like to be able to display a black stripe, a red stripe, a white stripe, and then two red stripes, in that order.\n",
    "\n",
    "Not all designs will be possible with the available towels. In the above example, the designs are possible or impossible as follows:\n",
    "\n",
    "```\n",
    "brwrr can be made with a br towel, then a wr towel, and then finally an r towel.\n",
    "bggr can be made with a b towel, two g towels, and then an r towel.\n",
    "gbbr can be made with a gb towel and then a br towel.\n",
    "rrbgbr can be made with r, rb, g, and br.\n",
    "ubwu is impossible.\n",
    "bwurrg can be made with bwu, r, r, and g.\n",
    "brgr can be made with br, g, and r.\n",
    "bbrgwb is impossible.\n",
    "```"
   ]
  },
  {
   "cell_type": "markdown",
   "id": "8eddf0af-aee9-437e-873d-40322a6f40aa",
   "metadata": {
    "jp-MarkdownHeadingCollapsed": true
   },
   "source": [
    "### Day 19, Part 1:"
   ]
  },
  {
   "cell_type": "code",
   "execution_count": 6,
   "id": "f31b4b33-8d6b-4720-84dc-26d4411f5c68",
   "metadata": {},
   "outputs": [],
   "source": [
    "def read_raw_text(filename):\n",
    "    \"\"\" Read entire file as a single string. \"\"\"\n",
    "    try:\n",
    "        with open(filename, \"r\", encoding=\"utf-8\") as file:\n",
    "            file_data = file.read()  \n",
    "        print(\"File successfully read.\")\n",
    "    except FileNotFoundError:\n",
    "        print(\"The specified file was not found.\")\n",
    "    except Exception as e:\n",
    "        print(f\"An error occurred: {e}\")\n",
    "    return file_data"
   ]
  },
  {
   "cell_type": "code",
   "execution_count": 7,
   "id": "76c5d3bb-19e1-4c39-8ff2-cbc4f266ba10",
   "metadata": {},
   "outputs": [
    {
     "name": "stdout",
     "output_type": "stream",
     "text": [
      "File successfully read.\n"
     ]
    },
    {
     "data": {
      "text/plain": [
       "['r', 'wr', 'b', 'g', 'bwu', 'rb', 'gb', 'br']"
      ]
     },
     "execution_count": 7,
     "metadata": {},
     "output_type": "execute_result"
    }
   ],
   "source": [
    "data_dir = 'Day_19'\n",
    "day_19_example = read_raw_text(os.path.join(data_dir, 'example_input_day_19.txt')).split('\\n')\n",
    "example_patterns = day_19_example[0].replace(' ', '').split(',')\n",
    "example_designs = day_19_example[2:]\n",
    "example_patterns"
   ]
  },
  {
   "cell_type": "code",
   "execution_count": 8,
   "id": "a8a0ab72-e162-40fc-90dc-c1539684f41c",
   "metadata": {},
   "outputs": [
    {
     "data": {
      "text/plain": [
       "(['brwrr', 'bggr', 'gbbr', 'rrbgbr', 'ubwu', 'bwurrg', 'brgr', 'bbrgwb'],\n",
       " ['r', 'wr', 'b', 'g', 'bwu', 'rb', 'gb', 'br'])"
      ]
     },
     "execution_count": 8,
     "metadata": {},
     "output_type": "execute_result"
    }
   ],
   "source": [
    "example_designs, example_patterns"
   ]
  },
  {
   "cell_type": "code",
   "execution_count": 9,
   "id": "7f8cadf1-8442-450d-8605-893d241b6d9d",
   "metadata": {},
   "outputs": [],
   "source": [
    "def can_form_target(target, items):\n",
    "    \"\"\" Use recursive backtracking with lookup of previously\n",
    "        solved subwords to make string from list of substrings. \"\"\"\n",
    "    memo = {}\n",
    "    \n",
    "    def backtrack(remaining):\n",
    "        # if all characters matched, return True\n",
    "        if not remaining:\n",
    "            return True\n",
    "\n",
    "        # check in our lookup to save time if already computed\n",
    "        if remaining in memo: \n",
    "            return memo[remaining]\n",
    "\n",
    "        # iterate through each item and check if string starts with substring\n",
    "        for item in items:\n",
    "            if remaining.startswith(item):\n",
    "                if backtrack(remaining[len(item):]):\n",
    "                    memo[remaining] = True\n",
    "                    return True\n",
    "        memo[remaining] = False\n",
    "        return False\n",
    "    return backtrack(target)"
   ]
  },
  {
   "cell_type": "code",
   "execution_count": 10,
   "id": "bb28b083-93a5-437c-b8a3-2beaee0cb7ed",
   "metadata": {},
   "outputs": [
    {
     "name": "stdout",
     "output_type": "stream",
     "text": [
      "Number of results that can be solved: 6\n"
     ]
    }
   ],
   "source": [
    "results = []\n",
    "for design in example_designs:\n",
    "    result = can_form_target(design, example_patterns)\n",
    "    results.append(1 if result else 0)\n",
    "\n",
    "print(f'Number of results that can be solved: {sum(results)}')"
   ]
  },
  {
   "cell_type": "markdown",
   "id": "8420d8b2-91db-4a67-a230-776c37e8b6bd",
   "metadata": {},
   "source": [
    "This matches the input set of data. Let's now try it on the real inputs:"
   ]
  },
  {
   "cell_type": "code",
   "execution_count": 12,
   "id": "34809320-6b25-4a4d-8862-5869f34556bd",
   "metadata": {},
   "outputs": [
    {
     "name": "stdout",
     "output_type": "stream",
     "text": [
      "File successfully read.\n"
     ]
    }
   ],
   "source": [
    "data_dir = 'Day_19'\n",
    "day_19_input = read_raw_text(os.path.join(data_dir, 'day_19_input.txt')).split('\\n')\n",
    "input_patterns = day_19_input[0].replace(' ', '').split(',')\n",
    "input_designs = day_19_input[2:]"
   ]
  },
  {
   "cell_type": "code",
   "execution_count": 14,
   "id": "4b1a8ee7-513c-479c-8a5a-c4ae755951d5",
   "metadata": {},
   "outputs": [
    {
     "name": "stdout",
     "output_type": "stream",
     "text": [
      "Number of results that can be solved: 285\n",
      "CPU times: user 71.3 ms, sys: 2.24 ms, total: 73.6 ms\n",
      "Wall time: 72.2 ms\n"
     ]
    }
   ],
   "source": [
    "%%time \n",
    "results = []\n",
    "for design in input_designs:\n",
    "    result = can_form_target(design, input_patterns)\n",
    "    results.append(1 if result else 0)\n",
    "\n",
    "print(f'Number of results that can be solved: {sum(results)}')"
   ]
  },
  {
   "cell_type": "markdown",
   "id": "da201229-04d0-4cbe-80d9-1af2c456d968",
   "metadata": {
    "jp-MarkdownHeadingCollapsed": true
   },
   "source": [
    "### Day 19, Part 2:"
   ]
  },
  {
   "cell_type": "markdown",
   "id": "acb9a55e-479b-4774-8351-ceb876e69d9a",
   "metadata": {},
   "source": [
    "Rather than just solving one example as above, we need to continue appending solutions for each case until we've exhausted all possibilities.\n",
    "\n",
    "Since this is significantly more computationally complex to carry out on the examples, we need to work on improving the efficiency of our algorithm. Key things to help this include:\n",
    "- Remove completely irrelevant chars / substrings from list to save computations.\n",
    "- Prune early irrelevant solutions (if total of substrings exceeds length of current target string).\n",
    "- Sort in descending order to prioritise searching so that longer sub-strings are eliminated first.\n",
    "- Consider putting together a script that uses multiprocessing to spread load across different processes and speed up.\n",
    "\n",
    "Ultimately, I didn't do all of the above, but instead redesigned the recursive backtracking with memoisation with a more streamlined dynamic programming (DP) solution. The latter is much harder to understand and comprehend what is happening, with the benefit of being significantly faster (and actually tractable for our final inputs), as shown below. "
   ]
  },
  {
   "cell_type": "code",
   "execution_count": 15,
   "id": "aacd7359-dee7-490c-9c1c-5129857e3a4c",
   "metadata": {},
   "outputs": [],
   "source": [
    "def find_all_combos(target, items):\n",
    "    \"\"\" Use recursive backtracking with lookup to solve all possible combinations. \"\"\"\n",
    "    # dict to store solved cases to speed up future processing\n",
    "    memo = {}\n",
    "\n",
    "    def backtrack(remaining):\n",
    "        # if we've solved substring before, return solution(s)\n",
    "        if remaining in memo:\n",
    "            return memo[remaining]\n",
    "\n",
    "        # if nothing remaining, we've solved target\n",
    "        if not remaining:\n",
    "            return [[]]\n",
    "\n",
    "        solutions = []\n",
    "        for item in items:\n",
    "            # if starts with substring, solve remaining chars recursively\n",
    "            if remaining.startswith(item):\n",
    "                sub_solutions = backtrack(remaining[len(item):])\n",
    "                for sub_solution in sub_solutions:\n",
    "                    # append current item to sub-solution to form solution\n",
    "                    solutions.append([item] + sub_solution)\n",
    "\n",
    "        memo[remaining] = solutions\n",
    "        return solutions\n",
    "    return backtrack(target)"
   ]
  },
  {
   "cell_type": "code",
   "execution_count": 16,
   "id": "a3035b9e-2c53-43b2-8984-65cf50766c65",
   "metadata": {},
   "outputs": [],
   "source": [
    "def find_all_combos_v2(target, items):\n",
    "    \"\"\" Use recursive backtracking with lookup to solve all possible combinations. Optimised\n",
    "        for better speed. \"\"\"\n",
    "    memo = {}\n",
    "    n = len(target)\n",
    "\n",
    "    # Precompute prefix map\n",
    "    prefix_map = defaultdict(list)\n",
    "    for item in items:\n",
    "        prefix_map[item[0]].append(item)\n",
    "\n",
    "    def backtrack(start):\n",
    "        # if already solved for this substring return result\n",
    "        if start in memo:\n",
    "            return memo[start]\n",
    "        if start == n:\n",
    "            return [[]]\n",
    "\n",
    "        solutions = []\n",
    "        if target[start] in prefix_map:\n",
    "            for item in prefix_map[target[start]]:\n",
    "                if target.startswith(item, start):\n",
    "                    sub_solutions = backtrack(start + len(item))\n",
    "                    for sub_solution in sub_solutions:\n",
    "                        solutions.append([item] + sub_solution)\n",
    "\n",
    "        memo[start] = solutions\n",
    "        return solutions\n",
    "\n",
    "    return backtrack(0)\n",
    "\n",
    "def solve_design_combos(designs, patterns):\n",
    "    \"\"\" Sum total solutions to the given designs and patterns. \"\"\"\n",
    "    result_values = []\n",
    "    result_numbers = []\n",
    "    \n",
    "    for design in designs:\n",
    "        # filter out all non-relevant items for this line\n",
    "        design_items = [x for x in patterns if x in design]\n",
    "\n",
    "        print(f\"Original length of items: {len(patterns)}, new length: {len(design_items)}\")\n",
    "        \n",
    "        # solve current design\n",
    "        result = find_all_combos_v2(design, design_items)\n",
    "        result_numbers.append(len(result))\n",
    "    return sum(result_numbers)"
   ]
  },
  {
   "cell_type": "code",
   "execution_count": 17,
   "id": "6ea84986-55b0-4cab-af15-4ed2178a9cd7",
   "metadata": {},
   "outputs": [
    {
     "name": "stdout",
     "output_type": "stream",
     "text": [
      "Original length of items: 8, new length: 4\n",
      "Original length of items: 8, new length: 3\n",
      "Original length of items: 8, new length: 5\n",
      "Original length of items: 8, new length: 6\n",
      "Original length of items: 8, new length: 2\n",
      "Original length of items: 8, new length: 4\n",
      "Original length of items: 8, new length: 4\n",
      "Original length of items: 8, new length: 4\n",
      "CPU times: user 249 μs, sys: 10 μs, total: 259 μs\n",
      "Wall time: 259 μs\n"
     ]
    },
    {
     "data": {
      "text/plain": [
       "16"
      ]
     },
     "execution_count": 17,
     "metadata": {},
     "output_type": "execute_result"
    }
   ],
   "source": [
    "%time solve_design_combos(example_designs, example_patterns)"
   ]
  },
  {
   "cell_type": "code",
   "execution_count": 18,
   "id": "9c46848d-82e1-4079-8a39-92205a8055d7",
   "metadata": {},
   "outputs": [
    {
     "name": "stdout",
     "output_type": "stream",
     "text": [
      "CPU times: user 89 μs, sys: 1 μs, total: 90 μs\n",
      "Wall time: 95.1 μs\n",
      "Number of results that can be solved: 6\n",
      "Number of unique solutions to all of the designs: 16\n"
     ]
    }
   ],
   "source": [
    "%time results = [find_all_combos_v2(design, example_patterns) for design in example_designs]\n",
    "result_values = [1 if x else 0 for x in results]\n",
    "result_numbers = [len(x) for x in results]\n",
    "\n",
    "print(f'Number of results that can be solved: {sum(result_values)}')\n",
    "print(f'Number of unique solutions to all of the designs: {sum(result_numbers)}')"
   ]
  },
  {
   "cell_type": "code",
   "execution_count": null,
   "id": "583933a5-9255-41cd-ae2c-c914144000fc",
   "metadata": {},
   "outputs": [],
   "source": [
    "#%time solve_design_combos(input_designs[:2], input_patterns)"
   ]
  },
  {
   "cell_type": "markdown",
   "id": "7388df30-5bb6-4652-92a0-df74ddea40f8",
   "metadata": {},
   "source": [
    "Unfortunately, as mentioned previously above, even with our improvements in optimisation, this algorithm is not efficient nor performant enough to solve the problem, even on the first input... The approach requires a redesign, to which we'll try dynamic programming."
   ]
  },
  {
   "cell_type": "markdown",
   "id": "a68c655f-3521-4a26-85f3-24e48ccf4ba8",
   "metadata": {},
   "source": [
    "The dynamic programming approach involves creating a table (dp) where each entry represents the number of ways the substrings can be used to form prefixes of the target string. Broadly, the approach is as follows:\n",
    "\n",
    "1. Use a list dp where dp[i] represents the number of ways to form the first i characters of the target string.\n",
    "2. Initialize dp[0] = 1 because there is one way to form an empty string: use no substrings.\n",
    "3. For each position i in the target string, check all substrings that end at position i and see if they can form part of the target string.\n",
    "4. If a substring matches the end of the prefix, add the number of ways to form the previous part of the string (tracked by dp)."
   ]
  },
  {
   "cell_type": "code",
   "execution_count": 19,
   "id": "f6694626-bef7-485d-9dc1-38f40319cf83",
   "metadata": {},
   "outputs": [],
   "source": [
    "def count_combinations(substrings, target):\n",
    "    \"\"\"\n",
    "    Counts the number of ways the given substrings can be combined (with repetition) \n",
    "    to form the target string.\n",
    "\n",
    "    Args:\n",
    "        substrings (list of str): A list of substrings that can be used to construct the target.\n",
    "        target (str): The target string to be formed using the substrings.\n",
    "\n",
    "    Returns:\n",
    "        int: The number of ways the substrings can be combined to form the target string.\n",
    "\n",
    "    Approach:\n",
    "        - This function uses dynamic programming to efficiently calculate the number of combinations.\n",
    "        - A dp array (`dp`) is used where `dp[i]` represents the number of ways to form the first \n",
    "          `i` characters of the target string.\n",
    "        - For each position in the target string, the function checks all substrings and updates the \n",
    "          count in `dp` if the substring matches the current position in the target string.\n",
    "        - The final result is stored in `dp[len(target)]`.\n",
    "\n",
    "    Example:\n",
    "        substrings = ['b', 'br', 'wr', 'r']\n",
    "        target = 'brwrr'\n",
    "        count_combinations(substrings, target) -> 4\n",
    "    \"\"\"\n",
    "    n = len(target)\n",
    "    \n",
    "    # dp[i] will store the number of ways to form the first i characters of the target\n",
    "    dp = [0] * (n + 1)\n",
    "    dp[0] = 1  # Base case: one way to form the empty string (by using no substrings)\n",
    "\n",
    "    # Iterate over each position in the target string\n",
    "    for i in range(1, n + 1):\n",
    "        # Check all substrings to see if they can form part of the target\n",
    "        for sub in substrings:\n",
    "            # Ensure the substring fits within the current prefix\n",
    "            if i >= len(sub) and target[i - len(sub):i] == sub:\n",
    "                # Add the number of ways to form the prefix before this substring\n",
    "                dp[i] += dp[i - len(sub)]\n",
    "\n",
    "    # Return the number of ways to form the entire target string\n",
    "    return dp[n]\n",
    "\n",
    "\n",
    "def get_results_count_combinations(patterns, designs):\n",
    "    \"\"\" Sum total solutions to the given designs and patterns. \"\"\"\n",
    "    result_values = []\n",
    "    result_numbers = []\n",
    "    \n",
    "    for design in designs:\n",
    "        # filter out all non-relevant items for this line\n",
    "        design_substrings = [x for x in patterns if x in design]\n",
    "        \n",
    "        # solve current design\n",
    "        result = count_combinations(design_substrings, design)\n",
    "        result_numbers.append(result)\n",
    "    return sum(result_numbers)"
   ]
  },
  {
   "cell_type": "markdown",
   "id": "ec6e1261-092f-4958-b299-5a1873020aa2",
   "metadata": {},
   "source": [
    "Helpful notes for above dynamic programming solution:\n",
    "\n",
    "1. dp[i] accumulates the number of ways to construct the first i characters of the target string.\n",
    "2. For each substring in the list, the code checks if it fits as the ending segment of the current prefix.\n",
    "3. If it fits, the count is updated by adding the number of ways to form the prefix up to the start of the current substring.\n",
    "\n",
    "Example:\n",
    "For target = 'brwrr' and substrings = ['b', 'br', 'wr', 'r']:\n",
    "\n",
    "dp[0] = 1 (base case).\n",
    "At each position i, the algorithm checks if any substring can match the segment ending at i.\n",
    "For i = 5 (entire target), the algorithm calculates the total ways using valid substrings.\n",
    "\n",
    "**Further walkthrough notes:**\n",
    "\n",
    "Initialization:\n",
    "- dp[0] = 1: The empty string can only be formed in one way (use no substrings).\n",
    "- The rest of the dp array is initialized to 0.\n",
    "  \n",
    "Outer Loop:\n",
    "- Iterates through each position i of the target string to determine how many ways the first i characters can be formed.\n",
    "\n",
    "Inner Loop:\n",
    "- Iterates through each substring in substrings.\n",
    "- If the substring sub can fit at the end of the first i characters of target, update dp[i].\n",
    "\n",
    "Substring Check:\n",
    "- The condition i >= len(sub) and target[i - len(sub):i] == sub ensures the substring matches the segment of the target ending at position i.\n",
    "\n",
    "Final Result:\n",
    "- dp[n] contains the total number of ways to form the target string using the given substrings."
   ]
  },
  {
   "cell_type": "code",
   "execution_count": 20,
   "id": "bc614683-1516-444d-b481-5e93bb6eaf85",
   "metadata": {},
   "outputs": [
    {
     "name": "stdout",
     "output_type": "stream",
     "text": [
      "CPU times: user 75 μs, sys: 2 μs, total: 77 μs\n",
      "Wall time: 84.2 μs\n"
     ]
    },
    {
     "data": {
      "text/plain": [
       "16"
      ]
     },
     "execution_count": 20,
     "metadata": {},
     "output_type": "execute_result"
    }
   ],
   "source": [
    "%time get_results_count_combinations(example_patterns, example_designs)"
   ]
  },
  {
   "cell_type": "code",
   "execution_count": 21,
   "id": "e3926c16-254f-4cd1-be83-075743684907",
   "metadata": {},
   "outputs": [
    {
     "name": "stdout",
     "output_type": "stream",
     "text": [
      "CPU times: user 126 ms, sys: 1.93 ms, total: 128 ms\n",
      "Wall time: 127 ms\n"
     ]
    },
    {
     "data": {
      "text/plain": [
       "636483903099279"
      ]
     },
     "execution_count": 21,
     "metadata": {},
     "output_type": "execute_result"
    }
   ],
   "source": [
    "%time get_results_count_combinations(input_patterns, input_designs)"
   ]
  },
  {
   "cell_type": "markdown",
   "id": "a82a11de-a0bc-4571-be24-022f9ffaaff8",
   "metadata": {},
   "source": [
    "This is much more efficient than the original approach above, and solves the problem extremely quickly, which was correct. The rust equivalent also runs in equally impressive time (slightly faster on average compared to above).\n",
    "\n",
    "Dynamic Programming solutions, although hard, non-intuitive and challenging to debug, are clearly much more efficient to solving this problem in this case."
   ]
  },
  {
   "cell_type": "markdown",
   "id": "ac29a715-be65-4771-aaa1-f750c52b3915",
   "metadata": {
    "jp-MarkdownHeadingCollapsed": true
   },
   "source": [
    "## Day 20 Race Condition"
   ]
  },
  {
   "cell_type": "markdown",
   "id": "9b8336e6-3792-41fb-8254-7f2f4f265912",
   "metadata": {},
   "source": [
    "### Day 20, Part 1:"
   ]
  },
  {
   "cell_type": "markdown",
   "id": "24744046-1203-4127-9bd0-703611c4010b",
   "metadata": {},
   "source": [
    "The map consists of track (.) - including the start (S) and end (E) positions (both of which also count as track) - and walls (#).\n",
    "\n",
    "When a program runs through the racetrack, it starts at the start position. Then, it is allowed to move up, down, left, or right; each such move takes 1 picosecond. The goal is to reach the end position as quickly as possible. In this example racetrack, the fastest time is 84 picoseconds.\n",
    "\n",
    "Because there is only a single path from the start to the end and the programs all go the same speed, the races used to be pretty boring. To make things more interesting, they introduced a new rule to the races: programs are allowed to cheat.\n",
    "\n",
    "The rules for cheating are very strict. Exactly once during a race, a program may disable collision for up to 2 picoseconds. This allows the program to pass through walls as if they were regular track. At the end of the cheat, the program must be back on normal track again; otherwise, it will receive a segmentation fault and get disqualified.\n",
    "\n",
    "Each cheat has a distinct start position (the position where the cheat is activated, just before the first move that is allowed to go through walls) and end position; cheats are uniquely identified by their start position and end position.\n",
    "\n",
    "You aren't sure what the conditions of the racetrack will be like, so to give yourself as many options as possible, you'll need a list of the best cheats. How many cheats would save you at least 100 picoseconds?"
   ]
  },
  {
   "cell_type": "code",
   "execution_count": 38,
   "id": "d6810cef-1eee-4a3c-bf0a-f87961bf1b10",
   "metadata": {},
   "outputs": [],
   "source": [
    "def read_raw_text(filename):\n",
    "    \"\"\" Read entire file as a single string. \"\"\"\n",
    "    try:\n",
    "        with open(filename, \"r\", encoding=\"utf-8\") as file:\n",
    "            file_data = file.read()  \n",
    "        print(\"File successfully read.\")\n",
    "    except FileNotFoundError:\n",
    "        print(\"The specified file was not found.\")\n",
    "    except Exception as e:\n",
    "        print(f\"An error occurred: {e}\")\n",
    "    return file_data\n",
    "\n",
    "def find_character(grid, character):\n",
    "    \"\"\" Helper function to find specific value(s) in grid. \"\"\"\n",
    "    array = np.array(grid).astype(str)\n",
    "    location = np.where(array == character)\n",
    "    return list(location[0])[0], list(location[1])[0]"
   ]
  },
  {
   "cell_type": "code",
   "execution_count": 39,
   "id": "e123a308-503c-47e5-82c8-47dfc417f629",
   "metadata": {},
   "outputs": [
    {
     "name": "stdout",
     "output_type": "stream",
     "text": [
      "File successfully read.\n"
     ]
    },
    {
     "data": {
      "text/plain": [
       "['###############',\n",
       " '#...#...#.....#',\n",
       " '#.#.#.#.#.###.#',\n",
       " '#S#...#.#.#...#',\n",
       " '#######.#.#.###',\n",
       " '#######.#.#...#',\n",
       " '#######.#.###.#',\n",
       " '###..E#...#...#',\n",
       " '###.#######.###',\n",
       " '#...###...#...#',\n",
       " '#.#####.#.###.#',\n",
       " '#.#...#.#.#...#',\n",
       " '#.#.#.#.#.#.###',\n",
       " '#...#...#...###',\n",
       " '###############']"
      ]
     },
     "execution_count": 39,
     "metadata": {},
     "output_type": "execute_result"
    }
   ],
   "source": [
    "data_dir = 'Day_20'\n",
    "example_path = read_raw_text(os.path.join(data_dir, 'example_input_day_20.txt')).split('\\n')\n",
    "example_path = [list(x) for x in example_path]\n",
    "[\"\".join(x) for x in example_path]"
   ]
  },
  {
   "cell_type": "code",
   "execution_count": 40,
   "id": "5dc218af-7476-407b-a269-1d1abd302f80",
   "metadata": {},
   "outputs": [],
   "source": [
    "def get_next_position(grid, x, y, seen):\n",
    "    for next_xy in ((x-1, y), (x, y+1), (x+1,y), (x, y-1)):\n",
    "        if is_valid(grid, next_xy[0], next_xy[1]) and (next_xy[0], next_xy[1]) not in seen:\n",
    "            return (next_xy[0], next_xy[1])\n",
    "\n",
    "def is_valid(grid, x, y):\n",
    "    return 0 <= x < len(grid) and 0 <= y < len(grid[0]) and grid[x][y] != '#'\n",
    "\n",
    "def get_normal_route(grid, upper_limit=10000):\n",
    "    start = find_character(grid, character='S')\n",
    "    end = find_character(grid, character='E')\n",
    "\n",
    "    print(f\"Started at co-ordinates: {start}\")\n",
    "\n",
    "    next_xy = (start[0], start[1])\n",
    "    times = {start: 0}\n",
    "    \n",
    "    for i in range(upper_limit):\n",
    "        next_xy = get_next_position(grid, next_xy[0], next_xy[1], times)\n",
    "        times[next_xy] = i + 1\n",
    "        \n",
    "        if grid[next_xy[0]][next_xy[1]] == 'E':\n",
    "            print(f\"Finished at co-ordiniates: {next_xy} after {len(times) - 1} moves.\")\n",
    "            return times\n",
    "    print(\"No end found - check map for errors or increase upper limit of moves.\")\n",
    "    return times"
   ]
  },
  {
   "cell_type": "code",
   "execution_count": 41,
   "id": "0e33d8fe-20ef-456d-b79a-1b02233545ee",
   "metadata": {},
   "outputs": [
    {
     "name": "stdout",
     "output_type": "stream",
     "text": [
      "Started at co-ordinates: (3, 1)\n",
      "Finished at co-ordiniates: (7, 5) after 84 moves.\n"
     ]
    }
   ],
   "source": [
    "example_route = get_normal_route(example_path)"
   ]
  },
  {
   "cell_type": "markdown",
   "id": "4b155b45-fbc7-45dc-b5da-8f2f7fc4eb88",
   "metadata": {},
   "source": [
    "A simple algorithm to solving this:\n",
    "\n",
    "Starting from the start coordinates, for each position in the core seen set:\n",
    "    \n",
    "    - Find all co-ordinates in the set, other than the next co-ordinate, that are 2 moves away. \n",
    "    - Validate that all of these nearby co-ordinates are a shortcut (occur after the current co-ordinate in the sequence)\n",
    "    - For each of these shortcut co-ordinates, work out cost savings if this shortcut was made (number of sequenced co-ordinates that are avoided)."
   ]
  },
  {
   "cell_type": "code",
   "execution_count": 27,
   "id": "3238b4de-0f2b-4948-a42a-e46abfdd0900",
   "metadata": {},
   "outputs": [],
   "source": [
    "def compute_time_saving(current, new, route_dict):\n",
    "    \"\"\" Compute time saved if we shortcut to the new position. \"\"\"\n",
    "    return route_dict[new] - (route_dict[current] + 2)\n",
    "\n",
    "def get_shortcut_times(route):\n",
    "    route_arr = np.array(list(route.keys()))\n",
    "    coords = list(route.keys())\n",
    "    n_steps = route_arr.shape[0]\n",
    "    \n",
    "    cost_savings = []\n",
    "    \n",
    "    for i, (coord, cost) in enumerate(route.items()):\n",
    "    \n",
    "        if i + 2 >= n_steps - 1:\n",
    "            continue\n",
    "    \n",
    "        # work out distance from current loc to all other positions\n",
    "        diff_sums = np.abs(route_arr - route_arr[i]).sum(axis=1)\n",
    "    \n",
    "        # get idx of those two steps away\n",
    "        idxs = np.where(diff_sums==2)[0]\n",
    "    \n",
    "        # keep positions more than 2 in main seq (otherwise its not a shortcut)\n",
    "        shortcut_idxs = idxs[idxs > i + 2]\n",
    "    \n",
    "        for shortcut_idx in list(shortcut_idxs):\n",
    "            cost_saving = compute_time_saving(coord, coords[shortcut_idx], route)\n",
    "            cost_savings.append(cost_saving)\n",
    "            #print(f\"Current idx: {i}, shortcut idx: {shortcut_idx}, cost saving: {cost_saving}\")\n",
    "    \n",
    "    return np.array(cost_savings)"
   ]
  },
  {
   "cell_type": "code",
   "execution_count": 64,
   "id": "aa5c1375-13ca-4c30-8a98-bb916c641ad5",
   "metadata": {},
   "outputs": [
    {
     "name": "stdout",
     "output_type": "stream",
     "text": [
      "2 : 14\n",
      "4 : 14\n",
      "6 : 2\n",
      "8 : 4\n",
      "10 : 2\n",
      "12 : 3\n",
      "20 : 1\n",
      "36 : 1\n",
      "38 : 1\n",
      "40 : 1\n",
      "64 : 1\n"
     ]
    }
   ],
   "source": [
    "example_cost_savings = get_shortcut_times(example_route)\n",
    "\n",
    "uniques, counts = np.unique(example_cost_savings, return_counts=True)\n",
    "for i in range(uniques.shape[0]):\n",
    "    print(f\"{uniques[i]} : {counts[i]}\")"
   ]
  },
  {
   "cell_type": "markdown",
   "id": "6af31838-e302-4bc9-8696-bb8ea9ac5380",
   "metadata": {},
   "source": [
    "Actual inputs:"
   ]
  },
  {
   "cell_type": "code",
   "execution_count": 65,
   "id": "fb0dbeec-7322-4405-9088-af12dc305441",
   "metadata": {},
   "outputs": [
    {
     "name": "stdout",
     "output_type": "stream",
     "text": [
      "File successfully read.\n",
      "Started at co-ordinates: (25, 59)\n",
      "Finished at co-ordiniates: (47, 53) after 9480 moves.\n"
     ]
    }
   ],
   "source": [
    "data_dir = 'Day_20'\n",
    "input_path = read_raw_text(os.path.join(data_dir, 'day_20_input.txt')).split('\\n')\n",
    "input_path = [list(x) for x in input_path]\n",
    "\n",
    "route = get_normal_route(input_path)\n",
    "cost_savings = get_shortcut_times(route)\n",
    "\n",
    "uniques, counts = np.unique(cost_savings, return_counts=True)\n",
    "\n",
    "threshold = 100\n",
    "filtered_cheats = uniques >= threshold\n",
    "\n",
    "cheat_count = np.sum(counts[filtered_cheats])"
   ]
  },
  {
   "cell_type": "markdown",
   "id": "9ce8b624-d5dc-4275-a24d-f3287a79a863",
   "metadata": {},
   "source": [
    "Correct! On to part 2..."
   ]
  },
  {
   "cell_type": "markdown",
   "id": "da821ceb-baca-45cc-985c-927f79f4cf43",
   "metadata": {},
   "source": [
    "### Day 20, Part 2:"
   ]
  },
  {
   "cell_type": "markdown",
   "id": "6bbee492-d5d7-4807-b0d4-7ed5fd81a13e",
   "metadata": {},
   "source": [
    "The programs seem perplexed by your list of cheats. Apparently, the two-picosecond cheating rule was deprecated several milliseconds ago! The latest version of the cheating rule permits a single cheat that instead lasts at most 20 picoseconds."
   ]
  },
  {
   "cell_type": "markdown",
   "id": "23276fcc-c9da-4fcd-a5d6-24f4cb3f5f55",
   "metadata": {},
   "source": [
    "**Approach:** Cheat time up from 2 picoseconds up to a maximum of 20 picoseconds."
   ]
  },
  {
   "cell_type": "code",
   "execution_count": 43,
   "id": "a9c985d9-0bfd-4bba-9aad-673121812615",
   "metadata": {},
   "outputs": [],
   "source": [
    "def compute_time_saving_v2(current, new, dist_diff, route_dict):\n",
    "    \"\"\" Compute time saved if we shortcut to the new position. \"\"\"\n",
    "    return route_dict[new] - (route_dict[current] + dist_diff)\n",
    "\n",
    "def get_shortcut_times_v2(route, max_cheat_timesteps=20):\n",
    "    route_arr = np.array(list(route.keys()))\n",
    "    coords = list(route.keys())\n",
    "    n_steps = route_arr.shape[0]\n",
    "    \n",
    "    cost_savings = []\n",
    "    \n",
    "    for i, (coord, cost) in enumerate(route.items()):\n",
    "\n",
    "        # work out distance from current loc to all other positions\n",
    "        diff_sums = np.abs(route_arr - route_arr[i]).sum(axis=1)\n",
    "\n",
    "        for cheat_time in range(2, max_cheat_timesteps + 1):\n",
    "\n",
    "            if i + cheat_time > n_steps - 1:\n",
    "                continue\n",
    "        \n",
    "            # get idx of those locations equal to cheat timesteps\n",
    "            idxs = np.where(diff_sums==cheat_time)[0]\n",
    "        \n",
    "            # keep positions more than cheat_time in main seq (otherwise no shortcut)\n",
    "            shortcut_idxs = idxs[idxs >= i + cheat_time]\n",
    "    \n",
    "            for shortcut_idx in list(shortcut_idxs):\n",
    "                cost_saving = compute_time_saving_v2(coord, coords[shortcut_idx], \n",
    "                                                     cheat_time, route)\n",
    "                cost_savings.append(cost_saving)\n",
    "    \n",
    "    return np.array(cost_savings)"
   ]
  },
  {
   "cell_type": "code",
   "execution_count": 44,
   "id": "61500880-2937-4c1d-b826-34d0e21ce25a",
   "metadata": {},
   "outputs": [
    {
     "name": "stdout",
     "output_type": "stream",
     "text": [
      "File successfully read.\n",
      "Started at co-ordinates: (3, 1)\n",
      "Finished at co-ordiniates: (7, 5) after 84 moves.\n"
     ]
    }
   ],
   "source": [
    "data_dir = 'Day_20'\n",
    "example_path = read_raw_text(os.path.join(data_dir, 'example_input_day_20.txt')).split('\\n')\n",
    "example_path = [list(x) for x in example_path]\n",
    "example_route = get_normal_route(example_path)\n",
    "example_cost_savings = get_shortcut_times_v2(example_route)\n",
    "\n",
    "uniques, counts = np.unique(example_cost_savings, return_counts=True)\n",
    "#for i in range(uniques.shape[0]):\n",
    "#    print(f\"{uniques[i]} : {counts[i]}\")"
   ]
  },
  {
   "cell_type": "code",
   "execution_count": 45,
   "id": "186c4c14-2c99-4002-bee6-d2983e939703",
   "metadata": {},
   "outputs": [
    {
     "name": "stdout",
     "output_type": "stream",
     "text": [
      "Count of cheats saving at least 50 picoseconds: 285\n"
     ]
    }
   ],
   "source": [
    "threshold = 50\n",
    "filtered_cheats = uniques >= threshold\n",
    "\n",
    "cheat_count = np.sum(counts[filtered_cheats])\n",
    "\n",
    "print(f\"Count of cheats saving at least {threshold} picoseconds: {cheat_count}\")"
   ]
  },
  {
   "cell_type": "code",
   "execution_count": 49,
   "id": "431c1444-eabd-4205-a988-b5eebedeb35b",
   "metadata": {},
   "outputs": [
    {
     "name": "stdout",
     "output_type": "stream",
     "text": [
      "File successfully read.\n",
      "Started at co-ordinates: (25, 59)\n",
      "Finished at co-ordiniates: (47, 53) after 9480 moves.\n",
      "Count of cheats saving at least 100 picoseconds: 1005856\n",
      "CPU times: user 1.7 s, sys: 13.5 ms, total: 1.71 s\n",
      "Wall time: 1.71 s\n"
     ]
    }
   ],
   "source": [
    "%%time \n",
    "data_dir = 'Day_20'\n",
    "input_path = read_raw_text(os.path.join(data_dir, 'day_20_input.txt')).split('\\n')\n",
    "input_path = [list(x) for x in input_path]\n",
    "\n",
    "route = get_normal_route(input_path)\n",
    "cost_savings = get_shortcut_times_v2(route)\n",
    "\n",
    "uniques, counts = np.unique(cost_savings, return_counts=True)\n",
    "\n",
    "threshold = 100\n",
    "filtered_cheats = uniques >= threshold\n",
    "\n",
    "cheat_count = np.sum(counts[filtered_cheats])\n",
    "\n",
    "print(f\"Count of cheats saving at least {threshold} picoseconds: {cheat_count}\")"
   ]
  },
  {
   "cell_type": "markdown",
   "id": "dcdd90fb-9e28-4382-831a-77c3bdbf598b",
   "metadata": {},
   "source": [
    "Correct answer!"
   ]
  },
  {
   "cell_type": "markdown",
   "id": "82c7c13f-a770-4a6d-9293-40f106a2ef01",
   "metadata": {
    "jp-MarkdownHeadingCollapsed": true
   },
   "source": [
    "## Day 21 Keypad Conundrum"
   ]
  },
  {
   "cell_type": "markdown",
   "id": "e44f8419-0a7c-4a24-bacb-157de70c1643",
   "metadata": {},
   "source": [
    "### Day 21, Part 1"
   ]
  },
  {
   "cell_type": "markdown",
   "id": "aea0364b-8b04-4b69-b02b-2acf53d0fba4",
   "metadata": {},
   "source": [
    "**Working notes / to-do:**\n",
    "- We need to call all possible locations and moves to other locations at class instantiation, which is then stored as a lookup map of positions and associated locations making subsequent calls very quick.\n",
    "- The efficiency of different routes at different levels is having a real impact on the solutions. The way to overcome this is to gather all the possible paths at different levels, and experiment with what final outputs this gives at different levels. Some routes will give more optimal final numbers than others. It's the overall minimum number of moves that we need to keep as the final result.\n",
    "- With the above in mind, all paths should not alternate between different directions where not required, e.g. '>^>' is worse than '>>^', since it is less higher-level moves when we combine like-moves together."
   ]
  },
  {
   "cell_type": "code",
   "execution_count": 50,
   "id": "1cce4c7c-f7d6-4258-ac8d-f3af88b7aa5b",
   "metadata": {},
   "outputs": [],
   "source": [
    "class Keypad:\n",
    "    def __init__(self, grid, obstacle_char='#'):\n",
    "        \"\"\"\n",
    "        Initialize the Keypad class with a grid and set the current position.\n",
    "\n",
    "        :param grid: 2D list representing the numeric keypad grid.\n",
    "        \"\"\"\n",
    "        self.grid = grid.copy()\n",
    "        self.rows = len(grid)\n",
    "        self.cols = len(grid[0]) if self.rows > 0 else 0\n",
    "\n",
    "        # initialise grid at default value 'A'\n",
    "        self.current_pos = self._find_value_position('A')\n",
    "\n",
    "        # record where obstacle / avoid position is\n",
    "        self.avoid_pos = self._find_value_position('#')\n",
    "\n",
    "        # record row, col locations of all values\n",
    "        self.value_locations = dict()\n",
    "        for row in range(self.rows):\n",
    "            for col in range(self.cols):\n",
    "                self.value_locations[self.grid[row][col]] = (row, col)\n",
    "\n",
    "        # search and store paths between all values\n",
    "        self._get_paths()\n",
    "\n",
    "        # set best paths - default to first element for now\n",
    "        self.set_best_paths()\n",
    "\n",
    "    def _get_paths(self):\n",
    "        \"\"\" Get appropriate paths between all locations on the grid and store for\n",
    "            fast future access as needed. \n",
    "        \"\"\"\n",
    "        valid_positions = [x for x in list(self.value_locations) if x != '#']\n",
    "        self.paths = {}\n",
    "        # record initial position to return to this after gathering paths\n",
    "        initial_position = self.current_pos\n",
    "        for start, end in permutations(valid_positions, r=2):\n",
    "            self.current_pos = (self.value_locations[start])\n",
    "            target_row, target_col = self.value_locations[end]\n",
    "            self.paths[(start, end)] = self._get_movements_v3(target_row, target_col)\n",
    "\n",
    "        # reset initial position again\n",
    "        self.current_pos = initial_position\n",
    "\n",
    "\n",
    "    def set_best_paths(self, keypad_grid=None):\n",
    "        \"\"\" Set best paths based on higher level keypad used to carry out the\n",
    "            paths required for this keypad.\n",
    "        \"\"\"\n",
    "        self.best_paths = {}\n",
    "        if keypad_grid:\n",
    "            for route in self.paths:\n",
    "                # set best score for each key to inf initially\n",
    "                best_score = float('inf')\n",
    "            \n",
    "                for path in self.paths[route]:\n",
    "                    higher_keypad = Keypad(keypad_grid)\n",
    "                    path_seq = get_move_sequence(higher_keypad, path + 'A')\n",
    "                    path_score = len(path_seq)\n",
    "                    if path_score < best_score:\n",
    "                        best_score = path_score\n",
    "                        best_path = path\n",
    "                        self.best_paths[route] = best_path\n",
    "            #print(\"Set best paths using custom grid.\")\n",
    "                        \n",
    "        # if no custom keypad grid, just use first element of path arrays\n",
    "        else:\n",
    "            for route in self.paths:\n",
    "                self.best_paths[route] = self.paths[route][0]\n",
    "            #print(\"Defaulted to first element for best paths.\")\n",
    "        \n",
    "    def current_value(self):\n",
    "        \"\"\" Return the row and col of the chosen value. \"\"\"\n",
    "        x, y = self.current_pos\n",
    "        return self.grid[x][y]\n",
    "\n",
    "    def _find_value_position(self, value):\n",
    "        \"\"\" Return the row and column corresponding to the chosen\n",
    "            value on the grid, if it exists. \"\"\"\n",
    "        array = np.array(self.grid).astype(str)\n",
    "        location = np.where(array == value)\n",
    "        if location[0].shape[0] == 0:\n",
    "            raise ValueError(\"Invalid character for keypad: not found.\")\n",
    "        else:\n",
    "            return list(location[0])[0], list(location[1])[0]\n",
    "        \n",
    "        if 0 <= row < self.rows and 0 <= col < self.cols:\n",
    "            self.current_pos = (row, col)\n",
    "        else:\n",
    "            raise ValueError(\"Invalid position: out of bounds.\")\n",
    "\n",
    "    def set_position(self, row, col):\n",
    "        \"\"\"\n",
    "        Set the current position on the keypad.\n",
    "\n",
    "        :param row: Row index (0-based).\n",
    "        :param col: Column index (0-based).\n",
    "        \"\"\"\n",
    "        if 0 <= row < self.rows and 0 <= col < self.cols:\n",
    "            self.current_pos = (row, col)\n",
    "        else:\n",
    "            raise ValueError(\"Invalid position: out of bounds.\")\n",
    "\n",
    "    def is_valid_position(self, row, col):\n",
    "        \"\"\"\n",
    "        Check if a position is valid (within bounds and not an obstacle).\n",
    "\n",
    "        :param row: Row index (0-based).\n",
    "        :param col: Column index (0-based).\n",
    "        :return: True if the position is valid, False otherwise.\n",
    "        \"\"\"\n",
    "        return 0 <= row < self.rows and 0 <= col < self.cols and self.grid[row][col] != '#'\n",
    "\n",
    "    def get_movements(self, target_row, target_col):\n",
    "        \"\"\"\n",
    "        Compute the movements required to navigate to a target cell.\n",
    "\n",
    "        :param target_row: Target row index (0-based).\n",
    "        :param target_col: Target column index (0-based).\n",
    "        :return: A string of movements ('>', '<', '^', 'v').\n",
    "        \"\"\"\n",
    "        if not (0 <= target_row < self.rows and 0 <= target_col < self.cols):\n",
    "            raise ValueError(\"Invalid target position: out of bounds.\")\n",
    "\n",
    "        current_row, current_col = self.current_pos\n",
    "        movements = []\n",
    "\n",
    "        # Vertical movements\n",
    "        while current_row < target_row:\n",
    "            movements.append('v')\n",
    "            current_row += 1\n",
    "        while current_row > target_row:\n",
    "            movements.append('^')\n",
    "            current_row -= 1\n",
    "\n",
    "        # Horizontal movements\n",
    "        while current_col < target_col:\n",
    "            movements.append('>')\n",
    "            current_col += 1\n",
    "        while current_col > target_col:\n",
    "            movements.append('<')\n",
    "            current_col -= 1\n",
    "\n",
    "        return ''.join(movements)\n",
    "\n",
    "    def _get_movements_v3(self, target_row, target_col):\n",
    "        \"\"\"\n",
    "        Compute all minimum movements required to navigate to a target cell while avoiding obstacles,\n",
    "        prioritizing paths with consecutive like directions.\n",
    "    \n",
    "        :param target_row: Target row index (0-based).\n",
    "        :param target_col: Target column index (0-based).\n",
    "        :return: A list of strings representing all minimum paths ('>', '<', '^', 'v').\n",
    "        \"\"\"\n",
    "        if not self.is_valid_position(target_row, target_col) or self.grid[target_row][target_col] == '#':\n",
    "            raise ValueError(\"Invalid target position: out of bounds, blocked, or an obstacle.\")\n",
    "    \n",
    "        current_row, current_col = self.current_pos\n",
    "        queue = deque([(current_row, current_col, \"\", 0)])  # (row, col, path, direction_changes)\n",
    "        visited = {}  # Store the shortest path length to each cell\n",
    "        min_length = float('inf')\n",
    "        paths = []\n",
    "    \n",
    "        def count_direction_changes(path):\n",
    "            \"\"\"\n",
    "            Count the number of direction changes in a path.\n",
    "            A direction change occurs when two consecutive moves are different.\n",
    "            \"\"\"\n",
    "            return sum(1 for i in range(1, len(path)) if path[i] != path[i - 1])\n",
    "    \n",
    "        while queue:\n",
    "            row, col, path, changes = queue.popleft()\n",
    "    \n",
    "            # Stop exploring paths longer than the shortest path found\n",
    "            if len(path) > min_length:\n",
    "                continue\n",
    "    \n",
    "            if (row, col) == (target_row, target_col):\n",
    "                if len(path) < min_length:\n",
    "                    min_length = len(path)\n",
    "                    paths = [path]  # Start a new list of paths\n",
    "                elif len(path) == min_length:\n",
    "                    paths.append(path)\n",
    "                continue\n",
    "    \n",
    "            # Check if the current path length is shorter or equal to the visited path length\n",
    "            if (row, col) in visited and len(path) > visited[(row, col)]:\n",
    "                continue\n",
    "            visited[(row, col)] = len(path)\n",
    "    \n",
    "            # Add valid neighbors\n",
    "            for dr, dc, move in [(-1, 0, '^'), (1, 0, 'v'), (0, -1, '<'), (0, 1, '>')]:\n",
    "                new_row, new_col = row + dr, col + dc\n",
    "                if (\n",
    "                    0 <= new_row < len(self.grid) and\n",
    "                    0 <= new_col < len(self.grid[0]) and\n",
    "                    self.grid[new_row][new_col] != '#'\n",
    "                ):\n",
    "                    # Calculate direction changes if the new move is different\n",
    "                    new_changes = changes + (1 if path and path[-1] != move else 0)\n",
    "                    queue.append((new_row, new_col, path + move, new_changes))\n",
    "    \n",
    "        if not paths:\n",
    "            raise ValueError(\"No valid path to target position.\")\n",
    "    \n",
    "        # Sort paths by direction changes to prioritize paths with fewer changes\n",
    "        paths.sort(key=count_direction_changes)\n",
    "    \n",
    "        return paths\n",
    "\n",
    "    def move_to(self, value, random=False):\n",
    "        \"\"\"\n",
    "        Move to a target position and update the current position.\n",
    "\n",
    "        :param target_row: Target row index (0-based).\n",
    "        :param target_col: Target column index (0-based).\n",
    "        :param random: If true, randomise choice of best path from lookup.\n",
    "        :return: A string of movements taken.\n",
    "        \"\"\"\n",
    "        current_value = self.current_value()\n",
    "        if current_value == value:\n",
    "            return \"\"\n",
    "        if random:\n",
    "            # select random path choice from those available\n",
    "            movements = np.random.choice(self.paths[(current_value, value)])\n",
    "        else:\n",
    "            # if not random, choose best path for requested move\n",
    "            #movements = self.paths[(current_value, value)][0]\n",
    "            movements = self.best_paths[(current_value, value)]\n",
    "        self.current_pos = self.value_locations[value]\n",
    "        return movements"
   ]
  },
  {
   "cell_type": "code",
   "execution_count": 51,
   "id": "2b93069f-a3b6-4555-a81f-8fb2da7bab53",
   "metadata": {},
   "outputs": [],
   "source": [
    "numeric_grid = [\n",
    "    ['7', '8', '9'],\n",
    "    ['4', '5', '6'],\n",
    "    ['1', '2', '3'],\n",
    "    ['#', '0', 'A']]\n",
    "\n",
    "directional_grid = [\n",
    "    ['#', '^', 'A'],\n",
    "    ['<', 'v', '>']]"
   ]
  },
  {
   "cell_type": "code",
   "execution_count": 52,
   "id": "4a1b038b-f4a1-4b6c-a69d-cbf99200abfa",
   "metadata": {},
   "outputs": [],
   "source": [
    "def get_move_sequence(keypad, char_sequence, random=False):\n",
    "    \"\"\" Get move sequence from associated keypad. \"\"\"\n",
    "    move_sequence = \"\"\n",
    "    for char in char_sequence:\n",
    "        move_sequence += keypad.move_to(char, random)\n",
    "        move_sequence += 'A'\n",
    "    return move_sequence\n",
    "\n",
    "def process_sequence_input(char_input, random=False):\n",
    "    \"\"\" Process sequence of keypads operated by robots and end operator. \"\"\"\n",
    "    numeric_keypad = Keypad(numeric_grid)\n",
    "    numeric_keypad.set_best_paths(directional_grid)\n",
    "    num_sequence = get_move_sequence(numeric_keypad, char_input, random)\n",
    "\n",
    "    directional_keypad = Keypad(directional_grid)\n",
    "    directional_keypad.set_best_paths(directional_grid)\n",
    "    dir_sequence = get_move_sequence(directional_keypad, num_sequence, random)\n",
    "\n",
    "    directional_keypad_2 = Keypad(directional_grid)\n",
    "    dir_sequence_2 = get_move_sequence(directional_keypad_2, dir_sequence, random)\n",
    "\n",
    "    return dir_sequence_2\n",
    "\n",
    "def extract_numeric_subpart(input_string):\n",
    "    \"\"\" Match a numeric sequence optionally followed by letters at the end. \"\"\"\n",
    "    match = re.match(r'0*(\\d+)', input_string)\n",
    "    return match.group(1) if match else None\n",
    "\n",
    "def get_score(char_input, final_sequence_len):\n",
    "    \"\"\" Return final sequence length times numeric part of sequence. \"\"\"\n",
    "    num_subpart = int(extract_numeric_subpart(char_input))\n",
    "    print(f\"{char_input}: {final_sequence_len} x {num_subpart}\")\n",
    "    return num_subpart * final_sequence_len\n",
    "\n",
    "def read_raw_text(filename):\n",
    "    \"\"\" Read entire file as a single string. \"\"\"\n",
    "    try:\n",
    "        with open(filename, \"r\", encoding=\"utf-8\") as file:\n",
    "            file_data = file.read()  \n",
    "        print(\"File successfully read.\")\n",
    "    except FileNotFoundError:\n",
    "        print(\"The specified file was not found.\")\n",
    "    except Exception as e:\n",
    "        print(f\"An error occurred: {e}\")\n",
    "    return file_data"
   ]
  },
  {
   "cell_type": "code",
   "execution_count": 54,
   "id": "87b92c4e-20fc-4a59-a895-9e6555e8014b",
   "metadata": {},
   "outputs": [
    {
     "name": "stdout",
     "output_type": "stream",
     "text": [
      "File successfully read.\n",
      "029A: 68 x 29\n",
      "980A: 60 x 980\n",
      "179A: 68 x 179\n",
      "456A: 64 x 456\n",
      "379A: 64 x 379\n",
      "Final output sequence: 126384\n"
     ]
    }
   ],
   "source": [
    "data_dir = 'Day_21'\n",
    "example_inputs = read_raw_text(os.path.join(data_dir, 'example_input_day_21.txt')).split('\\n')\n",
    "\n",
    "example_sum = 0\n",
    "random_attempts = 100\n",
    "\n",
    "for input_seq in example_inputs:\n",
    "    output_seqs = [process_sequence_input(input_seq, random=True) for x in range(random_attempts)]\n",
    "    min_cost = min([len(x) for x in output_seqs])\n",
    "    example_sum += get_score(input_seq, min_cost)\n",
    "\n",
    "print(f\"Final output sequence: {example_sum}\")"
   ]
  },
  {
   "cell_type": "markdown",
   "id": "32f054c9-cec8-404c-ab5e-2fe6734f4a73",
   "metadata": {},
   "source": [
    "This correctly aligns with the example..."
   ]
  },
  {
   "cell_type": "code",
   "execution_count": 55,
   "id": "40d3e23a-4e54-4581-9712-5645d123c64e",
   "metadata": {},
   "outputs": [
    {
     "name": "stdout",
     "output_type": "stream",
     "text": [
      "68\n",
      "v<<A>>^AvA^Av<<A>>^AAv<A<A>>^AAvAA^<A>Av<A^>AA<A>Av<A<A>>^AAA<Av>A^A\n",
      "64\n",
      "<v<A>>^AvA^A<vA<AA>>^AAvA<^A>AAvA^A<vA>^AA<A>A<v<A>A>^AAAvA<^A>A\n"
     ]
    }
   ],
   "source": [
    "example_result = '<v<A>>^AvA^A<vA<AA>>^AAvA<^A>AAvA^A<vA>^AA<A>A<v<A>A>^AAAvA<^A>A'\n",
    "\n",
    "print(len(process_sequence_input('379A')))\n",
    "print(process_sequence_input('379A'))\n",
    "print(len(example_result))\n",
    "print(example_result)"
   ]
  },
  {
   "cell_type": "code",
   "execution_count": 56,
   "id": "4545cdaa-4bc5-41ab-9530-f358e2216d56",
   "metadata": {},
   "outputs": [
    {
     "data": {
      "text/plain": [
       "(Counter({'A': 28, '<': 12, '>': 12, 'v': 8, '^': 8}),\n",
       " Counter({'A': 28, '<': 10, '>': 10, 'v': 8, '^': 8}))"
      ]
     },
     "execution_count": 56,
     "metadata": {},
     "output_type": "execute_result"
    }
   ],
   "source": [
    "Counter(process_sequence_input('379A')), Counter(example_result)"
   ]
  },
  {
   "cell_type": "markdown",
   "id": "ef766639-3a26-44ba-8257-311ba5f372d2",
   "metadata": {},
   "source": [
    "According to the example inputs, the final term in the above results is wrong. It should be 64 x 379, rather than 68."
   ]
  },
  {
   "cell_type": "code",
   "execution_count": 57,
   "id": "566eceac-660b-4804-853b-188b7814c62e",
   "metadata": {},
   "outputs": [
    {
     "data": {
      "text/plain": [
       "(Counter({'A': 4, '^': 3, 'v': 3, '<': 1, '>': 1}),\n",
       " Counter({'A': 4, '^': 3, 'v': 3, '<': 1, '>': 1}))"
      ]
     },
     "execution_count": 57,
     "metadata": {},
     "output_type": "execute_result"
    }
   ],
   "source": [
    "chars = '029A'\n",
    "numeric_keypad = Keypad(numeric_grid)\n",
    "num_sequence = get_move_sequence(numeric_keypad, chars)\n",
    "\n",
    "example_numeric = '<A^A>^^AvvvA'\n",
    "Counter(num_sequence), Counter(example_numeric)"
   ]
  },
  {
   "cell_type": "code",
   "execution_count": 58,
   "id": "45d41469-f9d8-4ac7-8b15-2ea786714ba1",
   "metadata": {},
   "outputs": [
    {
     "data": {
      "text/plain": [
       "(Counter({'A': 12, '<': 5, '>': 5, 'v': 3, '^': 3}),\n",
       " Counter({'A': 12, '<': 5, '>': 5, 'v': 3, '^': 3}))"
      ]
     },
     "execution_count": 58,
     "metadata": {},
     "output_type": "execute_result"
    }
   ],
   "source": [
    "directional_keypad = Keypad(directional_grid)\n",
    "dir_sequence = get_move_sequence(directional_keypad, num_sequence)\n",
    "\n",
    "example_directional = 'v<<A>>^A<A>AvA<^AA>A<vAAA>^A'\n",
    "Counter(dir_sequence), Counter(example_directional)"
   ]
  },
  {
   "cell_type": "code",
   "execution_count": 59,
   "id": "5ecbddda-c86f-4428-82ce-f2c84236e61b",
   "metadata": {},
   "outputs": [
    {
     "data": {
      "text/plain": [
       "(Counter({'A': 28, '<': 12, '>': 12, 'v': 8, '^': 8}),\n",
       " Counter({'A': 28, '<': 11, '>': 11, 'v': 9, '^': 9}))"
      ]
     },
     "execution_count": 59,
     "metadata": {},
     "output_type": "execute_result"
    }
   ],
   "source": [
    "directional_keypad_2 = Keypad(directional_grid)\n",
    "dir_sequence_2 = get_move_sequence(directional_keypad_2, dir_sequence)\n",
    "\n",
    "example_directional_2 = '<vA<AA>>^AvAA<^A>A<v<A>>^AvA^A<vA>^A<v<A>^A>AAvA^A<v<A>A>^AAAvA<^A>A'\n",
    "Counter(dir_sequence_2), Counter(example_directional_2)"
   ]
  },
  {
   "cell_type": "code",
   "execution_count": 62,
   "id": "98761dfd-a8a9-4282-981f-3a336568e8d9",
   "metadata": {},
   "outputs": [
    {
     "name": "stdout",
     "output_type": "stream",
     "text": [
      "File successfully read.\n",
      "671A: 74 x 671\n",
      "826A: 76 x 826\n",
      "670A: 68 x 670\n",
      "085A: 66 x 85\n",
      "283A: 68 x 283\n",
      "Final output sequence: 182844\n",
      "CPU times: user 9.7 s, sys: 26 ms, total: 9.73 s\n",
      "Wall time: 9.73 s\n"
     ]
    }
   ],
   "source": [
    "%%time\n",
    "data_dir = 'Day_21'\n",
    "code_inputs = read_raw_text(os.path.join(data_dir, 'day_21_input.txt')).split('\\n')\n",
    "\n",
    "results_sum = 0\n",
    "random_attempts = 100\n",
    "\n",
    "for input_seq in code_inputs:\n",
    "    output_seqs = [process_sequence_input(input_seq, random=True) for x in range(random_attempts)]\n",
    "    min_cost = min([len(x) for x in output_seqs])\n",
    "    results_sum += get_score(input_seq, min_cost)\n",
    "\n",
    "print(f\"Final output sequence: {results_sum}\")"
   ]
  },
  {
   "cell_type": "markdown",
   "id": "baac00c4-5343-4809-a21e-7742f750509a",
   "metadata": {},
   "source": [
    "Final output correct... our random path finding appears to have worked nicely in this case."
   ]
  },
  {
   "cell_type": "markdown",
   "id": "1e69fdfc-bb55-4358-8f72-fc9a9b1f1224",
   "metadata": {},
   "source": [
    "### Day 21, Part 2:"
   ]
  },
  {
   "cell_type": "markdown",
   "id": "509daaa1-5cea-4d2e-8e09-109f6f346eb6",
   "metadata": {},
   "source": [
    "We'll need to repeat the above, but with 25 directional keypads controlled by robots, rather than two as above."
   ]
  },
  {
   "cell_type": "code",
   "execution_count": 938,
   "id": "26489042-3356-498a-9fe8-9e75f663a18e",
   "metadata": {},
   "outputs": [],
   "source": [
    "def process_sequence_input_v2(char_input, random=False):\n",
    "    \"\"\" Process sequence of keypads operated by robots and end operator. \"\"\"\n",
    "    numeric_keypad = Keypad(numeric_grid)\n",
    "    seq_result = get_move_sequence(numeric_keypad, char_input, random)\n",
    "\n",
    "    directional_keypads = [Keypad(directional_grid) for x in range(25)]\n",
    "    \n",
    "    for i in range(25):\n",
    "        seq_result = get_move_sequence(directional_keypads[i], seq_result, random)\n",
    "        print(f\"Sequence length currently: {len(seq_result)}\")\n",
    "\n",
    "    return len(seq_result)"
   ]
  },
  {
   "cell_type": "code",
   "execution_count": 939,
   "id": "9e03b4bd-7a32-482d-8a37-0880315a91df",
   "metadata": {},
   "outputs": [
    {
     "name": "stdout",
     "output_type": "stream",
     "text": [
      "Sequence length currently: 8\n",
      "Sequence length currently: 18\n",
      "Sequence length currently: 48\n",
      "Sequence length currently: 124\n",
      "Sequence length currently: 324\n",
      "Sequence length currently: 846\n",
      "Sequence length currently: 2210\n",
      "Sequence length currently: 5838\n",
      "Sequence length currently: 15322\n",
      "Sequence length currently: 40302\n",
      "Sequence length currently: 105844\n",
      "Sequence length currently: 278232\n",
      "Sequence length currently: 731082\n",
      "Sequence length currently: 1921114\n"
     ]
    },
    {
     "ename": "KeyboardInterrupt",
     "evalue": "",
     "output_type": "error",
     "traceback": [
      "\u001b[0;31m---------------------------------------------------------------------------\u001b[0m",
      "\u001b[0;31mKeyboardInterrupt\u001b[0m                         Traceback (most recent call last)",
      "Cell \u001b[0;32mIn[939], line 1\u001b[0m\n\u001b[0;32m----> 1\u001b[0m \u001b[43mprocess_sequence_input_v2\u001b[49m\u001b[43m(\u001b[49m\u001b[38;5;124;43m'\u001b[39;49m\u001b[38;5;124;43m0\u001b[39;49m\u001b[38;5;124;43m'\u001b[39;49m\u001b[43m,\u001b[49m\u001b[43m \u001b[49m\u001b[43mrandom\u001b[49m\u001b[38;5;241;43m=\u001b[39;49m\u001b[38;5;28;43;01mTrue\u001b[39;49;00m\u001b[43m)\u001b[49m\n",
      "Cell \u001b[0;32mIn[938], line 9\u001b[0m, in \u001b[0;36mprocess_sequence_input_v2\u001b[0;34m(char_input, random)\u001b[0m\n\u001b[1;32m      6\u001b[0m directional_keypads \u001b[38;5;241m=\u001b[39m [Keypad(directional_grid) \u001b[38;5;28;01mfor\u001b[39;00m x \u001b[38;5;129;01min\u001b[39;00m \u001b[38;5;28mrange\u001b[39m(\u001b[38;5;241m25\u001b[39m)]\n\u001b[1;32m      8\u001b[0m \u001b[38;5;28;01mfor\u001b[39;00m i \u001b[38;5;129;01min\u001b[39;00m \u001b[38;5;28mrange\u001b[39m(\u001b[38;5;241m25\u001b[39m):\n\u001b[0;32m----> 9\u001b[0m     seq_result \u001b[38;5;241m=\u001b[39m \u001b[43mget_move_sequence\u001b[49m\u001b[43m(\u001b[49m\u001b[43mdirectional_keypads\u001b[49m\u001b[43m[\u001b[49m\u001b[43mi\u001b[49m\u001b[43m]\u001b[49m\u001b[43m,\u001b[49m\u001b[43m \u001b[49m\u001b[43mseq_result\u001b[49m\u001b[43m,\u001b[49m\u001b[43m \u001b[49m\u001b[43mrandom\u001b[49m\u001b[43m)\u001b[49m\n\u001b[1;32m     10\u001b[0m     \u001b[38;5;28mprint\u001b[39m(\u001b[38;5;124mf\u001b[39m\u001b[38;5;124m\"\u001b[39m\u001b[38;5;124mSequence length currently: \u001b[39m\u001b[38;5;132;01m{\u001b[39;00m\u001b[38;5;28mlen\u001b[39m(seq_result)\u001b[38;5;132;01m}\u001b[39;00m\u001b[38;5;124m\"\u001b[39m)\n\u001b[1;32m     12\u001b[0m \u001b[38;5;28;01mreturn\u001b[39;00m \u001b[38;5;28mlen\u001b[39m(seq_result)\n",
      "Cell \u001b[0;32mIn[922], line 6\u001b[0m, in \u001b[0;36mget_move_sequence\u001b[0;34m(keypad, char_sequence, random)\u001b[0m\n\u001b[1;32m      4\u001b[0m \u001b[38;5;28;01mfor\u001b[39;00m char \u001b[38;5;129;01min\u001b[39;00m char_sequence:\n\u001b[1;32m      5\u001b[0m     move_sequence \u001b[38;5;241m+\u001b[39m\u001b[38;5;241m=\u001b[39m keypad\u001b[38;5;241m.\u001b[39mmove_to(char, random)\n\u001b[0;32m----> 6\u001b[0m     move_sequence \u001b[38;5;241m+\u001b[39m\u001b[38;5;241m=\u001b[39m \u001b[38;5;124m'\u001b[39m\u001b[38;5;124mA\u001b[39m\u001b[38;5;124m'\u001b[39m\n\u001b[1;32m      7\u001b[0m \u001b[38;5;28;01mreturn\u001b[39;00m move_sequence\n",
      "\u001b[0;31mKeyboardInterrupt\u001b[0m: "
     ]
    }
   ],
   "source": [
    "process_sequence_input_v2('0', random=True)"
   ]
  },
  {
   "cell_type": "markdown",
   "id": "9c182896-0e4c-4b14-bf19-1b52143cdbbd",
   "metadata": {},
   "source": [
    "Tips / Guidance:\n",
    "- Consider referring to https://github.com/maksverver/AdventOfCode/blob/9ec8c02e5b0fca04efa43bca63e28cf62bf95dcb/2024/21-alt.py#L74 for hints / inspiration on approaches to solve this challenge.\n",
    "- Recursion and memoisation is needed to solve the intractably large sequences..."
   ]
  },
  {
   "cell_type": "markdown",
   "id": "3c56bf0d-b054-4b4a-adc0-72b5f88b20d6",
   "metadata": {
    "jp-MarkdownHeadingCollapsed": true
   },
   "source": [
    "## Day 22 Monkey Market"
   ]
  },
  {
   "cell_type": "markdown",
   "id": "41ebeb82-da2b-4efa-bad8-a3f6b3a408dc",
   "metadata": {},
   "source": [
    "### Day 22, Part 1:"
   ]
  },
  {
   "cell_type": "code",
   "execution_count": 940,
   "id": "561826f4-f9bc-4c17-87a6-cda34e8ea779",
   "metadata": {},
   "outputs": [],
   "source": [
    "example_initial_secret = 123"
   ]
  },
  {
   "cell_type": "code",
   "execution_count": 960,
   "id": "0c144f5c-9a7d-4123-9abc-e4ffe763408e",
   "metadata": {},
   "outputs": [],
   "source": [
    "def mix_secret(value, secret):\n",
    "    \"\"\" Perform bitwise XOR to mix value and secret. \"\"\"\n",
    "    return value ^ secret\n",
    "\n",
    "def prune_secret(secret):\n",
    "    \"\"\" Compute secret number modulo 16777216. \"\"\"\n",
    "    return secret % 16777216\n",
    "\n",
    "def process_secret(secret):\n",
    "    mult_result = secret * 64\n",
    "    mix_result = mix_secret(int(mult_result), secret)\n",
    "    prune_result = prune_secret(mix_result)\n",
    "    div_result = np.floor(prune_result / 32)\n",
    "    mix2_result = mix_secret(int(div_result), prune_result)\n",
    "    prune2_result = prune_secret(mix2_result)\n",
    "    mult2_result = prune2_result * 2048\n",
    "    mix3_result = mix_secret(mult2_result, prune2_result)\n",
    "    return prune_secret(mix3_result)\n",
    "\n",
    "def generate_n_secrets(secret, n):\n",
    "    \"\"\" Iteratively generate n new secret numbers from initial secret. \"\"\"\n",
    "    updated_secret = secret\n",
    "    for i in range(n):\n",
    "        updated_secret = process_secret(updated_secret)\n",
    "    return updated_secret"
   ]
  },
  {
   "cell_type": "code",
   "execution_count": 959,
   "id": "1422825d-4382-4f3e-8a36-47331155b9c8",
   "metadata": {},
   "outputs": [],
   "source": [
    "example_secrets = [1, 10, 100, 2024]"
   ]
  },
  {
   "cell_type": "code",
   "execution_count": 973,
   "id": "13a4e858-922d-47da-9c7a-4bf1490259da",
   "metadata": {},
   "outputs": [
    {
     "name": "stdout",
     "output_type": "stream",
     "text": [
      "1          : 8685429\n",
      "10         : 4700978\n",
      "100        : 15273692\n",
      "2024       : 8667524\n",
      "\n",
      "Final secret sum: 37327623\n"
     ]
    }
   ],
   "source": [
    "secret_sum = 0\n",
    "for secret in example_secrets:\n",
    "    secret_result = generate_n_secrets(secret, 2000)\n",
    "    secret_sum += secret_result\n",
    "    print(f\"{secret:<10} : {secret_result}\")\n",
    "\n",
    "print(f\"\\nFinal secret sum: {secret_sum}\")"
   ]
  },
  {
   "cell_type": "markdown",
   "id": "1d01378d-7085-437a-b234-83469158ef2a",
   "metadata": {},
   "source": [
    "This is correct... lets now try with the real input:"
   ]
  },
  {
   "cell_type": "code",
   "execution_count": 977,
   "id": "bf0fc6a2-5fd1-4170-abde-51ffbf731c83",
   "metadata": {},
   "outputs": [],
   "source": [
    "def read_raw_text(filename):\n",
    "    \"\"\" Read entire file as a single string. \"\"\"\n",
    "    try:\n",
    "        with open(filename, \"r\", encoding=\"utf-8\") as file:\n",
    "            file_data = file.read()  \n",
    "        print(\"File successfully read.\")\n",
    "    except FileNotFoundError:\n",
    "        print(\"The specified file was not found.\")\n",
    "    except Exception as e:\n",
    "        print(f\"An error occurred: {e}\")\n",
    "    return file_data"
   ]
  },
  {
   "cell_type": "code",
   "execution_count": 978,
   "id": "4d4ce397-7f09-4753-ae65-0b8e5225f3be",
   "metadata": {},
   "outputs": [
    {
     "name": "stdout",
     "output_type": "stream",
     "text": [
      "File successfully read.\n"
     ]
    }
   ],
   "source": [
    "input_secrets = read_raw_text(\"day_22_input.txt\").split('\\n')"
   ]
  },
  {
   "cell_type": "code",
   "execution_count": 981,
   "id": "0e942e15-825b-4a8c-8761-512d1538726d",
   "metadata": {},
   "outputs": [
    {
     "name": "stdout",
     "output_type": "stream",
     "text": [
      "\n",
      "Final secret sum: 19150344884\n"
     ]
    }
   ],
   "source": [
    "secret_sum = 0\n",
    "for secret in input_secrets:\n",
    "    secret_result = generate_n_secrets(int(secret), 2000)\n",
    "    secret_sum += secret_result\n",
    "\n",
    "print(f\"\\nFinal secret sum: {secret_sum}\")"
   ]
  },
  {
   "cell_type": "markdown",
   "id": "2ff57bec-b866-429e-9c2d-fc91b56ba305",
   "metadata": {},
   "source": [
    "### Day 22, Part 2:"
   ]
  },
  {
   "cell_type": "markdown",
   "id": "7080f5a9-ebf5-432f-b6da-96f87f97a9a0",
   "metadata": {},
   "source": [
    "Tbc..."
   ]
  },
  {
   "cell_type": "code",
   "execution_count": null,
   "id": "bf5f1195-aba5-4515-a3c8-0ca6ec4767ee",
   "metadata": {},
   "outputs": [],
   "source": []
  },
  {
   "cell_type": "code",
   "execution_count": null,
   "id": "aa2b7e4e-4ee0-4473-b41e-3818b74e9acf",
   "metadata": {},
   "outputs": [],
   "source": []
  },
  {
   "cell_type": "markdown",
   "id": "49fa4e77-8980-4f5f-a744-3356bb2b9d94",
   "metadata": {
    "jp-MarkdownHeadingCollapsed": true
   },
   "source": [
    "## Day 23 LAN Party"
   ]
  },
  {
   "cell_type": "markdown",
   "id": "774be7dd-ac53-4e6c-aa98-a7e60b26c2b8",
   "metadata": {},
   "source": [
    "### Day 23, Part 1:"
   ]
  },
  {
   "cell_type": "markdown",
   "id": "678da079-8bab-450a-a380-5a8bdd4da073",
   "metadata": {},
   "source": [
    "For this we'll represent the connections as an adjacency list or adjacency matrix. An adjacency list is a dictionary where each key is a node, and the value is a list of its connected nodes. An adjacency matrix is a 2D matrix where matrix[i][j] = 1 if there's a connection between node i and node j, otherwise 0.\n",
    "\n",
    "For finding triplets of common nodes, we'll use a triangle search algorithm (find cliques of size 3):\n",
    "\n",
    "1. For each pair of nodes (u, v) in the list of connections:\n",
    "    - Identify the neighbors of both u and v using the adjacency list or adjacency matrix.\n",
    "    - Compute the intersection of neighbors of u and v. This gives you the nodes that are connected to both u and v.\n",
    "2. For each node w in the intersection:\n",
    "    - Check if (w, u) and (w, v) are in the connections to confirm the triangle (u, v, w).\n",
    "    - Record (u, v, w) as a triangle."
   ]
  },
  {
   "cell_type": "code",
   "execution_count": 993,
   "id": "8b386915-193a-4119-8639-f3bb44c6c3c5",
   "metadata": {},
   "outputs": [],
   "source": [
    "def read_raw_text(filename):\n",
    "    \"\"\" Read entire file as a single string. \"\"\"\n",
    "    try:\n",
    "        with open(filename, \"r\", encoding=\"utf-8\") as file:\n",
    "            file_data = file.read()  \n",
    "        print(\"File successfully read.\")\n",
    "    except FileNotFoundError:\n",
    "        print(\"The specified file was not found.\")\n",
    "    except Exception as e:\n",
    "        print(f\"An error occurred: {e}\")\n",
    "    return file_data"
   ]
  },
  {
   "cell_type": "code",
   "execution_count": 994,
   "id": "059b510d-ee97-4e9d-8d71-58e19d69d940",
   "metadata": {},
   "outputs": [
    {
     "name": "stdout",
     "output_type": "stream",
     "text": [
      "File successfully read.\n"
     ]
    }
   ],
   "source": [
    "example_23 = read_raw_text('example_input_day_23.txt').split('\\n')\n",
    "\n",
    "# split nodes on '-'\n",
    "example_23 = [tuple(x.split('-')) for x in example_23]"
   ]
  },
  {
   "cell_type": "code",
   "execution_count": 1011,
   "id": "5db3175d-23c1-4291-9b00-a5853505298c",
   "metadata": {},
   "outputs": [],
   "source": [
    "def find_triangles(connections):\n",
    "    \"\"\" Build adjacency list containing sets of nodes for each node and find cliques \n",
    "    of size 3 (triangles). \"\"\"\n",
    "    adjacency_list = defaultdict(set)\n",
    "    for u, v in connections:\n",
    "        adjacency_list[u].add(v)\n",
    "        adjacency_list[v].add(u)\n",
    "    \n",
    "    # find triangles - iterate through each item in adj list\n",
    "    triangles = set()\n",
    "    for u, neighbours_u in adjacency_list.items():\n",
    "        for v in neighbours_u:\n",
    "            # avoid duplicates (works for strings)\n",
    "            if u < v: \n",
    "                # find intersection of both nodes to find common neighbours\n",
    "                common_neighbours = adjacency_list[u].intersection(adjacency_list[v])\n",
    "                for w in common_neighbours:\n",
    "                    if w > u and w > v:  # Ensure unique order\n",
    "                        triangles.add(tuple(sorted((u, v, w))))\n",
    "    return list(triangles)\n",
    "\n",
    "def find_triangle_results(input_connections, starts_with='t'):\n",
    "    \"\"\" Find all results where nodes begin with chosen character. \"\"\"\n",
    "    triangle_results = find_triangles(input_connections)\n",
    "    results = []\n",
    "    for connections in triangle_results:\n",
    "        if any([x.startswith(starts_with) for x in connections]):\n",
    "            results.append(connections)\n",
    "    return results"
   ]
  },
  {
   "cell_type": "code",
   "execution_count": 1015,
   "id": "d10558ae-5ba3-481f-867d-d2e6f193a4df",
   "metadata": {},
   "outputs": [
    {
     "name": "stdout",
     "output_type": "stream",
     "text": [
      "Length of results: 7\n"
     ]
    }
   ],
   "source": [
    "example_results = find_triangle_results(example_23)\n",
    "print(f\"Length of results: {len(example_results)}\")"
   ]
  },
  {
   "cell_type": "markdown",
   "id": "3c7893df-a010-4703-8cec-afa41ba7f924",
   "metadata": {},
   "source": [
    "This works. Lets try it on the real input now:"
   ]
  },
  {
   "cell_type": "code",
   "execution_count": 1018,
   "id": "60147006-858a-421e-ab29-14f9627ce379",
   "metadata": {},
   "outputs": [
    {
     "name": "stdout",
     "output_type": "stream",
     "text": [
      "File successfully read.\n",
      "Length of results: 1151\n",
      "CPU times: user 22.3 ms, sys: 3.68 ms, total: 26 ms\n",
      "Wall time: 24 ms\n"
     ]
    }
   ],
   "source": [
    "%%time \n",
    "inputs_23 = read_raw_text('day_23_input.txt').split('\\n')\n",
    "inputs_23 = [tuple(x.split('-')) for x in inputs_23]\n",
    "results = find_triangle_results(inputs_23)\n",
    "print(f\"Length of results: {len(results)}\")"
   ]
  },
  {
   "cell_type": "markdown",
   "id": "43e76694-d0a2-4086-a3c1-862c330dd12d",
   "metadata": {},
   "source": [
    "All correct... on to part 2."
   ]
  },
  {
   "cell_type": "markdown",
   "id": "7fe19b87-6b91-454c-8055-9d2c0f1eb5f0",
   "metadata": {},
   "source": [
    "### Day 23, Part 2:"
   ]
  },
  {
   "cell_type": "markdown",
   "id": "57587a0f-a227-47c7-9ea7-66999a9fa99a",
   "metadata": {},
   "source": [
    "This time we need to find the largest clique from the set of connections.\n",
    "\n",
    "For this we need to find all fully connected subsets of nodes, whereby the largest clique (group) is the one with the largest set of nodes.\n",
    "\n",
    "We'll use the common Bron-Kerbosch algorithm to do this. This uses a recursive algorithm that builds maximum cliques, which can then be used to identify the largest one in this case. A good summary of this is given: https://en.wikipedia.org/wiki/Bron%E2%80%93Kerbosch_algorithm"
   ]
  },
  {
   "cell_type": "code",
   "execution_count": 1027,
   "id": "ed533003-352c-490c-b73c-4a5e2f13b0c1",
   "metadata": {},
   "outputs": [],
   "source": [
    "def bron_kerbosch(R, P, X, adjacency_list, cliques):\n",
    "    \"\"\" Recursive backtracking to find the maximum clique. \n",
    "\n",
    "    Arguments:\n",
    "        R (set): Empty set (initially), becomes the maximum clique.\n",
    "        P (set): Vertex set of the graph (initially)\n",
    "        X (set): Empty initially, becomes the set of nodes that are excluded \n",
    "                 from the current maximum clique.\n",
    "        adjacency_list (defaultdict): Adjacency list, with vertices as keys, and\n",
    "                                      set of neighbouring nodes as values.\n",
    "        cliques (list): List of maximum cliques found.\n",
    "    \"\"\"\n",
    "    # if P and X are empty - R is the maximum clique\n",
    "    if not P and not X:  # No more candidates or excluded nodes\n",
    "        cliques.append(R)  # R is a maximal clique\n",
    "        return\n",
    "    for v in list(P):  # Iterate over a copy of P\n",
    "        bron_kerbosch(\n",
    "            R.union([v]),\n",
    "            P.intersection(adjacency_list[v]),\n",
    "            X.intersection(adjacency_list[v]),\n",
    "            adjacency_list,\n",
    "            cliques,\n",
    "        )\n",
    "        # move v from P to X\n",
    "        P.remove(v)\n",
    "        X.add(v)\n",
    "\n",
    "def find_largest_clique(connections):\n",
    "    # build adjacency list using dict and set of neighbour nodes\n",
    "    adjacency_list = defaultdict(set)\n",
    "    for u, v in connections:\n",
    "        adjacency_list[u].add(v)\n",
    "        adjacency_list[v].add(u)\n",
    "\n",
    "    # Find all maximal cliques\n",
    "    cliques = []\n",
    "    bron_kerbosch(set(), set(adjacency_list.keys()), set(), adjacency_list, cliques)\n",
    "\n",
    "    print(f\"Number of cliques found: {len(cliques)}\")\n",
    "    \n",
    "    # Find the largest clique\n",
    "    largest_clique = max(cliques, key=len) if cliques else []\n",
    "    return largest_clique"
   ]
  },
  {
   "cell_type": "code",
   "execution_count": 1028,
   "id": "fc944d04-811f-40c2-9c93-b3e04251857b",
   "metadata": {},
   "outputs": [
    {
     "name": "stdout",
     "output_type": "stream",
     "text": [
      "Number of cliques found: 15\n"
     ]
    },
    {
     "data": {
      "text/plain": [
       "'co,de,ka,ta'"
      ]
     },
     "execution_count": 1028,
     "metadata": {},
     "output_type": "execute_result"
    }
   ],
   "source": [
    "\",\".join(sorted(find_largest_clique(example_23)))"
   ]
  },
  {
   "cell_type": "markdown",
   "id": "8130f540-ebf3-43fc-8344-accca266dc79",
   "metadata": {},
   "source": [
    "This works for the example inputs, now lets try on the real thing:"
   ]
  },
  {
   "cell_type": "code",
   "execution_count": 1029,
   "id": "5975dfe3-63b0-48c7-a8d2-5125ae722626",
   "metadata": {},
   "outputs": [
    {
     "name": "stdout",
     "output_type": "stream",
     "text": [
      "Number of cliques found: 378\n"
     ]
    },
    {
     "data": {
      "text/plain": [
       "'ar,cd,hl,iw,jm,ku,qo,rz,vo,xe,xm,xv,ys'"
      ]
     },
     "execution_count": 1029,
     "metadata": {},
     "output_type": "execute_result"
    }
   ],
   "source": [
    "\",\".join(sorted(find_largest_clique(inputs_23)))"
   ]
  },
  {
   "cell_type": "markdown",
   "id": "26bdbbef-c5f5-488d-86a8-ff43df0c7475",
   "metadata": {},
   "source": [
    "Correct!"
   ]
  },
  {
   "cell_type": "markdown",
   "id": "cf3a532a-c5f4-4ca4-9c4e-f8d650e36598",
   "metadata": {
    "jp-MarkdownHeadingCollapsed": true
   },
   "source": [
    "## Day 24 Crossed Wires"
   ]
  },
  {
   "cell_type": "markdown",
   "id": "1e8d7ca6-3740-4b59-872b-bb693fab2d84",
   "metadata": {},
   "source": [
    "### Day 24, Part 1:"
   ]
  },
  {
   "cell_type": "code",
   "execution_count": 2,
   "id": "80a63510-09a4-4e24-bd2e-f94fa255a893",
   "metadata": {},
   "outputs": [],
   "source": [
    "def read_raw_text(filename):\n",
    "    \"\"\" Read entire file as a single string. \"\"\"\n",
    "    try:\n",
    "        with open(filename, \"r\", encoding=\"utf-8\") as file:\n",
    "            file_data = file.read()  \n",
    "        print(\"File successfully read.\")\n",
    "    except FileNotFoundError:\n",
    "        print(\"The specified file was not found.\")\n",
    "    except Exception as e:\n",
    "        print(f\"An error occurred: {e}\")\n",
    "    return file_data"
   ]
  },
  {
   "cell_type": "code",
   "execution_count": 36,
   "id": "2cc2dc40-89a3-436a-9f56-9fd41e42303a",
   "metadata": {},
   "outputs": [],
   "source": [
    "def gate_AND(a, b):\n",
    "    return a and b\n",
    "\n",
    "def solve_AND_input(known_input, output):\n",
    "    if known_input == 0:\n",
    "        if output == 1:\n",
    "            raise ValueError(\"Invalid combination: AND gate cannot output 1 if one input is 0.\")\n",
    "        return \"Ambiguous (can be 0 or 1)\"\n",
    "    elif known_input == 1:\n",
    "        return output  # The unknown input must match the output for known_input == 1.\n",
    "    else:\n",
    "        raise ValueError(\"Known input must be 0 or 1.\")\n",
    "\n",
    "def gate_OR(a, b):\n",
    "    return a or b\n",
    "\n",
    "def solve_OR_input(known_input, output):\n",
    "    \"\"\" Get value of unknown input of OR gate given known input and output.\"\"\"\n",
    "    if known_input == 1:\n",
    "        if output == 0:\n",
    "            raise ValueError(\"Invalid combination: OR gate cannot output 0 if one input is 1.\")\n",
    "        return \"Ambiguous (can be 0 or 1)\"\n",
    "    elif known_input == 0:\n",
    "        return output  # The unknown input must directly match the output for known_input == 0.\n",
    "    else:\n",
    "        raise ValueError(\"Known input must be 0 or 1.\")\n",
    "\n",
    "def gate_XOR(a, b):\n",
    "    return bool(a) ^ bool(b)\n",
    "\n",
    "def solve_XOR_input(known_input, output):\n",
    "    \"\"\" Determine value of unknown input to XOR gate given known input and output. \"\"\"\n",
    "    if known_input not in [0, 1] or output not in [0, 1]:\n",
    "        raise ValueError(\"Both known_input and output must be 0 or 1.\")\n",
    "\n",
    "    # other input must match output when known input is 0.\n",
    "    if known_input == 0:\n",
    "        return output  # The other input matches the output when the known input is 0.\n",
    "    elif known_input == 1:\n",
    "        return 1 - output  # The other input is the inverse of the output when the known input is 1.\n",
    "\n",
    "gate_functions = {\n",
    "    'AND' : gate_AND,\n",
    "    'solve_AND' : solve_AND_input,\n",
    "    'OR'  : gate_OR,\n",
    "    'solve_OR' : solve_OR_input,\n",
    "    'XOR' : gate_XOR,\n",
    "    'solve_XOR' : solve_XOR_input,\n",
    "}\n",
    "\n",
    "# quick tests to assure functions above work\n",
    "assert(gate_AND(0, 0)) == 0 \n",
    "assert(gate_AND(1, 1)) == 1 \n",
    "assert(solve_OR_input(0, 0)) == 0 \n",
    "assert(solve_OR_input(0, 1)) == 1 \n",
    "\n",
    "# solving XOR cases:\n",
    "# known input 0, output 0 - other input must be 0\n",
    "assert(solve_XOR_input(0, 0)) == 0 \n",
    "\n",
    "# known input 0, output 1 - other input must be 1\n",
    "assert(solve_XOR_input(0, 1)) == 1\n",
    "\n",
    "# known input 1, output 0, - other input must be 1\n",
    "assert(solve_XOR_input(1, 0)) == 1 \n",
    "\n",
    "# known input 1, output 1 - other input must be 0\n",
    "assert(solve_XOR_input(1, 1)) == 0 "
   ]
  },
  {
   "cell_type": "code",
   "execution_count": 86,
   "id": "a16cd346-06b5-4b43-a92c-3b027690d08b",
   "metadata": {},
   "outputs": [
    {
     "name": "stdout",
     "output_type": "stream",
     "text": [
      "File successfully read.\n"
     ]
    }
   ],
   "source": [
    "example_24 = read_raw_text('example_input_day_24.txt').split('\\n\\n')\n",
    "start_values = example_24[0].split('\\n')\n",
    "start_values = [x.replace(' ', '').split(':') for x in start_values]\n",
    "gate_values = example_24[1].split('\\n')\n",
    "gate_values = [x.split(' ')[0:3] + [x.split(' ')[4]] for x in gate_values]\n",
    "gate_values = [tuple(x) for x in gate_values]"
   ]
  },
  {
   "cell_type": "code",
   "execution_count": 94,
   "id": "7cb675b3-c866-46de-8efc-c3eba84edb61",
   "metadata": {},
   "outputs": [],
   "source": [
    "def solve_terms(line, wire_values, verbose=False):\n",
    "    wire1 = wire_values.get(line[0], 'empty')\n",
    "    wire2 = wire_values.get(line[2], 'empty')\n",
    "    output = wire_values.get(line[3], 'empty')\n",
    "    gate_operator = line[1]\n",
    "    \n",
    "    if wire1 != 'empty' and wire2 != 'empty' and output != 'empty':\n",
    "        #print(f\"Line {line} already solved!\")\n",
    "        return 'solved'\n",
    "    elif wire1 != 'empty' and wire2 != 'empty':\n",
    "        if verbose:\n",
    "            print(f\"Solved {line[3]} value.\")\n",
    "        return line[3], int(gate_functions[gate_operator](wire1, wire2))\n",
    "\n",
    "    elif wire1 != 'empty' and output!= 'empty':\n",
    "        if verbose:\n",
    "            print(f\"Solved {line[2]} value.\")\n",
    "        wire2 = gate_functions[f'solve_{gate_operator}'](wire1, output)\n",
    "        return line[2], int(wire2)\n",
    "\n",
    "    elif wire2 != 'empty' and output != 'empty':\n",
    "        if verbose:\n",
    "            print(f\"Solved {line[0]} value.\")\n",
    "        wire1 = gate_functions[f'solve_{gate_operator}'](wire2, output)\n",
    "        return line[0], int(wire1)\n",
    "\n",
    "    else:\n",
    "        #print(f\"No solution possible for {line}.\")\n",
    "        return False"
   ]
  },
  {
   "cell_type": "code",
   "execution_count": 119,
   "id": "b325e09e-f562-4ae8-a69c-4166016f654f",
   "metadata": {},
   "outputs": [],
   "source": [
    "def solve_lines(gate_lines, start_values, attempts=10000):\n",
    "    \"\"\" Iteratively solve the boolean gate line values, and return final \n",
    "        results dictionary. \n",
    "    \"\"\"\n",
    "    # populate initial dictionary of values\n",
    "    wire_values = {}\n",
    "    for start_value in start_values:\n",
    "        wire_values[start_value[0]] = int(start_value[1])\n",
    "\n",
    "    wires_solved = 0\n",
    "    solutions_exhausted = False\n",
    "    attempts = 0\n",
    "\n",
    "    while not solutions_exhausted and attempts < 10000:\n",
    "        loop_solved = wires_solved\n",
    "        completed_count = 0\n",
    "        \n",
    "        for line in gate_values:\n",
    "            line_result = solve_terms(line, wire_values)\n",
    "    \n",
    "            if line_result == 'solved':\n",
    "                completed_count += 1\n",
    "            \n",
    "            elif line_result and len(line_result) == 2:\n",
    "                wire_values[line_result[0]] = line_result[1]\n",
    "                wires_solved += 1\n",
    "    \n",
    "        proportion_solved = (completed_count / len(gate_values)) * 100\n",
    "        print(f\"Total number completed: {completed_count}, proportion: {proportion_solved} %\")\n",
    "    \n",
    "        # if no additional solutions solved this iteration, stop\n",
    "        if wires_solved - loop_solved == 0:\n",
    "            solutions_exhausted = True\n",
    "            \n",
    "        attempts += 1\n",
    "\n",
    "    return wire_values\n",
    "\n",
    "def binatointeger(binary_list):\n",
    "    \"\"\" Convert list of binary digits to decimal equivalent. \"\"\"\n",
    "    number = 0\n",
    "    for b in binary_list:\n",
    "        number = (2 * number) + b\n",
    "    return number"
   ]
  },
  {
   "cell_type": "code",
   "execution_count": 125,
   "id": "1e2b7291-4dbb-4c4e-b995-3d0b304fdce7",
   "metadata": {},
   "outputs": [
    {
     "name": "stdout",
     "output_type": "stream",
     "text": [
      "Total number completed: 0, proportion: 0.0 %\n",
      "Total number completed: 17, proportion: 47.22222222222222 %\n",
      "Total number completed: 34, proportion: 94.44444444444444 %\n",
      "Total number completed: 36, proportion: 100.0 %\n",
      "\n",
      "Final decimal equivalent: 2024\n"
     ]
    }
   ],
   "source": [
    "value_results = solve_lines(gate_values, start_values)\n",
    "sorted_zs = sorted([x for x in list(value_results.keys()) if x.startswith('z')], reverse=True)\n",
    "sorted_z_vals = [value_results[z_key] for z_key in sorted_zs]\n",
    "\n",
    "print(f\"\\nFinal decimal equivalent: {binatointeger(sorted_z_vals)}\")"
   ]
  },
  {
   "cell_type": "markdown",
   "id": "2acba6d4-7f3b-4026-ad8f-0d77474e8d67",
   "metadata": {},
   "source": [
    "This works for the example inputs... Now let's try it on the real inputs:"
   ]
  },
  {
   "cell_type": "code",
   "execution_count": 126,
   "id": "d6a8a0e6-f5cd-433a-b5b5-a3800d25a33e",
   "metadata": {},
   "outputs": [
    {
     "name": "stdout",
     "output_type": "stream",
     "text": [
      "File successfully read.\n"
     ]
    }
   ],
   "source": [
    "input_24 = read_raw_text('day_24_input.txt').split('\\n\\n')\n",
    "start_values = input_24[0].split('\\n')\n",
    "start_values = [x.replace(' ', '').split(':') for x in start_values]\n",
    "gate_values = input_24[1].split('\\n')\n",
    "gate_values = [x.split(' ')[0:3] + [x.split(' ')[4]] for x in gate_values]\n",
    "gate_values = [tuple(x) for x in gate_values]"
   ]
  },
  {
   "cell_type": "code",
   "execution_count": 127,
   "id": "fb8c0ac6-f961-4cac-9bc9-dddc62673ba7",
   "metadata": {},
   "outputs": [
    {
     "data": {
      "text/plain": [
       "(90, 222)"
      ]
     },
     "execution_count": 127,
     "metadata": {},
     "output_type": "execute_result"
    }
   ],
   "source": [
    "len(start_values), len(gate_values)"
   ]
  },
  {
   "cell_type": "code",
   "execution_count": 128,
   "id": "cf1490d1-1772-467d-a9a5-5d80035776b6",
   "metadata": {},
   "outputs": [
    {
     "name": "stdout",
     "output_type": "stream",
     "text": [
      "Total number completed: 0, proportion: 0.0 %\n",
      "Total number completed: 92, proportion: 41.44144144144144 %\n",
      "Total number completed: 95, proportion: 42.792792792792795 %\n",
      "Total number completed: 97, proportion: 43.69369369369369 %\n",
      "Total number completed: 99, proportion: 44.5945945945946 %\n",
      "Total number completed: 103, proportion: 46.3963963963964 %\n",
      "Total number completed: 107, proportion: 48.1981981981982 %\n",
      "Total number completed: 108, proportion: 48.64864864864865 %\n",
      "Total number completed: 110, proportion: 49.549549549549546 %\n",
      "Total number completed: 112, proportion: 50.45045045045045 %\n",
      "Total number completed: 116, proportion: 52.25225225225225 %\n",
      "Total number completed: 118, proportion: 53.153153153153156 %\n",
      "Total number completed: 119, proportion: 53.6036036036036 %\n",
      "Total number completed: 121, proportion: 54.5045045045045 %\n",
      "Total number completed: 125, proportion: 56.30630630630631 %\n",
      "Total number completed: 128, proportion: 57.65765765765766 %\n",
      "Total number completed: 131, proportion: 59.009009009009006 %\n",
      "Total number completed: 134, proportion: 60.36036036036037 %\n",
      "Total number completed: 139, proportion: 62.612612612612615 %\n",
      "Total number completed: 141, proportion: 63.51351351351351 %\n",
      "Total number completed: 143, proportion: 64.41441441441441 %\n",
      "Total number completed: 146, proportion: 65.76576576576578 %\n",
      "Total number completed: 149, proportion: 67.11711711711712 %\n",
      "Total number completed: 152, proportion: 68.46846846846847 %\n",
      "Total number completed: 155, proportion: 69.81981981981981 %\n",
      "Total number completed: 157, proportion: 70.72072072072072 %\n",
      "Total number completed: 160, proportion: 72.07207207207207 %\n",
      "Total number completed: 161, proportion: 72.52252252252252 %\n",
      "Total number completed: 164, proportion: 73.87387387387388 %\n",
      "Total number completed: 168, proportion: 75.67567567567568 %\n",
      "Total number completed: 172, proportion: 77.47747747747748 %\n",
      "Total number completed: 175, proportion: 78.82882882882883 %\n",
      "Total number completed: 180, proportion: 81.08108108108108 %\n",
      "Total number completed: 182, proportion: 81.98198198198197 %\n",
      "Total number completed: 184, proportion: 82.88288288288288 %\n",
      "Total number completed: 187, proportion: 84.23423423423422 %\n",
      "Total number completed: 189, proportion: 85.13513513513513 %\n",
      "Total number completed: 192, proportion: 86.48648648648648 %\n",
      "Total number completed: 194, proportion: 87.38738738738738 %\n",
      "Total number completed: 195, proportion: 87.83783783783784 %\n",
      "Total number completed: 199, proportion: 89.63963963963964 %\n",
      "Total number completed: 203, proportion: 91.44144144144144 %\n",
      "Total number completed: 205, proportion: 92.34234234234235 %\n",
      "Total number completed: 210, proportion: 94.5945945945946 %\n",
      "Total number completed: 213, proportion: 95.94594594594594 %\n",
      "Total number completed: 217, proportion: 97.74774774774775 %\n",
      "Total number completed: 221, proportion: 99.54954954954955 %\n",
      "Total number completed: 222, proportion: 100.0 %\n",
      "\n",
      "Final decimal equivalent: 45213383376616\n"
     ]
    }
   ],
   "source": [
    "value_results = solve_lines(gate_values, start_values)\n",
    "sorted_zs = sorted([x for x in list(value_results.keys()) if x.startswith('z')], reverse=True)\n",
    "sorted_z_vals = [value_results[z_key] for z_key in sorted_zs]\n",
    "\n",
    "print(f\"\\nFinal decimal equivalent: {binatointeger(sorted_z_vals)}\")"
   ]
  },
  {
   "cell_type": "markdown",
   "id": "e5ae03d1-ca9d-436a-b1c8-ae016b5c00d0",
   "metadata": {},
   "source": [
    "All correct!"
   ]
  },
  {
   "cell_type": "markdown",
   "id": "f2422bec-f164-4b83-b94f-f8ceec55aa99",
   "metadata": {
    "jp-MarkdownHeadingCollapsed": true
   },
   "source": [
    "### Day 24, Part 2:"
   ]
  },
  {
   "cell_type": "code",
   "execution_count": 171,
   "id": "48c565de-5017-49fb-8a80-29c5b09d54e8",
   "metadata": {},
   "outputs": [],
   "source": [
    "def get_decimal_value(start_values, wire_value_dict, start_char='x'):\n",
    "    sorted_names = sorted([x[0] for x in start_values if x[0].startswith(start_char)], reverse=True)\n",
    "    sorted_vals = [wire_value_dict[key] for key in sorted_names]\n",
    "    return binatointeger(sorted_vals)"
   ]
  },
  {
   "cell_type": "code",
   "execution_count": 172,
   "id": "3a929153-1f67-4cb2-b54c-b99b36591308",
   "metadata": {},
   "outputs": [
    {
     "name": "stdout",
     "output_type": "stream",
     "text": [
      "x value: 26495111766585, y value: 18168650014383\n"
     ]
    }
   ],
   "source": [
    "x_decimal = get_decimal_value(start_values, value_results, start_char='x')\n",
    "y_decimal = get_decimal_value(start_values, value_results, start_char='y')\n",
    "print(f\"x value: {x_decimal}, y value: {y_decimal}\")"
   ]
  },
  {
   "cell_type": "code",
   "execution_count": 173,
   "id": "1c19c0c1-424b-4dea-829d-d38acfd6f874",
   "metadata": {},
   "outputs": [],
   "source": [
    "z_decimal = x_decimal + y_decimal\n",
    "z_binary_string = str(bin(z_decimal)[2:])"
   ]
  },
  {
   "cell_type": "code",
   "execution_count": 174,
   "id": "5f1b1163-1fa0-4b10-8e3b-251551e40b50",
   "metadata": {},
   "outputs": [],
   "source": [
    "assert binatointeger([int(x) for x in z_binary_string]) == z_decimal"
   ]
  },
  {
   "cell_type": "code",
   "execution_count": 179,
   "id": "61c168e9-9bbe-46a8-8020-1f5ff68138cf",
   "metadata": {},
   "outputs": [
    {
     "data": {
      "text/plain": [
       "(45, 45, 46)"
      ]
     },
     "execution_count": 179,
     "metadata": {},
     "output_type": "execute_result"
    }
   ],
   "source": [
    "len(str(bin(x_decimal)[2:])), len(str(bin(y_decimal)[2:])), len(z_binary_string)"
   ]
  },
  {
   "cell_type": "markdown",
   "id": "6b7dc082-d2ab-4620-a8ec-6497a6ff7d6c",
   "metadata": {
    "jp-MarkdownHeadingCollapsed": true
   },
   "source": [
    "## Day 25 Code Chronicle"
   ]
  },
  {
   "cell_type": "markdown",
   "id": "27bf3fa1-3f15-473b-b8e8-1ca52bbf30b5",
   "metadata": {},
   "source": [
    "For this challenge we'll convert lock and key grids into binary masks. \n",
    "\n",
    "Each array will have 1 where there is a lock or key. When we add both arrays together, if we have any 2's, this means the key does not fit the grid (since there is a conflicting position where there is both key and lock pin)."
   ]
  },
  {
   "cell_type": "code",
   "execution_count": 333,
   "id": "321091ce-7684-4f2d-9f1f-a83d7badfbe0",
   "metadata": {},
   "outputs": [],
   "source": [
    "def read_raw_text(filename):\n",
    "    \"\"\" Read entire file as a single string. \"\"\"\n",
    "    try:\n",
    "        with open(filename, \"r\", encoding=\"utf-8\") as file:\n",
    "            file_data = file.read()  \n",
    "        print(\"File successfully read.\")\n",
    "    except FileNotFoundError:\n",
    "        print(\"The specified file was not found.\")\n",
    "    except Exception as e:\n",
    "        print(f\"An error occurred: {e}\")\n",
    "    return file_data\n",
    "\n",
    "def get_locks_keys(input_data):\n",
    "    locks = []\n",
    "    keys = []\n",
    "    \n",
    "    for grid in input_data:\n",
    "        if grid[0] == '#####':\n",
    "            locks.append(grid)\n",
    "        else:\n",
    "            keys.append(grid)\n",
    "    return locks, keys\n",
    "\n",
    "def get_lock_pin_heights(lock):\n",
    "    heights = []\n",
    "    for col in range(len(lock[0])):\n",
    "        col_height = 0\n",
    "        for row in range(1, len(lock)):\n",
    "            if lock[row][col] == '#':\n",
    "                col_height += 1\n",
    "        heights.append(col_height)\n",
    "    return heights\n",
    "\n",
    "def get_key_heights(key):\n",
    "    heights = []\n",
    "    for col in range(len(key[0])):\n",
    "        col_height = 0\n",
    "        for row in range(len(key) - 2, -1, -1):\n",
    "            if key[row][col] == '#':\n",
    "                col_height += 1\n",
    "        heights.append(col_height)\n",
    "    return heights\n",
    "\n",
    "def compare_lock_and_key(lock_grid, key_grid):\n",
    "    \"\"\" Create binary masks for key and lock grids, and return True if\n",
    "        key fits lock (no overlapping), or False if not. \n",
    "    \"\"\"\n",
    "    lock_mask = get_lock_mask(lock_grid)\n",
    "    key_mask = get_key_mask(key_grid)\n",
    "    key_lock_array = lock_mask + key_mask\n",
    "    if np.sum(key_lock_array == 2) > 0:\n",
    "        return False\n",
    "    else:\n",
    "        return True\n",
    "\n",
    "def get_lock_mask(lock_grid):\n",
    "    lock_arr = np.array([list(x) for x in lock_grid])\n",
    "    lock_mask = np.zeros(lock_arr.shape)\n",
    "    lock_mask[np.where(lock_arr == '#')] = 1.0\n",
    "    return lock_mask\n",
    "\n",
    "def get_key_mask(key_grid):\n",
    "    key_arr = np.array([list(x) for x in key_grid])\n",
    "    key_mask = np.zeros(key_arr.shape)\n",
    "    key_mask[np.where(key_arr == '#')] = 1.0\n",
    "    return key_mask\n",
    "\n",
    "def get_lock_key_results(lock_dict, key_dict):\n",
    "    matches = 0\n",
    "    for lock, key in product(lock_dict.keys(), key_dict.keys()):\n",
    "        result = compare_lock_and_key(lock_dict[lock]['grid'], \n",
    "                                      key_dict[key]['grid'])\n",
    "        if result:\n",
    "            matches += 1\n",
    "    return matches"
   ]
  },
  {
   "cell_type": "code",
   "execution_count": 334,
   "id": "affae6f3-9578-4430-b524-d009dc76367f",
   "metadata": {},
   "outputs": [
    {
     "name": "stdout",
     "output_type": "stream",
     "text": [
      "File successfully read.\n",
      "Locks:\n",
      "[0, 5, 3, 4, 3]\n",
      "[1, 2, 0, 5, 3]\n",
      "\n",
      "Keys\n",
      "[5, 0, 2, 1, 3]\n",
      "[4, 3, 4, 0, 2]\n",
      "[3, 0, 2, 0, 1]\n"
     ]
    }
   ],
   "source": [
    "example_25 = read_raw_text('example_input_day_25.txt').split('\\n\\n')\n",
    "example_25 = [x.split('\\n') for x in example_25]\n",
    "example_locks, example_keys = get_locks_keys(example_25)\n",
    "\n",
    "lock_dict = {}\n",
    "print(\"Locks:\")\n",
    "for i, lock in enumerate(example_locks):\n",
    "    pin_heights = get_lock_pin_heights(lock)\n",
    "    print(f\"{pin_heights}\")\n",
    "    lock_dict[f'lock_{i + 1}'] = {'heights' : pin_heights, 'grid' : lock}\n",
    "\n",
    "print(\"\\nKeys\")\n",
    "key_dict = {}\n",
    "for i, key in enumerate(example_keys):\n",
    "    key_heights = get_key_heights(key)\n",
    "    print(f\"{key_heights}\")\n",
    "    key_dict[f'key_{i + 1}'] = {'heights' : key_heights, 'grid' : key}"
   ]
  },
  {
   "cell_type": "code",
   "execution_count": 335,
   "id": "2685da94-75d8-4f33-b057-c903c929a8d6",
   "metadata": {},
   "outputs": [
    {
     "data": {
      "text/plain": [
       "3"
      ]
     },
     "execution_count": 335,
     "metadata": {},
     "output_type": "execute_result"
    }
   ],
   "source": [
    "get_lock_key_results(lock_dict, key_dict)"
   ]
  },
  {
   "cell_type": "markdown",
   "id": "115c784d-c355-4bdf-8158-8bb5937f9126",
   "metadata": {},
   "source": [
    "This is correct - now lets try on the real inputs."
   ]
  },
  {
   "cell_type": "code",
   "execution_count": 338,
   "id": "516d6611-7c6e-4080-ba91-576611cf15fd",
   "metadata": {},
   "outputs": [
    {
     "name": "stdout",
     "output_type": "stream",
     "text": [
      "File successfully read.\n"
     ]
    }
   ],
   "source": [
    "input_25 = read_raw_text('day_25_input.txt').split('\\n\\n')\n",
    "input_25 = [x.split('\\n') for x in input_25]\n",
    "input_locks, input_keys = get_locks_keys(input_25)\n",
    "\n",
    "lock_dict = {}\n",
    "for i, lock in enumerate(input_locks):\n",
    "    pin_heights = get_lock_pin_heights(lock)\n",
    "    lock_dict[f'lock_{i + 1}'] = {'heights' : pin_heights, 'grid' : lock}\n",
    "\n",
    "key_dict = {}\n",
    "for i, key in enumerate(input_keys):\n",
    "    key_heights = get_key_heights(key)\n",
    "    key_dict[f'key_{i + 1}'] = {'heights' : key_heights, 'grid' : key}"
   ]
  },
  {
   "cell_type": "code",
   "execution_count": 339,
   "id": "f926840e-cd2c-4db8-aab7-70efa031abc0",
   "metadata": {},
   "outputs": [
    {
     "data": {
      "text/plain": [
       "2840"
      ]
     },
     "execution_count": 339,
     "metadata": {},
     "output_type": "execute_result"
    }
   ],
   "source": [
    "get_lock_key_results(lock_dict, key_dict)"
   ]
  },
  {
   "cell_type": "code",
   "execution_count": null,
   "id": "45202f98-eb71-4c35-9ef5-469df3a7453e",
   "metadata": {},
   "outputs": [],
   "source": []
  }
 ],
 "metadata": {
  "kernelspec": {
   "display_name": "Python 3 (ipykernel)",
   "language": "python",
   "name": "python3"
  },
  "language_info": {
   "codemirror_mode": {
    "name": "ipython",
    "version": 3
   },
   "file_extension": ".py",
   "mimetype": "text/x-python",
   "name": "python",
   "nbconvert_exporter": "python",
   "pygments_lexer": "ipython3",
   "version": "3.12.2"
  }
 },
 "nbformat": 4,
 "nbformat_minor": 5
}
